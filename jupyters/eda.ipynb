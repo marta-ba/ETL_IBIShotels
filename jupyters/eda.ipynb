{
 "cells": [
  {
   "cell_type": "code",
   "execution_count": 1,
   "metadata": {},
   "outputs": [],
   "source": [
    "import pandas as pd\n",
    "import numpy as np\n",
    "import seaborn as sns\n",
    "import matplotlib.pyplot as plt\n"
   ]
  },
  {
   "cell_type": "markdown",
   "metadata": {},
   "source": [
    "## EDA Inicial"
   ]
  },
  {
   "cell_type": "code",
   "execution_count": 2,
   "metadata": {},
   "outputs": [
    {
     "data": {
      "text/html": [
       "<div>\n",
       "<style scoped>\n",
       "    .dataframe tbody tr th:only-of-type {\n",
       "        vertical-align: middle;\n",
       "    }\n",
       "\n",
       "    .dataframe tbody tr th {\n",
       "        vertical-align: top;\n",
       "    }\n",
       "\n",
       "    .dataframe thead th {\n",
       "        text-align: right;\n",
       "    }\n",
       "</style>\n",
       "<table border=\"1\" class=\"dataframe\">\n",
       "  <thead>\n",
       "    <tr style=\"text-align: right;\">\n",
       "      <th></th>\n",
       "      <th>id_reserva</th>\n",
       "      <th>id_cliente</th>\n",
       "      <th>nombre</th>\n",
       "      <th>apellido</th>\n",
       "      <th>mail</th>\n",
       "      <th>competencia</th>\n",
       "      <th>fecha_reserva</th>\n",
       "      <th>inicio_estancia</th>\n",
       "      <th>final_estancia</th>\n",
       "      <th>id_hotel</th>\n",
       "      <th>precio_noche</th>\n",
       "      <th>nombre_hotel</th>\n",
       "      <th>estrellas</th>\n",
       "      <th>ciudad</th>\n",
       "    </tr>\n",
       "  </thead>\n",
       "  <tbody>\n",
       "    <tr>\n",
       "      <th>0</th>\n",
       "      <td>5256cc90-139b-43d2-8ec5-412495d751cf</td>\n",
       "      <td>346f2a77-33f4-4b2d-82f3-e8501e21b28d</td>\n",
       "      <td>Feliciana</td>\n",
       "      <td>Cantón</td>\n",
       "      <td>feliciana.cantón@example.com</td>\n",
       "      <td>True</td>\n",
       "      <td></td>\n",
       "      <td>2025-03-01</td>\n",
       "      <td>2025-03-02</td>\n",
       "      <td>113</td>\n",
       "      <td>NaN</td>\n",
       "      <td></td>\n",
       "      <td>NaN</td>\n",
       "      <td></td>\n",
       "    </tr>\n",
       "    <tr>\n",
       "      <th>1</th>\n",
       "      <td>84fd6209-bd8d-4a92-bfe6-c68ee2c49271</td>\n",
       "      <td>346f2a77-33f4-4b2d-82f3-e8501e21b28d</td>\n",
       "      <td>Leonardo</td>\n",
       "      <td>Hierro</td>\n",
       "      <td>leonardo.hierro@example.com</td>\n",
       "      <td>True</td>\n",
       "      <td></td>\n",
       "      <td>2025-03-01</td>\n",
       "      <td>2025-03-02</td>\n",
       "      <td>194</td>\n",
       "      <td>NaN</td>\n",
       "      <td></td>\n",
       "      <td>NaN</td>\n",
       "      <td></td>\n",
       "    </tr>\n",
       "    <tr>\n",
       "      <th>2</th>\n",
       "      <td>40c4cb55-d1f5-407b-832f-4756b8ff77b4</td>\n",
       "      <td>6ec4d7d2-e382-47cc-94f6-c647577d4035</td>\n",
       "      <td>Maite</td>\n",
       "      <td>Calatayud</td>\n",
       "      <td>maite.calatayud@example.com</td>\n",
       "      <td>False</td>\n",
       "      <td>2025-02-09</td>\n",
       "      <td>2025-03-01</td>\n",
       "      <td>2025-03-02</td>\n",
       "      <td>14</td>\n",
       "      <td>119.96</td>\n",
       "      <td>Hotel Monte Verde</td>\n",
       "      <td>1.0</td>\n",
       "      <td>Madrid</td>\n",
       "    </tr>\n",
       "    <tr>\n",
       "      <th>3</th>\n",
       "      <td>f2ce8df5-7844-43e1-8c0f-97ce7a208f21</td>\n",
       "      <td>aed17fe8-eb18-4f69-bf08-df1afdc339c3</td>\n",
       "      <td>Tecla</td>\n",
       "      <td>Bonet</td>\n",
       "      <td>tecla.bonet@example.com</td>\n",
       "      <td>False</td>\n",
       "      <td>2025-02-08</td>\n",
       "      <td>2025-03-01</td>\n",
       "      <td>2025-03-02</td>\n",
       "      <td>38</td>\n",
       "      <td>211.53</td>\n",
       "      <td>Hotel Brisas del Mar</td>\n",
       "      <td>5.0</td>\n",
       "      <td>Madrid</td>\n",
       "    </tr>\n",
       "    <tr>\n",
       "      <th>4</th>\n",
       "      <td>57d4515a-447d-4067-afcb-9bdcf4e4e915</td>\n",
       "      <td>710a2fbb-264f-426a-aa66-f8fffd146a2d</td>\n",
       "      <td>Amílcar</td>\n",
       "      <td>Andrés</td>\n",
       "      <td>amílcar.andrés@example.com</td>\n",
       "      <td>False</td>\n",
       "      <td>2025-02-02</td>\n",
       "      <td>2025-03-01</td>\n",
       "      <td>2025-03-02</td>\n",
       "      <td>35</td>\n",
       "      <td>378.37</td>\n",
       "      <td>Hotel Camino del Sol</td>\n",
       "      <td>1.0</td>\n",
       "      <td>Madrid</td>\n",
       "    </tr>\n",
       "  </tbody>\n",
       "</table>\n",
       "</div>"
      ],
      "text/plain": [
       "                             id_reserva                            id_cliente  \\\n",
       "0  5256cc90-139b-43d2-8ec5-412495d751cf  346f2a77-33f4-4b2d-82f3-e8501e21b28d   \n",
       "1  84fd6209-bd8d-4a92-bfe6-c68ee2c49271  346f2a77-33f4-4b2d-82f3-e8501e21b28d   \n",
       "2  40c4cb55-d1f5-407b-832f-4756b8ff77b4  6ec4d7d2-e382-47cc-94f6-c647577d4035   \n",
       "3  f2ce8df5-7844-43e1-8c0f-97ce7a208f21  aed17fe8-eb18-4f69-bf08-df1afdc339c3   \n",
       "4  57d4515a-447d-4067-afcb-9bdcf4e4e915  710a2fbb-264f-426a-aa66-f8fffd146a2d   \n",
       "\n",
       "      nombre   apellido                          mail  competencia  \\\n",
       "0  Feliciana     Cantón  feliciana.cantón@example.com         True   \n",
       "1   Leonardo     Hierro   leonardo.hierro@example.com         True   \n",
       "2      Maite  Calatayud   maite.calatayud@example.com        False   \n",
       "3      Tecla      Bonet       tecla.bonet@example.com        False   \n",
       "4    Amílcar     Andrés    amílcar.andrés@example.com        False   \n",
       "\n",
       "  fecha_reserva inicio_estancia final_estancia  id_hotel  precio_noche  \\\n",
       "0                    2025-03-01     2025-03-02       113           NaN   \n",
       "1                    2025-03-01     2025-03-02       194           NaN   \n",
       "2    2025-02-09      2025-03-01     2025-03-02        14        119.96   \n",
       "3    2025-02-08      2025-03-01     2025-03-02        38        211.53   \n",
       "4    2025-02-02      2025-03-01     2025-03-02        35        378.37   \n",
       "\n",
       "           nombre_hotel  estrellas  ciudad  \n",
       "0                              NaN          \n",
       "1                              NaN          \n",
       "2     Hotel Monte Verde        1.0  Madrid  \n",
       "3  Hotel Brisas del Mar        5.0  Madrid  \n",
       "4  Hotel Camino del Sol        1.0  Madrid  "
      ]
     },
     "execution_count": 2,
     "metadata": {},
     "output_type": "execute_result"
    }
   ],
   "source": [
    "# Ruta del archivo\n",
    "ruta = r\"C:\\Users\\marta\\Desktop\\mibootcamp\\ETL_IBIShotels\\data\\reservas_hoteles.parquet\"\n",
    "\n",
    "# Leer el archivo Parquet con pandas\n",
    "df_raw = pd.read_parquet(ruta, engine=\"pyarrow\")\n",
    "\n",
    "# Ignorar el índice del DataFrame\n",
    "df_raw = df_raw.reset_index(drop=True)\n",
    "\n",
    "df_raw.head()"
   ]
  },
  {
   "cell_type": "code",
   "execution_count": 3,
   "metadata": {},
   "outputs": [
    {
     "data": {
      "text/html": [
       "<div>\n",
       "<style scoped>\n",
       "    .dataframe tbody tr th:only-of-type {\n",
       "        vertical-align: middle;\n",
       "    }\n",
       "\n",
       "    .dataframe tbody tr th {\n",
       "        vertical-align: top;\n",
       "    }\n",
       "\n",
       "    .dataframe thead th {\n",
       "        text-align: right;\n",
       "    }\n",
       "</style>\n",
       "<table border=\"1\" class=\"dataframe\">\n",
       "  <thead>\n",
       "    <tr style=\"text-align: right;\">\n",
       "      <th></th>\n",
       "      <th>id_reserva</th>\n",
       "      <th>id_cliente</th>\n",
       "      <th>nombre</th>\n",
       "      <th>apellido</th>\n",
       "      <th>mail</th>\n",
       "      <th>competencia</th>\n",
       "      <th>fecha_reserva</th>\n",
       "      <th>inicio_estancia</th>\n",
       "      <th>final_estancia</th>\n",
       "      <th>id_hotel</th>\n",
       "      <th>precio_noche</th>\n",
       "      <th>nombre_hotel</th>\n",
       "      <th>estrellas</th>\n",
       "      <th>ciudad</th>\n",
       "    </tr>\n",
       "  </thead>\n",
       "  <tbody>\n",
       "    <tr>\n",
       "      <th>0</th>\n",
       "      <td>5256cc90-139b-43d2-8ec5-412495d751cf</td>\n",
       "      <td>346f2a77-33f4-4b2d-82f3-e8501e21b28d</td>\n",
       "      <td>Feliciana</td>\n",
       "      <td>Cantón</td>\n",
       "      <td>feliciana.cantón@example.com</td>\n",
       "      <td>True</td>\n",
       "      <td></td>\n",
       "      <td>2025-03-01</td>\n",
       "      <td>2025-03-02</td>\n",
       "      <td>113</td>\n",
       "      <td>NaN</td>\n",
       "      <td></td>\n",
       "      <td>NaN</td>\n",
       "      <td></td>\n",
       "    </tr>\n",
       "    <tr>\n",
       "      <th>1</th>\n",
       "      <td>84fd6209-bd8d-4a92-bfe6-c68ee2c49271</td>\n",
       "      <td>346f2a77-33f4-4b2d-82f3-e8501e21b28d</td>\n",
       "      <td>Leonardo</td>\n",
       "      <td>Hierro</td>\n",
       "      <td>leonardo.hierro@example.com</td>\n",
       "      <td>True</td>\n",
       "      <td></td>\n",
       "      <td>2025-03-01</td>\n",
       "      <td>2025-03-02</td>\n",
       "      <td>194</td>\n",
       "      <td>NaN</td>\n",
       "      <td></td>\n",
       "      <td>NaN</td>\n",
       "      <td></td>\n",
       "    </tr>\n",
       "    <tr>\n",
       "      <th>2</th>\n",
       "      <td>40c4cb55-d1f5-407b-832f-4756b8ff77b4</td>\n",
       "      <td>6ec4d7d2-e382-47cc-94f6-c647577d4035</td>\n",
       "      <td>Maite</td>\n",
       "      <td>Calatayud</td>\n",
       "      <td>maite.calatayud@example.com</td>\n",
       "      <td>False</td>\n",
       "      <td>2025-02-09</td>\n",
       "      <td>2025-03-01</td>\n",
       "      <td>2025-03-02</td>\n",
       "      <td>14</td>\n",
       "      <td>119.96</td>\n",
       "      <td>Hotel Monte Verde</td>\n",
       "      <td>1.0</td>\n",
       "      <td>Madrid</td>\n",
       "    </tr>\n",
       "    <tr>\n",
       "      <th>3</th>\n",
       "      <td>f2ce8df5-7844-43e1-8c0f-97ce7a208f21</td>\n",
       "      <td>aed17fe8-eb18-4f69-bf08-df1afdc339c3</td>\n",
       "      <td>Tecla</td>\n",
       "      <td>Bonet</td>\n",
       "      <td>tecla.bonet@example.com</td>\n",
       "      <td>False</td>\n",
       "      <td>2025-02-08</td>\n",
       "      <td>2025-03-01</td>\n",
       "      <td>2025-03-02</td>\n",
       "      <td>38</td>\n",
       "      <td>211.53</td>\n",
       "      <td>Hotel Brisas del Mar</td>\n",
       "      <td>5.0</td>\n",
       "      <td>Madrid</td>\n",
       "    </tr>\n",
       "    <tr>\n",
       "      <th>4</th>\n",
       "      <td>57d4515a-447d-4067-afcb-9bdcf4e4e915</td>\n",
       "      <td>710a2fbb-264f-426a-aa66-f8fffd146a2d</td>\n",
       "      <td>Amílcar</td>\n",
       "      <td>Andrés</td>\n",
       "      <td>amílcar.andrés@example.com</td>\n",
       "      <td>False</td>\n",
       "      <td>2025-02-02</td>\n",
       "      <td>2025-03-01</td>\n",
       "      <td>2025-03-02</td>\n",
       "      <td>35</td>\n",
       "      <td>378.37</td>\n",
       "      <td>Hotel Camino del Sol</td>\n",
       "      <td>1.0</td>\n",
       "      <td>Madrid</td>\n",
       "    </tr>\n",
       "  </tbody>\n",
       "</table>\n",
       "</div>"
      ],
      "text/plain": [
       "                             id_reserva                            id_cliente  \\\n",
       "0  5256cc90-139b-43d2-8ec5-412495d751cf  346f2a77-33f4-4b2d-82f3-e8501e21b28d   \n",
       "1  84fd6209-bd8d-4a92-bfe6-c68ee2c49271  346f2a77-33f4-4b2d-82f3-e8501e21b28d   \n",
       "2  40c4cb55-d1f5-407b-832f-4756b8ff77b4  6ec4d7d2-e382-47cc-94f6-c647577d4035   \n",
       "3  f2ce8df5-7844-43e1-8c0f-97ce7a208f21  aed17fe8-eb18-4f69-bf08-df1afdc339c3   \n",
       "4  57d4515a-447d-4067-afcb-9bdcf4e4e915  710a2fbb-264f-426a-aa66-f8fffd146a2d   \n",
       "\n",
       "      nombre   apellido                          mail  competencia  \\\n",
       "0  Feliciana     Cantón  feliciana.cantón@example.com         True   \n",
       "1   Leonardo     Hierro   leonardo.hierro@example.com         True   \n",
       "2      Maite  Calatayud   maite.calatayud@example.com        False   \n",
       "3      Tecla      Bonet       tecla.bonet@example.com        False   \n",
       "4    Amílcar     Andrés    amílcar.andrés@example.com        False   \n",
       "\n",
       "  fecha_reserva inicio_estancia final_estancia  id_hotel  precio_noche  \\\n",
       "0                    2025-03-01     2025-03-02       113           NaN   \n",
       "1                    2025-03-01     2025-03-02       194           NaN   \n",
       "2    2025-02-09      2025-03-01     2025-03-02        14        119.96   \n",
       "3    2025-02-08      2025-03-01     2025-03-02        38        211.53   \n",
       "4    2025-02-02      2025-03-01     2025-03-02        35        378.37   \n",
       "\n",
       "           nombre_hotel  estrellas  ciudad  \n",
       "0                              NaN          \n",
       "1                              NaN          \n",
       "2     Hotel Monte Verde        1.0  Madrid  \n",
       "3  Hotel Brisas del Mar        5.0  Madrid  \n",
       "4  Hotel Camino del Sol        1.0  Madrid  "
      ]
     },
     "execution_count": 3,
     "metadata": {},
     "output_type": "execute_result"
    }
   ],
   "source": [
    "df = df_raw.copy()\n",
    "df = pd.DataFrame(df)\n",
    "df.head()"
   ]
  },
  {
   "cell_type": "code",
   "execution_count": 4,
   "metadata": {},
   "outputs": [
    {
     "name": "stdout",
     "output_type": "stream",
     "text": [
      "<class 'pandas.core.frame.DataFrame'>\n",
      "RangeIndex: 15098 entries, 0 to 15097\n",
      "Data columns (total 14 columns):\n",
      " #   Column           Non-Null Count  Dtype  \n",
      "---  ------           --------------  -----  \n",
      " 0   id_reserva       15098 non-null  object \n",
      " 1   id_cliente       15098 non-null  object \n",
      " 2   nombre           15098 non-null  object \n",
      " 3   apellido         15098 non-null  object \n",
      " 4   mail             15098 non-null  object \n",
      " 5   competencia      15098 non-null  bool   \n",
      " 6   fecha_reserva    15098 non-null  object \n",
      " 7   inicio_estancia  15023 non-null  object \n",
      " 8   final_estancia   15023 non-null  object \n",
      " 9   id_hotel         15098 non-null  int64  \n",
      " 10  precio_noche     9874 non-null   float64\n",
      " 11  nombre_hotel     15098 non-null  object \n",
      " 12  estrellas        9926 non-null   float64\n",
      " 13  ciudad           15098 non-null  object \n",
      "dtypes: bool(1), float64(2), int64(1), object(10)\n",
      "memory usage: 1.5+ MB\n"
     ]
    }
   ],
   "source": [
    "df.info()"
   ]
  },
  {
   "cell_type": "code",
   "execution_count": 5,
   "metadata": {},
   "outputs": [
    {
     "data": {
      "text/html": [
       "<div>\n",
       "<style scoped>\n",
       "    .dataframe tbody tr th:only-of-type {\n",
       "        vertical-align: middle;\n",
       "    }\n",
       "\n",
       "    .dataframe tbody tr th {\n",
       "        vertical-align: top;\n",
       "    }\n",
       "\n",
       "    .dataframe thead th {\n",
       "        text-align: right;\n",
       "    }\n",
       "</style>\n",
       "<table border=\"1\" class=\"dataframe\">\n",
       "  <thead>\n",
       "    <tr style=\"text-align: right;\">\n",
       "      <th></th>\n",
       "      <th>fecha_reserva</th>\n",
       "      <th>inicio_estancia</th>\n",
       "      <th>final_estancia</th>\n",
       "    </tr>\n",
       "  </thead>\n",
       "  <tbody>\n",
       "    <tr>\n",
       "      <th>0</th>\n",
       "      <td></td>\n",
       "      <td>2025-03-01</td>\n",
       "      <td>2025-03-02</td>\n",
       "    </tr>\n",
       "    <tr>\n",
       "      <th>1</th>\n",
       "      <td></td>\n",
       "      <td>2025-03-01</td>\n",
       "      <td>2025-03-02</td>\n",
       "    </tr>\n",
       "    <tr>\n",
       "      <th>2</th>\n",
       "      <td>2025-02-09</td>\n",
       "      <td>2025-03-01</td>\n",
       "      <td>2025-03-02</td>\n",
       "    </tr>\n",
       "    <tr>\n",
       "      <th>3</th>\n",
       "      <td>2025-02-08</td>\n",
       "      <td>2025-03-01</td>\n",
       "      <td>2025-03-02</td>\n",
       "    </tr>\n",
       "    <tr>\n",
       "      <th>4</th>\n",
       "      <td>2025-02-02</td>\n",
       "      <td>2025-03-01</td>\n",
       "      <td>2025-03-02</td>\n",
       "    </tr>\n",
       "    <tr>\n",
       "      <th>...</th>\n",
       "      <td>...</td>\n",
       "      <td>...</td>\n",
       "      <td>...</td>\n",
       "    </tr>\n",
       "    <tr>\n",
       "      <th>15093</th>\n",
       "      <td>2025-02-02</td>\n",
       "      <td>2025-03-01</td>\n",
       "      <td>2025-03-02</td>\n",
       "    </tr>\n",
       "    <tr>\n",
       "      <th>15094</th>\n",
       "      <td>2025-02-07</td>\n",
       "      <td>2025-03-01</td>\n",
       "      <td>2025-03-02</td>\n",
       "    </tr>\n",
       "    <tr>\n",
       "      <th>15095</th>\n",
       "      <td>2025-02-08</td>\n",
       "      <td>2025-03-01</td>\n",
       "      <td>2025-03-02</td>\n",
       "    </tr>\n",
       "    <tr>\n",
       "      <th>15096</th>\n",
       "      <td>2025-02-10</td>\n",
       "      <td>2025-03-01</td>\n",
       "      <td>2025-03-02</td>\n",
       "    </tr>\n",
       "    <tr>\n",
       "      <th>15097</th>\n",
       "      <td>2025-02-06</td>\n",
       "      <td>2025-03-01</td>\n",
       "      <td>2025-03-02</td>\n",
       "    </tr>\n",
       "  </tbody>\n",
       "</table>\n",
       "<p>15098 rows × 3 columns</p>\n",
       "</div>"
      ],
      "text/plain": [
       "      fecha_reserva inicio_estancia final_estancia\n",
       "0                        2025-03-01     2025-03-02\n",
       "1                        2025-03-01     2025-03-02\n",
       "2        2025-02-09      2025-03-01     2025-03-02\n",
       "3        2025-02-08      2025-03-01     2025-03-02\n",
       "4        2025-02-02      2025-03-01     2025-03-02\n",
       "...             ...             ...            ...\n",
       "15093    2025-02-02      2025-03-01     2025-03-02\n",
       "15094    2025-02-07      2025-03-01     2025-03-02\n",
       "15095    2025-02-08      2025-03-01     2025-03-02\n",
       "15096    2025-02-10      2025-03-01     2025-03-02\n",
       "15097    2025-02-06      2025-03-01     2025-03-02\n",
       "\n",
       "[15098 rows x 3 columns]"
      ]
     },
     "execution_count": 5,
     "metadata": {},
     "output_type": "execute_result"
    }
   ],
   "source": [
    "df_col_fecha = df[[\"fecha_reserva\", \"inicio_estancia\", \"final_estancia\"]]\n",
    "df_col_fecha"
   ]
  },
  {
   "cell_type": "markdown",
   "metadata": {},
   "source": [
    "## Transformación inicial \n",
    "\n",
    "- transformación de co.fecha_reserva, incio_estancia, final_etancia check\n",
    "- hay nulos en las columnas: inicio_estancia, final_instancia, precio_noche, nombre_hotel, estrellas.\n",
    "- analizar duplicados\n",
    "- asegurarse del tipo de dato es el correcto"
   ]
  },
  {
   "cell_type": "code",
   "execution_count": 6,
   "metadata": {},
   "outputs": [],
   "source": [
    "def convertir_a_fecha(lista_columnas, dataframe):\n",
    "    for col in lista_columnas:\n",
    "        dataframe[col] = pd.to_datetime(dataframe[col], errors='coerce')\n",
    "    return dataframe"
   ]
  },
  {
   "cell_type": "code",
   "execution_count": 7,
   "metadata": {},
   "outputs": [
    {
     "name": "stdout",
     "output_type": "stream",
     "text": [
      "<class 'pandas.core.frame.DataFrame'>\n",
      "RangeIndex: 15098 entries, 0 to 15097\n",
      "Data columns (total 14 columns):\n",
      " #   Column           Non-Null Count  Dtype         \n",
      "---  ------           --------------  -----         \n",
      " 0   id_reserva       15098 non-null  object        \n",
      " 1   id_cliente       15098 non-null  object        \n",
      " 2   nombre           15098 non-null  object        \n",
      " 3   apellido         15098 non-null  object        \n",
      " 4   mail             15098 non-null  object        \n",
      " 5   competencia      15098 non-null  bool          \n",
      " 6   fecha_reserva    9926 non-null   datetime64[ns]\n",
      " 7   inicio_estancia  15023 non-null  datetime64[ns]\n",
      " 8   final_estancia   15023 non-null  datetime64[ns]\n",
      " 9   id_hotel         15098 non-null  int64         \n",
      " 10  precio_noche     9874 non-null   float64       \n",
      " 11  nombre_hotel     15098 non-null  object        \n",
      " 12  estrellas        9926 non-null   float64       \n",
      " 13  ciudad           15098 non-null  object        \n",
      "dtypes: bool(1), datetime64[ns](3), float64(2), int64(1), object(7)\n",
      "memory usage: 1.5+ MB\n"
     ]
    }
   ],
   "source": [
    "col_fechas = ['inicio_estancia', 'final_estancia', 'fecha_reserva']\n",
    "df = convertir_a_fecha(col_fechas, df)\n",
    "df.info()"
   ]
  },
  {
   "cell_type": "code",
   "execution_count": 8,
   "metadata": {},
   "outputs": [
    {
     "data": {
      "text/plain": [
       "Index(['id_reserva', 'id_cliente', 'nombre', 'apellido', 'mail',\n",
       "       'nombre_hotel', 'ciudad'],\n",
       "      dtype='object')"
      ]
     },
     "execution_count": 8,
     "metadata": {},
     "output_type": "execute_result"
    }
   ],
   "source": [
    "df.select_dtypes(include=['object']).columns  # Columnas categóricas"
   ]
  },
  {
   "cell_type": "code",
   "execution_count": 9,
   "metadata": {},
   "outputs": [
    {
     "data": {
      "text/plain": [
       "Index(['id_hotel', 'precio_noche', 'estrellas'], dtype='object')"
      ]
     },
     "execution_count": 9,
     "metadata": {},
     "output_type": "execute_result"
    }
   ],
   "source": [
    "df.select_dtypes(include=['number']).columns  # Columnas numéricas"
   ]
  },
  {
   "cell_type": "markdown",
   "metadata": {},
   "source": [
    "opción 2. para covertir a fecha: NO FUNCIONA"
   ]
  },
  {
   "cell_type": "code",
   "execution_count": 10,
   "metadata": {},
   "outputs": [],
   "source": [
    "##visto en clase1\n",
    "def conver_fecha(dataframe):\n",
    "    for col in dataframe.columns:\n",
    "        if \"fecha\" in col:\n",
    "            dataframe[col] = pd.to_datatime(dataframe[col])\n",
    "    return dataframe"
   ]
  },
  {
   "cell_type": "code",
   "execution_count": 11,
   "metadata": {},
   "outputs": [
    {
     "name": "stdout",
     "output_type": "stream",
     "text": [
      "<class 'pandas.core.frame.DataFrame'>\n",
      "RangeIndex: 15098 entries, 0 to 15097\n",
      "Data columns (total 14 columns):\n",
      " #   Column           Non-Null Count  Dtype         \n",
      "---  ------           --------------  -----         \n",
      " 0   id_reserva       15098 non-null  object        \n",
      " 1   id_cliente       15098 non-null  object        \n",
      " 2   nombre           15098 non-null  object        \n",
      " 3   apellido         15098 non-null  object        \n",
      " 4   mail             15098 non-null  object        \n",
      " 5   competencia      15098 non-null  bool          \n",
      " 6   fecha_reserva    9926 non-null   datetime64[ns]\n",
      " 7   inicio_estancia  15023 non-null  datetime64[ns]\n",
      " 8   final_estancia   15023 non-null  datetime64[ns]\n",
      " 9   id_hotel         15098 non-null  int64         \n",
      " 10  precio_noche     9874 non-null   float64       \n",
      " 11  nombre_hotel     15098 non-null  object        \n",
      " 12  estrellas        9926 non-null   float64       \n",
      " 13  ciudad           15098 non-null  object        \n",
      "dtypes: bool(1), datetime64[ns](3), float64(2), int64(1), object(7)\n",
      "memory usage: 1.5+ MB\n"
     ]
    }
   ],
   "source": [
    "def convertir_fecha(dataframe):\n",
    "    for col in dataframe.filter(like=\"fecha\", axis=1):\n",
    "        dataframe[col] = pd.to_datetime(dataframe[col], errors='coerce')  # Forzar conversión\n",
    "    return dataframe\n",
    "\n",
    "# Aplicar la conversión a todas las columnas que contengan \"fecha\"\n",
    "df = convertir_fecha(df)\n",
    "\n",
    "# Verificar tipos de datos\n",
    "df.info()                                    "
   ]
  },
  {
   "cell_type": "code",
   "execution_count": 12,
   "metadata": {},
   "outputs": [
    {
     "data": {
      "text/html": [
       "<div>\n",
       "<style scoped>\n",
       "    .dataframe tbody tr th:only-of-type {\n",
       "        vertical-align: middle;\n",
       "    }\n",
       "\n",
       "    .dataframe tbody tr th {\n",
       "        vertical-align: top;\n",
       "    }\n",
       "\n",
       "    .dataframe thead th {\n",
       "        text-align: right;\n",
       "    }\n",
       "</style>\n",
       "<table border=\"1\" class=\"dataframe\">\n",
       "  <thead>\n",
       "    <tr style=\"text-align: right;\">\n",
       "      <th></th>\n",
       "      <th>count</th>\n",
       "      <th>mean</th>\n",
       "      <th>min</th>\n",
       "      <th>25%</th>\n",
       "      <th>50%</th>\n",
       "      <th>75%</th>\n",
       "      <th>max</th>\n",
       "      <th>std</th>\n",
       "    </tr>\n",
       "  </thead>\n",
       "  <tbody>\n",
       "    <tr>\n",
       "      <th>fecha_reserva</th>\n",
       "      <td>9926</td>\n",
       "      <td>2025-02-06 10:27:43.993552384</td>\n",
       "      <td>2025-02-01 00:00:00</td>\n",
       "      <td>2025-02-03 00:00:00</td>\n",
       "      <td>2025-02-06 00:00:00</td>\n",
       "      <td>2025-02-09 00:00:00</td>\n",
       "      <td>2025-02-12 00:00:00</td>\n",
       "      <td>NaN</td>\n",
       "    </tr>\n",
       "    <tr>\n",
       "      <th>inicio_estancia</th>\n",
       "      <td>15023</td>\n",
       "      <td>2025-02-28 23:59:59.999999744</td>\n",
       "      <td>2025-03-01 00:00:00</td>\n",
       "      <td>2025-03-01 00:00:00</td>\n",
       "      <td>2025-03-01 00:00:00</td>\n",
       "      <td>2025-03-01 00:00:00</td>\n",
       "      <td>2025-03-01 00:00:00</td>\n",
       "      <td>NaN</td>\n",
       "    </tr>\n",
       "    <tr>\n",
       "      <th>final_estancia</th>\n",
       "      <td>15023</td>\n",
       "      <td>2025-03-02 00:00:00</td>\n",
       "      <td>2025-03-02 00:00:00</td>\n",
       "      <td>2025-03-02 00:00:00</td>\n",
       "      <td>2025-03-02 00:00:00</td>\n",
       "      <td>2025-03-02 00:00:00</td>\n",
       "      <td>2025-03-02 00:00:00</td>\n",
       "      <td>NaN</td>\n",
       "    </tr>\n",
       "    <tr>\n",
       "      <th>id_hotel</th>\n",
       "      <td>15098.0</td>\n",
       "      <td>65.950192</td>\n",
       "      <td>2.0</td>\n",
       "      <td>27.0</td>\n",
       "      <td>40.0</td>\n",
       "      <td>114.0</td>\n",
       "      <td>194.0</td>\n",
       "      <td>57.832033</td>\n",
       "    </tr>\n",
       "    <tr>\n",
       "      <th>precio_noche</th>\n",
       "      <td>9874.0</td>\n",
       "      <td>275.11772</td>\n",
       "      <td>50.01</td>\n",
       "      <td>163.12</td>\n",
       "      <td>273.315</td>\n",
       "      <td>387.83</td>\n",
       "      <td>499.82</td>\n",
       "      <td>129.405972</td>\n",
       "    </tr>\n",
       "    <tr>\n",
       "      <th>estrellas</th>\n",
       "      <td>9926.0</td>\n",
       "      <td>3.012694</td>\n",
       "      <td>1.0</td>\n",
       "      <td>2.0</td>\n",
       "      <td>3.0</td>\n",
       "      <td>4.0</td>\n",
       "      <td>5.0</td>\n",
       "      <td>1.412446</td>\n",
       "    </tr>\n",
       "  </tbody>\n",
       "</table>\n",
       "</div>"
      ],
      "text/plain": [
       "                   count                           mean                  min  \\\n",
       "fecha_reserva       9926  2025-02-06 10:27:43.993552384  2025-02-01 00:00:00   \n",
       "inicio_estancia    15023  2025-02-28 23:59:59.999999744  2025-03-01 00:00:00   \n",
       "final_estancia     15023            2025-03-02 00:00:00  2025-03-02 00:00:00   \n",
       "id_hotel         15098.0                      65.950192                  2.0   \n",
       "precio_noche      9874.0                      275.11772                50.01   \n",
       "estrellas         9926.0                       3.012694                  1.0   \n",
       "\n",
       "                                 25%                  50%  \\\n",
       "fecha_reserva    2025-02-03 00:00:00  2025-02-06 00:00:00   \n",
       "inicio_estancia  2025-03-01 00:00:00  2025-03-01 00:00:00   \n",
       "final_estancia   2025-03-02 00:00:00  2025-03-02 00:00:00   \n",
       "id_hotel                        27.0                 40.0   \n",
       "precio_noche                  163.12              273.315   \n",
       "estrellas                        2.0                  3.0   \n",
       "\n",
       "                                 75%                  max         std  \n",
       "fecha_reserva    2025-02-09 00:00:00  2025-02-12 00:00:00         NaN  \n",
       "inicio_estancia  2025-03-01 00:00:00  2025-03-01 00:00:00         NaN  \n",
       "final_estancia   2025-03-02 00:00:00  2025-03-02 00:00:00         NaN  \n",
       "id_hotel                       114.0                194.0   57.832033  \n",
       "precio_noche                  387.83               499.82  129.405972  \n",
       "estrellas                        4.0                  5.0    1.412446  "
      ]
     },
     "execution_count": 12,
     "metadata": {},
     "output_type": "execute_result"
    }
   ],
   "source": [
    "df.describe().T "
   ]
  },
  {
   "cell_type": "markdown",
   "metadata": {},
   "source": [
    "## Incosistencia en los datos:"
   ]
  },
  {
   "cell_type": "code",
   "execution_count": 13,
   "metadata": {},
   "outputs": [
    {
     "data": {
      "text/plain": [
       "20"
      ]
     },
     "execution_count": 13,
     "metadata": {},
     "output_type": "execute_result"
    }
   ],
   "source": [
    "df[\"nombre_hotel\"].nunique()"
   ]
  },
  {
   "cell_type": "code",
   "execution_count": 14,
   "metadata": {},
   "outputs": [
    {
     "data": {
      "text/plain": [
       "29"
      ]
     },
     "execution_count": 14,
     "metadata": {},
     "output_type": "execute_result"
    }
   ],
   "source": [
    "df[\"id_hotel\"].nunique()"
   ]
  },
  {
   "cell_type": "code",
   "execution_count": 15,
   "metadata": {},
   "outputs": [
    {
     "data": {
      "text/plain": [
       "14847"
      ]
     },
     "execution_count": 15,
     "metadata": {},
     "output_type": "execute_result"
    }
   ],
   "source": [
    "df['id_cliente'].nunique()\n"
   ]
  },
  {
   "cell_type": "code",
   "execution_count": 16,
   "metadata": {},
   "outputs": [
    {
     "data": {
      "text/plain": [
       "15000"
      ]
     },
     "execution_count": 16,
     "metadata": {},
     "output_type": "execute_result"
    }
   ],
   "source": [
    "df[\"id_reserva\"].nunique()"
   ]
  },
  {
   "cell_type": "markdown",
   "metadata": {},
   "source": [
    "- debería haber los mismos nombres de hoteles que de id_hotel: hay más id_hotel que nombre:hotel por lo que puede haber un error al asignar los ID\n",
    "- debería hacer los mismos id_clientes que id_reserva: hay más reservas que clientes, por lo que hay clientes que han hecho más de una reserva lo que en nuestro contexto no tiene sentido ya que los datos son para un mismo fin de semana. "
   ]
  },
  {
   "cell_type": "markdown",
   "metadata": {},
   "source": [
    "- Hay un conjunto de 10 hoteles sin nombre: los de la competencia\n",
    "- Cada nombre de hotel tiene 19 ID's distintos."
   ]
  },
  {
   "cell_type": "markdown",
   "metadata": {},
   "source": [
    "2️⃣ Analizando clientes con más de una reserva"
   ]
  },
  {
   "cell_type": "code",
   "execution_count": 17,
   "metadata": {},
   "outputs": [
    {
     "name": "stdout",
     "output_type": "stream",
     "text": [
      "                                 id_cliente  id_reserva\n",
      "2080   2407853d-23ff-4b7d-abcc-5c619d8c960d           3\n",
      "6584   7237d336-8fa8-4ab3-b454-0d969f0ecb84           3\n",
      "14608  fba96362-d117-4f45-b405-f735d813833a           3\n",
      "8076   8bec1ff1-84d7-4cad-937f-dbae37691569           3\n",
      "13957  f0c7fbf6-cea3-42fc-a94f-11c69dbf5713           3\n",
      "10811  ba60cff3-280a-4948-b6da-5e76e57b9d79           3\n",
      "8430   91cf76ea-170c-459c-82a1-a2dde074ad38           3\n",
      "2981   3369b2b1-6b9a-4914-b7bb-655dd1d9c90f           3\n",
      "7024   79ff038f-5dc8-4b72-956b-0e7989d44a06           2\n",
      "12736  db7b4be7-5857-42c6-b0f0-aec8b5e3ae9a           2\n"
     ]
    }
   ],
   "source": [
    "df_clientes_check = df.groupby(\"id_cliente\")[\"id_reserva\"].count().reset_index()\n",
    "df_clientes_check = df_clientes_check.sort_values(by=\"id_reserva\", ascending=False)\n",
    "print(df_clientes_check.head(10))  # Ver los 10 clientes con más reservas"
   ]
  },
  {
   "cell_type": "markdown",
   "metadata": {},
   "source": [
    "3️⃣ Analizando la relación entre fechas y reservas"
   ]
  },
  {
   "cell_type": "code",
   "execution_count": 18,
   "metadata": {},
   "outputs": [
    {
     "data": {
      "text/plain": [
       "inicio_estancia\n",
       "2025-03-01    15023\n",
       "Name: count, dtype: int64"
      ]
     },
     "execution_count": 18,
     "metadata": {},
     "output_type": "execute_result"
    }
   ],
   "source": [
    "df[\"inicio_estancia\"].value_counts()"
   ]
  },
  {
   "cell_type": "code",
   "execution_count": 19,
   "metadata": {},
   "outputs": [
    {
     "name": "stdout",
     "output_type": "stream",
     "text": [
      "                                 id_cliente  fecha_reserva\n",
      "14216  f4d72083-c218-4e30-b4c2-e1d0608ceeca              2\n",
      "11532  c6660c4e-cec8-4d01-87da-accf30b85362              2\n",
      "2403   29690e15-e64e-408f-a7a5-a84bb254aef6              2\n",
      "11942  cd73531b-8ad7-4e27-b247-6525254ae0ea              2\n",
      "2340   2887dcb4-ce2d-4e01-a5ec-985e59856105              2\n",
      "...                                     ...            ...\n",
      "8430   91cf76ea-170c-459c-82a1-a2dde074ad38              2\n",
      "9528   a42e5ef0-9734-4dcc-bc18-1880513f3c80              2\n",
      "2679   2dc03d93-8c75-4f34-87bc-91ba86ad31eb              2\n",
      "13834  ee778940-9785-4ecf-bd1b-fdb137ac826a              2\n",
      "4890   55070df1-1f08-44ad-a52f-f03594728734              2\n",
      "\n",
      "[73 rows x 2 columns]\n"
     ]
    }
   ],
   "source": [
    "df_fechas_check = df.groupby(\"id_cliente\")[\"fecha_reserva\"].nunique().reset_index()\n",
    "df_fechas_check = df_fechas_check.sort_values(by=\"fecha_reserva\", ascending=False)\n",
    "print(df_fechas_check[df_fechas_check[\"fecha_reserva\"] > 1])\n"
   ]
  },
  {
   "cell_type": "markdown",
   "metadata": {},
   "source": [
    "Análisis de duplicados"
   ]
  },
  {
   "cell_type": "code",
   "execution_count": 20,
   "metadata": {},
   "outputs": [
    {
     "name": "stdout",
     "output_type": "stream",
     "text": [
      "Número de filas duplicadas: 98\n"
     ]
    },
    {
     "data": {
      "text/html": [
       "<div>\n",
       "<style scoped>\n",
       "    .dataframe tbody tr th:only-of-type {\n",
       "        vertical-align: middle;\n",
       "    }\n",
       "\n",
       "    .dataframe tbody tr th {\n",
       "        vertical-align: top;\n",
       "    }\n",
       "\n",
       "    .dataframe thead th {\n",
       "        text-align: right;\n",
       "    }\n",
       "</style>\n",
       "<table border=\"1\" class=\"dataframe\">\n",
       "  <thead>\n",
       "    <tr style=\"text-align: right;\">\n",
       "      <th></th>\n",
       "      <th>id_reserva</th>\n",
       "      <th>id_cliente</th>\n",
       "      <th>nombre</th>\n",
       "      <th>apellido</th>\n",
       "      <th>mail</th>\n",
       "      <th>competencia</th>\n",
       "      <th>fecha_reserva</th>\n",
       "      <th>inicio_estancia</th>\n",
       "      <th>final_estancia</th>\n",
       "      <th>id_hotel</th>\n",
       "      <th>precio_noche</th>\n",
       "      <th>nombre_hotel</th>\n",
       "      <th>estrellas</th>\n",
       "      <th>ciudad</th>\n",
       "    </tr>\n",
       "  </thead>\n",
       "  <tbody>\n",
       "    <tr>\n",
       "      <th>15000</th>\n",
       "      <td>9894646a-716a-4a9d-b504-6d05cff706d3</td>\n",
       "      <td>659980f2-c213-4eed-bddf-1bfebc8dc985</td>\n",
       "      <td>Marianela</td>\n",
       "      <td>Pablo</td>\n",
       "      <td>marianela.pablo@example.com</td>\n",
       "      <td>False</td>\n",
       "      <td>2025-02-09</td>\n",
       "      <td>2025-03-01</td>\n",
       "      <td>2025-03-02</td>\n",
       "      <td>29</td>\n",
       "      <td>246.07</td>\n",
       "      <td>Hotel Puerta del Cielo</td>\n",
       "      <td>5.0</td>\n",
       "      <td>Madrid</td>\n",
       "    </tr>\n",
       "    <tr>\n",
       "      <th>15001</th>\n",
       "      <td>9754807a-8685-4198-b843-6dc991377377</td>\n",
       "      <td>a8b5e355-d76c-4836-af7d-57021d03228b</td>\n",
       "      <td>Victor</td>\n",
       "      <td>Santamaria</td>\n",
       "      <td>victor.santamaria@example.com</td>\n",
       "      <td>False</td>\n",
       "      <td>2025-02-07</td>\n",
       "      <td>2025-03-01</td>\n",
       "      <td>2025-03-02</td>\n",
       "      <td>49</td>\n",
       "      <td>169.14</td>\n",
       "      <td>Hotel Los Almendros</td>\n",
       "      <td>5.0</td>\n",
       "      <td>Madrid</td>\n",
       "    </tr>\n",
       "    <tr>\n",
       "      <th>15002</th>\n",
       "      <td>2a5ea0d1-9584-4458-8a08-e276d7cbbc3a</td>\n",
       "      <td>0f0150df-7805-41dd-84c5-5aadd6816086</td>\n",
       "      <td>Ámbar</td>\n",
       "      <td>Benito</td>\n",
       "      <td>ámbar.benito@example.com</td>\n",
       "      <td>False</td>\n",
       "      <td>2025-02-02</td>\n",
       "      <td>2025-03-01</td>\n",
       "      <td>2025-03-02</td>\n",
       "      <td>19</td>\n",
       "      <td>198.87</td>\n",
       "      <td>Hotel Palacio Imperial</td>\n",
       "      <td>4.0</td>\n",
       "      <td>Madrid</td>\n",
       "    </tr>\n",
       "    <tr>\n",
       "      <th>15003</th>\n",
       "      <td>0ba826ae-751c-4cd1-9147-b4c36dd4fc72</td>\n",
       "      <td>c91e350d-1193-41de-834a-1940955e91b6</td>\n",
       "      <td>Tito</td>\n",
       "      <td>Amorós</td>\n",
       "      <td>tito.amorós@example.com</td>\n",
       "      <td>False</td>\n",
       "      <td>2025-02-12</td>\n",
       "      <td>2025-03-01</td>\n",
       "      <td>2025-03-02</td>\n",
       "      <td>14</td>\n",
       "      <td>54.32</td>\n",
       "      <td>Hotel Las Estrellas</td>\n",
       "      <td>1.0</td>\n",
       "      <td>Madrid</td>\n",
       "    </tr>\n",
       "    <tr>\n",
       "      <th>15004</th>\n",
       "      <td>1e5d7ead-36e9-4b22-b870-9a122355b763</td>\n",
       "      <td>4ca7383c-3e0c-4403-b0dc-f2a022edb524</td>\n",
       "      <td>Gabriel</td>\n",
       "      <td>Cruz</td>\n",
       "      <td>gabriel.cruz@example.com</td>\n",
       "      <td>False</td>\n",
       "      <td>2025-02-10</td>\n",
       "      <td>2025-03-01</td>\n",
       "      <td>2025-03-02</td>\n",
       "      <td>19</td>\n",
       "      <td>405.23</td>\n",
       "      <td>Hotel Jardines del Rey</td>\n",
       "      <td>5.0</td>\n",
       "      <td>Madrid</td>\n",
       "    </tr>\n",
       "    <tr>\n",
       "      <th>...</th>\n",
       "      <td>...</td>\n",
       "      <td>...</td>\n",
       "      <td>...</td>\n",
       "      <td>...</td>\n",
       "      <td>...</td>\n",
       "      <td>...</td>\n",
       "      <td>...</td>\n",
       "      <td>...</td>\n",
       "      <td>...</td>\n",
       "      <td>...</td>\n",
       "      <td>...</td>\n",
       "      <td>...</td>\n",
       "      <td>...</td>\n",
       "      <td>...</td>\n",
       "    </tr>\n",
       "    <tr>\n",
       "      <th>15093</th>\n",
       "      <td>49c9a352-a260-46fb-9edc-a2c2d05fdfb9</td>\n",
       "      <td>cc50c0c1-a589-44b7-8a41-2c731d033f89</td>\n",
       "      <td>Victoriano</td>\n",
       "      <td>Miralles</td>\n",
       "      <td>victoriano.miralles@example.com</td>\n",
       "      <td>False</td>\n",
       "      <td>2025-02-02</td>\n",
       "      <td>2025-03-01</td>\n",
       "      <td>2025-03-02</td>\n",
       "      <td>36</td>\n",
       "      <td>367.65</td>\n",
       "      <td>Hotel Las Estrellas</td>\n",
       "      <td>3.0</td>\n",
       "      <td>Madrid</td>\n",
       "    </tr>\n",
       "    <tr>\n",
       "      <th>15094</th>\n",
       "      <td>f07370e3-feeb-4893-a9ff-4ec4fb518a55</td>\n",
       "      <td>2bf0215f-7f7b-4cfb-9a37-d2022c492410</td>\n",
       "      <td>Anacleto</td>\n",
       "      <td>Toledo</td>\n",
       "      <td>anacleto.toledo@example.com</td>\n",
       "      <td>False</td>\n",
       "      <td>2025-02-07</td>\n",
       "      <td>2025-03-01</td>\n",
       "      <td>2025-03-02</td>\n",
       "      <td>38</td>\n",
       "      <td>144.35</td>\n",
       "      <td>Gran Hotel Madrid</td>\n",
       "      <td>4.0</td>\n",
       "      <td>Madrid</td>\n",
       "    </tr>\n",
       "    <tr>\n",
       "      <th>15095</th>\n",
       "      <td>1d4b9293-1733-45ce-8a8e-79d3ac4694eb</td>\n",
       "      <td>4ba34638-c43e-455f-886d-b3e3dd223a07</td>\n",
       "      <td>Máxima</td>\n",
       "      <td>Mayoral</td>\n",
       "      <td>máxima.mayoral@example.com</td>\n",
       "      <td>False</td>\n",
       "      <td>2025-02-08</td>\n",
       "      <td>2025-03-01</td>\n",
       "      <td>2025-03-02</td>\n",
       "      <td>29</td>\n",
       "      <td>463.32</td>\n",
       "      <td>Hotel Jardines del Rey</td>\n",
       "      <td>2.0</td>\n",
       "      <td>Madrid</td>\n",
       "    </tr>\n",
       "    <tr>\n",
       "      <th>15096</th>\n",
       "      <td>d6823ca7-e236-48b1-bf68-6b88d9b6534a</td>\n",
       "      <td>a017cb9c-160b-4b90-b4a9-4bdb2dce546a</td>\n",
       "      <td>Rafa</td>\n",
       "      <td>Alcaraz</td>\n",
       "      <td>rafa.alcaraz@example.com</td>\n",
       "      <td>False</td>\n",
       "      <td>2025-02-10</td>\n",
       "      <td>2025-03-01</td>\n",
       "      <td>2025-03-02</td>\n",
       "      <td>15</td>\n",
       "      <td>247.63</td>\n",
       "      <td>Hotel Palacio Imperial</td>\n",
       "      <td>1.0</td>\n",
       "      <td>Madrid</td>\n",
       "    </tr>\n",
       "    <tr>\n",
       "      <th>15097</th>\n",
       "      <td>6b26f923-22b2-4de7-b1d5-bce158361dee</td>\n",
       "      <td>5842d91d-6ca2-4174-920b-8a2e1ca852ba</td>\n",
       "      <td>Eugenio</td>\n",
       "      <td>Quintero</td>\n",
       "      <td>eugenio.quintero@example.com</td>\n",
       "      <td>False</td>\n",
       "      <td>2025-02-06</td>\n",
       "      <td>2025-03-01</td>\n",
       "      <td>2025-03-02</td>\n",
       "      <td>28</td>\n",
       "      <td>433.87</td>\n",
       "      <td>Hotel Puerta del Cielo</td>\n",
       "      <td>4.0</td>\n",
       "      <td>Madrid</td>\n",
       "    </tr>\n",
       "  </tbody>\n",
       "</table>\n",
       "<p>98 rows × 14 columns</p>\n",
       "</div>"
      ],
      "text/plain": [
       "                                 id_reserva  \\\n",
       "15000  9894646a-716a-4a9d-b504-6d05cff706d3   \n",
       "15001  9754807a-8685-4198-b843-6dc991377377   \n",
       "15002  2a5ea0d1-9584-4458-8a08-e276d7cbbc3a   \n",
       "15003  0ba826ae-751c-4cd1-9147-b4c36dd4fc72   \n",
       "15004  1e5d7ead-36e9-4b22-b870-9a122355b763   \n",
       "...                                     ...   \n",
       "15093  49c9a352-a260-46fb-9edc-a2c2d05fdfb9   \n",
       "15094  f07370e3-feeb-4893-a9ff-4ec4fb518a55   \n",
       "15095  1d4b9293-1733-45ce-8a8e-79d3ac4694eb   \n",
       "15096  d6823ca7-e236-48b1-bf68-6b88d9b6534a   \n",
       "15097  6b26f923-22b2-4de7-b1d5-bce158361dee   \n",
       "\n",
       "                                 id_cliente      nombre    apellido  \\\n",
       "15000  659980f2-c213-4eed-bddf-1bfebc8dc985   Marianela       Pablo   \n",
       "15001  a8b5e355-d76c-4836-af7d-57021d03228b      Victor  Santamaria   \n",
       "15002  0f0150df-7805-41dd-84c5-5aadd6816086       Ámbar      Benito   \n",
       "15003  c91e350d-1193-41de-834a-1940955e91b6        Tito      Amorós   \n",
       "15004  4ca7383c-3e0c-4403-b0dc-f2a022edb524     Gabriel        Cruz   \n",
       "...                                     ...         ...         ...   \n",
       "15093  cc50c0c1-a589-44b7-8a41-2c731d033f89  Victoriano    Miralles   \n",
       "15094  2bf0215f-7f7b-4cfb-9a37-d2022c492410    Anacleto      Toledo   \n",
       "15095  4ba34638-c43e-455f-886d-b3e3dd223a07      Máxima     Mayoral   \n",
       "15096  a017cb9c-160b-4b90-b4a9-4bdb2dce546a        Rafa     Alcaraz   \n",
       "15097  5842d91d-6ca2-4174-920b-8a2e1ca852ba     Eugenio    Quintero   \n",
       "\n",
       "                                  mail  competencia fecha_reserva  \\\n",
       "15000      marianela.pablo@example.com        False    2025-02-09   \n",
       "15001    victor.santamaria@example.com        False    2025-02-07   \n",
       "15002         ámbar.benito@example.com        False    2025-02-02   \n",
       "15003          tito.amorós@example.com        False    2025-02-12   \n",
       "15004         gabriel.cruz@example.com        False    2025-02-10   \n",
       "...                                ...          ...           ...   \n",
       "15093  victoriano.miralles@example.com        False    2025-02-02   \n",
       "15094      anacleto.toledo@example.com        False    2025-02-07   \n",
       "15095       máxima.mayoral@example.com        False    2025-02-08   \n",
       "15096         rafa.alcaraz@example.com        False    2025-02-10   \n",
       "15097     eugenio.quintero@example.com        False    2025-02-06   \n",
       "\n",
       "      inicio_estancia final_estancia  id_hotel  precio_noche  \\\n",
       "15000      2025-03-01     2025-03-02        29        246.07   \n",
       "15001      2025-03-01     2025-03-02        49        169.14   \n",
       "15002      2025-03-01     2025-03-02        19        198.87   \n",
       "15003      2025-03-01     2025-03-02        14         54.32   \n",
       "15004      2025-03-01     2025-03-02        19        405.23   \n",
       "...               ...            ...       ...           ...   \n",
       "15093      2025-03-01     2025-03-02        36        367.65   \n",
       "15094      2025-03-01     2025-03-02        38        144.35   \n",
       "15095      2025-03-01     2025-03-02        29        463.32   \n",
       "15096      2025-03-01     2025-03-02        15        247.63   \n",
       "15097      2025-03-01     2025-03-02        28        433.87   \n",
       "\n",
       "                 nombre_hotel  estrellas  ciudad  \n",
       "15000  Hotel Puerta del Cielo        5.0  Madrid  \n",
       "15001     Hotel Los Almendros        5.0  Madrid  \n",
       "15002  Hotel Palacio Imperial        4.0  Madrid  \n",
       "15003     Hotel Las Estrellas        1.0  Madrid  \n",
       "15004  Hotel Jardines del Rey        5.0  Madrid  \n",
       "...                       ...        ...     ...  \n",
       "15093     Hotel Las Estrellas        3.0  Madrid  \n",
       "15094       Gran Hotel Madrid        4.0  Madrid  \n",
       "15095  Hotel Jardines del Rey        2.0  Madrid  \n",
       "15096  Hotel Palacio Imperial        1.0  Madrid  \n",
       "15097  Hotel Puerta del Cielo        4.0  Madrid  \n",
       "\n",
       "[98 rows x 14 columns]"
      ]
     },
     "execution_count": 20,
     "metadata": {},
     "output_type": "execute_result"
    }
   ],
   "source": [
    "# Verificar duplicados en el DataFrame\n",
    "duplicados = df.duplicated()\n",
    "print(f'Número de filas duplicadas: {duplicados.sum()}')\n",
    "\n",
    "# Mostrar las filas duplicadas\n",
    "df[duplicados]"
   ]
  },
  {
   "cell_type": "code",
   "execution_count": 21,
   "metadata": {},
   "outputs": [],
   "source": [
    "### limpiamos los duplicados que coinciden en todos sus valores\n",
    "df = df.drop_duplicates()"
   ]
  },
  {
   "cell_type": "markdown",
   "metadata": {},
   "source": [
    "Gestión de nulos"
   ]
  },
  {
   "cell_type": "code",
   "execution_count": 22,
   "metadata": {},
   "outputs": [
    {
     "data": {
      "text/plain": [
       "id_reserva          0.000000\n",
       "id_cliente          0.000000\n",
       "nombre              0.000000\n",
       "apellido            0.000000\n",
       "mail                0.000000\n",
       "competencia         0.000000\n",
       "fecha_reserva      34.480000\n",
       "inicio_estancia     0.500000\n",
       "final_estancia      0.500000\n",
       "id_hotel            0.000000\n",
       "precio_noche       34.826667\n",
       "nombre_hotel        0.000000\n",
       "estrellas          34.480000\n",
       "ciudad              0.000000\n",
       "dtype: float64"
      ]
     },
     "execution_count": 22,
     "metadata": {},
     "output_type": "execute_result"
    }
   ],
   "source": [
    "def porcentaje_nulos(dataframe):\n",
    "    porcentaje = dataframe.isnull().mean() * 100\n",
    "    return porcentaje\n",
    "\n",
    "# Ver el porcentaje de nulos por columnas\n",
    "porcentaje_nulos(df)"
   ]
  },
  {
   "cell_type": "code",
   "execution_count": 23,
   "metadata": {},
   "outputs": [
    {
     "data": {
      "text/plain": [
       "0        21.428571\n",
       "1        21.428571\n",
       "2         0.000000\n",
       "3         0.000000\n",
       "4         0.000000\n",
       "           ...    \n",
       "14995     0.000000\n",
       "14996    21.428571\n",
       "14997     0.000000\n",
       "14998    21.428571\n",
       "14999     0.000000\n",
       "Length: 15000, dtype: float64"
      ]
     },
     "execution_count": 23,
     "metadata": {},
     "output_type": "execute_result"
    }
   ],
   "source": [
    "def porcentaje_nulos_filas(dataframe):\n",
    "    porcentaje = dataframe.isnull().mean(axis=1) * 100\n",
    "    return porcentaje\n",
    "\n",
    "# Ver el porcentaje de nulos por filas\n",
    "porcentaje_nulos_filas(df)"
   ]
  },
  {
   "cell_type": "markdown",
   "metadata": {},
   "source": [
    "4. Validación de Unicidad y Claves Primarias"
   ]
  },
  {
   "cell_type": "code",
   "execution_count": 24,
   "metadata": {},
   "outputs": [
    {
     "data": {
      "text/plain": [
       "True"
      ]
     },
     "execution_count": 24,
     "metadata": {},
     "output_type": "execute_result"
    }
   ],
   "source": [
    "df['id_reserva'].nunique() == df.shape[0]  # Debe ser True si todos son únicos"
   ]
  },
  {
   "cell_type": "code",
   "execution_count": 25,
   "metadata": {},
   "outputs": [
    {
     "data": {
      "text/plain": [
       "(14905, 14847)"
      ]
     },
     "execution_count": 25,
     "metadata": {},
     "output_type": "execute_result"
    }
   ],
   "source": [
    "df[\"mail\"].nunique(), df[\"id_cliente\"].nunique()\n"
   ]
  },
  {
   "cell_type": "markdown",
   "metadata": {},
   "source": [
    "tienes q crear la columna id desde el email "
   ]
  },
  {
   "cell_type": "code",
   "execution_count": 26,
   "metadata": {},
   "outputs": [
    {
     "data": {
      "text/plain": [
       "array(['feliciana.cantón@example.com', 'leonardo.hierro@example.com',\n",
       "       'maite.calatayud@example.com', ..., 'nadia.verdugo@example.com',\n",
       "       'custodia.marco@example.com', 'brígida.salom@example.com'],\n",
       "      dtype=object)"
      ]
     },
     "execution_count": 26,
     "metadata": {},
     "output_type": "execute_result"
    }
   ],
   "source": [
    "df_clientesunicos = df[\"mail\"].unique()\n",
    "df_clientesunicos"
   ]
  },
  {
   "cell_type": "code",
   "execution_count": 27,
   "metadata": {},
   "outputs": [
    {
     "data": {
      "text/plain": [
       "False"
      ]
     },
     "execution_count": 27,
     "metadata": {},
     "output_type": "execute_result"
    }
   ],
   "source": [
    "df['id_hotel'].nunique() == df.shape[0]  # Debe ser True si todos son únicos"
   ]
  },
  {
   "cell_type": "code",
   "execution_count": 28,
   "metadata": {},
   "outputs": [
    {
     "data": {
      "text/plain": [
       "False"
      ]
     },
     "execution_count": 28,
     "metadata": {},
     "output_type": "execute_result"
    }
   ],
   "source": [
    "df['id_cliente'].nunique() == df.shape[0]  # Debe ser True si todos son únicos\n"
   ]
  },
  {
   "cell_type": "markdown",
   "metadata": {},
   "source": [
    "## Correción ID_clientes únicos\n",
    "\n",
    "        - eliminamos todos los id clientes y creamos uno apartir del email\n",
    "        - comprobar:: "
   ]
  },
  {
   "cell_type": "code",
   "execution_count": 29,
   "metadata": {},
   "outputs": [
    {
     "data": {
      "text/plain": [
       "14905"
      ]
     },
     "execution_count": 29,
     "metadata": {},
     "output_type": "execute_result"
    }
   ],
   "source": [
    "df[\"mail\"].nunique()"
   ]
  },
  {
   "cell_type": "code",
   "execution_count": 30,
   "metadata": {},
   "outputs": [
    {
     "data": {
      "text/plain": [
       "mail\n",
       "ariadna.miguel@example.com        3\n",
       "victoriano.ródenas@example.com    3\n",
       "victor.peiró@example.com          2\n",
       "manuelita.leiva@example.com       2\n",
       "aitor.prieto@example.com          2\n",
       "                                 ..\n",
       "eustaquio.oliveras@example.com    1\n",
       "eustaquio.paz@example.com         1\n",
       "eustaquio.portillo@example.com    1\n",
       "eustaquio.quintero@example.com    1\n",
       "úrsula.ureña@example.com          1\n",
       "Name: id_cliente, Length: 14905, dtype: int64"
      ]
     },
     "execution_count": 30,
     "metadata": {},
     "output_type": "execute_result"
    }
   ],
   "source": [
    "df.groupby(\"mail\")[\"id_cliente\"].nunique().sort_values(ascending=False)\n"
   ]
  },
  {
   "cell_type": "code",
   "execution_count": 31,
   "metadata": {},
   "outputs": [
    {
     "name": "stdout",
     "output_type": "stream",
     "text": [
      "La cantidad de mail que tienen más de un valour único en id_cliente es 93\n"
     ]
    }
   ],
   "source": [
    "# Agrupar por 'mail', contar valores únicos de 'id_cliente', y filtrar los que tienen más de 1 valor único\n",
    "resultado = df.groupby(\"mail\")[\"id_cliente\"].nunique()\n",
    "resultado_filtrado = resultado[resultado > 1].sort_values(ascending=False)\n",
    "\n",
    "cantidad_emails = len(resultado_filtrado)\n",
    "\n",
    "print(f'La cantidad de mail que tienen más de un valour único en id_cliente es {cantidad_emails}')"
   ]
  },
  {
   "cell_type": "code",
   "execution_count": 32,
   "metadata": {},
   "outputs": [
    {
     "data": {
      "text/plain": [
       "14905"
      ]
     },
     "execution_count": 32,
     "metadata": {},
     "output_type": "execute_result"
    }
   ],
   "source": [
    "df[\"mail\"].nunique()"
   ]
  },
  {
   "cell_type": "code",
   "execution_count": 33,
   "metadata": {},
   "outputs": [
    {
     "data": {
      "text/plain": [
       "14847"
      ]
     },
     "execution_count": 33,
     "metadata": {},
     "output_type": "execute_result"
    }
   ],
   "source": [
    "df[\"id_cliente\"].nunique()"
   ]
  },
  {
   "cell_type": "code",
   "execution_count": 34,
   "metadata": {},
   "outputs": [],
   "source": [
    "df[\"id_cliente\"] = df[\"mail\"].factorize()[0]"
   ]
  },
  {
   "cell_type": "code",
   "execution_count": 35,
   "metadata": {},
   "outputs": [
    {
     "data": {
      "text/plain": [
       "0            0\n",
       "1            1\n",
       "2            2\n",
       "3            3\n",
       "4            4\n",
       "         ...  \n",
       "14995    14900\n",
       "14996    14901\n",
       "14997    14902\n",
       "14998    14903\n",
       "14999    14904\n",
       "Name: id_cliente, Length: 15000, dtype: int64"
      ]
     },
     "execution_count": 35,
     "metadata": {},
     "output_type": "execute_result"
    }
   ],
   "source": [
    "df[\"id_cliente\"]"
   ]
  },
  {
   "cell_type": "code",
   "execution_count": 36,
   "metadata": {},
   "outputs": [
    {
     "data": {
      "text/plain": [
       "1"
      ]
     },
     "execution_count": 36,
     "metadata": {},
     "output_type": "execute_result"
    }
   ],
   "source": [
    "df.groupby(\"id_cliente\")[\"mail\"].nunique().max()\n"
   ]
  },
  {
   "cell_type": "markdown",
   "metadata": {},
   "source": [
    "## Corrección ID_Hoteles\n",
    "- crear un nuevo id_hotel nuevo atraves del nombre del hotel : problema: los errores de la competencia no los tenemos. \n",
    "- aqui es donde vas a tener q dividir la base de datos de los hoteles de la competencia y los mios. "
   ]
  },
  {
   "cell_type": "markdown",
   "metadata": {},
   "source": [
    "- Analizando inconsistencias en ID de hoteles y nombres"
   ]
  },
  {
   "cell_type": "code",
   "execution_count": 37,
   "metadata": {},
   "outputs": [
    {
     "data": {
      "text/html": [
       "<div>\n",
       "<style scoped>\n",
       "    .dataframe tbody tr th:only-of-type {\n",
       "        vertical-align: middle;\n",
       "    }\n",
       "\n",
       "    .dataframe tbody tr th {\n",
       "        vertical-align: top;\n",
       "    }\n",
       "\n",
       "    .dataframe thead th {\n",
       "        text-align: right;\n",
       "    }\n",
       "</style>\n",
       "<table border=\"1\" class=\"dataframe\">\n",
       "  <thead>\n",
       "    <tr style=\"text-align: right;\">\n",
       "      <th></th>\n",
       "      <th>nombre_hotel</th>\n",
       "      <th>id_hotel</th>\n",
       "    </tr>\n",
       "  </thead>\n",
       "  <tbody>\n",
       "    <tr>\n",
       "      <th>0</th>\n",
       "      <td></td>\n",
       "      <td>10</td>\n",
       "    </tr>\n",
       "    <tr>\n",
       "      <th>1</th>\n",
       "      <td>Gran Hotel Madrid</td>\n",
       "      <td>19</td>\n",
       "    </tr>\n",
       "    <tr>\n",
       "      <th>2</th>\n",
       "      <td>Hotel Brisas del Mar</td>\n",
       "      <td>19</td>\n",
       "    </tr>\n",
       "    <tr>\n",
       "      <th>3</th>\n",
       "      <td>Hotel Camino del Sol</td>\n",
       "      <td>19</td>\n",
       "    </tr>\n",
       "    <tr>\n",
       "      <th>4</th>\n",
       "      <td>Hotel Costa Azul</td>\n",
       "      <td>19</td>\n",
       "    </tr>\n",
       "    <tr>\n",
       "      <th>5</th>\n",
       "      <td>Hotel Encanto Real</td>\n",
       "      <td>19</td>\n",
       "    </tr>\n",
       "    <tr>\n",
       "      <th>6</th>\n",
       "      <td>Hotel Jardines del Rey</td>\n",
       "      <td>19</td>\n",
       "    </tr>\n",
       "    <tr>\n",
       "      <th>7</th>\n",
       "      <td>Hotel Las Estrellas</td>\n",
       "      <td>19</td>\n",
       "    </tr>\n",
       "    <tr>\n",
       "      <th>8</th>\n",
       "      <td>Hotel Los Almendros</td>\n",
       "      <td>19</td>\n",
       "    </tr>\n",
       "    <tr>\n",
       "      <th>9</th>\n",
       "      <td>Hotel Luz de Madrid</td>\n",
       "      <td>19</td>\n",
       "    </tr>\n",
       "    <tr>\n",
       "      <th>10</th>\n",
       "      <td>Hotel Maravilla Real</td>\n",
       "      <td>19</td>\n",
       "    </tr>\n",
       "    <tr>\n",
       "      <th>11</th>\n",
       "      <td>Hotel Mirador Real</td>\n",
       "      <td>19</td>\n",
       "    </tr>\n",
       "    <tr>\n",
       "      <th>12</th>\n",
       "      <td>Hotel Monte Verde</td>\n",
       "      <td>19</td>\n",
       "    </tr>\n",
       "    <tr>\n",
       "      <th>13</th>\n",
       "      <td>Hotel Palacio Imperial</td>\n",
       "      <td>19</td>\n",
       "    </tr>\n",
       "    <tr>\n",
       "      <th>14</th>\n",
       "      <td>Hotel Puerta del Cielo</td>\n",
       "      <td>19</td>\n",
       "    </tr>\n",
       "    <tr>\n",
       "      <th>15</th>\n",
       "      <td>Hotel Rincón Sereno</td>\n",
       "      <td>19</td>\n",
       "    </tr>\n",
       "    <tr>\n",
       "      <th>16</th>\n",
       "      <td>Hotel Sol y Luna</td>\n",
       "      <td>19</td>\n",
       "    </tr>\n",
       "    <tr>\n",
       "      <th>17</th>\n",
       "      <td>Hotel Torre Dorada</td>\n",
       "      <td>19</td>\n",
       "    </tr>\n",
       "    <tr>\n",
       "      <th>18</th>\n",
       "      <td>Hotel Vista Alegre</td>\n",
       "      <td>19</td>\n",
       "    </tr>\n",
       "    <tr>\n",
       "      <th>19</th>\n",
       "      <td>Palacio del Sol</td>\n",
       "      <td>19</td>\n",
       "    </tr>\n",
       "  </tbody>\n",
       "</table>\n",
       "</div>"
      ],
      "text/plain": [
       "              nombre_hotel  id_hotel\n",
       "0                                 10\n",
       "1        Gran Hotel Madrid        19\n",
       "2     Hotel Brisas del Mar        19\n",
       "3     Hotel Camino del Sol        19\n",
       "4         Hotel Costa Azul        19\n",
       "5       Hotel Encanto Real        19\n",
       "6   Hotel Jardines del Rey        19\n",
       "7      Hotel Las Estrellas        19\n",
       "8      Hotel Los Almendros        19\n",
       "9      Hotel Luz de Madrid        19\n",
       "10    Hotel Maravilla Real        19\n",
       "11      Hotel Mirador Real        19\n",
       "12       Hotel Monte Verde        19\n",
       "13  Hotel Palacio Imperial        19\n",
       "14  Hotel Puerta del Cielo        19\n",
       "15     Hotel Rincón Sereno        19\n",
       "16        Hotel Sol y Luna        19\n",
       "17      Hotel Torre Dorada        19\n",
       "18      Hotel Vista Alegre        19\n",
       "19         Palacio del Sol        19"
      ]
     },
     "execution_count": 37,
     "metadata": {},
     "output_type": "execute_result"
    }
   ],
   "source": [
    "df_hotel_check = df.groupby(\"nombre_hotel\")[\"id_hotel\"].nunique().reset_index()\n",
    "df_hotel_check"
   ]
  },
  {
   "cell_type": "code",
   "execution_count": 38,
   "metadata": {},
   "outputs": [],
   "source": [
    "df_propios = df[df[\"competencia\"] == False].copy()\n",
    "df_competencia = df[df[\"competencia\"] == True].copy()"
   ]
  },
  {
   "cell_type": "markdown",
   "metadata": {},
   "source": [
    "## Con el que por fin me ha salido:"
   ]
  },
  {
   "cell_type": "code",
   "execution_count": 39,
   "metadata": {},
   "outputs": [
    {
     "name": "stdout",
     "output_type": "stream",
     "text": [
      "              nombre_hotel  id_hotel\n",
      "2        Hotel Monte Verde         1\n",
      "3     Hotel Brisas del Mar         2\n",
      "4     Hotel Camino del Sol         3\n",
      "5   Hotel Puerta del Cielo         4\n",
      "6       Hotel Encanto Real         5\n",
      "8          Palacio del Sol         6\n",
      "10  Hotel Jardines del Rey         7\n",
      "13     Hotel Las Estrellas         8\n",
      "15       Gran Hotel Madrid         9\n",
      "17      Hotel Torre Dorada        10\n",
      "18  Hotel Palacio Imperial        11\n",
      "20     Hotel Luz de Madrid        12\n",
      "22     Hotel Los Almendros        13\n",
      "24        Hotel Sol y Luna        14\n",
      "26      Hotel Mirador Real        15\n",
      "32     Hotel Rincón Sereno        16\n",
      "33      Hotel Vista Alegre        17\n",
      "37        Hotel Costa Azul        18\n",
      "60    Hotel Maravilla Real        19\n"
     ]
    }
   ],
   "source": [
    "# Asignar un valor único de id_hotel a cada nombre único de hotel\n",
    "df_propios[\"id_hotel\"] = pd.factorize(df_propios[\"nombre_hotel\"])[0] + 1\n",
    "\n",
    "# Mostrar el DataFrame con los id_hotel asignados\n",
    "print(df_propios[[\"nombre_hotel\", \"id_hotel\"]].drop_duplicates().sort_values(by=\"id_hotel\"))"
   ]
  },
  {
   "cell_type": "markdown",
   "metadata": {},
   "source": [
    "# Obtener los nombres únicos de hoteles y asignarles un número del 1 al 19\n",
    "nombres_hoteles_unicos = df_propios[\"nombre_hotel\"].unique()\n",
    "numeros_asignados = range(1, len(nombres_hoteles_unicos) + 1)\n",
    "\n",
    "# Crear un diccionario de mapeo de nombres de hoteles a números\n",
    "hotel_num_map = dict(zip(nombres_hoteles_unicos, numeros_asignados))\n",
    "\n",
    "# Asignar el número a cada nombre de hotel en el DataFrame\n",
    "df_propios[\"numero_hotel\"] = df_propios[\"nombre_hotel\"].map(hotel_num_map)\n"
   ]
  },
  {
   "cell_type": "code",
   "execution_count": 40,
   "metadata": {},
   "outputs": [
    {
     "data": {
      "text/html": [
       "<div>\n",
       "<style scoped>\n",
       "    .dataframe tbody tr th:only-of-type {\n",
       "        vertical-align: middle;\n",
       "    }\n",
       "\n",
       "    .dataframe tbody tr th {\n",
       "        vertical-align: top;\n",
       "    }\n",
       "\n",
       "    .dataframe thead th {\n",
       "        text-align: right;\n",
       "    }\n",
       "</style>\n",
       "<table border=\"1\" class=\"dataframe\">\n",
       "  <thead>\n",
       "    <tr style=\"text-align: right;\">\n",
       "      <th></th>\n",
       "      <th>nombre_hotel</th>\n",
       "      <th>id_hotel</th>\n",
       "    </tr>\n",
       "  </thead>\n",
       "  <tbody>\n",
       "    <tr>\n",
       "      <th>0</th>\n",
       "      <td></td>\n",
       "      <td>[113, 194, 131, 114, 103, 181, 128, 186, 135, ...</td>\n",
       "    </tr>\n",
       "    <tr>\n",
       "      <th>1</th>\n",
       "      <td>Gran Hotel Madrid</td>\n",
       "      <td>[47, 6, 13, 15, 35, 14, 49, 28, 48, 38, 40, 43...</td>\n",
       "    </tr>\n",
       "    <tr>\n",
       "      <th>2</th>\n",
       "      <td>Hotel Brisas del Mar</td>\n",
       "      <td>[38, 28, 36, 49, 29, 35, 6, 14, 47, 33, 27, 43...</td>\n",
       "    </tr>\n",
       "    <tr>\n",
       "      <th>3</th>\n",
       "      <td>Hotel Camino del Sol</td>\n",
       "      <td>[35, 47, 13, 15, 48, 40, 19, 49, 33, 28, 27, 3...</td>\n",
       "    </tr>\n",
       "    <tr>\n",
       "      <th>4</th>\n",
       "      <td>Hotel Costa Azul</td>\n",
       "      <td>[40, 48, 38, 13, 15, 19, 28, 49, 36, 27, 14, 2...</td>\n",
       "    </tr>\n",
       "    <tr>\n",
       "      <th>5</th>\n",
       "      <td>Hotel Encanto Real</td>\n",
       "      <td>[43, 28, 35, 14, 47, 6, 38, 33, 36, 19, 3, 15,...</td>\n",
       "    </tr>\n",
       "    <tr>\n",
       "      <th>6</th>\n",
       "      <td>Hotel Jardines del Rey</td>\n",
       "      <td>[3, 33, 2, 35, 47, 49, 15, 36, 29, 38, 43, 13,...</td>\n",
       "    </tr>\n",
       "    <tr>\n",
       "      <th>7</th>\n",
       "      <td>Hotel Las Estrellas</td>\n",
       "      <td>[29, 28, 40, 47, 6, 14, 49, 13, 36, 48, 35, 38...</td>\n",
       "    </tr>\n",
       "    <tr>\n",
       "      <th>8</th>\n",
       "      <td>Hotel Los Almendros</td>\n",
       "      <td>[28, 3, 35, 49, 43, 29, 36, 33, 47, 6, 14, 15,...</td>\n",
       "    </tr>\n",
       "    <tr>\n",
       "      <th>9</th>\n",
       "      <td>Hotel Luz de Madrid</td>\n",
       "      <td>[13, 2, 36, 15, 27, 47, 35, 33, 38, 40, 49, 14...</td>\n",
       "    </tr>\n",
       "    <tr>\n",
       "      <th>10</th>\n",
       "      <td>Hotel Maravilla Real</td>\n",
       "      <td>[40, 28, 49, 48, 14, 38, 29, 15, 6, 19, 2, 35,...</td>\n",
       "    </tr>\n",
       "    <tr>\n",
       "      <th>11</th>\n",
       "      <td>Hotel Mirador Real</td>\n",
       "      <td>[3, 14, 47, 15, 28, 43, 33, 36, 29, 49, 6, 2, ...</td>\n",
       "    </tr>\n",
       "    <tr>\n",
       "      <th>12</th>\n",
       "      <td>Hotel Monte Verde</td>\n",
       "      <td>[14, 29, 40, 13, 6, 15, 33, 43, 38, 36, 19, 28...</td>\n",
       "    </tr>\n",
       "    <tr>\n",
       "      <th>13</th>\n",
       "      <td>Hotel Palacio Imperial</td>\n",
       "      <td>[27, 36, 2, 13, 43, 40, 15, 19, 35, 14, 47, 28...</td>\n",
       "    </tr>\n",
       "    <tr>\n",
       "      <th>14</th>\n",
       "      <td>Hotel Puerta del Cielo</td>\n",
       "      <td>[36, 40, 43, 13, 38, 6, 47, 27, 48, 35, 3, 49,...</td>\n",
       "    </tr>\n",
       "    <tr>\n",
       "      <th>15</th>\n",
       "      <td>Hotel Rincón Sereno</td>\n",
       "      <td>[6, 3, 49, 2, 48, 13, 28, 33, 14, 35, 47, 36, ...</td>\n",
       "    </tr>\n",
       "    <tr>\n",
       "      <th>16</th>\n",
       "      <td>Hotel Sol y Luna</td>\n",
       "      <td>[29, 19, 47, 15, 27, 36, 40, 14, 2, 28, 35, 13...</td>\n",
       "    </tr>\n",
       "    <tr>\n",
       "      <th>17</th>\n",
       "      <td>Hotel Torre Dorada</td>\n",
       "      <td>[14, 29, 36, 48, 40, 2, 13, 47, 35, 6, 3, 38, ...</td>\n",
       "    </tr>\n",
       "    <tr>\n",
       "      <th>18</th>\n",
       "      <td>Hotel Vista Alegre</td>\n",
       "      <td>[29, 2, 38, 48, 27, 47, 35, 49, 3, 28, 33, 14,...</td>\n",
       "    </tr>\n",
       "    <tr>\n",
       "      <th>19</th>\n",
       "      <td>Palacio del Sol</td>\n",
       "      <td>[6, 13, 14, 35, 28, 15, 19, 36, 47, 38, 29, 2,...</td>\n",
       "    </tr>\n",
       "  </tbody>\n",
       "</table>\n",
       "</div>"
      ],
      "text/plain": [
       "              nombre_hotel                                           id_hotel\n",
       "0                           [113, 194, 131, 114, 103, 181, 128, 186, 135, ...\n",
       "1        Gran Hotel Madrid  [47, 6, 13, 15, 35, 14, 49, 28, 48, 38, 40, 43...\n",
       "2     Hotel Brisas del Mar  [38, 28, 36, 49, 29, 35, 6, 14, 47, 33, 27, 43...\n",
       "3     Hotel Camino del Sol  [35, 47, 13, 15, 48, 40, 19, 49, 33, 28, 27, 3...\n",
       "4         Hotel Costa Azul  [40, 48, 38, 13, 15, 19, 28, 49, 36, 27, 14, 2...\n",
       "5       Hotel Encanto Real  [43, 28, 35, 14, 47, 6, 38, 33, 36, 19, 3, 15,...\n",
       "6   Hotel Jardines del Rey  [3, 33, 2, 35, 47, 49, 15, 36, 29, 38, 43, 13,...\n",
       "7      Hotel Las Estrellas  [29, 28, 40, 47, 6, 14, 49, 13, 36, 48, 35, 38...\n",
       "8      Hotel Los Almendros  [28, 3, 35, 49, 43, 29, 36, 33, 47, 6, 14, 15,...\n",
       "9      Hotel Luz de Madrid  [13, 2, 36, 15, 27, 47, 35, 33, 38, 40, 49, 14...\n",
       "10    Hotel Maravilla Real  [40, 28, 49, 48, 14, 38, 29, 15, 6, 19, 2, 35,...\n",
       "11      Hotel Mirador Real  [3, 14, 47, 15, 28, 43, 33, 36, 29, 49, 6, 2, ...\n",
       "12       Hotel Monte Verde  [14, 29, 40, 13, 6, 15, 33, 43, 38, 36, 19, 28...\n",
       "13  Hotel Palacio Imperial  [27, 36, 2, 13, 43, 40, 15, 19, 35, 14, 47, 28...\n",
       "14  Hotel Puerta del Cielo  [36, 40, 43, 13, 38, 6, 47, 27, 48, 35, 3, 49,...\n",
       "15     Hotel Rincón Sereno  [6, 3, 49, 2, 48, 13, 28, 33, 14, 35, 47, 36, ...\n",
       "16        Hotel Sol y Luna  [29, 19, 47, 15, 27, 36, 40, 14, 2, 28, 35, 13...\n",
       "17      Hotel Torre Dorada  [14, 29, 36, 48, 40, 2, 13, 47, 35, 6, 3, 38, ...\n",
       "18      Hotel Vista Alegre  [29, 2, 38, 48, 27, 47, 35, 49, 3, 28, 33, 14,...\n",
       "19         Palacio del Sol  [6, 13, 14, 35, 28, 15, 19, 36, 47, 38, 29, 2,..."
      ]
     },
     "execution_count": 40,
     "metadata": {},
     "output_type": "execute_result"
    }
   ],
   "source": [
    "df_propio_hotel_check = df.groupby(\"nombre_hotel\")[\"id_hotel\"].unique().reset_index()\n",
    "df_propio_hotel_check"
   ]
  },
  {
   "cell_type": "code",
   "execution_count": 41,
   "metadata": {},
   "outputs": [
    {
     "data": {
      "text/plain": [
       "19"
      ]
     },
     "execution_count": 41,
     "metadata": {},
     "output_type": "execute_result"
    }
   ],
   "source": [
    "df_propios[\"id_hotel\"].nunique()"
   ]
  },
  {
   "cell_type": "code",
   "execution_count": 42,
   "metadata": {},
   "outputs": [
    {
     "data": {
      "text/plain": [
       "19"
      ]
     },
     "execution_count": 42,
     "metadata": {},
     "output_type": "execute_result"
    }
   ],
   "source": [
    "df_propios[\"nombre_hotel\"].nunique()"
   ]
  },
  {
   "cell_type": "code",
   "execution_count": 55,
   "metadata": {},
   "outputs": [],
   "source": [
    "hotel_id_map = df_propios.groupby(\"nombre_hotel\")[\"id_hotel\"].agg(lambda x: x.mode()[0]).to_dict()\n",
    "df_propios[\"id_hotel\"] = df_propios[\"nombre_hotel\"].map(hotel_id_map)\n"
   ]
  },
  {
   "cell_type": "code",
   "execution_count": 44,
   "metadata": {},
   "outputs": [
    {
     "name": "stdout",
     "output_type": "stream",
     "text": [
      "Número de nombres de hoteles únicos: 19\n",
      "Número de id_hotel únicos: 19\n"
     ]
    }
   ],
   "source": [
    "print(\"Número de nombres de hoteles únicos:\", df_propios[\"nombre_hotel\"].nunique())\n",
    "print(\"Número de id_hotel únicos:\", df_propios[\"id_hotel\"].nunique())\n"
   ]
  },
  {
   "cell_type": "markdown",
   "metadata": {},
   "source": [
    "comepetenncia"
   ]
  },
  {
   "cell_type": "code",
   "execution_count": 97,
   "metadata": {},
   "outputs": [
    {
     "data": {
      "text/plain": [
       "(15000, 14)"
      ]
     },
     "execution_count": 97,
     "metadata": {},
     "output_type": "execute_result"
    }
   ],
   "source": [
    "df.shape"
   ]
  },
  {
   "cell_type": "code",
   "execution_count": 101,
   "metadata": {},
   "outputs": [
    {
     "data": {
      "text/html": [
       "<div>\n",
       "<style scoped>\n",
       "    .dataframe tbody tr th:only-of-type {\n",
       "        vertical-align: middle;\n",
       "    }\n",
       "\n",
       "    .dataframe tbody tr th {\n",
       "        vertical-align: top;\n",
       "    }\n",
       "\n",
       "    .dataframe thead th {\n",
       "        text-align: right;\n",
       "    }\n",
       "</style>\n",
       "<table border=\"1\" class=\"dataframe\">\n",
       "  <thead>\n",
       "    <tr style=\"text-align: right;\">\n",
       "      <th></th>\n",
       "      <th>id_reserva</th>\n",
       "      <th>id_cliente</th>\n",
       "      <th>nombre</th>\n",
       "      <th>apellido</th>\n",
       "      <th>mail</th>\n",
       "      <th>competencia</th>\n",
       "      <th>fecha_reserva</th>\n",
       "      <th>inicio_estancia</th>\n",
       "      <th>final_estancia</th>\n",
       "      <th>id_hotel</th>\n",
       "      <th>precio_noche</th>\n",
       "      <th>nombre_hotel</th>\n",
       "      <th>estrellas</th>\n",
       "      <th>ciudad</th>\n",
       "    </tr>\n",
       "  </thead>\n",
       "  <tbody>\n",
       "    <tr>\n",
       "      <th>0</th>\n",
       "      <td>5256cc90-139b-43d2-8ec5-412495d751cf</td>\n",
       "      <td>0</td>\n",
       "      <td>Feliciana</td>\n",
       "      <td>Cantón</td>\n",
       "      <td>feliciana.cantón@example.com</td>\n",
       "      <td>True</td>\n",
       "      <td>NaT</td>\n",
       "      <td>2025-03-01</td>\n",
       "      <td>2025-03-02</td>\n",
       "      <td>113</td>\n",
       "      <td>NaN</td>\n",
       "      <td></td>\n",
       "      <td>NaN</td>\n",
       "      <td></td>\n",
       "    </tr>\n",
       "    <tr>\n",
       "      <th>1</th>\n",
       "      <td>84fd6209-bd8d-4a92-bfe6-c68ee2c49271</td>\n",
       "      <td>1</td>\n",
       "      <td>Leonardo</td>\n",
       "      <td>Hierro</td>\n",
       "      <td>leonardo.hierro@example.com</td>\n",
       "      <td>True</td>\n",
       "      <td>NaT</td>\n",
       "      <td>2025-03-01</td>\n",
       "      <td>2025-03-02</td>\n",
       "      <td>194</td>\n",
       "      <td>NaN</td>\n",
       "      <td></td>\n",
       "      <td>NaN</td>\n",
       "      <td></td>\n",
       "    </tr>\n",
       "    <tr>\n",
       "      <th>7</th>\n",
       "      <td>4d65096e-5f12-4ce7-9fd6-dd20e3cf5194</td>\n",
       "      <td>7</td>\n",
       "      <td>Judith</td>\n",
       "      <td>Rivas</td>\n",
       "      <td>judith.rivas@example.com</td>\n",
       "      <td>True</td>\n",
       "      <td>NaT</td>\n",
       "      <td>2025-03-01</td>\n",
       "      <td>2025-03-02</td>\n",
       "      <td>131</td>\n",
       "      <td>NaN</td>\n",
       "      <td></td>\n",
       "      <td>NaN</td>\n",
       "      <td></td>\n",
       "    </tr>\n",
       "    <tr>\n",
       "      <th>9</th>\n",
       "      <td>458029ad-cc9b-4d85-8290-fec170bcc02d</td>\n",
       "      <td>9</td>\n",
       "      <td>Adolfo</td>\n",
       "      <td>Cuervo</td>\n",
       "      <td>adolfo.cuervo@example.com</td>\n",
       "      <td>True</td>\n",
       "      <td>NaT</td>\n",
       "      <td>2025-03-01</td>\n",
       "      <td>2025-03-02</td>\n",
       "      <td>114</td>\n",
       "      <td>NaN</td>\n",
       "      <td></td>\n",
       "      <td>NaN</td>\n",
       "      <td></td>\n",
       "    </tr>\n",
       "    <tr>\n",
       "      <th>11</th>\n",
       "      <td>ac0fe86e-90a0-4fe6-a02e-6ea00e9a8621</td>\n",
       "      <td>11</td>\n",
       "      <td>María Carmen</td>\n",
       "      <td>Navarro</td>\n",
       "      <td>maría carmen.navarro@example.com</td>\n",
       "      <td>True</td>\n",
       "      <td>NaT</td>\n",
       "      <td>2025-03-01</td>\n",
       "      <td>2025-03-02</td>\n",
       "      <td>103</td>\n",
       "      <td>NaN</td>\n",
       "      <td></td>\n",
       "      <td>NaN</td>\n",
       "      <td></td>\n",
       "    </tr>\n",
       "  </tbody>\n",
       "</table>\n",
       "</div>"
      ],
      "text/plain": [
       "                              id_reserva  id_cliente        nombre apellido  \\\n",
       "0   5256cc90-139b-43d2-8ec5-412495d751cf           0     Feliciana   Cantón   \n",
       "1   84fd6209-bd8d-4a92-bfe6-c68ee2c49271           1      Leonardo   Hierro   \n",
       "7   4d65096e-5f12-4ce7-9fd6-dd20e3cf5194           7        Judith    Rivas   \n",
       "9   458029ad-cc9b-4d85-8290-fec170bcc02d           9        Adolfo   Cuervo   \n",
       "11  ac0fe86e-90a0-4fe6-a02e-6ea00e9a8621          11  María Carmen  Navarro   \n",
       "\n",
       "                                mail  competencia fecha_reserva  \\\n",
       "0       feliciana.cantón@example.com         True           NaT   \n",
       "1        leonardo.hierro@example.com         True           NaT   \n",
       "7           judith.rivas@example.com         True           NaT   \n",
       "9          adolfo.cuervo@example.com         True           NaT   \n",
       "11  maría carmen.navarro@example.com         True           NaT   \n",
       "\n",
       "   inicio_estancia final_estancia  id_hotel  precio_noche nombre_hotel  \\\n",
       "0       2025-03-01     2025-03-02       113           NaN                \n",
       "1       2025-03-01     2025-03-02       194           NaN                \n",
       "7       2025-03-01     2025-03-02       131           NaN                \n",
       "9       2025-03-01     2025-03-02       114           NaN                \n",
       "11      2025-03-01     2025-03-02       103           NaN                \n",
       "\n",
       "    estrellas ciudad  \n",
       "0         NaN         \n",
       "1         NaN         \n",
       "7         NaN         \n",
       "9         NaN         \n",
       "11        NaN         "
      ]
     },
     "execution_count": 101,
     "metadata": {},
     "output_type": "execute_result"
    }
   ],
   "source": [
    "df_competencia.head()"
   ]
  },
  {
   "cell_type": "code",
   "execution_count": 94,
   "metadata": {},
   "outputs": [
    {
     "data": {
      "text/plain": [
       "(10, 5172)"
      ]
     },
     "execution_count": 94,
     "metadata": {},
     "output_type": "execute_result"
    }
   ],
   "source": [
    "df_competencia[\"id_hotel\"].nunique(), df_competencia.shape[0]\n"
   ]
  },
  {
   "cell_type": "code",
   "execution_count": null,
   "metadata": {},
   "outputs": [],
   "source": [
    "# juntamos bases de datos corregidas\n",
    "df_limpio = pd.concat([df_propios, df_competencia])\n"
   ]
  },
  {
   "cell_type": "code",
   "execution_count": 104,
   "metadata": {},
   "outputs": [
    {
     "data": {
      "text/plain": [
       "1"
      ]
     },
     "execution_count": 104,
     "metadata": {},
     "output_type": "execute_result"
    }
   ],
   "source": [
    "df_competencia[\"nombre_hotel\"].nunique()"
   ]
  },
  {
   "cell_type": "code",
   "execution_count": 105,
   "metadata": {},
   "outputs": [
    {
     "data": {
      "text/plain": [
       "10"
      ]
     },
     "execution_count": 105,
     "metadata": {},
     "output_type": "execute_result"
    }
   ],
   "source": [
    "df_competencia[\"id_hotel\"].nunique()"
   ]
  },
  {
   "cell_type": "markdown",
   "metadata": {},
   "source": [
    "## Promedio de estrellas"
   ]
  },
  {
   "cell_type": "code",
   "execution_count": null,
   "metadata": {},
   "outputs": [],
   "source": []
  },
  {
   "cell_type": "code",
   "execution_count": null,
   "metadata": {},
   "outputs": [],
   "source": []
  },
  {
   "cell_type": "code",
   "execution_count": null,
   "metadata": {},
   "outputs": [],
   "source": []
  },
  {
   "cell_type": "code",
   "execution_count": null,
   "metadata": {},
   "outputs": [],
   "source": []
  }
 ],
 "metadata": {
  "kernelspec": {
   "display_name": "prueba2",
   "language": "python",
   "name": "python3"
  },
  "language_info": {
   "codemirror_mode": {
    "name": "ipython",
    "version": 3
   },
   "file_extension": ".py",
   "mimetype": "text/x-python",
   "name": "python",
   "nbconvert_exporter": "python",
   "pygments_lexer": "ipython3",
   "version": "3.10.14"
  }
 },
 "nbformat": 4,
 "nbformat_minor": 2
}
