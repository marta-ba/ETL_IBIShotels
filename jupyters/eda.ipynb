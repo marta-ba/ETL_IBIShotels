{
 "cells": [
  {
   "cell_type": "code",
   "execution_count": 1,
   "metadata": {
    "vscode": {
     "languageId": "markdown"
    }
   },
   "outputs": [],
   "source": [
    "# EDA inicial"
   ]
  },
  {
   "cell_type": "code",
   "execution_count": 11,
   "metadata": {},
   "outputs": [],
   "source": [
    "import pandas as pd\n",
    "import numpy as np\n",
    "import seaborn as sns\n",
    "import matplotlib.pyplot as plt\n"
   ]
  },
  {
   "cell_type": "code",
   "execution_count": null,
   "metadata": {},
   "outputs": [],
   "source": [
    "import pandas as pd\n",
    "\n",
    "# Ruta del archivo\n",
    "ruta = r\"C:\\Users\\marta\\Desktop\\mibootcamp\\ETL_IBIShotels\\data\\reservas_hoteles.parquet\"\n",
    "\n",
    "# Leer el archivo Parquet con pandas\n",
    "df_raw= pd.read_parquet(ruta, engine=\"pyarrow\")  # También puedes probar engine=\"fastparquet\"\n",
    "\n",
    "df_raw.head()"
   ]
  },
  {
   "cell_type": "code",
   "execution_count": null,
   "metadata": {},
   "outputs": [],
   "source": [
    "df = df_raw.copy()\n",
    "df.head()"
   ]
  },
  {
   "cell_type": "code",
   "execution_count": null,
   "metadata": {},
   "outputs": [],
   "source": [
    "df = df_raw.copy()"
   ]
  },
  {
   "cell_type": "code",
   "execution_count": 27,
   "metadata": {},
   "outputs": [
    {
     "name": "stdout",
     "output_type": "stream",
     "text": [
      "<class 'pandas.core.frame.DataFrame'>\n",
      "RangeIndex: 15098 entries, 0 to 15097\n",
      "Data columns (total 14 columns):\n",
      " #   Column           Non-Null Count  Dtype  \n",
      "---  ------           --------------  -----  \n",
      " 0   id_reserva       15098 non-null  object \n",
      " 1   id_cliente       15098 non-null  object \n",
      " 2   nombre           15098 non-null  object \n",
      " 3   apellido         15098 non-null  object \n",
      " 4   mail             15098 non-null  object \n",
      " 5   competencia      15098 non-null  bool   \n",
      " 6   fecha_reserva    15098 non-null  object \n",
      " 7   inicio_estancia  15023 non-null  object \n",
      " 8   final_estancia   15023 non-null  object \n",
      " 9   id_hotel         15098 non-null  int64  \n",
      " 10  precio_noche     9874 non-null   float64\n",
      " 11  nombre_hotel     15098 non-null  object \n",
      " 12  estrellas        9926 non-null   float64\n",
      " 13  ciudad           15098 non-null  object \n",
      "dtypes: bool(1), float64(2), int64(1), object(10)\n",
      "memory usage: 1.5+ MB\n"
     ]
    }
   ],
   "source": [
    "df.info()"
   ]
  },
  {
   "cell_type": "markdown",
   "metadata": {},
   "source": [
    "- transformación de co.fecha_reserva, incio_estancia, final_etancia\n",
    "- no hay nulos\n",
    "- analizar duplicados\n",
    "- la col precio_noche tiene menos registros, al igual que estrellas y otras col\n",
    "- asegurarse del tipo de dato es el correcto"
   ]
  },
  {
   "cell_type": "code",
   "execution_count": null,
   "metadata": {},
   "outputs": [],
   "source": []
  }
 ],
 "metadata": {
  "kernelspec": {
   "display_name": "prueba2",
   "language": "python",
   "name": "python3"
  },
  "language_info": {
   "codemirror_mode": {
    "name": "ipython",
    "version": 3
   },
   "file_extension": ".py",
   "mimetype": "text/x-python",
   "name": "python",
   "nbconvert_exporter": "python",
   "pygments_lexer": "ipython3",
   "version": "3.10.14"
  }
 },
 "nbformat": 4,
 "nbformat_minor": 2
}
