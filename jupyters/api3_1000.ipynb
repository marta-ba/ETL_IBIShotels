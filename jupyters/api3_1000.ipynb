{
 "cells": [
  {
   "cell_type": "code",
   "execution_count": 1,
   "metadata": {},
   "outputs": [],
   "source": [
    "import pandas as pd\n",
    "import numpy as np\n",
    "import requests\n",
    "from datetime import datetime"
   ]
  },
  {
   "cell_type": "code",
   "execution_count": 2,
   "metadata": {},
   "outputs": [],
   "source": [
    "# Definir el rango de fechas que te interesa\n",
    "fecha_inicio = \"2025-03-01\"\n",
    "fecha_fin = \"2025-03-02\"\n",
    "\n",
    "\n",
    "url = f\"https://datos.madrid.es/egob/catalogo/300107-0-agenda-actividades-eventos.json?dtstart={fecha_inicio}&dtend={fecha_fin}\"\n",
    "\n",
    "def obtener_eventos():\n",
    "    headers = {\"Accept\": \"application/json\"}  # Encabezados para la solicitud\n",
    "    response = requests.get(url, headers=headers)  # Petición GET a la API\n",
    "    \n",
    "    if response.status_code == 200:\n",
    "        datos = response.json()\n",
    "        return datos\n",
    "    else:\n",
    "        print(f\"Error: {response.status_code}\")\n",
    "        print(response.text)\n",
    "        return None"
   ]
  },
  {
   "cell_type": "code",
   "execution_count": 4,
   "metadata": {},
   "outputs": [],
   "source": [
    "api_data = obtener_eventos()\n",
    "data = api_data[\"@graph\"] # Extraer los datos de la respuesta"
   ]
  },
  {
   "cell_type": "code",
   "execution_count": 5,
   "metadata": {},
   "outputs": [],
   "source": [
    "eventos = []\n",
    "    \n",
    "# Iterar sobre la lista de eventos dentro de \"@graph\"\n",
    "for evento in data:\n",
    "        id_evento = evento.get(\"id\", None)\n",
    "        nombre_evento = evento.get(\"title\", \"\")\n",
    "        url_evento = evento.get(\"link\", \"\")\n",
    "        horario = evento.get(\"time\", \"\")\n",
    "        organizacion = evento.get(\"organization\", {}).get(\"organization-name\", \"\")\n",
    "\n",
    "        # Obtener dirección y código postal\n",
    "        direccion_info = evento.get(\"address\", {}).get(\"area\", {})\n",
    "        codigo_postal = direccion_info.get(\"postal-code\", None)\n",
    "        direccion = direccion_info.get(\"street-address\", \"\")\n",
    "\n",
    "        eventos.append((id_evento, nombre_evento, url_evento, codigo_postal, direccion, horario, fecha_inicio, fecha_fin, organizacion))\n",
    "\n",
    "df_api= pd.DataFrame(eventos, columns=[\"id_evento\", \"nombre_evento\", \"url_evento\", \"codigo_postal\", \"direccion\", \"horario\", \"fecha_inicio\", \"fecha_fin\", \"organizacion\"])"
   ]
  },
  {
   "cell_type": "code",
   "execution_count": 6,
   "metadata": {},
   "outputs": [
    {
     "data": {
      "text/plain": [
       "(1249, 9)"
      ]
     },
     "execution_count": 6,
     "metadata": {},
     "output_type": "execute_result"
    }
   ],
   "source": [
    "df_api.shape"
   ]
  },
  {
   "cell_type": "code",
   "execution_count": null,
   "metadata": {},
   "outputs": [],
   "source": []
  }
 ],
 "metadata": {
  "kernelspec": {
   "display_name": "prueba2",
   "language": "python",
   "name": "python3"
  },
  "language_info": {
   "codemirror_mode": {
    "name": "ipython",
    "version": 3
   },
   "file_extension": ".py",
   "mimetype": "text/x-python",
   "name": "python",
   "nbconvert_exporter": "python",
   "pygments_lexer": "ipython3",
   "version": "3.10.14"
  }
 },
 "nbformat": 4,
 "nbformat_minor": 2
}
