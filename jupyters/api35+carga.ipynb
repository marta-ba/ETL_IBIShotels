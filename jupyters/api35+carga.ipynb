{
 "cells": [
  {
   "cell_type": "code",
   "execution_count": 1,
   "metadata": {},
   "outputs": [],
   "source": [
    "import pandas as pd\n",
    "import numpy as np\n",
    "import requests\n",
    "from datetime import datetime"
   ]
  },
  {
   "cell_type": "markdown",
   "metadata": {},
   "source": [
    "HAGO ENDPINT CON FECHAS + FILTRADO"
   ]
  },
  {
   "cell_type": "code",
   "execution_count": 2,
   "metadata": {},
   "outputs": [],
   "source": [
    "# Definir el rango de fechas que te interesa\n",
    "fecha_inicio = \"2025-03-01\"\n",
    "fecha_fin = \"2025-03-02\"\n",
    "url = f\"https://datos.madrid.es/egob/catalogo/300107-0-agenda-actividades-eventos.json?dtstart={fecha_inicio}&dtend={fecha_fin}\"\n"
   ]
  },
  {
   "cell_type": "code",
   "execution_count": 3,
   "metadata": {},
   "outputs": [
    {
     "name": "stdout",
     "output_type": "stream",
     "text": [
      "[{'@id': 'https://datos.madrid.es/egob/catalogo/tipo/evento/12682299-asalto-lectura-tres-cerditos-mas.json', '@type': 'https://datos.madrid.es/egob/kos/actividades/RecitalesPresentacionesActosLiterarios', 'id': '12682299', 'title': 'Asalto a la lectura. Tres cerditos y más', 'description': '', 'free': 1, 'price': '', 'dtstart': '2025-03-01 11:00:00.0', 'dtend': '2025-03-01 23:59:00.0', 'time': '11:00', 'excluded-days': '', 'audience': 'Niños,Familias', 'uid': '12682299', 'link': 'http://www.madrid.es/sites/v/index.jsp?vgnextchannel=ca9671ee4a9eb410VgnVCM100000171f5a0aRCRD&vgnextoid=6aec3e3332fe4910VgnVCM1000001d4a900aRCRD', 'event-location': 'Centro Cultural Clara del Rey - Museo ABC (Centro)', 'references': {'@id': 'http://www.madrid.es/sites/v/index.jsp?vgnextchannel=ca9671ee4a9eb410VgnVCM100000171f5a0aRCRD&vgnextoid=1ad0d88f2de54910VgnVCM1000001d4a900aRCRD'}, 'relation': {'@id': 'https://datos.madrid.es/egob/catalogo/tipo/entidadesyorganismos/11876732-centro-cultural-clara-rey-museo-abc-centro-.json'}, 'address': {'district': {'@id': 'https://datos.madrid.es/egob/kos/Provincia/Madrid/Municipio/Madrid/Distrito/Centro'}, 'area': {'@id': 'https://datos.madrid.es/egob/kos/Provincia/Madrid/Municipio/Madrid/Distrito/Centro/Barrio/Universidad', 'locality': 'MADRID', 'postal-code': '28015', 'street-address': 'CALLE AMANIEL 29'}}, 'location': {'latitude': 40.42741340671151, 'longitude': -3.7095381101739444}, 'organization': {'organization-name': 'Centro Cultural Clara del Rey - Museo ABC (Centro)', 'accesibility': '1'}}, {'@id': 'https://datos.madrid.es/egob/catalogo/tipo/evento/12691299-atlantiques-dahomey.json', '@type': 'https://datos.madrid.es/egob/kos/actividades/ProgramacionDestacadaAgendaCultura', 'id': '12691299', 'title': 'Atlantiques + Dahomey', 'description': \"Programa:   Atlantiques  (Francia, 2009, 20') Sentados alrededor del fuego al caer la noche, el joven Serigne le cuenta a sus amigos su odisea clandestina: 'Perdimos a dos durante la travesía. Las dos bajas no estaban enfermas. Solo el miedo pudo con ellos. Cuando ves venir hacia ti olas tan altas como una casa, te quedas aterrorizado... ¡No puedes imaginar lo que se siente! Piensas que tarde o temprano una de esas olas acabará arrasándote. Es un infierno [...]'. Unos meses más tarde, Serigne desaparece y la película tiene que continuar su vida sin él. el tema sigue siendo el mismo: la travesía marítima. Encontramos a otros jóvenes refugiados que nos cuentan sus aventuras. Aunque ya no esté presente, el joven ha vuelto para atormentar la película, dejando una huella y dejando sitio a otras historias, a otros personajes.   Dahomey  (Senegal-Francia-Benín, 2024, 68') Es noviembre de 2021 y 26 tesoros reales del Reino de Dahomey están a punto de abandonar París para regresar a su país de origen, la actual República de Benín. Junto con otros miles, estos objetos fueron saqueados por las tropas coloniales francesas en 1892. Pero, ¿qué actitud adoptar ante la vuelta a casa de estas reliquias en un país que tuvo que salir adelante con su ausencia? El debate está abierto entre los estudiantes de la Universidad de Abomey-Calavi. Ganadora del Oso de Oro en Berlinale 2024.  &amp;gt; Presentación a cargo de Elisa McCausland y Diego Salgado, coordinadores del volumen colectivo Clásicas, modernas y extrañas. Historias feministas del cine (Donostia Kultura, 2025)\", 'free': 0, 'price': '', 'dtstart': '2025-03-01 19:30:00.0', 'dtend': '2025-03-01 23:59:00.0', 'time': '19:30', 'excluded-days': '', 'uid': '12691299', 'link': 'http://www.madrid.es/sites/v/index.jsp?vgnextchannel=ca9671ee4a9eb410VgnVCM100000171f5a0aRCRD&vgnextoid=3b9464926f415910VgnVCM1000001d4a900aRCRD', 'event-location': 'Cineteca Madrid', 'references': {'@id': ''}, 'relation': {'@id': 'https://datos.madrid.es/egob/catalogo/tipo/entidadesyorganismos/6963310-cineteca-madrid.json'}, 'address': {'district': {'@id': 'https://datos.madrid.es/egob/kos/Provincia/Madrid/Municipio/Madrid/Distrito/Arganzuela'}, 'area': {'@id': 'https://datos.madrid.es/egob/kos/Provincia/Madrid/Municipio/Madrid/Distrito/Arganzuela/Barrio/Chopera', 'locality': 'MADRID', 'postal-code': '28045', 'street-address': 'PLAZA LEGAZPI 8'}}, 'location': {'latitude': 40.39130985242181, 'longitude': -3.6958028442054074}, 'organization': {'organization-name': 'Cineteca Madrid', 'accesibility': '1'}}, {'@id': 'https://datos.madrid.es/egob/catalogo/tipo/evento/12682147-baile-carnaval-concierto-origen.json', '@type': 'https://datos.madrid.es/egob/kos/actividades/ActividadesCalleArteUrbano', 'id': '12682147', 'title': 'Baile de Carnaval. Concierto de Origen', 'description': 'Lugar: plaza de Puerto Rubio (antigua plaza Vieja). Covers Rock español 80´', 'free': 1, 'price': '', 'dtstart': '2025-03-01 19:30:00.0', 'dtend': '2025-03-01 23:59:00.0', 'time': '19:30', 'excluded-days': '', 'uid': '12682147', 'link': 'http://www.madrid.es/sites/v/index.jsp?vgnextchannel=ca9671ee4a9eb410VgnVCM100000171f5a0aRCRD&vgnextoid=1551fcf4aade4910VgnVCM2000001f4a900aRCRD', 'event-location': '', 'references': {'@id': ''}}, {'@id': 'https://datos.madrid.es/egob/catalogo/tipo/evento/12682149-baile-carnaval-concierto-versioneta.json', '@type': 'https://datos.madrid.es/egob/kos/actividades/FiestasCarnavales', 'id': '12682149', 'title': 'Baile de Carnaval. Concierto de Versioneta', 'description': 'Lugar: plaza de Puerto Rubio (antigua plaza Vieja). Versiones Rock- Indie Rock.', 'free': 1, 'price': '', 'dtstart': '2025-03-01 21:15:00.0', 'dtend': '2025-03-01 23:59:00.0', 'time': '21:15', 'excluded-days': '', 'uid': '12682149', 'link': 'http://www.madrid.es/sites/v/index.jsp?vgnextchannel=ca9671ee4a9eb410VgnVCM100000171f5a0aRCRD&vgnextoid=ae02fcf4aade4910VgnVCM2000001f4a900aRCRD', 'event-location': '', 'references': {'@id': ''}}, {'@id': 'https://datos.madrid.es/egob/catalogo/tipo/evento/12697705-by-lucipun-muladar-creativo-.json', '@type': 'https://datos.madrid.es/egob/kos/actividades/Exposiciones', 'id': '12697705', 'title': \"By Lucipun ' Muladar creativo'\", 'description': 'Artista : Lucía López Puerta Lucía López Puerta es locutora y actriz de doblaje. Desde hace un par de años, y como terapia de relajación se introdujo en el mundo del collage empezando a crear imágenes con todo lo que caía en sus manos: revistas, fotografías, papel antiguo, pegatinas…', 'free': 1, 'price': '', 'dtstart': '2025-03-01 00:00:00.0', 'dtend': '2025-03-21 23:59:00.0', 'time': '', 'excluded-days': '', 'recurrence': {'days': 'MO,TU,WE,TH,FR,SA,SU', 'frequency': 'WEEKLY', 'interval': 1}, 'uid': '12697705', 'link': 'http://www.madrid.es/sites/v/index.jsp?vgnextchannel=ca9671ee4a9eb410VgnVCM100000171f5a0aRCRD&vgnextoid=32d3ef5066735910VgnVCM2000001f4a900aRCRD', 'event-location': 'Espacio Cultural Núñez de Balboa, 40 (Salamanca)', 'references': {'@id': 'http://www.madrid.es/sites/v/index.jsp?vgnextchannel=ca9671ee4a9eb410VgnVCM100000171f5a0aRCRD&vgnextoid=27bbf1a88e873810VgnVCM2000001f4a900aRCRD'}, 'relation': {'@id': 'https://datos.madrid.es/egob/catalogo/tipo/entidadesyorganismos/11575320-espacio-cultural-nunez-balboa-40-salamanca-.json'}, 'address': {'district': {'@id': 'https://datos.madrid.es/egob/kos/Provincia/Madrid/Municipio/Madrid/Distrito/Salamanca'}, 'area': {'@id': 'https://datos.madrid.es/egob/kos/Provincia/Madrid/Municipio/Madrid/Distrito/Salamanca/Barrio/Recoletos', 'locality': 'MADRID', 'postal-code': '28001', 'street-address': 'CALLE NUÑEZ DE BALBOA 40'}}, 'location': {'latitude': 40.426826159507435, 'longitude': -3.6825349481985135}, 'organization': {'organization-name': 'Espacio Cultural Núñez de Balboa, 40 (Salamanca)', 'accesibility': '1'}}, {'@id': 'https://datos.madrid.es/egob/catalogo/tipo/evento/12694234-carnaval-familia-espectaculo-familiar-carnaval-pista-circo.json', '@type': 'https://datos.madrid.es/egob/kos/actividades/FiestasCarnavales', 'id': '12694234', 'title': 'Carnaval en familia. Espectáculo familiar. Carnaval en la pista de circo', 'description': '12:30-13:30 horas', 'free': 1, 'price': '', 'dtstart': '2025-03-01 12:30:00.0', 'dtend': '2025-03-01 23:59:00.0', 'time': '12:30', 'excluded-days': '', 'audience': 'Niños', 'uid': '12694234', 'link': 'http://www.madrid.es/sites/v/index.jsp?vgnextchannel=ca9671ee4a9eb410VgnVCM100000171f5a0aRCRD&vgnextoid=2d22157fd8e15910VgnVCM1000001d4a900aRCRD', 'event-location': 'Centro Cultural - Centro Socio Cultural Villa de Barajas', 'references': {'@id': 'http://www.madrid.es/sites/v/index.jsp?vgnextchannel=ca9671ee4a9eb410VgnVCM100000171f5a0aRCRD&vgnextoid=6a6676ba794f4910VgnVCM1000001d4a900aRCRD'}, 'relation': {'@id': 'https://datos.madrid.es/egob/catalogo/tipo/entidadesyorganismos/1914-centro-cultural-centro-socio-cultural-villa-barajas.json'}, 'address': {'district': {'@id': 'https://datos.madrid.es/egob/kos/Provincia/Madrid/Municipio/Madrid/Distrito/Barajas'}, 'area': {'@id': 'https://datos.madrid.es/egob/kos/Provincia/Madrid/Municipio/Madrid/Distrito/Barajas/Barrio/CascoHBarajas', 'locality': 'MADRID', 'postal-code': '28042', 'street-address': 'CALLE BOTICA 7'}}, 'location': {'latitude': 40.47324881250678, 'longitude': -3.5784908616003723}, 'organization': {'organization-name': 'Centro Cultural - Centro Socio Cultural Villa de Barajas', 'accesibility': '1,5,6'}}, {'@id': 'https://datos.madrid.es/egob/catalogo/tipo/evento/12691752-carnaval-matadero.json', '@type': 'https://datos.madrid.es/egob/kos/actividades/CuentacuentosTiteresMarionetas', 'id': '12691752', 'title': 'Carnaval en Matadero', 'description': '', 'free': 1, 'price': '', 'dtstart': '2025-03-01 10:30:00.0', 'dtend': '2025-03-01 23:59:00.0', 'time': '10:30', 'excluded-days': '', 'audience': 'Niños,Familias', 'uid': '12691752', 'link': 'http://www.madrid.es/sites/v/index.jsp?vgnextchannel=ca9671ee4a9eb410VgnVCM100000171f5a0aRCRD&vgnextoid=38950d5a68815910VgnVCM2000001f4a900aRCRD', 'event-location': 'Matadero Madrid', 'references': {'@id': ''}, 'relation': {'@id': 'https://datos.madrid.es/egob/catalogo/tipo/entidadesyorganismos/4684678-matadero-madrid.json'}, 'address': {'district': {'@id': 'https://datos.madrid.es/egob/kos/Provincia/Madrid/Municipio/Madrid/Distrito/Arganzuela'}, 'area': {'@id': 'https://datos.madrid.es/egob/kos/Provincia/Madrid/Municipio/Madrid/Distrito/Arganzuela/Barrio/Chopera', 'locality': 'MADRID', 'postal-code': '28045', 'street-address': 'PLAZA LEGAZPI 8'}}, 'location': {'latitude': 40.39130985242181, 'longitude': -3.6958028442054074}, 'organization': {'organization-name': 'Matadero Madrid', 'accesibility': '1'}}, {'@id': 'https://datos.madrid.es/egob/catalogo/tipo/evento/12693374-chup-chup.json', '@type': 'https://datos.madrid.es/egob/kos/actividades/TeatroPerformance', 'id': '12693374', 'title': 'Chup-Chup', 'description': 'Cía. Arlequín.    Recomendado para todos los públicos.   Son dos chefs de cocina recién diplomados con la misma preparación de estudios que se presentan en un casting para un programa de Televisión dedicado al mundo de la cocina. Para ello, cada uno, deberán realizar el plato más sorprendente y espectacular. Demostrarán que somos iguales de competentes hombre y mujeres y que es mucho mejor compartir que competir.', 'free': 1, 'price': '', 'dtstart': '2025-03-01 19:00:00.0', 'dtend': '2025-03-01 23:59:00.0', 'time': '19:00', 'excluded-days': '', 'audience': 'Niños,Familias', 'uid': '12693374', 'link': 'http://www.madrid.es/sites/v/index.jsp?vgnextchannel=ca9671ee4a9eb410VgnVCM100000171f5a0aRCRD&vgnextoid=e4cc2c84ecd15910VgnVCM2000001f4a900aRCRD', 'event-location': 'Centro Cultural José Luis López Vázquez (San Blas - Canillejas)', 'references': {'@id': 'http://www.madrid.es/sites/v/index.jsp?vgnextchannel=ca9671ee4a9eb410VgnVCM100000171f5a0aRCRD&vgnextoid=445a70db6da41910VgnVCM2000001f4a900aRCRD'}, 'relation': {'@id': 'https://datos.madrid.es/egob/catalogo/tipo/entidadesyorganismos/6017747-centro-cultural-jose-luis-lopez-vazquez-san-blas-canillejas-.json'}, 'address': {'district': {'@id': 'https://datos.madrid.es/egob/kos/Provincia/Madrid/Municipio/Madrid/Distrito/SanBlas-Canillejas'}, 'area': {'@id': 'https://datos.madrid.es/egob/kos/Provincia/Madrid/Municipio/Madrid/Distrito/SanBlas-Canillejas/Barrio/Rejas', 'locality': 'MADRID', 'postal-code': '28022', 'street-address': 'CALLE FEBRERO 4'}}, 'location': {'latitude': 40.446826729909155, 'longitude': -3.5727382893523254}, 'organization': {'organization-name': 'Centro Cultural José Luis López Vázquez (San Blas - Canillejas)', 'accesibility': '2'}}, {'@id': 'https://datos.madrid.es/egob/catalogo/tipo/evento/12696685-ciclo-bebes-compania-camelcat-producciones-presenta-baby-cuentos-.json', '@type': 'https://datos.madrid.es/egob/kos/actividades/CuentacuentosTiteresMarionetas', 'id': '12696685', 'title': \"CICLO BEBÉS. La compañía CamelCat Producciones, presenta 'Baby cuentos'\", 'description': 'Sumérgete gracias a la música, las imágenes y las marionetas en la colección De la cuna a la Luna de Kalandraka y el Monstruo de Colores y disfruta viendo disfrutar a tus peques de esta fantasía llamada Baby Cuentos.  Edad recomendada: Desde los 6 meses hasta los 5 años.     Duración: 2 pases de 30 minutos.     Primer pase a las 11:00 horas.   Segundo pase a las 12:00 horas.', 'free': 1, 'price': '', 'dtstart': '2025-03-01 00:00:00.0', 'dtend': '2025-03-01 23:59:00.0', 'time': '', 'excluded-days': '', 'audience': 'Niños,Familias', 'uid': '12696685', 'link': 'http://www.madrid.es/sites/v/index.jsp?vgnextchannel=ca9671ee4a9eb410VgnVCM100000171f5a0aRCRD&vgnextoid=5e1bb8d9a2825910VgnVCM1000001d4a900aRCRD', 'event-location': 'Centro Cultural Príncipe de Asturias (Ciudad Lineal)', 'references': {'@id': 'http://www.madrid.es/sites/v/index.jsp?vgnextchannel=ca9671ee4a9eb410VgnVCM100000171f5a0aRCRD&vgnextoid=6a29ef619aca2910VgnVCM2000001f4a900aRCRD'}, 'relation': {'@id': 'https://datos.madrid.es/egob/catalogo/tipo/entidadesyorganismos/1952-centro-cultural-principe-asturias-ciudad-lineal-.json'}, 'address': {'district': {'@id': 'https://datos.madrid.es/egob/kos/Provincia/Madrid/Municipio/Madrid/Distrito/CiudadLineal'}, 'area': {'@id': 'https://datos.madrid.es/egob/kos/Provincia/Madrid/Municipio/Madrid/Distrito/CiudadLineal/Barrio/PuebloNuevo', 'locality': 'MADRID', 'postal-code': '28037', 'street-address': 'CALLE HERMANOS GARCIA NOBLEJAS 14'}}, 'location': {'latitude': 40.43644651057092, 'longitude': -3.6372924261150033}, 'organization': {'organization-name': 'Centro Cultural Príncipe de Asturias (Ciudad Lineal)', 'accesibility': '1,5,6'}}, {'@id': 'https://datos.madrid.es/egob/catalogo/tipo/evento/12697798-clara-torres-morenilla.json', '@type': 'https://datos.madrid.es/egob/kos/actividades/Exposiciones', 'id': '12697798', 'title': 'Clara Torres Morenilla', 'description': 'Claridad, esencialidad, luz interior y sobre todo comunicabilidad en aquello más profundo y doloroso. Clara Torres es una portentosa y desbordante pintora con una técnica del acrílico bien dimensionada en un dibujo ágil, sin ambigüedades, confundido con el propio color. Gratuito -Horario el del centro cultural', 'free': 1, 'price': '', 'dtstart': '2025-03-01 00:00:00.0', 'dtend': '2025-03-15 23:59:00.0', 'time': '', 'excluded-days': '', 'recurrence': {'days': 'MO,TU,WE,TH,FR,SA,SU', 'frequency': 'WEEKLY', 'interval': 1}, 'uid': '12697798', 'link': 'http://www.madrid.es/sites/v/index.jsp?vgnextchannel=ca9671ee4a9eb410VgnVCM100000171f5a0aRCRD&vgnextoid=d25a6e29da735910VgnVCM2000001f4a900aRCRD', 'event-location': 'Centro Cultural Quinta del Berro - Rafael Altamira (Salamanca)', 'references': {'@id': 'http://www.madrid.es/sites/v/index.jsp?vgnextchannel=ca9671ee4a9eb410VgnVCM100000171f5a0aRCRD&vgnextoid=bf80615955c3a810VgnVCM2000001f4a900aRCRD'}, 'relation': {'@id': 'https://datos.madrid.es/egob/catalogo/tipo/entidadesyorganismos/114978-centro-cultural-quinta-berro-rafael-altamira-salamanca-.json'}, 'address': {'district': {'@id': 'https://datos.madrid.es/egob/kos/Provincia/Madrid/Municipio/Madrid/Distrito/Salamanca'}, 'area': {'@id': 'https://datos.madrid.es/egob/kos/Provincia/Madrid/Municipio/Madrid/Distrito/Salamanca/Barrio/FuenteBerro', 'locality': 'MADRID', 'postal-code': '28028', 'street-address': \"CALLE ENRIQUE D'ALMONTE 1\"}}, 'location': {'latitude': 40.42206923419431, 'longitude': -3.6629608041639368}, 'organization': {'organization-name': 'Centro Cultural Quinta del Berro - Rafael Altamira (Salamanca)', 'accesibility': '1,5'}}, {'@id': 'https://datos.madrid.es/egob/catalogo/tipo/evento/12695974-concurso-disfraces-baile-orquesta.json', '@type': 'https://datos.madrid.es/egob/kos/actividades/DanzaBaile', 'id': '12695974', 'title': 'Concurso de Disfraces y Baile con Orquesta', 'description': 'Actividades abiertas a todos los públicos:    21.30 a 23:30 h: Concurso de disfraces con entrega de placas y Baile con  la Orquesta `Noches de Neón´.', 'free': 1, 'price': '', 'dtstart': '2025-03-01 21:30:00.0', 'dtend': '2025-03-01 23:59:00.0', 'time': '21:30', 'excluded-days': '', 'uid': '12695974', 'link': 'http://www.madrid.es/sites/v/index.jsp?vgnextchannel=ca9671ee4a9eb410VgnVCM100000171f5a0aRCRD&vgnextoid=3af2292bc8325910VgnVCM2000001f4a900aRCRD', 'event-location': 'Centro Municipal de Mayores Nuestra Señora de los Ángeles', 'references': {'@id': 'http://www.madrid.es/sites/v/index.jsp?vgnextchannel=ca9671ee4a9eb410VgnVCM100000171f5a0aRCRD&vgnextoid=1ead399dafbd4910VgnVCM1000001d4a900aRCRD'}, 'relation': {'@id': 'https://datos.madrid.es/egob/catalogo/tipo/entidadesyorganismos/64194-centro-municipal-mayores-nuestra-senora-angeles.json'}, 'address': {'district': {'@id': 'https://datos.madrid.es/egob/kos/Provincia/Madrid/Municipio/Madrid/Distrito/Villaverde'}, 'area': {'@id': 'https://datos.madrid.es/egob/kos/Provincia/Madrid/Municipio/Madrid/Distrito/Villaverde/Barrio/LosAngeles', 'locality': 'MADRID', 'postal-code': '28041', 'street-address': 'CALLE ARAMA 1'}}, 'location': {'latitude': 40.351866690488684, 'longitude': -3.6974029071664085}, 'organization': {'organization-name': 'Centro Municipal de Mayores Nuestra Señora de los Ángeles', 'accesibility': '1'}}, {'@id': 'https://datos.madrid.es/egob/catalogo/tipo/evento/12686562-concurso-disfraces-baile-orquesta.json', '@type': 'https://datos.madrid.es/egob/kos/actividades/DanzaBaile', 'id': '12686562', 'title': 'Concurso de Disfraces y Baile con Orquesta', 'description': 'Actividades abiertas a todos los públicos :     21.30 a 23:30 h: Concurso de disfraces con entrega de placas y Baile con la Orquesta `Popseidos 80´.', 'free': 1, 'price': '', 'dtstart': '2025-03-01 21:30:00.0', 'dtend': '2025-03-01 23:59:00.0', 'time': '21:30', 'excluded-days': '', 'uid': '12686562', 'link': 'http://www.madrid.es/sites/v/index.jsp?vgnextchannel=ca9671ee4a9eb410VgnVCM100000171f5a0aRCRD&vgnextoid=41f2ce6eb6ef4910VgnVCM1000001d4a900aRCRD', 'event-location': 'Centro Municipal de Mayores La Platanera', 'references': {'@id': 'http://www.madrid.es/sites/v/index.jsp?vgnextchannel=ca9671ee4a9eb410VgnVCM100000171f5a0aRCRD&vgnextoid=1ead399dafbd4910VgnVCM1000001d4a900aRCRD'}, 'relation': {'@id': 'https://datos.madrid.es/egob/catalogo/tipo/entidadesyorganismos/112266-centro-municipal-mayores-platanera.json'}, 'address': {'district': {'@id': 'https://datos.madrid.es/egob/kos/Provincia/Madrid/Municipio/Madrid/Distrito/Villaverde'}, 'area': {'@id': 'https://datos.madrid.es/egob/kos/Provincia/Madrid/Municipio/Madrid/Distrito/Villaverde/Barrio/Butarque', 'locality': 'MADRID', 'postal-code': '28021', 'street-address': 'CALLE CONCEPCION DE LA OLIVA 1'}}, 'location': {'latitude': 40.35399165988997, 'longitude': -3.683323950756455}, 'organization': {'organization-name': 'Centro Municipal de Mayores La Platanera', 'accesibility': '1'}}, {'@id': 'https://datos.madrid.es/egob/catalogo/tipo/evento/12690609-cuatro-historias-alquiler.json', '@type': 'https://datos.madrid.es/egob/kos/actividades/TeatroPerformance', 'id': '12690609', 'title': 'Cuatro historias de alquiler', 'description': 'Cía.: Grupo de teatro del club Vive Iberia.    Recomendado para todos los públicos.   Representamos una versión libre y adaptada a nuestro Taller de Teatro de la obra CUATRO HISTORIAS DE ALQUILER de Barrillet y Gredy. Se trata de una comedia en cuatro cuadros que suceden en un mismo apartamento, en tiempos diferentes. En el primer cuadro conoceremos a una pareja que está a punto de divorciarse cuando todavía se quiere. En el segundo, veremos a hombre que pretende casarse con una chica más moderna que él y lo que sucede cuando conoce a su futura suegra. En el tercero, aprenderemos las lecciones sobre la vida, el amor y el empoderamiento que una mujer pintora de brocha gorda le da a la dueña de una casa. Y en el cuarto, estaremos con una pareja que se reencuentra después de algunos años y que guarda un terrible secreto', 'free': 1, 'price': '', 'dtstart': '2025-03-01 19:00:00.0', 'dtend': '2025-03-01 23:59:00.0', 'time': '19:00', 'excluded-days': '', 'audience': 'Familias', 'uid': '12690609', 'link': 'http://www.madrid.es/sites/v/index.jsp?vgnextchannel=ca9671ee4a9eb410VgnVCM100000171f5a0aRCRD&vgnextoid=3171a8c219315910VgnVCM2000001f4a900aRCRD', 'event-location': 'Centro Cultural Buero Vallejo (San Blas - Canillejas)', 'references': {'@id': 'http://www.madrid.es/sites/v/index.jsp?vgnextchannel=ca9671ee4a9eb410VgnVCM100000171f5a0aRCRD&vgnextoid=da1970db6da41910VgnVCM2000001f4a900aRCRD'}, 'relation': {'@id': 'https://datos.madrid.es/egob/catalogo/tipo/entidadesyorganismos/1943-centro-cultural-buero-vallejo-san-blas-canillejas-.json'}, 'address': {'district': {'@id': 'https://datos.madrid.es/egob/kos/Provincia/Madrid/Municipio/Madrid/Distrito/SanBlas-Canillejas'}, 'area': {'@id': 'https://datos.madrid.es/egob/kos/Provincia/Madrid/Municipio/Madrid/Distrito/SanBlas-Canillejas/Barrio/Canillejas', 'locality': 'MADRID', 'postal-code': '28022', 'street-address': 'CALLE BOLTAÑA 27'}}, 'location': {'latitude': 40.44477474902185, 'longitude': -3.6129105844633775}, 'organization': {'organization-name': 'Centro Cultural Buero Vallejo (San Blas - Canillejas)', 'accesibility': '1'}}, {'@id': 'https://datos.madrid.es/egob/catalogo/tipo/evento/12039151-casa-campo-madrid-rio-i.json', 'id': '12039151', 'title': 'De Casa de Campo a Madrid Río I', 'description': '¿Sabes lo que son los corredores verdes? ¿Y el papel que juegan dentro de la ciudad? Ruta en la que se abordará la importancia ambiental e histórica de los arroyos y estanques del Real Sitio y la conexión con el Parque con Madrid Río (tramo I:del Puente del Rey al Puente de Segovia) y la fascinante transformación del ecosistema después de su renaturalización.  Itinerario dirigido a usuarios/as a partir de 9 años.   Duración estimada: aproximadamente dos horas y media.', 'free': 1, 'price': '', 'dtstart': '2025-03-01 11:00:00.0', 'dtend': '2025-03-01 23:59:00.0', 'time': '11:00', 'excluded-days': '', 'uid': '12039151', 'link': 'http://www.madrid.es/sites/v/index.jsp?vgnextchannel=ca9671ee4a9eb410VgnVCM100000171f5a0aRCRD&vgnextoid=f213099c7c2d8810VgnVCM2000001f4a900aRCRD', 'event-location': 'Centro de Información y Educación Ambiental de Casa de Campo', 'references': {'@id': 'http://www.madrid.es/sites/v/index.jsp?vgnextchannel=ca9671ee4a9eb410VgnVCM100000171f5a0aRCRD&vgnextoid=38af832e34353810VgnVCM1000001d4a900aRCRD'}, 'relation': {'@id': 'https://datos.madrid.es/egob/catalogo/tipo/entidadesyorganismos/62197-centro-informacion-educacion-ambiental-casa-campo.json'}, 'address': {'district': {'@id': 'https://datos.madrid.es/egob/kos/Provincia/Madrid/Municipio/Madrid/Distrito/Moncloa-Aravaca'}, 'area': {'@id': 'https://datos.madrid.es/egob/kos/Provincia/Madrid/Municipio/Madrid/Distrito/Moncloa-Aravaca/Barrio/CasaCampo', 'locality': 'MADRID', 'postal-code': '28011', 'street-address': 'PARQUE CASA DE CAMPO (JUNTO AL EMBARCADERO DEL LAGO) '}}, 'location': {'latitude': 40.41789950036311, 'longitude': -3.7309390858931137}, 'organization': {'organization-name': 'Centro de Información y Educación Ambiental de Casa de Campo', 'accesibility': '1'}}, {'@id': 'https://datos.madrid.es/egob/catalogo/tipo/evento/12697300-mago-rafathor.json', 'id': '12697300', 'title': 'El mago Rafathor', 'description': '', 'free': 1, 'price': '', 'dtstart': '2025-03-01 12:00:00.0', 'dtend': '2025-03-01 23:59:00.0', 'time': '12:00', 'excluded-days': '', 'audience': 'Niños,Familias', 'uid': '12697300', 'link': 'http://www.madrid.es/sites/v/index.jsp?vgnextchannel=ca9671ee4a9eb410VgnVCM100000171f5a0aRCRD&vgnextoid=70444d742c535910VgnVCM2000001f4a900aRCRD', 'event-location': 'Centro Cultural Julio Cortázar (Moncloa - Aravaca)', 'references': {'@id': ''}, 'relation': {'@id': 'https://datos.madrid.es/egob/catalogo/tipo/entidadesyorganismos/1911-centro-cultural-julio-cortazar-moncloa-aravaca-.json'}, 'address': {'district': {'@id': 'https://datos.madrid.es/egob/kos/Provincia/Madrid/Municipio/Madrid/Distrito/Moncloa-Aravaca'}, 'area': {'@id': 'https://datos.madrid.es/egob/kos/Provincia/Madrid/Municipio/Madrid/Distrito/Moncloa-Aravaca/Barrio/Valdezarza', 'locality': 'MADRID', 'postal-code': '28035', 'street-address': 'CALLE ANTONIO MACHADO 20'}}, 'location': {'latitude': 40.46678417843686, 'longitude': -3.7195598670929315}, 'organization': {'organization-name': 'Centro Cultural Julio Cortázar (Moncloa - Aravaca)', 'accesibility': '1'}}, {'@id': 'https://datos.madrid.es/egob/catalogo/tipo/evento/11725143-retiro-traves-musica.json', 'id': '11725143', 'title': 'El Retiro a través de la música', 'description': 'El siglo XIX es un siglo definitivo en el asentamiento de nuevas fórmulas de ocio entre los madrileños. Desde su apertura al público general en 1868, los jardines del Buen Retiro han funcionado como contexto de desarrollo para nuevas formas de socializar donde la música ha jugado un papel protagonista. A lo largo de este recorrido revisaremos eventos musicales y protagonistas que con su impronta, han ayudado a perfilar la personalidad del parque a lo largo de los siglos. Edad recomendada: dirigido a público adulto.  Duración estimada: aproximadamente dos horas.', 'free': 1, 'price': '', 'dtstart': '2025-03-01 11:00:00.0', 'dtend': '2025-03-01 23:59:00.0', 'time': '11:00', 'excluded-days': '', 'uid': '11725143', 'link': 'http://www.madrid.es/sites/v/index.jsp?vgnextchannel=ca9671ee4a9eb410VgnVCM100000171f5a0aRCRD&vgnextoid=44d9c0b0864b1810VgnVCM2000001f4a900aRCRD', 'event-location': 'Centro de Información y Educación Ambiental de El Huerto de El Retiro', 'references': {'@id': 'http://www.madrid.es/sites/v/index.jsp?vgnextchannel=ca9671ee4a9eb410VgnVCM100000171f5a0aRCRD&vgnextoid=e7b01130a93b1810VgnVCM1000001d4a900aRCRD'}, 'relation': {'@id': 'https://datos.madrid.es/egob/catalogo/tipo/entidadesyorganismos/5463464-centro-informacion-educacion-ambiental-huerto-retiro.json'}, 'address': {'district': {'@id': 'https://datos.madrid.es/egob/kos/Provincia/Madrid/Municipio/Madrid/Distrito/Retiro'}, 'area': {'@id': 'https://datos.madrid.es/egob/kos/Provincia/Madrid/Municipio/Madrid/Distrito/Retiro/Barrio/LosJeronimos', 'locality': 'MADRID', 'postal-code': '28009', 'street-address': 'PASEO FERNAN NUÑEZ 2'}}, 'location': {'latitude': 40.40943503279114, 'longitude': -3.6861797800993257}, 'organization': {'organization-name': 'Centro de Información y Educación Ambiental de El Huerto de El Retiro', 'accesibility': '1'}}, {'@id': 'https://datos.madrid.es/egob/catalogo/tipo/evento/12694176-exposicion-pintura-paisajes-rincones-serradilla-llano.json', '@type': 'https://datos.madrid.es/egob/kos/actividades/Exposiciones', 'id': '12694176', 'title': 'Exposición de Pintura `Paisajes´ y `Rincones de Serradilla del Llano´', 'description': 'Exposición de pintura de Marta Hernández, Kirame.  Las obras principales son acuarelas de 13X15 cm de paisajes del pueblo de la pintora Serradilla del Llano.    Por otro lado, sigue con la exposición Paisajes, a plumilla, el principal y nuevo de esta sección es la acuarela del Palacio de Cristal.   Y para finalizar, incluye en la exposición algunas ilustraciones feministas para reivindicar la lucha del 8M, estan pintadas en un estilo más libre e imaginativo.', 'free': 1, 'price': '', 'dtstart': '2025-03-01 00:00:00.0', 'dtend': '2025-03-31 23:59:00.0', 'time': '', 'excluded-days': '', 'recurrence': {'days': 'MO,TU,WE,TH,FR,SA', 'frequency': 'WEEKLY', 'interval': 1}, 'uid': '12694176', 'link': 'http://www.madrid.es/sites/v/index.jsp?vgnextchannel=ca9671ee4a9eb410VgnVCM100000171f5a0aRCRD&vgnextoid=55bf157fd8e15910VgnVCM1000001d4a900aRCRD', 'event-location': 'Centro Sociocultural Marconi (Villaverde)', 'references': {'@id': 'http://www.madrid.es/sites/v/index.jsp?vgnextchannel=ca9671ee4a9eb410VgnVCM100000171f5a0aRCRD&vgnextoid=446ed15c0bfe4910VgnVCM2000001f4a900aRCRD'}, 'relation': {'@id': 'https://datos.madrid.es/egob/catalogo/tipo/entidadesyorganismos/170066-centro-sociocultural-marconi-villaverde-.json'}, 'address': {'district': {'@id': 'https://datos.madrid.es/egob/kos/Provincia/Madrid/Municipio/Madrid/Distrito/Villaverde'}, 'area': {'@id': 'https://datos.madrid.es/egob/kos/Provincia/Madrid/Municipio/Madrid/Distrito/Villaverde/Barrio/VillaverdeAltoCH', 'locality': 'MADRID', 'postal-code': '28021', 'street-address': 'ACCESO COLONIA MARCONI 4'}}, 'location': {'latitude': 40.3347558542528, 'longitude': -3.7008037217338274}, 'organization': {'organization-name': 'Centro Sociocultural Marconi (Villaverde)', 'accesibility': '1'}}, {'@id': 'https://datos.madrid.es/egob/catalogo/tipo/evento/12683865-fiesta-carnaval-barrio-aeropuerto.json', '@type': 'https://datos.madrid.es/egob/kos/actividades/FiestasCarnavales', 'id': '12683865', 'title': 'Fiesta de carnaval en el Barrio del Aeropuerto', 'description': 'Programa:     A las 18 horas:   Reparto de chocolate con churros  en el Centro de Mayores. ( Medina de Pomar, 25).    De 19 a 22 horas:  Fiesta de Carnaval  con Orquesta en el Centro Municipal de Mayores ( Medina de Pomar, 25).', 'free': 1, 'price': '', 'dtstart': '2025-03-01 18:00:00.0', 'dtend': '2025-03-01 23:59:00.0', 'time': '18:00', 'excluded-days': '', 'audience': 'Niños', 'uid': '12683865', 'link': 'http://www.madrid.es/sites/v/index.jsp?vgnextchannel=ca9671ee4a9eb410VgnVCM100000171f5a0aRCRD&vgnextoid=f398b96cdd4f4910VgnVCM1000001d4a900aRCRD', 'event-location': '', 'references': {'@id': ''}}, {'@id': 'https://datos.madrid.es/egob/catalogo/tipo/evento/12683859-fiesta-carnaval-barro-alameda-osuna.json', '@type': 'https://datos.madrid.es/egob/kos/actividades/FiestasCarnavales', 'id': '12683859', 'title': 'Fiesta de carnaval en el Barro de la Alameda de Osuna', 'description': 'Programa:    18:00-19:00 horas. Animación musical en la Plaza de Cristina Arce y Rocío Oña.18:30 horas: Reparto de chocolate con churros en Plaza Cristina Arce y Rocío Oña.', 'free': 1, 'price': '', 'dtstart': '2025-03-01 18:00:00.0', 'dtend': '2025-03-01 23:59:00.0', 'time': '18:00', 'excluded-days': '', 'audience': 'Niños', 'uid': '12683859', 'link': 'http://www.madrid.es/sites/v/index.jsp?vgnextchannel=ca9671ee4a9eb410VgnVCM100000171f5a0aRCRD&vgnextoid=d0f776ba794f4910VgnVCM1000001d4a900aRCRD', 'event-location': '', 'references': {'@id': 'http://www.madrid.es/sites/v/index.jsp?vgnextchannel=ca9671ee4a9eb410VgnVCM100000171f5a0aRCRD&vgnextoid=6a6676ba794f4910VgnVCM1000001d4a900aRCRD'}}, {'@id': 'https://datos.madrid.es/egob/catalogo/tipo/evento/12233828-itinerario-ornitologico-parque-emperatriz-maria-austria.json', '@type': 'https://datos.madrid.es/egob/kos/actividades/ExcursionesItinerariosVisitas', 'id': '12233828', 'title': 'Itinerario Ornitológico Parque Emperatriz María de Austria', 'description': 'Este parque cuenta con extensas praderas, diverso y abundante arbolado y macizos arbustivos, así como con una zona de pinar y otra de humedal, lo que se traduce en una abundante biodiversidad que podremos contemplar durante todo nuestro recorrido. ¡Acompáñanos!  Recomendable llevar  prismáticos .  Actividad familiar a partir de 7 años acompañados siempre de un adulto responsable.  Duración estimada: de 9:00 a 12:00 horas.', 'free': 1, 'price': '', 'dtstart': '2025-03-01 09:00:00.0', 'dtend': '2025-03-01 23:59:00.0', 'time': '09:00', 'excluded-days': '', 'uid': '12233828', 'link': 'http://www.madrid.es/sites/v/index.jsp?vgnextchannel=ca9671ee4a9eb410VgnVCM100000171f5a0aRCRD&vgnextoid=af9fc2fff9aac810VgnVCM1000001d4a900aRCRD', 'event-location': '', 'references': {'@id': 'http://www.madrid.es/sites/v/index.jsp?vgnextchannel=ca9671ee4a9eb410VgnVCM100000171f5a0aRCRD&vgnextoid=b6c8c2fff9aac810VgnVCM1000001d4a900aRCRD'}}, {'@id': 'https://datos.madrid.es/egob/catalogo/tipo/evento/12698465-iv-festival-carnaval-carabanchel.json', '@type': 'https://datos.madrid.es/egob/kos/actividades/FiestasCarnavales', 'id': '12698465', 'title': 'IV Festival de carnaval Carabanchel', 'description': \"11:00 h Animación con la charanga 'ASAMBLEA DE MAJARAS'. Juegos tradicionales y deportivos (puntería, deporte creativo, circuito de obstáculos…). Taller de pintacaras Atrévete a disfrazarte e inmortaliza el momento. 11:45 a 12:45 h Escuela de baile 13:00 a 14:00 h Espectáculo familiar: 'RECORRIENDO EL CANTAJUEGOS', con Ariana Duro y Raquel Pérez. Espectáculo interactivo familiar que combina la música y el teatro.  ¡¡No te lo pierdas!!\", 'free': 1, 'price': '', 'dtstart': '2025-03-01 11:00:00.0', 'dtend': '2025-03-01 23:59:00.0', 'time': '11:00', 'excluded-days': '', 'audience': 'Niños', 'uid': '12698465', 'link': 'http://www.madrid.es/sites/v/index.jsp?vgnextchannel=ca9671ee4a9eb410VgnVCM100000171f5a0aRCRD&vgnextoid=2f2d6cac46835910VgnVCM2000001f4a900aRCRD', 'event-location': 'Parque de Salvador Allende', 'references': {'@id': 'http://www.madrid.es/sites/v/index.jsp?vgnextchannel=ca9671ee4a9eb410VgnVCM100000171f5a0aRCRD&vgnextoid=7282c1bd15603910VgnVCM2000001f4a900aRCRD'}, 'relation': {'@id': 'https://datos.madrid.es/egob/catalogo/tipo/entidadesyorganismos/5989182-parque-salvador-allende.json'}, 'address': {'district': {'@id': 'https://datos.madrid.es/egob/kos/Provincia/Madrid/Municipio/Madrid/Distrito/Carabanchel'}, 'area': {'@id': 'https://datos.madrid.es/egob/kos/Provincia/Madrid/Municipio/Madrid/Distrito/Carabanchel/Barrio/Buenavista', 'locality': 'MADRID', 'postal-code': '28054', 'street-address': 'CALLE SALVADOR ALLENDE 3'}}, 'location': {'latitude': 40.364341448699825, 'longitude': -3.757402071835875}, 'organization': {'organization-name': 'Parque de Salvador Allende', 'accesibility': '2'}}, {'@id': 'https://datos.madrid.es/egob/catalogo/tipo/evento/12697836-jornadas-sensibilizacion-informacion-procesos-participativos-chamartin-.json', 'id': '12697836', 'title': 'Jornadas de sensibilización e información sobre los procesos participativos en Chamartín.', 'description': 'Lugar: Centro Cultural Nicolas Salmerón.', 'free': 1, 'price': '', 'dtstart': '2025-03-01 12:00:00.0', 'dtend': '2025-03-01 23:59:00.0', 'time': '12:00', 'excluded-days': '', 'uid': '12697836', 'link': 'http://www.madrid.es/sites/v/index.jsp?vgnextchannel=ca9671ee4a9eb410VgnVCM100000171f5a0aRCRD&vgnextoid=9edb6e29da735910VgnVCM2000001f4a900aRCRD', 'event-location': '', 'references': {'@id': ''}}, {'@id': 'https://datos.madrid.es/egob/catalogo/tipo/evento/12693346-julieta-no-mucho.json', '@type': 'https://datos.madrid.es/egob/kos/actividades/TeatroPerformance', 'id': '12693346', 'title': 'Julieta, pero no mucho', 'description': 'Moral Produccions.    Edad recomendada a partir de 12 años.   Guillermo, un fracasado dramaturgo de obras clásicas, recibe el encargo de adaptar la obra de Romeo y Julieta para un público del siglo XXI. Ante su dificultad para escribir los versos con un lenguaje más moderno, invoca a una Julieta más contemporánea. Tanto la imagina, que su personaje se encarna en una joven actual que aparece mágicamente en el escenario como La Juliet. Tras resolver las dificultades para entenderse, ella le ayudará a traducir los versos originales a un lenguaje millennial para poder terminar su obra. Guillermo le enseñará la versión de Shakespeare a la Juliet.', 'free': 1, 'price': '', 'dtstart': '2025-03-01 19:00:00.0', 'dtend': '2025-03-01 23:59:00.0', 'time': '19:00', 'excluded-days': '', 'audience': 'Familias', 'uid': '12693346', 'link': 'http://www.madrid.es/sites/v/index.jsp?vgnextchannel=ca9671ee4a9eb410VgnVCM100000171f5a0aRCRD&vgnextoid=f3ba2c84ecd15910VgnVCM2000001f4a900aRCRD', 'event-location': 'Centro Cultural Ciudad Pegaso (San Blas - Canillejas)', 'references': {'@id': 'http://www.madrid.es/sites/v/index.jsp?vgnextchannel=ca9671ee4a9eb410VgnVCM100000171f5a0aRCRD&vgnextoid=f75970db6da41910VgnVCM2000001f4a900aRCRD'}, 'relation': {'@id': 'https://datos.madrid.es/egob/catalogo/tipo/entidadesyorganismos/4551096-centro-cultural-ciudad-pegaso-san-blas-canillejas-.json'}, 'address': {'district': {'@id': 'https://datos.madrid.es/egob/kos/Provincia/Madrid/Municipio/Madrid/Distrito/SanBlas-Canillejas'}, 'area': {'@id': 'https://datos.madrid.es/egob/kos/Provincia/Madrid/Municipio/Madrid/Distrito/SanBlas-Canillejas/Barrio/Rejas', 'locality': 'MADRID', 'postal-code': '28022', 'street-address': 'AVENIDA SEPTIMA 11'}}, 'location': {'latitude': 40.44844757572015, 'longitude': -3.598099871155595}, 'organization': {'organization-name': 'Centro Cultural Ciudad Pegaso (San Blas - Canillejas)', 'accesibility': '1'}}, {'@id': 'https://datos.madrid.es/egob/catalogo/tipo/evento/12697883-le-kiosque.json', '@type': 'https://datos.madrid.es/egob/kos/actividades/ProgramacionDestacadaAgendaCultura', 'id': '12697883', 'title': 'Le kiosque', 'description': 'Le Kiosque es un diario íntimo filmado por Alexandra, una joven artista plástica que ha venido a ayudar a su madre, vendedora de periódicos en un elegante barrio de París. Entre el aprendizaje de un nuevo oficio hasta la complicidad que entabla con los nuevos clientes, la cineasta juega a las vendedoras, como si se tratara de un viejo sueño infantil. Tras la caja registradora, lugar que ocupan desde hace un siglo los miembros de su familia, Alexandra se divierte grabando con su teléfono la marcha del mundo. Pero la prensa escrita está en crisis y este pequeño juego va a resultar más complicado de lo previsto…', 'free': 0, 'price': '', 'dtstart': '2025-03-01 19:00:00.0', 'dtend': '2025-03-01 23:59:00.0', 'time': '19:00', 'excluded-days': '', 'uid': '12697883', 'link': 'http://www.madrid.es/sites/v/index.jsp?vgnextchannel=ca9671ee4a9eb410VgnVCM100000171f5a0aRCRD&vgnextoid=4ac9d411dc735910VgnVCM1000001d4a900aRCRD', 'event-location': 'Cineteca Madrid', 'references': {'@id': ''}, 'relation': {'@id': 'https://datos.madrid.es/egob/catalogo/tipo/entidadesyorganismos/6963310-cineteca-madrid.json'}, 'address': {'district': {'@id': 'https://datos.madrid.es/egob/kos/Provincia/Madrid/Municipio/Madrid/Distrito/Arganzuela'}, 'area': {'@id': 'https://datos.madrid.es/egob/kos/Provincia/Madrid/Municipio/Madrid/Distrito/Arganzuela/Barrio/Chopera', 'locality': 'MADRID', 'postal-code': '28045', 'street-address': 'PLAZA LEGAZPI 8'}}, 'location': {'latitude': 40.39130985242181, 'longitude': -3.6958028442054074}, 'organization': {'organization-name': 'Cineteca Madrid', 'accesibility': '1'}}, {'@id': 'https://datos.madrid.es/egob/catalogo/tipo/evento/12234105-secretos-capricho-publico-familiar.json', 'id': '12234105', 'title': 'Los Secretos del Capricho: público familiar', 'description': 'Itinerario guiado por el espacio verde madrileño de la mano de un educador ambiental. Identificaremos los caprichos de la Duquesa, así como algunas de las especies vegetales con conforman el espacio. Actividad dirigida a público familiar.  Duración estimada: de 10:00 a 13:00 horas.', 'free': 1, 'price': '', 'dtstart': '2025-03-01 10:30:00.0', 'dtend': '2025-03-01 23:59:00.0', 'time': '10:30', 'excluded-days': '', 'uid': '12234105', 'link': 'http://www.madrid.es/sites/v/index.jsp?vgnextchannel=ca9671ee4a9eb410VgnVCM100000171f5a0aRCRD&vgnextoid=4bca9ad065bac810VgnVCM1000001d4a900aRCRD', 'event-location': '', 'references': {'@id': 'http://www.madrid.es/sites/v/index.jsp?vgnextchannel=ca9671ee4a9eb410VgnVCM100000171f5a0aRCRD&vgnextoid=8a82cf426faac810VgnVCM1000001d4a900aRCRD'}}, {'@id': 'https://datos.madrid.es/egob/catalogo/tipo/evento/12696621-macbeth.json', '@type': 'https://datos.madrid.es/egob/kos/actividades/ProgramacionDestacadaAgendaCultura', 'id': '12696621', 'title': 'Macbeth', 'description': '\\ufeff   Cía. Miedo Escéncico   Adaptación de la obra de WilliamShakespeare. Con una puestaen escena cautivadora y actoresexcepcionales, la obra explorala ambición, el poder y la culpa ensu forma más visceral.Un espectáculo que promete hacerlas delicias del público, dejandouna profunda reflexión sobrela naturaleza humana.  75 minutos', 'free': 1, 'price': '', 'dtstart': '2025-03-01 19:00:00.0', 'dtend': '2025-03-01 23:59:00.0', 'time': '19:00', 'excluded-days': '', 'uid': '12696621', 'link': 'http://www.madrid.es/sites/v/index.jsp?vgnextchannel=ca9671ee4a9eb410VgnVCM100000171f5a0aRCRD&vgnextoid=6ffbb723be725910VgnVCM1000001d4a900aRCRD', 'event-location': 'Centro Cultural la Elipa (Ciudad Lineal)', 'references': {'@id': 'http://www.madrid.es/sites/v/index.jsp?vgnextchannel=ca9671ee4a9eb410VgnVCM100000171f5a0aRCRD&vgnextoid=caaa206c8e815910VgnVCM1000001d4a900aRCRD'}, 'relation': {'@id': 'https://datos.madrid.es/egob/catalogo/tipo/entidadesyorganismos/1951-centro-cultural-elipa-ciudad-lineal-.json'}, 'address': {'district': {'@id': 'https://datos.madrid.es/egob/kos/Provincia/Madrid/Municipio/Madrid/Distrito/CiudadLineal'}, 'area': {'@id': 'https://datos.madrid.es/egob/kos/Provincia/Madrid/Municipio/Madrid/Distrito/CiudadLineal/Barrio/Ventas', 'locality': 'MADRID', 'postal-code': '28017', 'street-address': 'CALLE SANTA FELICIDAD 39'}}, 'location': {'latitude': 40.42446957496409, 'longitude': -3.6504201407465917}, 'organization': {'organization-name': 'Centro Cultural la Elipa (Ciudad Lineal)', 'accesibility': '1'}}, {'@id': 'https://datos.madrid.es/egob/catalogo/tipo/evento/12686179-marconi-pasacalles-concurso-disfraces-orquesta.json', '@type': 'https://datos.madrid.es/egob/kos/actividades/DanzaBaile', 'id': '12686179', 'title': 'Marconi. Pasacalles, Concurso de Disfraces y Orquesta', 'description': 'Actividades:     18:00 a 19:00 horas: Pasacalles por la Charanga Tarambana. Recorrido: Salida: desde el Centro Sociocultural Marconi, C/ Intermedia Norte, Calle Transversal Sexta, giramos por el Acceso a la Colonia Marconi, C/ Principal, Instalaciones Deportivas Básicas de Marconi, C/ Principal, Llegada: Centro Sociocultural Marconi.    19:15 a 21:30 horas. Concurso de disfraces con entrega de placas y baile en el Centro Sociocultural Marconi con la Orquesta Callejón 80.', 'free': 1, 'price': '', 'dtstart': '2025-03-01 18:00:00.0', 'dtend': '2025-03-01 23:59:00.0', 'time': '18:00', 'excluded-days': '', 'uid': '12686179', 'link': 'http://www.madrid.es/sites/v/index.jsp?vgnextchannel=ca9671ee4a9eb410VgnVCM100000171f5a0aRCRD&vgnextoid=7f152e655eaf4910VgnVCM1000001d4a900aRCRD', 'event-location': 'Centro Sociocultural Marconi (Villaverde)', 'references': {'@id': 'http://www.madrid.es/sites/v/index.jsp?vgnextchannel=ca9671ee4a9eb410VgnVCM100000171f5a0aRCRD&vgnextoid=1ead399dafbd4910VgnVCM1000001d4a900aRCRD'}, 'relation': {'@id': 'https://datos.madrid.es/egob/catalogo/tipo/entidadesyorganismos/170066-centro-sociocultural-marconi-villaverde-.json'}, 'address': {'district': {'@id': 'https://datos.madrid.es/egob/kos/Provincia/Madrid/Municipio/Madrid/Distrito/Villaverde'}, 'area': {'@id': 'https://datos.madrid.es/egob/kos/Provincia/Madrid/Municipio/Madrid/Distrito/Villaverde/Barrio/VillaverdeAltoCH', 'locality': 'MADRID', 'postal-code': '28021', 'street-address': 'ACCESO COLONIA MARCONI 4'}}, 'location': {'latitude': 40.3347558542528, 'longitude': -3.7008037217338274}, 'organization': {'organization-name': 'Centro Sociocultural Marconi (Villaverde)', 'accesibility': '1'}}, {'@id': 'https://datos.madrid.es/egob/catalogo/tipo/evento/12652164-mermelhada-retablo-madrid-.json', '@type': 'https://datos.madrid.es/egob/kos/actividades/CuentacuentosTiteresMarionetas', 'id': '12652164', 'title': 'Mermelhada - El Retablo (Madrid)', 'description': '', 'free': 1, 'price': '', 'dtstart': '2025-03-01 00:00:00.0', 'dtend': '2025-03-02 23:59:00.0', 'time': '', 'excluded-days': '', 'recurrence': {'days': 'MO,TU,WE,TH,FR,SA,SU', 'frequency': 'WEEKLY', 'interval': 1}, 'audience': 'Niños', 'uid': '12652164', 'link': 'http://www.madrid.es/sites/v/index.jsp?vgnextchannel=ca9671ee4a9eb410VgnVCM100000171f5a0aRCRD&vgnextoid=4db1d242f8884910VgnVCM2000001f4a900aRCRD', 'event-location': 'Teatro Municipal de Títeres. Parque de El Retiro', 'references': {'@id': 'http://www.madrid.es/sites/v/index.jsp?vgnextchannel=ca9671ee4a9eb410VgnVCM100000171f5a0aRCRD&vgnextoid=ff01d242f8884910VgnVCM2000001f4a900aRCRD'}, 'relation': {'@id': 'https://datos.madrid.es/egob/catalogo/tipo/entidadesyorganismos/4077-teatro-municipal-titeres-parque-retiro.json'}, 'address': {'district': {'@id': 'https://datos.madrid.es/egob/kos/Provincia/Madrid/Municipio/Madrid/Distrito/Retiro'}, 'area': {'@id': 'https://datos.madrid.es/egob/kos/Provincia/Madrid/Municipio/Madrid/Distrito/Retiro/Barrio/LosJeronimos', 'locality': 'MADRID', 'postal-code': '28009', 'street-address': 'AVENIDA MÉXICO 4'}}, 'location': {'latitude': 40.41878362561595, 'longitude': -3.6866519471003647}, 'organization': {'organization-name': 'Teatro Municipal de Títeres. Parque de El Retiro', 'accesibility': '1'}}, {'@id': 'https://datos.madrid.es/egob/catalogo/tipo/evento/12690099-murdle.json', '@type': 'https://datos.madrid.es/egob/kos/actividades/RecitalesPresentacionesActosLiterarios', 'id': '12690099', 'title': 'Murdle', 'description': '', 'free': 0, 'price': 'Actividad gratuita con inscripción previa', 'dtstart': '2025-03-01 17:00:00.0', 'dtend': '2025-03-01 23:59:00.0', 'time': '17:00', 'excluded-days': '', 'audience': 'Niños', 'uid': '12690099', 'link': 'http://www.madrid.es/sites/v/index.jsp?vgnextchannel=ca9671ee4a9eb410VgnVCM100000171f5a0aRCRD&vgnextoid=05937d994a115910VgnVCM1000001d4a900aRCRD', 'event-location': 'Matadero Madrid', 'references': {'@id': ''}, 'relation': {'@id': 'https://datos.madrid.es/egob/catalogo/tipo/entidadesyorganismos/4684678-matadero-madrid.json'}, 'address': {'district': {'@id': 'https://datos.madrid.es/egob/kos/Provincia/Madrid/Municipio/Madrid/Distrito/Arganzuela'}, 'area': {'@id': 'https://datos.madrid.es/egob/kos/Provincia/Madrid/Municipio/Madrid/Distrito/Arganzuela/Barrio/Chopera', 'locality': 'MADRID', 'postal-code': '28045', 'street-address': 'PLAZA LEGAZPI 8'}}, 'location': {'latitude': 40.39130985242181, 'longitude': -3.6958028442054074}, 'organization': {'organization-name': 'Matadero Madrid', 'accesibility': '1'}}, {'@id': 'https://datos.madrid.es/egob/catalogo/tipo/evento/12661729-nosotras-creamos-mundo.json', '@type': 'https://datos.madrid.es/egob/kos/actividades/CuentacuentosTiteresMarionetas', 'id': '12661729', 'title': 'Nosotras creamos mundo', 'description': 'Ciclo de actuaciones por el 8M.  Durante muchos siglos las mujeres y las niñas tenían que hacer unas cosas y los niños y los hombres otras. En este Cuentacuentos teatralizado veremos a través de las historias como todos y todas podemos ser quien queremos ser y como siendo corresponsables la vida es mucho más bonita.  Compañía: El gallinero de Micaela  Edad recomendada: De 3 a 8 años  Duración: 60 minutos.', 'free': 1, 'price': '', 'dtstart': '2025-03-01 12:00:00.0', 'dtend': '2025-03-01 23:59:00.0', 'time': '12:00', 'excluded-days': '', 'audience': 'Niños', 'uid': '12661729', 'link': 'http://www.madrid.es/sites/v/index.jsp?vgnextchannel=ca9671ee4a9eb410VgnVCM100000171f5a0aRCRD&vgnextoid=c8d733d971394910VgnVCM1000001d4a900aRCRD', 'event-location': 'Centro Sociocultural San Fermín (Usera)', 'references': {'@id': 'http://www.madrid.es/sites/v/index.jsp?vgnextchannel=ca9671ee4a9eb410VgnVCM100000171f5a0aRCRD&vgnextoid=dd5d2d24e6f61910VgnVCM2000001f4a900aRCRD'}, 'relation': {'@id': 'https://datos.madrid.es/egob/catalogo/tipo/entidadesyorganismos/1935-centro-sociocultural-san-fermin-usera-.json'}, 'address': {'district': {'@id': 'https://datos.madrid.es/egob/kos/Provincia/Madrid/Municipio/Madrid/Distrito/Usera'}, 'area': {'@id': 'https://datos.madrid.es/egob/kos/Provincia/Madrid/Municipio/Madrid/Distrito/Usera/Barrio/SanFermin', 'locality': 'MADRID', 'postal-code': '28041', 'street-address': 'CALLE ESTAFETA 33'}}, 'location': {'latitude': 40.371654294908154, 'longitude': -3.692056897625109}, 'organization': {'organization-name': 'Centro Sociocultural San Fermín (Usera)', 'accesibility': '1'}}, {'@id': 'https://datos.madrid.es/egob/catalogo/tipo/evento/12690635-retrato-mujer-ciencia-ilustrando-historia-cientificas-sus-descubrimientos.json', '@type': 'https://datos.madrid.es/egob/kos/actividades/Exposiciones', 'id': '12690635', 'title': 'Retrato de la Mujer en Ciencia:  ilustrando la historia de científicas y sus  descubrimientos', 'description': \"Exposición de dibujos a cargo de Henar Mateo de la Fuente.  'Retrato de la Mujer en Ciencia' consiste en una exposición artística que presenta, a través de dibujos originales hechos en tinta sobre papel, algunos de los descubrimientos científicos más importantes llevados a cabo por mujeres de diferentes contextos socioculturales y geopolíticos. La muestra está enfocada a todos los públicos y destaca la labor científica de las mujeres a lo largo de la historia, reivindicando la importancia de la igualdad de género en la ciencia.\", 'free': 1, 'price': '', 'dtstart': '2025-03-01 00:00:00.0', 'dtend': '2025-03-31 23:59:00.0', 'time': '', 'excluded-days': '', 'recurrence': {'days': 'MO,TU,WE,TH,FR,SA,SU', 'frequency': 'WEEKLY', 'interval': 1}, 'audience': 'Familias', 'uid': '12690635', 'link': 'http://www.madrid.es/sites/v/index.jsp?vgnextchannel=ca9671ee4a9eb410VgnVCM100000171f5a0aRCRD&vgnextoid=e1f1a8c219315910VgnVCM2000001f4a900aRCRD', 'event-location': 'Centro Cultural Buero Vallejo (San Blas - Canillejas)', 'references': {'@id': 'http://www.madrid.es/sites/v/index.jsp?vgnextchannel=ca9671ee4a9eb410VgnVCM100000171f5a0aRCRD&vgnextoid=da1970db6da41910VgnVCM2000001f4a900aRCRD'}, 'relation': {'@id': 'https://datos.madrid.es/egob/catalogo/tipo/entidadesyorganismos/1943-centro-cultural-buero-vallejo-san-blas-canillejas-.json'}, 'address': {'district': {'@id': 'https://datos.madrid.es/egob/kos/Provincia/Madrid/Municipio/Madrid/Distrito/SanBlas-Canillejas'}, 'area': {'@id': 'https://datos.madrid.es/egob/kos/Provincia/Madrid/Municipio/Madrid/Distrito/SanBlas-Canillejas/Barrio/Canillejas', 'locality': 'MADRID', 'postal-code': '28022', 'street-address': 'CALLE BOLTAÑA 27'}}, 'location': {'latitude': 40.44477474902185, 'longitude': -3.6129105844633775}, 'organization': {'organization-name': 'Centro Cultural Buero Vallejo (San Blas - Canillejas)', 'accesibility': '1'}}, {'@id': 'https://datos.madrid.es/egob/catalogo/tipo/evento/12686205-san-cristobal-angeles-concurso-disfraces-baile-orquesta.json', '@type': 'https://datos.madrid.es/egob/kos/actividades/DanzaBaile', 'id': '12686205', 'title': 'San Cristóbal de los Ángeles. Concurso de Disfraces y Baile con Orquesta', 'description': 'Actividades:      21:30 a 23:30 horas.   Concurso de disfraces con entrega de placas y Baile con Orquesta `Luz Verde´ en el Edificio Cinesia, calle Godella 104.', 'free': 1, 'price': '', 'dtstart': '2025-03-01 21:30:00.0', 'dtend': '2025-03-01 23:59:00.0', 'time': '21:30', 'excluded-days': '', 'uid': '12686205', 'link': 'http://www.madrid.es/sites/v/index.jsp?vgnextchannel=ca9671ee4a9eb410VgnVCM100000171f5a0aRCRD&vgnextoid=1e752e655eaf4910VgnVCM1000001d4a900aRCRD', 'event-location': '', 'references': {'@id': 'http://www.madrid.es/sites/v/index.jsp?vgnextchannel=ca9671ee4a9eb410VgnVCM100000171f5a0aRCRD&vgnextoid=1ead399dafbd4910VgnVCM1000001d4a900aRCRD'}}, {'@id': 'https://datos.madrid.es/egob/catalogo/tipo/evento/12694038-senda-descubre-vida-silvestre-parque-pradolongo.json', '@type': 'https://datos.madrid.es/egob/kos/actividades/ItinerariosOtrasActividadesAmbientales', 'id': '12694038', 'title': 'Senda Descubre la vida silvestre del parque de Pradolongo', 'description': 'Día Mundial de la Vida Silvestre  Los grandes parques de la ciudad de Madrid son espacios que albergan una gran biodiversidad, tanto de fauna como de flora. Descubre el gran número de especies que conviven en el parque de Pradolongo gracias a la variedad de ambientes y zonas que contiene.   Lugar: Comienza en la recepción del Centro de Educación Ambiental y Cultural Maris Stella    Edad recomendada: A partir de 8 años (menores acompañados por una persona adulta).  Imprescindible inscripción previa.', 'free': 1, 'price': '', 'dtstart': '2025-03-01 10:00:00.0', 'dtend': '2025-03-01 23:59:00.0', 'time': '10:00', 'excluded-days': '', 'audience': 'Niños', 'uid': '12694038', 'link': 'http://www.madrid.es/sites/v/index.jsp?vgnextchannel=ca9671ee4a9eb410VgnVCM100000171f5a0aRCRD&vgnextoid=26378061b6e15910VgnVCM2000001f4a900aRCRD', 'event-location': 'Centro de Educación Ambiental y Cultural Maris Stella (Usera)', 'references': {'@id': 'http://www.madrid.es/sites/v/index.jsp?vgnextchannel=ca9671ee4a9eb410VgnVCM100000171f5a0aRCRD&vgnextoid=4e25ce5179e61910VgnVCM1000001d4a900aRCRD'}, 'relation': {'@id': 'https://datos.madrid.es/egob/catalogo/tipo/entidadesyorganismos/11526686-centro-educacion-ambiental-cultural-maris-stella-usera-.json'}, 'address': {'district': {'@id': 'https://datos.madrid.es/egob/kos/Provincia/Madrid/Municipio/Madrid/Distrito/Usera'}, 'area': {'@id': 'https://datos.madrid.es/egob/kos/Provincia/Madrid/Municipio/Madrid/Distrito/Usera/Barrio/Pradolongo', 'locality': 'MADRID', 'postal-code': '28026', 'street-address': 'CALLE DOCTOR TOLOSA LATOUR 16'}}, 'location': {'latitude': 40.374166248648216, 'longitude': -3.7032220308808577}, 'organization': {'organization-name': 'Centro de Educación Ambiental y Cultural Maris Stella (Usera)', 'accesibility': '1'}}, {'@id': 'https://datos.madrid.es/egob/catalogo/tipo/evento/12690327-senderismo-urbano-emilia-pardo-bazan-mujer-cultura-reto-naturaleza-.json', '@type': 'https://datos.madrid.es/egob/kos/actividades/ExcursionesItinerariosVisitas', 'id': '12690327', 'title': 'Senderismo urbano. Emilia Pardo Bazán: mujer en la cultura, reto y naturaleza.', 'description': '', 'free': 1, 'price': '', 'dtstart': '2025-03-01 11:00:00.0', 'dtend': '2025-03-01 23:59:00.0', 'time': '11:00', 'excluded-days': '', 'uid': '12690327', 'link': 'http://www.madrid.es/sites/v/index.jsp?vgnextchannel=ca9671ee4a9eb410VgnVCM100000171f5a0aRCRD&vgnextoid=2660c9a484315910VgnVCM1000001d4a900aRCRD', 'event-location': 'Centro de Información y Educación Ambiental de Dehesa de la Villa', 'references': {'@id': 'http://www.madrid.es/sites/v/index.jsp?vgnextchannel=ca9671ee4a9eb410VgnVCM100000171f5a0aRCRD&vgnextoid=4102949aa8796810VgnVCM1000001d4a900aRCRD'}, 'relation': {'@id': 'https://datos.madrid.es/egob/catalogo/tipo/entidadesyorganismos/190493-centro-informacion-educacion-ambiental-dehesa-villa.json'}, 'address': {'district': {'@id': 'https://datos.madrid.es/egob/kos/Provincia/Madrid/Municipio/Madrid/Distrito/Moncloa-Aravaca'}}, 'location': {'latitude': 40.45914104116349, 'longitude': -3.718270563679269}, 'organization': {'organization-name': 'Centro de Información y Educación Ambiental de Dehesa de la Villa', 'accesibility': '1'}}, {'@id': 'https://datos.madrid.es/egob/catalogo/tipo/evento/12694451-sobreviure-l-incendi-documental-zoo.json', '@type': 'https://datos.madrid.es/egob/kos/actividades/ProgramacionDestacadaAgendaCultura', 'id': '12694451', 'title': \"Sobreviure a l'incendi: El documental de ZOO\", 'description': 'Sábado 1 de marzo, 20:30 horas en Sala Plató Domingo 2 de marzo, 20 horas en Sala Borau Martes 4 de marzo, 20 horas en Sala Borau', 'free': 0, 'price': '', 'dtstart': '2025-03-01 00:00:00.0', 'dtend': '2025-03-04 23:59:00.0', 'time': '', 'excluded-days': '', 'recurrence': {'days': 'TU,WE,TH,FR,SA,SU', 'frequency': 'WEEKLY', 'interval': 1}, 'uid': '12694451', 'link': 'http://www.madrid.es/sites/v/index.jsp?vgnextchannel=ca9671ee4a9eb410VgnVCM100000171f5a0aRCRD&vgnextoid=becf119345225910VgnVCM1000001d4a900aRCRD', 'event-location': 'Cineteca Madrid', 'references': {'@id': ''}, 'relation': {'@id': 'https://datos.madrid.es/egob/catalogo/tipo/entidadesyorganismos/6963310-cineteca-madrid.json'}, 'address': {'district': {'@id': 'https://datos.madrid.es/egob/kos/Provincia/Madrid/Municipio/Madrid/Distrito/Arganzuela'}, 'area': {'@id': 'https://datos.madrid.es/egob/kos/Provincia/Madrid/Municipio/Madrid/Distrito/Arganzuela/Barrio/Chopera', 'locality': 'MADRID', 'postal-code': '28045', 'street-address': 'PLAZA LEGAZPI 8'}}, 'location': {'latitude': 40.39130985242181, 'longitude': -3.6958028442054074}, 'organization': {'organization-name': 'Cineteca Madrid', 'accesibility': '1'}}, {'@id': 'https://datos.madrid.es/egob/catalogo/tipo/evento/12696746-taller-bancal-lasana-huerto-urbano-comunitario-kupina-morera.json', '@type': 'https://datos.madrid.es/egob/kos/actividades/CursosTalleres', 'id': '12696746', 'title': 'Taller de Bancal lasaña en el Huerto Urbano Comunitario Kupina Morera', 'description': '', 'free': 1, 'price': '', 'dtstart': '2025-03-01 11:00:00.0', 'dtend': '2025-03-01 23:59:00.0', 'time': '11:00', 'excluded-days': '', 'uid': '12696746', 'link': 'http://www.madrid.es/sites/v/index.jsp?vgnextchannel=ca9671ee4a9eb410VgnVCM100000171f5a0aRCRD&vgnextoid=7554114bbe725910VgnVCM2000001f4a900aRCRD', 'event-location': '', 'references': {'@id': 'http://www.madrid.es/sites/v/index.jsp?vgnextchannel=ca9671ee4a9eb410VgnVCM100000171f5a0aRCRD&vgnextoid=0ac3114bbe725910VgnVCM2000001f4a900aRCRD'}}, {'@id': 'https://datos.madrid.es/egob/catalogo/tipo/evento/12696701-taller-semilleros-huerto-urbano-comunitario-garbanzal-montijas.json', '@type': 'https://datos.madrid.es/egob/kos/actividades/CursosTalleres', 'id': '12696701', 'title': 'Taller de semilleros en el Huerto Urbano Comunitario Garbanzal Las Montijas', 'description': '', 'free': 1, 'price': '', 'dtstart': '2025-03-01 11:00:00.0', 'dtend': '2025-03-01 23:59:00.0', 'time': '11:00', 'excluded-days': '', 'uid': '12696701', 'link': 'http://www.madrid.es/sites/v/index.jsp?vgnextchannel=ca9671ee4a9eb410VgnVCM100000171f5a0aRCRD&vgnextoid=2573114bbe725910VgnVCM2000001f4a900aRCRD', 'event-location': '', 'references': {'@id': 'http://www.madrid.es/sites/v/index.jsp?vgnextchannel=ca9671ee4a9eb410VgnVCM100000171f5a0aRCRD&vgnextoid=9392114bbe725910VgnVCM2000001f4a900aRCRD'}}, {'@id': 'https://datos.madrid.es/egob/catalogo/tipo/evento/12695827-taller-pequenas-cientificas-.json', '@type': 'https://datos.madrid.es/egob/kos/actividades/ItinerariosOtrasActividadesAmbientales', 'id': '12695827', 'title': \"Taller 'Pequeñas científicas'\", 'description': '', 'free': 1, 'price': '', 'dtstart': '2025-03-01 16:30:00.0', 'dtend': '2025-03-01 23:59:00.0', 'time': '16:30', 'excluded-days': '', 'audience': 'Niños,Familias', 'uid': '12695827', 'link': 'http://www.madrid.es/sites/v/index.jsp?vgnextchannel=ca9671ee4a9eb410VgnVCM100000171f5a0aRCRD&vgnextoid=30729cf356325910VgnVCM1000001d4a900aRCRD', 'event-location': 'Aula ambiental La Cabaña del Retiro', 'references': {'@id': ''}, 'relation': {'@id': 'https://datos.madrid.es/egob/catalogo/tipo/entidadesyorganismos/169873-aula-ambiental-cabana-retiro.json'}, 'address': {'district': {'@id': 'https://datos.madrid.es/egob/kos/Provincia/Madrid/Municipio/Madrid/Distrito/Retiro'}, 'area': {'@id': 'https://datos.madrid.es/egob/kos/Provincia/Madrid/Municipio/Madrid/Distrito/Retiro/Barrio/LosJeronimos', 'locality': 'MADRID', 'postal-code': '28009', 'street-address': 'PASEO FERNAN NUÑEZ 10'}}, 'location': {'latitude': 40.40912277790706, 'longitude': -3.6793179644920584}, 'organization': {'organization-name': 'Aula ambiental La Cabaña del Retiro', 'accesibility': '1'}}, {'@id': 'https://datos.madrid.es/egob/catalogo/tipo/evento/12696013-talleres-mascaras.json', '@type': 'https://datos.madrid.es/egob/kos/actividades/FiestasCarnavales', 'id': '12696013', 'title': 'Talleres de máscaras', 'description': \"Sábado 1, 11:30 a 13:00 h.  Taller Infantil: 'Pinta tu máscara'.  Taller gratuito, para que los más pequeños acompañados de un adulto si lo desean puedan realizar sus propias máscaras de carnaval, donde podrán dejar volar su imaginación personalizando las mismas con diversos materiales. Hay 10 plazas disponibles, las inscripciones podrán realizarse en el propio centro a partir del 24 de febrero, en horario de oficina. Duración: 90 minutos. Edad recomendada: niñas y niños a partir de 6 años, acompañados de un adulto.  Sábado 1, 10:00 a 11:30 h  aller Adultos: 'Máscaras de Carnaval'. Taller gratuito, para que durante dos sesiones podamos realizar nuestra máscara de escayola personalizada. En la primera sesión de jueves, realizaremos la máscara y el viernes podremos decorarla. Hay 12 plazas disponibles, las inscripciones podrán realizarse en el propio centro a partir del 24 de febrero, en horario de oficina. Duración: 1ª sesión 90 minutos y 2ª sesión 180 minutos. Edad recomendada: a partir de 14 años.\", 'free': 1, 'price': '', 'dtstart': '2025-03-01 00:00:00.0', 'dtend': '2025-03-01 23:59:00.0', 'time': '', 'excluded-days': '', 'uid': '12696013', 'link': 'http://www.madrid.es/sites/v/index.jsp?vgnextchannel=ca9671ee4a9eb410VgnVCM100000171f5a0aRCRD&vgnextoid=e206292bc8325910VgnVCM2000001f4a900aRCRD', 'event-location': 'Centro Sociocultural Tetuán', 'references': {'@id': 'http://www.madrid.es/sites/v/index.jsp?vgnextchannel=ca9671ee4a9eb410VgnVCM100000171f5a0aRCRD&vgnextoid=c8d36524d3ca4910VgnVCM1000001d4a900aRCRD'}, 'relation': {'@id': 'https://datos.madrid.es/egob/catalogo/tipo/entidadesyorganismos/1948-centro-sociocultural-tetuan.json'}, 'address': {'district': {'@id': 'https://datos.madrid.es/egob/kos/Provincia/Madrid/Municipio/Madrid/Distrito/Tetuan'}, 'area': {'@id': 'https://datos.madrid.es/egob/kos/Provincia/Madrid/Municipio/Madrid/Distrito/Tetuan/Barrio/Berruguete', 'locality': 'MADRID', 'postal-code': '28020', 'street-address': 'CALLE BRAVO MURILLO 251'}}, 'location': {'latitude': 40.45907909580629, 'longitude': -3.7002532146213043}, 'organization': {'organization-name': 'Centro Sociocultural Tetuán', 'accesibility': '1'}}, {'@id': 'https://datos.madrid.es/egob/catalogo/tipo/evento/12686923-talleres-infantiles-carnaval-centros-socioculturales-villaverde.json', '@type': 'https://datos.madrid.es/egob/kos/actividades/CursosTalleres', 'id': '12686923', 'title': 'Talleres Infantiles de Carnaval. Centros Socioculturales de Villaverde', 'description': 'Talleres infantiles de carnaval, se realizarán: máscaras, murales y marcapáginas. Para ninños/as de 5 a10 años.   Horario: - De 11.00 a 14.00 h.     Inscripciones en las secretarías o llamando a los teléfonos de los Centros Socioculturales referenciados.     Centro Sociocultural Ágata, Cl Doctor Martín Arévalo, nº 2 - 280 21 Madrid. Teléfono: 917 109 300.   Centro Sociocultural Bohemios, Cl Bohemios, nº 1 - 28041 Madrid. Teléfono 917 109 260.   Centro Sociocultural Marconi, Acceso a la Colonia Marconi, nº 4 - 28021 Madrid. Teléfono 917 100 232.   Centro Sociocultural San Cristóbal de los Ángeles, Plaza de los Pinazo, nº 9 - 28021 Madrid. Teléfono 917 100 692.   Centro Sociocultural Santa Petronila, Cl María Martinez Olviol, nº 12 - 28021 Madrid. Teléfono 917 791 204.', 'free': 1, 'price': '', 'dtstart': '2025-03-01 11:00:00.0', 'dtend': '2025-03-01 23:59:00.0', 'time': '11:00', 'excluded-days': '', 'audience': 'Niños', 'uid': '12686923', 'link': 'http://www.madrid.es/sites/v/index.jsp?vgnextchannel=ca9671ee4a9eb410VgnVCM100000171f5a0aRCRD&vgnextoid=063ebe426bef4910VgnVCM1000001d4a900aRCRD', 'event-location': '', 'references': {'@id': 'http://www.madrid.es/sites/v/index.jsp?vgnextchannel=ca9671ee4a9eb410VgnVCM100000171f5a0aRCRD&vgnextoid=1ead399dafbd4910VgnVCM1000001d4a900aRCRD'}}, {'@id': 'https://datos.madrid.es/egob/catalogo/tipo/evento/12693997-tejiendo-colores.json', '@type': 'https://datos.madrid.es/egob/kos/actividades/Exposiciones', 'id': '12693997', 'title': 'Tejiendo Colores', 'description': \"'Revolver' es la nueva colección de la artista Lola Sevilla.  Vuelve removida y con ganas de contar en color su nuevo renacer.  'Los artistas estamos para eso, para mostrar sin juicios y regalar el ángel que llevamos.' Esta nueva colección está inspirada en el renacer de las conciencias y la integración de los nuevos sistemas de vida. Aquí nace una nueva artista renovada y revuelta. Mirar esta nueva colección lleva a la emoción convertida en color y forma.  Inauguración el 1 de marzo a las 12:00 horas.\", 'free': 1, 'price': '', 'dtstart': '2025-03-01 00:00:00.0', 'dtend': '2025-03-31 23:59:00.0', 'time': '', 'excluded-days': '', 'recurrence': {'days': 'TU,WE,TH,FR,SA,SU', 'frequency': 'WEEKLY', 'interval': 1}, 'uid': '12693997', 'link': 'http://www.madrid.es/sites/v/index.jsp?vgnextchannel=ca9671ee4a9eb410VgnVCM100000171f5a0aRCRD&vgnextoid=f1868061b6e15910VgnVCM2000001f4a900aRCRD', 'event-location': 'Centro de Educación Ambiental y Cultural Maris Stella (Usera)', 'references': {'@id': 'http://www.madrid.es/sites/v/index.jsp?vgnextchannel=ca9671ee4a9eb410VgnVCM100000171f5a0aRCRD&vgnextoid=4e25ce5179e61910VgnVCM1000001d4a900aRCRD'}, 'relation': {'@id': 'https://datos.madrid.es/egob/catalogo/tipo/entidadesyorganismos/11526686-centro-educacion-ambiental-cultural-maris-stella-usera-.json'}, 'address': {'district': {'@id': 'https://datos.madrid.es/egob/kos/Provincia/Madrid/Municipio/Madrid/Distrito/Usera'}, 'area': {'@id': 'https://datos.madrid.es/egob/kos/Provincia/Madrid/Municipio/Madrid/Distrito/Usera/Barrio/Pradolongo', 'locality': 'MADRID', 'postal-code': '28026', 'street-address': 'CALLE DOCTOR TOLOSA LATOUR 16'}}, 'location': {'latitude': 40.374166248648216, 'longitude': -3.7032220308808577}, 'organization': {'organization-name': 'Centro de Educación Ambiental y Cultural Maris Stella (Usera)', 'accesibility': '1'}}, {'@id': 'https://datos.madrid.es/egob/catalogo/tipo/evento/12698620-vida.json', '@type': 'https://datos.madrid.es/egob/kos/actividades/Exposiciones', 'id': '12698620', 'title': 'Vida', 'description': '', 'free': 1, 'price': '', 'dtstart': '2025-03-01 08:30:00.0', 'dtend': '2025-03-31 23:59:00.0', 'time': '08:30', 'excluded-days': '', 'recurrence': {'days': 'MO,TU,WE,TH,FR,SA,SU', 'frequency': 'WEEKLY', 'interval': 1}, 'uid': '12698620', 'link': 'http://www.madrid.es/sites/v/index.jsp?vgnextchannel=ca9671ee4a9eb410VgnVCM100000171f5a0aRCRD&vgnextoid=f2edddd487835910VgnVCM1000001d4a900aRCRD', 'event-location': 'Biblioteca Pública Municipal Benito Pérez Galdós (Centro)', 'references': {'@id': ''}, 'relation': {'@id': 'https://datos.madrid.es/egob/catalogo/tipo/entidadesyorganismos/1882-biblioteca-publica-municipal-benito-perez-galdos-centro-.json'}, 'address': {'district': {'@id': 'https://datos.madrid.es/egob/kos/Provincia/Madrid/Municipio/Madrid/Distrito/Centro'}, 'area': {'@id': 'https://datos.madrid.es/egob/kos/Provincia/Madrid/Municipio/Madrid/Distrito/Centro/Barrio/Universidad', 'locality': 'MADRID', 'postal-code': '28015', 'street-address': 'CALLE CONDE DUQUE 9'}}, 'location': {'latitude': 40.42738668300474, 'longitude': -3.7105999955473625}, 'organization': {'organization-name': 'Biblioteca Pública Municipal Benito Pérez Galdós (Centro)', 'accesibility': '1,6'}}, {'@id': 'https://datos.madrid.es/egob/catalogo/tipo/evento/12686168-villaverde-alto-actuacion-infantil-concurso-disfraces-orquesta-crystal.json', '@type': 'https://datos.madrid.es/egob/kos/actividades/DanzaBaile', 'id': '12686168', 'title': 'Villaverde Alto. Actuación Infantil, Concurso de Disfraces y Orquesta Crystal', 'description': 'Actividades:      19:30 horas: Espectáculo Infantil para público familiar `Este Carnaval es una fiesta´ (35 minutos).        20:15 horas: Concurso de disfraces. Inscripción a través del QR del cártel y presencialmente en la carpa antes del concurso.      21:30 a 23:30 horas: Fin de fiesta con la Orquesta Crystal.    Las actividades se realizarán en la carpa ubicada en la Calle San Jenaro.', 'free': 1, 'price': '', 'dtstart': '2025-03-01 19:30:00.0', 'dtend': '2025-03-01 23:59:00.0', 'time': '19:30', 'excluded-days': '', 'uid': '12686168', 'link': 'http://www.madrid.es/sites/v/index.jsp?vgnextchannel=ca9671ee4a9eb410VgnVCM100000171f5a0aRCRD&vgnextoid=9f232e655eaf4910VgnVCM1000001d4a900aRCRD', 'event-location': '', 'references': {'@id': 'http://www.madrid.es/sites/v/index.jsp?vgnextchannel=ca9671ee4a9eb410VgnVCM100000171f5a0aRCRD&vgnextoid=1ead399dafbd4910VgnVCM1000001d4a900aRCRD'}}, {'@id': 'https://datos.madrid.es/egob/catalogo/tipo/evento/12686040-villaverde-alto-desfile-carnaval.json', '@type': 'https://datos.madrid.es/egob/kos/actividades/DanzaBaile', 'id': '12686040', 'title': 'Villaverde Alto. Desfile de Carnaval', 'description': 'Desfile de Carnaval (malabaristas, Gigantes y Cabezudos…).    Por la Charanga: `Ditirambo´    Horario: De 18:00 a 19:00 horas.  Recorrido:   Salida:  Plaza Ágata, Pº Alberto Palacios, C/ Arenas, C/ Escandón, C/ Parvillas Altas, Avda. Real de Pinto, C/ Dr. Perez Domínguez, Llegada: Bulevar C/ San Jenaro.', 'free': 1, 'price': '', 'dtstart': '2025-03-01 18:00:00.0', 'dtend': '2025-03-01 23:59:00.0', 'time': '18:00', 'excluded-days': '', 'uid': '12686040', 'link': 'http://www.madrid.es/sites/v/index.jsp?vgnextchannel=ca9671ee4a9eb410VgnVCM100000171f5a0aRCRD&vgnextoid=b70838dd54af4910VgnVCM2000001f4a900aRCRD', 'event-location': '', 'references': {'@id': 'http://www.madrid.es/sites/v/index.jsp?vgnextchannel=ca9671ee4a9eb410VgnVCM100000171f5a0aRCRD&vgnextoid=1ead399dafbd4910VgnVCM1000001d4a900aRCRD'}}, {'@id': 'https://datos.madrid.es/egob/catalogo/tipo/evento/12686173-villaverde-concurso-disfraces-pasacalles.json', '@type': 'https://datos.madrid.es/egob/kos/actividades/DanzaBaile', 'id': '12686173', 'title': 'Villaverde Bajo. Concurso de Disfraces y Pasacalles', 'description': 'Actividades (La Unidad de Villaverde Este)     Programa:         17:30 h: Concurso de disfraces en C/ Villarramiel esquina C/ Diamante.      18:30 a 20:00 h: Pasacalles por La Charanga Biribilketa. Recorrido:  C/ Villarramiel esquina C/ Diamante, C/ San Agapito, C/ Martínez Oviol, C/ Encarnación Oviol, C/ Santa Florencia, C/ Eduardo Minguito, C/ Leonor Góngora, C/ José del Pino, Pza. de las Sufragistas, C/ Diamante, C/ Villarramiel.', 'free': 1, 'price': '', 'dtstart': '2025-03-01 17:30:00.0', 'dtend': '2025-03-01 23:59:00.0', 'time': '17:30', 'excluded-days': '', 'uid': '12686173', 'link': 'http://www.madrid.es/sites/v/index.jsp?vgnextchannel=ca9671ee4a9eb410VgnVCM100000171f5a0aRCRD&vgnextoid=87042e655eaf4910VgnVCM1000001d4a900aRCRD', 'event-location': '', 'references': {'@id': 'http://www.madrid.es/sites/v/index.jsp?vgnextchannel=ca9671ee4a9eb410VgnVCM100000171f5a0aRCRD&vgnextoid=1ead399dafbd4910VgnVCM1000001d4a900aRCRD'}}]\n"
     ]
    }
   ],
   "source": [
    "# Realizar la solicitud\n",
    "response = requests.get(url)\n",
    "\n",
    "# Verificar si la solicitud fue exitosa\n",
    "if response.status_code == 200:\n",
    "    data = response.json()\n",
    "    \n",
    "    # Convertir las fechas de inicio y fin a objetos datetime\n",
    "    fecha_inicio_dt = datetime.strptime(fecha_inicio, \"%Y-%m-%d\")   # ESTO NO LO ENTIENDO\n",
    "    fecha_fin_dt = datetime.strptime(fecha_fin, \"%Y-%m-%d\")\n",
    "    \n",
    "    # Filtrar los datos para asegurarse de que solo incluyan eventos dentro del rango de fechas\n",
    "    eventos_filtrados = []\n",
    "    for evento in data['@graph']:\n",
    "        fecha_evento = datetime.strptime(evento['dtstart'], \"%Y-%m-%d %H:%M:%S.%f\")\n",
    "        if fecha_inicio_dt <= fecha_evento <= fecha_fin_dt:\n",
    "            eventos_filtrados.append(evento)\n",
    "    \n",
    "    # Mostrar los datos filtrados\n",
    "    print(eventos_filtrados)\n",
    "else:\n",
    "    print(\"Error al obtener los datos:\", response.status_code)"
   ]
  },
  {
   "cell_type": "code",
   "execution_count": 4,
   "metadata": {},
   "outputs": [],
   "source": [
    "data_dic = eventos_filtrados"
   ]
  },
  {
   "cell_type": "code",
   "execution_count": 5,
   "metadata": {},
   "outputs": [],
   "source": [
    "eventos = []\n",
    "\n",
    "for evento in data_dic:\n",
    "    id_evento = evento.get(\"id\", None)\n",
    "    nombre_evento = evento.get(\"title\", \"\")\n",
    "    url_evento = evento.get(\"link\", \"\")\n",
    "    horario = evento.get(\"time\", None)\n",
    "    organizacion = evento.get(\"organization\", {}).get(\"organization-name\", None)\n",
    "\n",
    "    # 🔍 1. Intentar obtener la dirección desde \"event-location\"\n",
    "    direccion = evento.get(\"event-location\", None)\n",
    "\n",
    "    # 🔍 2. Si no hay dirección, buscar en \"description\"\n",
    "    if not direccion:\n",
    "        descripcion = evento.get(\"description\", \"\")\n",
    "        if \"Lugar:\" in descripcion:  # ✅ Verifica si la descripción contiene \"Lugar:\"\n",
    "            direccion = descripcion.split(\"Lugar:\")[1].strip()  # Extrae la parte después de \"Lugar:\"\n",
    "    \n",
    "    # 🔍 3. Obtener código postal\n",
    "    direccion_info = evento.get(\"address\", {}).get(\"area\", {})\n",
    "    codigo_postal = direccion_info.get(\"postal-code\", None)\n",
    "\n",
    "    # Agregar a la lista de eventos\n",
    "    eventos.append((id_evento, nombre_evento, url_evento, codigo_postal, direccion, horario, evento.get(\"dtstart\", \"\"), evento.get(\"dtend\", \"\"), organizacion))\n",
    "\n",
    "# Convertir a DataFrame\n",
    "df_api = pd.DataFrame(eventos, columns=[\"id_evento\", \"nombre_evento\", \"url_evento\", \"codigo_postal\", \"direccion\", \"horario\", \"fecha_inicio\", \"fecha_fin\", \"organizacion\"])\n"
   ]
  },
  {
   "cell_type": "code",
   "execution_count": 6,
   "metadata": {},
   "outputs": [
    {
     "name": "stdout",
     "output_type": "stream",
     "text": [
      "(45, 9)\n"
     ]
    },
    {
     "data": {
      "text/html": [
       "<div>\n",
       "<style scoped>\n",
       "    .dataframe tbody tr th:only-of-type {\n",
       "        vertical-align: middle;\n",
       "    }\n",
       "\n",
       "    .dataframe tbody tr th {\n",
       "        vertical-align: top;\n",
       "    }\n",
       "\n",
       "    .dataframe thead th {\n",
       "        text-align: right;\n",
       "    }\n",
       "</style>\n",
       "<table border=\"1\" class=\"dataframe\">\n",
       "  <thead>\n",
       "    <tr style=\"text-align: right;\">\n",
       "      <th></th>\n",
       "      <th>id_evento</th>\n",
       "      <th>nombre_evento</th>\n",
       "      <th>url_evento</th>\n",
       "      <th>codigo_postal</th>\n",
       "      <th>direccion</th>\n",
       "      <th>horario</th>\n",
       "      <th>fecha_inicio</th>\n",
       "      <th>fecha_fin</th>\n",
       "      <th>organizacion</th>\n",
       "    </tr>\n",
       "  </thead>\n",
       "  <tbody>\n",
       "    <tr>\n",
       "      <th>2</th>\n",
       "      <td>12682147</td>\n",
       "      <td>Baile de Carnaval. Concierto de Origen</td>\n",
       "      <td>http://www.madrid.es/sites/v/index.jsp?vgnextc...</td>\n",
       "      <td>None</td>\n",
       "      <td>plaza de Puerto Rubio (antigua plaza Vieja). C...</td>\n",
       "      <td>19:30</td>\n",
       "      <td>2025-03-01 19:30:00.0</td>\n",
       "      <td>2025-03-01 23:59:00.0</td>\n",
       "      <td>None</td>\n",
       "    </tr>\n",
       "    <tr>\n",
       "      <th>12</th>\n",
       "      <td>12690609</td>\n",
       "      <td>Cuatro historias de alquiler</td>\n",
       "      <td>http://www.madrid.es/sites/v/index.jsp?vgnextc...</td>\n",
       "      <td>28022</td>\n",
       "      <td>Centro Cultural Buero Vallejo (San Blas - Cani...</td>\n",
       "      <td>19:00</td>\n",
       "      <td>2025-03-01 19:00:00.0</td>\n",
       "      <td>2025-03-01 23:59:00.0</td>\n",
       "      <td>Centro Cultural Buero Vallejo (San Blas - Cani...</td>\n",
       "    </tr>\n",
       "    <tr>\n",
       "      <th>18</th>\n",
       "      <td>12683859</td>\n",
       "      <td>Fiesta de carnaval en el Barro de la Alameda d...</td>\n",
       "      <td>http://www.madrid.es/sites/v/index.jsp?vgnextc...</td>\n",
       "      <td>None</td>\n",
       "      <td></td>\n",
       "      <td>18:00</td>\n",
       "      <td>2025-03-01 18:00:00.0</td>\n",
       "      <td>2025-03-01 23:59:00.0</td>\n",
       "      <td>None</td>\n",
       "    </tr>\n",
       "    <tr>\n",
       "      <th>40</th>\n",
       "      <td>12693997</td>\n",
       "      <td>Tejiendo Colores</td>\n",
       "      <td>http://www.madrid.es/sites/v/index.jsp?vgnextc...</td>\n",
       "      <td>28026</td>\n",
       "      <td>Centro de Educación Ambiental y Cultural Maris...</td>\n",
       "      <td></td>\n",
       "      <td>2025-03-01 00:00:00.0</td>\n",
       "      <td>2025-03-31 23:59:00.0</td>\n",
       "      <td>Centro de Educación Ambiental y Cultural Maris...</td>\n",
       "    </tr>\n",
       "    <tr>\n",
       "      <th>4</th>\n",
       "      <td>12697705</td>\n",
       "      <td>By Lucipun ' Muladar creativo'</td>\n",
       "      <td>http://www.madrid.es/sites/v/index.jsp?vgnextc...</td>\n",
       "      <td>28001</td>\n",
       "      <td>Espacio Cultural Núñez de Balboa, 40 (Salamanca)</td>\n",
       "      <td></td>\n",
       "      <td>2025-03-01 00:00:00.0</td>\n",
       "      <td>2025-03-21 23:59:00.0</td>\n",
       "      <td>Espacio Cultural Núñez de Balboa, 40 (Salamanca)</td>\n",
       "    </tr>\n",
       "    <tr>\n",
       "      <th>9</th>\n",
       "      <td>12697798</td>\n",
       "      <td>Clara Torres Morenilla</td>\n",
       "      <td>http://www.madrid.es/sites/v/index.jsp?vgnextc...</td>\n",
       "      <td>28028</td>\n",
       "      <td>Centro Cultural Quinta del Berro - Rafael Alta...</td>\n",
       "      <td></td>\n",
       "      <td>2025-03-01 00:00:00.0</td>\n",
       "      <td>2025-03-15 23:59:00.0</td>\n",
       "      <td>Centro Cultural Quinta del Berro - Rafael Alta...</td>\n",
       "    </tr>\n",
       "    <tr>\n",
       "      <th>19</th>\n",
       "      <td>12233828</td>\n",
       "      <td>Itinerario Ornitológico Parque Emperatriz Marí...</td>\n",
       "      <td>http://www.madrid.es/sites/v/index.jsp?vgnextc...</td>\n",
       "      <td>None</td>\n",
       "      <td></td>\n",
       "      <td>09:00</td>\n",
       "      <td>2025-03-01 09:00:00.0</td>\n",
       "      <td>2025-03-01 23:59:00.0</td>\n",
       "      <td>None</td>\n",
       "    </tr>\n",
       "    <tr>\n",
       "      <th>44</th>\n",
       "      <td>12686173</td>\n",
       "      <td>Villaverde Bajo. Concurso de Disfraces y Pasac...</td>\n",
       "      <td>http://www.madrid.es/sites/v/index.jsp?vgnextc...</td>\n",
       "      <td>None</td>\n",
       "      <td></td>\n",
       "      <td>17:30</td>\n",
       "      <td>2025-03-01 17:30:00.0</td>\n",
       "      <td>2025-03-01 23:59:00.0</td>\n",
       "      <td>None</td>\n",
       "    </tr>\n",
       "    <tr>\n",
       "      <th>23</th>\n",
       "      <td>12697883</td>\n",
       "      <td>Le kiosque</td>\n",
       "      <td>http://www.madrid.es/sites/v/index.jsp?vgnextc...</td>\n",
       "      <td>28045</td>\n",
       "      <td>Cineteca Madrid</td>\n",
       "      <td>19:00</td>\n",
       "      <td>2025-03-01 19:00:00.0</td>\n",
       "      <td>2025-03-01 23:59:00.0</td>\n",
       "      <td>Cineteca Madrid</td>\n",
       "    </tr>\n",
       "    <tr>\n",
       "      <th>5</th>\n",
       "      <td>12694234</td>\n",
       "      <td>Carnaval en familia. Espectáculo familiar. Car...</td>\n",
       "      <td>http://www.madrid.es/sites/v/index.jsp?vgnextc...</td>\n",
       "      <td>28042</td>\n",
       "      <td>Centro Cultural - Centro Socio Cultural Villa ...</td>\n",
       "      <td>12:30</td>\n",
       "      <td>2025-03-01 12:30:00.0</td>\n",
       "      <td>2025-03-01 23:59:00.0</td>\n",
       "      <td>Centro Cultural - Centro Socio Cultural Villa ...</td>\n",
       "    </tr>\n",
       "  </tbody>\n",
       "</table>\n",
       "</div>"
      ],
      "text/plain": [
       "   id_evento                                      nombre_evento  \\\n",
       "2   12682147             Baile de Carnaval. Concierto de Origen   \n",
       "12  12690609                       Cuatro historias de alquiler   \n",
       "18  12683859  Fiesta de carnaval en el Barro de la Alameda d...   \n",
       "40  12693997                                   Tejiendo Colores   \n",
       "4   12697705                     By Lucipun ' Muladar creativo'   \n",
       "9   12697798                             Clara Torres Morenilla   \n",
       "19  12233828  Itinerario Ornitológico Parque Emperatriz Marí...   \n",
       "44  12686173  Villaverde Bajo. Concurso de Disfraces y Pasac...   \n",
       "23  12697883                                         Le kiosque   \n",
       "5   12694234  Carnaval en familia. Espectáculo familiar. Car...   \n",
       "\n",
       "                                           url_evento codigo_postal  \\\n",
       "2   http://www.madrid.es/sites/v/index.jsp?vgnextc...          None   \n",
       "12  http://www.madrid.es/sites/v/index.jsp?vgnextc...         28022   \n",
       "18  http://www.madrid.es/sites/v/index.jsp?vgnextc...          None   \n",
       "40  http://www.madrid.es/sites/v/index.jsp?vgnextc...         28026   \n",
       "4   http://www.madrid.es/sites/v/index.jsp?vgnextc...         28001   \n",
       "9   http://www.madrid.es/sites/v/index.jsp?vgnextc...         28028   \n",
       "19  http://www.madrid.es/sites/v/index.jsp?vgnextc...          None   \n",
       "44  http://www.madrid.es/sites/v/index.jsp?vgnextc...          None   \n",
       "23  http://www.madrid.es/sites/v/index.jsp?vgnextc...         28045   \n",
       "5   http://www.madrid.es/sites/v/index.jsp?vgnextc...         28042   \n",
       "\n",
       "                                            direccion horario  \\\n",
       "2   plaza de Puerto Rubio (antigua plaza Vieja). C...   19:30   \n",
       "12  Centro Cultural Buero Vallejo (San Blas - Cani...   19:00   \n",
       "18                                                      18:00   \n",
       "40  Centro de Educación Ambiental y Cultural Maris...           \n",
       "4    Espacio Cultural Núñez de Balboa, 40 (Salamanca)           \n",
       "9   Centro Cultural Quinta del Berro - Rafael Alta...           \n",
       "19                                                      09:00   \n",
       "44                                                      17:30   \n",
       "23                                    Cineteca Madrid   19:00   \n",
       "5   Centro Cultural - Centro Socio Cultural Villa ...   12:30   \n",
       "\n",
       "             fecha_inicio              fecha_fin  \\\n",
       "2   2025-03-01 19:30:00.0  2025-03-01 23:59:00.0   \n",
       "12  2025-03-01 19:00:00.0  2025-03-01 23:59:00.0   \n",
       "18  2025-03-01 18:00:00.0  2025-03-01 23:59:00.0   \n",
       "40  2025-03-01 00:00:00.0  2025-03-31 23:59:00.0   \n",
       "4   2025-03-01 00:00:00.0  2025-03-21 23:59:00.0   \n",
       "9   2025-03-01 00:00:00.0  2025-03-15 23:59:00.0   \n",
       "19  2025-03-01 09:00:00.0  2025-03-01 23:59:00.0   \n",
       "44  2025-03-01 17:30:00.0  2025-03-01 23:59:00.0   \n",
       "23  2025-03-01 19:00:00.0  2025-03-01 23:59:00.0   \n",
       "5   2025-03-01 12:30:00.0  2025-03-01 23:59:00.0   \n",
       "\n",
       "                                         organizacion  \n",
       "2                                                None  \n",
       "12  Centro Cultural Buero Vallejo (San Blas - Cani...  \n",
       "18                                               None  \n",
       "40  Centro de Educación Ambiental y Cultural Maris...  \n",
       "4    Espacio Cultural Núñez de Balboa, 40 (Salamanca)  \n",
       "9   Centro Cultural Quinta del Berro - Rafael Alta...  \n",
       "19                                               None  \n",
       "44                                               None  \n",
       "23                                    Cineteca Madrid  \n",
       "5   Centro Cultural - Centro Socio Cultural Villa ...  "
      ]
     },
     "execution_count": 6,
     "metadata": {},
     "output_type": "execute_result"
    }
   ],
   "source": [
    "shape =df_api.shape\n",
    "print(shape)\n",
    "df_api.sample(10)"
   ]
  },
  {
   "cell_type": "code",
   "execution_count": 7,
   "metadata": {},
   "outputs": [],
   "source": [
    "def completar_horario(df):\n",
    "    \"\"\"\n",
    "    Extrae la hora de la columna 'fecha_inicio' y la usa para llenar 'horario' si está vacío.\n",
    "    \n",
    "    Parámetros:\n",
    "        df (pd.DataFrame): DataFrame con las columnas 'fecha_inicio' y 'horario'.\n",
    "        \n",
    "    Retorna:\n",
    "        pd.DataFrame: DataFrame con 'horario' corregido.\n",
    "    \"\"\"\n",
    "    # Extraer la hora de 'fecha_inicio' (primeros 16 caracteres para evitar milisegundos)\n",
    "    df[\"hora_extraida\"] = df[\"fecha_inicio\"].astype(str).str[11:16]  # Formato HH:MM\n",
    "    \n",
    "    # Si 'horario' está vacío, completar con 'hora_extraida'\n",
    "    df[\"horario\"] = df[\"horario\"].mask(df[\"horario\"] == \"\", df[\"hora_extraida\"])\n",
    "    \n",
    "    # Eliminar la columna auxiliar\n",
    "    df.drop(columns=[\"hora_extraida\"], inplace=True)\n",
    "    \n",
    "    return df\n"
   ]
  },
  {
   "cell_type": "code",
   "execution_count": 8,
   "metadata": {},
   "outputs": [
    {
     "data": {
      "text/html": [
       "<div>\n",
       "<style scoped>\n",
       "    .dataframe tbody tr th:only-of-type {\n",
       "        vertical-align: middle;\n",
       "    }\n",
       "\n",
       "    .dataframe tbody tr th {\n",
       "        vertical-align: top;\n",
       "    }\n",
       "\n",
       "    .dataframe thead th {\n",
       "        text-align: right;\n",
       "    }\n",
       "</style>\n",
       "<table border=\"1\" class=\"dataframe\">\n",
       "  <thead>\n",
       "    <tr style=\"text-align: right;\">\n",
       "      <th></th>\n",
       "      <th>id_evento</th>\n",
       "      <th>nombre_evento</th>\n",
       "      <th>url_evento</th>\n",
       "      <th>codigo_postal</th>\n",
       "      <th>direccion</th>\n",
       "      <th>horario</th>\n",
       "      <th>fecha_inicio</th>\n",
       "      <th>fecha_fin</th>\n",
       "      <th>organizacion</th>\n",
       "    </tr>\n",
       "  </thead>\n",
       "  <tbody>\n",
       "    <tr>\n",
       "      <th>33</th>\n",
       "      <td>12690327</td>\n",
       "      <td>Senderismo urbano. Emilia Pardo Bazán: mujer e...</td>\n",
       "      <td>http://www.madrid.es/sites/v/index.jsp?vgnextc...</td>\n",
       "      <td>None</td>\n",
       "      <td>Centro de Información y Educación Ambiental de...</td>\n",
       "      <td>11:00</td>\n",
       "      <td>2025-03-01 11:00:00.0</td>\n",
       "      <td>2025-03-01 23:59:00.0</td>\n",
       "      <td>Centro de Información y Educación Ambiental de...</td>\n",
       "    </tr>\n",
       "    <tr>\n",
       "      <th>14</th>\n",
       "      <td>12697300</td>\n",
       "      <td>El mago Rafathor</td>\n",
       "      <td>http://www.madrid.es/sites/v/index.jsp?vgnextc...</td>\n",
       "      <td>28035</td>\n",
       "      <td>Centro Cultural Julio Cortázar (Moncloa - Arav...</td>\n",
       "      <td>12:00</td>\n",
       "      <td>2025-03-01 12:00:00.0</td>\n",
       "      <td>2025-03-01 23:59:00.0</td>\n",
       "      <td>Centro Cultural Julio Cortázar (Moncloa - Arav...</td>\n",
       "    </tr>\n",
       "    <tr>\n",
       "      <th>2</th>\n",
       "      <td>12682147</td>\n",
       "      <td>Baile de Carnaval. Concierto de Origen</td>\n",
       "      <td>http://www.madrid.es/sites/v/index.jsp?vgnextc...</td>\n",
       "      <td>None</td>\n",
       "      <td>plaza de Puerto Rubio (antigua plaza Vieja). C...</td>\n",
       "      <td>19:30</td>\n",
       "      <td>2025-03-01 19:30:00.0</td>\n",
       "      <td>2025-03-01 23:59:00.0</td>\n",
       "      <td>None</td>\n",
       "    </tr>\n",
       "    <tr>\n",
       "      <th>39</th>\n",
       "      <td>12686923</td>\n",
       "      <td>Talleres Infantiles de Carnaval. Centros Socio...</td>\n",
       "      <td>http://www.madrid.es/sites/v/index.jsp?vgnextc...</td>\n",
       "      <td>None</td>\n",
       "      <td></td>\n",
       "      <td>11:00</td>\n",
       "      <td>2025-03-01 11:00:00.0</td>\n",
       "      <td>2025-03-01 23:59:00.0</td>\n",
       "      <td>None</td>\n",
       "    </tr>\n",
       "    <tr>\n",
       "      <th>37</th>\n",
       "      <td>12695827</td>\n",
       "      <td>Taller 'Pequeñas científicas'</td>\n",
       "      <td>http://www.madrid.es/sites/v/index.jsp?vgnextc...</td>\n",
       "      <td>28009</td>\n",
       "      <td>Aula ambiental La Cabaña del Retiro</td>\n",
       "      <td>16:30</td>\n",
       "      <td>2025-03-01 16:30:00.0</td>\n",
       "      <td>2025-03-01 23:59:00.0</td>\n",
       "      <td>Aula ambiental La Cabaña del Retiro</td>\n",
       "    </tr>\n",
       "    <tr>\n",
       "      <th>23</th>\n",
       "      <td>12697883</td>\n",
       "      <td>Le kiosque</td>\n",
       "      <td>http://www.madrid.es/sites/v/index.jsp?vgnextc...</td>\n",
       "      <td>28045</td>\n",
       "      <td>Cineteca Madrid</td>\n",
       "      <td>19:00</td>\n",
       "      <td>2025-03-01 19:00:00.0</td>\n",
       "      <td>2025-03-01 23:59:00.0</td>\n",
       "      <td>Cineteca Madrid</td>\n",
       "    </tr>\n",
       "    <tr>\n",
       "      <th>29</th>\n",
       "      <td>12661729</td>\n",
       "      <td>Nosotras creamos mundo</td>\n",
       "      <td>http://www.madrid.es/sites/v/index.jsp?vgnextc...</td>\n",
       "      <td>28041</td>\n",
       "      <td>Centro Sociocultural San Fermín (Usera)</td>\n",
       "      <td>12:00</td>\n",
       "      <td>2025-03-01 12:00:00.0</td>\n",
       "      <td>2025-03-01 23:59:00.0</td>\n",
       "      <td>Centro Sociocultural San Fermín (Usera)</td>\n",
       "    </tr>\n",
       "    <tr>\n",
       "      <th>16</th>\n",
       "      <td>12694176</td>\n",
       "      <td>Exposición de Pintura `Paisajes´ y `Rincones d...</td>\n",
       "      <td>http://www.madrid.es/sites/v/index.jsp?vgnextc...</td>\n",
       "      <td>28021</td>\n",
       "      <td>Centro Sociocultural Marconi (Villaverde)</td>\n",
       "      <td>00:00</td>\n",
       "      <td>2025-03-01 00:00:00.0</td>\n",
       "      <td>2025-03-31 23:59:00.0</td>\n",
       "      <td>Centro Sociocultural Marconi (Villaverde)</td>\n",
       "    </tr>\n",
       "    <tr>\n",
       "      <th>38</th>\n",
       "      <td>12696013</td>\n",
       "      <td>Talleres de máscaras</td>\n",
       "      <td>http://www.madrid.es/sites/v/index.jsp?vgnextc...</td>\n",
       "      <td>28020</td>\n",
       "      <td>Centro Sociocultural Tetuán</td>\n",
       "      <td>00:00</td>\n",
       "      <td>2025-03-01 00:00:00.0</td>\n",
       "      <td>2025-03-01 23:59:00.0</td>\n",
       "      <td>Centro Sociocultural Tetuán</td>\n",
       "    </tr>\n",
       "    <tr>\n",
       "      <th>40</th>\n",
       "      <td>12693997</td>\n",
       "      <td>Tejiendo Colores</td>\n",
       "      <td>http://www.madrid.es/sites/v/index.jsp?vgnextc...</td>\n",
       "      <td>28026</td>\n",
       "      <td>Centro de Educación Ambiental y Cultural Maris...</td>\n",
       "      <td>00:00</td>\n",
       "      <td>2025-03-01 00:00:00.0</td>\n",
       "      <td>2025-03-31 23:59:00.0</td>\n",
       "      <td>Centro de Educación Ambiental y Cultural Maris...</td>\n",
       "    </tr>\n",
       "  </tbody>\n",
       "</table>\n",
       "</div>"
      ],
      "text/plain": [
       "   id_evento                                      nombre_evento  \\\n",
       "33  12690327  Senderismo urbano. Emilia Pardo Bazán: mujer e...   \n",
       "14  12697300                                   El mago Rafathor   \n",
       "2   12682147             Baile de Carnaval. Concierto de Origen   \n",
       "39  12686923  Talleres Infantiles de Carnaval. Centros Socio...   \n",
       "37  12695827                      Taller 'Pequeñas científicas'   \n",
       "23  12697883                                         Le kiosque   \n",
       "29  12661729                             Nosotras creamos mundo   \n",
       "16  12694176  Exposición de Pintura `Paisajes´ y `Rincones d...   \n",
       "38  12696013                               Talleres de máscaras   \n",
       "40  12693997                                   Tejiendo Colores   \n",
       "\n",
       "                                           url_evento codigo_postal  \\\n",
       "33  http://www.madrid.es/sites/v/index.jsp?vgnextc...          None   \n",
       "14  http://www.madrid.es/sites/v/index.jsp?vgnextc...         28035   \n",
       "2   http://www.madrid.es/sites/v/index.jsp?vgnextc...          None   \n",
       "39  http://www.madrid.es/sites/v/index.jsp?vgnextc...          None   \n",
       "37  http://www.madrid.es/sites/v/index.jsp?vgnextc...         28009   \n",
       "23  http://www.madrid.es/sites/v/index.jsp?vgnextc...         28045   \n",
       "29  http://www.madrid.es/sites/v/index.jsp?vgnextc...         28041   \n",
       "16  http://www.madrid.es/sites/v/index.jsp?vgnextc...         28021   \n",
       "38  http://www.madrid.es/sites/v/index.jsp?vgnextc...         28020   \n",
       "40  http://www.madrid.es/sites/v/index.jsp?vgnextc...         28026   \n",
       "\n",
       "                                            direccion horario  \\\n",
       "33  Centro de Información y Educación Ambiental de...   11:00   \n",
       "14  Centro Cultural Julio Cortázar (Moncloa - Arav...   12:00   \n",
       "2   plaza de Puerto Rubio (antigua plaza Vieja). C...   19:30   \n",
       "39                                                      11:00   \n",
       "37                Aula ambiental La Cabaña del Retiro   16:30   \n",
       "23                                    Cineteca Madrid   19:00   \n",
       "29            Centro Sociocultural San Fermín (Usera)   12:00   \n",
       "16          Centro Sociocultural Marconi (Villaverde)   00:00   \n",
       "38                        Centro Sociocultural Tetuán   00:00   \n",
       "40  Centro de Educación Ambiental y Cultural Maris...   00:00   \n",
       "\n",
       "             fecha_inicio              fecha_fin  \\\n",
       "33  2025-03-01 11:00:00.0  2025-03-01 23:59:00.0   \n",
       "14  2025-03-01 12:00:00.0  2025-03-01 23:59:00.0   \n",
       "2   2025-03-01 19:30:00.0  2025-03-01 23:59:00.0   \n",
       "39  2025-03-01 11:00:00.0  2025-03-01 23:59:00.0   \n",
       "37  2025-03-01 16:30:00.0  2025-03-01 23:59:00.0   \n",
       "23  2025-03-01 19:00:00.0  2025-03-01 23:59:00.0   \n",
       "29  2025-03-01 12:00:00.0  2025-03-01 23:59:00.0   \n",
       "16  2025-03-01 00:00:00.0  2025-03-31 23:59:00.0   \n",
       "38  2025-03-01 00:00:00.0  2025-03-01 23:59:00.0   \n",
       "40  2025-03-01 00:00:00.0  2025-03-31 23:59:00.0   \n",
       "\n",
       "                                         organizacion  \n",
       "33  Centro de Información y Educación Ambiental de...  \n",
       "14  Centro Cultural Julio Cortázar (Moncloa - Arav...  \n",
       "2                                                None  \n",
       "39                                               None  \n",
       "37                Aula ambiental La Cabaña del Retiro  \n",
       "23                                    Cineteca Madrid  \n",
       "29            Centro Sociocultural San Fermín (Usera)  \n",
       "16          Centro Sociocultural Marconi (Villaverde)  \n",
       "38                        Centro Sociocultural Tetuán  \n",
       "40  Centro de Educación Ambiental y Cultural Maris...  "
      ]
     },
     "execution_count": 8,
     "metadata": {},
     "output_type": "execute_result"
    }
   ],
   "source": [
    "completar_horario(df_api)\n",
    "df_api.sample(10)"
   ]
  },
  {
   "cell_type": "code",
   "execution_count": 9,
   "metadata": {},
   "outputs": [
    {
     "data": {
      "text/plain": [
       "fecha_inicio\n",
       "2025-03-01 00:00:00.0    9\n",
       "2025-03-01 08:30:00.0    1\n",
       "2025-03-01 09:00:00.0    1\n",
       "2025-03-01 10:00:00.0    1\n",
       "2025-03-01 10:30:00.0    2\n",
       "2025-03-01 11:00:00.0    8\n",
       "2025-03-01 12:00:00.0    3\n",
       "2025-03-01 12:30:00.0    1\n",
       "2025-03-01 16:30:00.0    1\n",
       "2025-03-01 17:00:00.0    1\n",
       "2025-03-01 17:30:00.0    1\n",
       "2025-03-01 18:00:00.0    4\n",
       "2025-03-01 19:00:00.0    5\n",
       "2025-03-01 19:30:00.0    3\n",
       "2025-03-01 21:15:00.0    1\n",
       "2025-03-01 21:30:00.0    3\n",
       "Name: count, dtype: int64"
      ]
     },
     "execution_count": 9,
     "metadata": {},
     "output_type": "execute_result"
    }
   ],
   "source": [
    "df_api[\"fecha_inicio\"].value_counts().sort_index()"
   ]
  },
  {
   "cell_type": "code",
   "execution_count": 10,
   "metadata": {},
   "outputs": [
    {
     "data": {
      "text/plain": [
       "id_evento         0\n",
       "nombre_evento     0\n",
       "url_evento        0\n",
       "codigo_postal    15\n",
       "direccion        11\n",
       "horario           0\n",
       "fecha_inicio      0\n",
       "fecha_fin         0\n",
       "organizacion     14\n",
       "dtype: int64"
      ]
     },
     "execution_count": 10,
     "metadata": {},
     "output_type": "execute_result"
    }
   ],
   "source": [
    "celdas_vacias = df_api.isnull().sum() + (df_api == '').sum()\n",
    "celdas_vacias"
   ]
  },
  {
   "cell_type": "markdown",
   "metadata": {},
   "source": [
    "## Normalización"
   ]
  },
  {
   "cell_type": "code",
   "execution_count": 11,
   "metadata": {},
   "outputs": [],
   "source": [
    "def normalizar_fechas(df):\n",
    "    \"\"\"\n",
    "    Elimina las horas de las columnas 'fecha_inicio' y 'fecha_fin', dejando solo 'YYYY-MM-DD'.\n",
    "    \n",
    "    Parámetros:\n",
    "        df (pd.DataFrame): DataFrame con las columnas 'fecha_inicio' y 'fecha_fin'.\n",
    "        \n",
    "    Retorna:\n",
    "        pd.DataFrame: DataFrame con las fechas normalizadas.\n",
    "    \"\"\"\n",
    "    df[\"fecha_inicio\"] = df[\"fecha_inicio\"].astype(str).str[:10]  # Extraer solo YYYY-MM-DD\n",
    "    df[\"fecha_fin\"] = df[\"fecha_fin\"].astype(str).str[:10]  # Extraer solo YYYY-MM-DD\n",
    "    \n",
    "    return df\n"
   ]
  },
  {
   "cell_type": "code",
   "execution_count": 12,
   "metadata": {},
   "outputs": [
    {
     "data": {
      "text/html": [
       "<div>\n",
       "<style scoped>\n",
       "    .dataframe tbody tr th:only-of-type {\n",
       "        vertical-align: middle;\n",
       "    }\n",
       "\n",
       "    .dataframe tbody tr th {\n",
       "        vertical-align: top;\n",
       "    }\n",
       "\n",
       "    .dataframe thead th {\n",
       "        text-align: right;\n",
       "    }\n",
       "</style>\n",
       "<table border=\"1\" class=\"dataframe\">\n",
       "  <thead>\n",
       "    <tr style=\"text-align: right;\">\n",
       "      <th></th>\n",
       "      <th>id_evento</th>\n",
       "      <th>nombre_evento</th>\n",
       "      <th>url_evento</th>\n",
       "      <th>codigo_postal</th>\n",
       "      <th>direccion</th>\n",
       "      <th>horario</th>\n",
       "      <th>fecha_inicio</th>\n",
       "      <th>fecha_fin</th>\n",
       "      <th>organizacion</th>\n",
       "    </tr>\n",
       "  </thead>\n",
       "  <tbody>\n",
       "    <tr>\n",
       "      <th>35</th>\n",
       "      <td>12696746</td>\n",
       "      <td>Taller de Bancal lasaña en el Huerto Urbano Co...</td>\n",
       "      <td>http://www.madrid.es/sites/v/index.jsp?vgnextc...</td>\n",
       "      <td>None</td>\n",
       "      <td></td>\n",
       "      <td>11:00</td>\n",
       "      <td>2025-03-01</td>\n",
       "      <td>2025-03-01</td>\n",
       "      <td>None</td>\n",
       "    </tr>\n",
       "    <tr>\n",
       "      <th>3</th>\n",
       "      <td>12682149</td>\n",
       "      <td>Baile de Carnaval. Concierto de Versioneta</td>\n",
       "      <td>http://www.madrid.es/sites/v/index.jsp?vgnextc...</td>\n",
       "      <td>None</td>\n",
       "      <td>plaza de Puerto Rubio (antigua plaza Vieja). V...</td>\n",
       "      <td>21:15</td>\n",
       "      <td>2025-03-01</td>\n",
       "      <td>2025-03-01</td>\n",
       "      <td>None</td>\n",
       "    </tr>\n",
       "    <tr>\n",
       "      <th>23</th>\n",
       "      <td>12697883</td>\n",
       "      <td>Le kiosque</td>\n",
       "      <td>http://www.madrid.es/sites/v/index.jsp?vgnextc...</td>\n",
       "      <td>28045</td>\n",
       "      <td>Cineteca Madrid</td>\n",
       "      <td>19:00</td>\n",
       "      <td>2025-03-01</td>\n",
       "      <td>2025-03-01</td>\n",
       "      <td>Cineteca Madrid</td>\n",
       "    </tr>\n",
       "  </tbody>\n",
       "</table>\n",
       "</div>"
      ],
      "text/plain": [
       "   id_evento                                      nombre_evento  \\\n",
       "35  12696746  Taller de Bancal lasaña en el Huerto Urbano Co...   \n",
       "3   12682149         Baile de Carnaval. Concierto de Versioneta   \n",
       "23  12697883                                         Le kiosque   \n",
       "\n",
       "                                           url_evento codigo_postal  \\\n",
       "35  http://www.madrid.es/sites/v/index.jsp?vgnextc...          None   \n",
       "3   http://www.madrid.es/sites/v/index.jsp?vgnextc...          None   \n",
       "23  http://www.madrid.es/sites/v/index.jsp?vgnextc...         28045   \n",
       "\n",
       "                                            direccion horario fecha_inicio  \\\n",
       "35                                                      11:00   2025-03-01   \n",
       "3   plaza de Puerto Rubio (antigua plaza Vieja). V...   21:15   2025-03-01   \n",
       "23                                    Cineteca Madrid   19:00   2025-03-01   \n",
       "\n",
       "     fecha_fin     organizacion  \n",
       "35  2025-03-01             None  \n",
       "3   2025-03-01             None  \n",
       "23  2025-03-01  Cineteca Madrid  "
      ]
     },
     "execution_count": 12,
     "metadata": {},
     "output_type": "execute_result"
    }
   ],
   "source": [
    "df_api = normalizar_fechas(df_api)\n",
    "df_api.sample(3)"
   ]
  },
  {
   "cell_type": "markdown",
   "metadata": {},
   "source": [
    "## Carga de datos"
   ]
  },
  {
   "cell_type": "markdown",
   "metadata": {},
   "source": [
    "## Paso 1. Conectar con Postgres"
   ]
  },
  {
   "cell_type": "code",
   "execution_count": 13,
   "metadata": {},
   "outputs": [
    {
     "name": "stdout",
     "output_type": "stream",
     "text": [
      "Conexión exitosa\n",
      "('PostgreSQL 17.0 on x86_64-windows, compiled by msvc-19.41.34120, 64-bit',)\n"
     ]
    }
   ],
   "source": [
    "import psycopg2\n",
    "from psycopg2 import OperationalError\n",
    "\n",
    "def create_connection():\n",
    "    try:\n",
    "        # Configurar la conexión\n",
    "        conn = psycopg2.connect(\n",
    "            dbname=\"project_etl_ibis\",\n",
    "            user=\"postgres\",\n",
    "            password=\"admin\",\n",
    "            host=\"localhost\",\n",
    "            port=\"5432\"\n",
    "        )\n",
    "        print(\"Conexión exitosa\")\n",
    "        return conn\n",
    "    except OperationalError as e:\n",
    "        print(f\"Error al conectar a la base de datos: {e}\")\n",
    "        return None\n",
    "\n",
    "# Crear la conexión\n",
    "conn = create_connection()\n",
    "\n",
    "if conn:\n",
    "    # Crear un cursor para ejecutar comandos SQL\n",
    "    cur = conn.cursor()\n",
    "\n",
    "    # Verificar la conexión\n",
    "    cur.execute(\"SELECT version();\")\n",
    "    print(cur.fetchone())\n",
    "\n",
    "    # Cerrar la conexión\n",
    "    cur.close()\n",
    "    conn.close()"
   ]
  },
  {
   "cell_type": "markdown",
   "metadata": {},
   "source": [
    "## 2. Carga de Datos"
   ]
  },
  {
   "cell_type": "markdown",
   "metadata": {},
   "source": [
    "### Inserto datos en TABLA CIUDAD"
   ]
  },
  {
   "cell_type": "code",
   "execution_count": 14,
   "metadata": {},
   "outputs": [
    {
     "name": "stdout",
     "output_type": "stream",
     "text": [
      "La ciudad 'Madrid' ya existe con id_ciudad = 1\n"
     ]
    }
   ],
   "source": [
    "import psycopg2\n",
    "\n",
    "# Conectar a la base de datos\n",
    "conn = psycopg2.connect(dbname=\"project_etl_ibis\", user=\"postgres\", password=\"admin\", host=\"localhost\", port=\"5432\")\n",
    "cur = conn.cursor()\n",
    "\n",
    "# Obtener el nombre de la ciudad desde el DataFrame (suponiendo que todas son \"Madrid\")\n",
    "nombre_ciudad = \"Madrid\"\n",
    "\n",
    "# 1️⃣ Verificar si la ciudad ya existe\n",
    "cur.execute(\"SELECT id_ciudad FROM ciudad WHERE nombre_ciudad = %s\", (nombre_ciudad,))\n",
    "result = cur.fetchone()\n",
    "\n",
    "if result:\n",
    "    id_ciudad = result[0]  # Si ya existe, obtenemos su ID\n",
    "    print(f\"La ciudad '{nombre_ciudad}' ya existe con id_ciudad = {id_ciudad}\")\n",
    "else:\n",
    "    # 2️⃣ Si no existe, insertamos la ciudad y obtenemos el id_ciudad\n",
    "    cur.execute(\"INSERT INTO ciudad (nombre_ciudad) VALUES (%s) RETURNING id_ciudad;\", (nombre_ciudad,))\n",
    "    id_ciudad = cur.fetchone()[0]\n",
    "    conn.commit()\n",
    "    print(f\"Se insertó la ciudad '{nombre_ciudad}' con id_ciudad = {id_ciudad}\")\n",
    "\n",
    "# Cerrar conexión\n",
    "cur.close()\n",
    "conn.close()\n"
   ]
  },
  {
   "cell_type": "markdown",
   "metadata": {},
   "source": [
    "QUERY"
   ]
  },
  {
   "cell_type": "code",
   "execution_count": 15,
   "metadata": {},
   "outputs": [
    {
     "name": "stdout",
     "output_type": "stream",
     "text": [
      "(1, 'Madrid')\n"
     ]
    }
   ],
   "source": [
    "# Conectarse a PostgreSQL\n",
    "conn = psycopg2.connect(dbname=\"project_etl_ibis\", user=\"postgres\", password=\"admin\", host=\"localhost\", port=\"5432\")\n",
    "cur = conn.cursor()\n",
    "\n",
    "# Obtener todas las ventas\n",
    "cur.execute(\"SELECT * FROM ciudad;\")\n",
    "\n",
    "# Mostrar los resultados\n",
    "for row in cur.fetchall():\n",
    "    print(row)\n",
    "\n",
    "# Cerrar conexión\n",
    "cur.close()\n",
    "conn.close()"
   ]
  },
  {
   "cell_type": "markdown",
   "metadata": {},
   "source": [
    "### Cargar datos en TABLA HOTELES"
   ]
  },
  {
   "cell_type": "code",
   "execution_count": 16,
   "metadata": {},
   "outputs": [],
   "source": [
    "df_completo = pd.read_csv(r\"C:\\Users\\marta\\Desktop\\mibootcamp\\ETL_IBIShotels\\data\\dfcompleto.csv\", parse_dates=[\"fecha_reserva\", \"inicio_estancia\", \"final_estancia\"])"
   ]
  },
  {
   "cell_type": "code",
   "execution_count": 17,
   "metadata": {},
   "outputs": [
    {
     "data": {
      "text/plain": [
       "id_reserva                 object\n",
       "id_cliente                  int64\n",
       "nombre                     object\n",
       "apellido                   object\n",
       "mail                       object\n",
       "competencia                  bool\n",
       "fecha_reserva      datetime64[ns]\n",
       "inicio_estancia    datetime64[ns]\n",
       "final_estancia     datetime64[ns]\n",
       "id_hotel                    int64\n",
       "precio_noche              float64\n",
       "nombre_hotel               object\n",
       "valoracion                float64\n",
       "ciudad                     object\n",
       "dtype: object"
      ]
     },
     "execution_count": 17,
     "metadata": {},
     "output_type": "execute_result"
    }
   ],
   "source": [
    "df_completo.rename(columns={\"valoración\": \"valoracion\"}, inplace=True)  # Renombrar la columna\n",
    "df_completo.dtypes"
   ]
  },
  {
   "cell_type": "code",
   "execution_count": 18,
   "metadata": {},
   "outputs": [
    {
     "name": "stdout",
     "output_type": "stream",
     "text": [
      "La ciudad 'Madrid' ya existe con id_ciudad = 1\n",
      "Hoteles insertados correctamente.\n"
     ]
    }
   ],
   "source": [
    "conn = psycopg2.connect(dbname=\"project_etl_ibis\", user=\"postgres\", password=\"admin\", host=\"localhost\", port=\"5432\")\n",
    "cur = conn.cursor()\n",
    "\n",
    "# 1️⃣ Obtener la ciudad del DataFrame (asumiendo que todas son \"Madrid\")\n",
    "nombre_ciudad = df_completo[\"ciudad\"].unique()[0]  # Si hay más ciudades, necesitarás un bucle\n",
    "\n",
    "# 2️⃣ Verificar si la ciudad ya existe\n",
    "cur.execute(\"SELECT id_ciudad FROM ciudad WHERE nombre_ciudad = %s\", (nombre_ciudad,))\n",
    "result = cur.fetchone()\n",
    "\n",
    "if result:\n",
    "    id_ciudad = result[0]  # Recuperar el ID de la ciudad\n",
    "    print(f\"La ciudad '{nombre_ciudad}' ya existe con id_ciudad = {id_ciudad}\")\n",
    "else:\n",
    "    # Insertar la ciudad si no existe\n",
    "    cur.execute(\"INSERT INTO ciudad (nombre_ciudad) VALUES (%s) RETURNING id_ciudad;\", (nombre_ciudad,))\n",
    "    id_ciudad = cur.fetchone()[0]\n",
    "    conn.commit()\n",
    "    print(f\"Se insertó la ciudad '{nombre_ciudad}' con id_ciudad = {id_ciudad}\")\n",
    "\n",
    "# 3️⃣ Preparar los datos de hoteles\n",
    "df_hoteles = df_completo[[\"nombre_hotel\", \"competencia\", \"valoracion\"]].copy()\n",
    "df_hoteles[\"id_ciudad\"] = id_ciudad  # Asignar el id_ciudad obtenido\n",
    "df_hoteles[\"competencia\"] = df_hoteles[\"competencia\"].astype(bool)\n",
    "\n",
    "# 4️⃣ Eliminar duplicados para evitar insertar el mismo hotel varias veces\n",
    "df_hoteles = df_hoteles.drop_duplicates(subset=[\"nombre_hotel\"])\n",
    "\n",
    "# 5️⃣ Convertir DataFrame a lista de tuplas para la inserción\n",
    "records = df_hoteles[[\"nombre_hotel\", \"competencia\", \"valoracion\", \"id_ciudad\"]].to_records(index=False)\n",
    "records_list = [(str(nombre_hotel), bool(competencia), float(valoracion), int(id_ciudad)) for nombre_hotel, competencia, valoracion, id_ciudad in records]\n",
    "\n",
    "# 6️⃣ Insertar los datos en la tabla `hoteles`\n",
    "query = \"\"\"\n",
    "    INSERT INTO hoteles (nombre_hotel, competencia, valoracion, id_ciudad) \n",
    "    VALUES (%s, %s, %s, %s)\n",
    "\"\"\"\n",
    "cur.executemany(query, records_list)\n",
    "\n",
    "# 📌 Guardar cambios y cerrar conexión\n",
    "conn.commit()\n",
    "cur.close()\n",
    "conn.close()\n",
    "\n",
    "print(\"Hoteles insertados correctamente.\")"
   ]
  },
  {
   "cell_type": "markdown",
   "metadata": {},
   "source": [
    "## Tabla clientes "
   ]
  },
  {
   "cell_type": "code",
   "execution_count": 19,
   "metadata": {},
   "outputs": [
    {
     "data": {
      "text/plain": [
       "Index(['id_reserva', 'id_cliente', 'nombre', 'apellido', 'mail', 'competencia',\n",
       "       'fecha_reserva', 'inicio_estancia', 'final_estancia', 'id_hotel',\n",
       "       'precio_noche', 'nombre_hotel', 'valoracion', 'ciudad'],\n",
       "      dtype='object')"
      ]
     },
     "execution_count": 19,
     "metadata": {},
     "output_type": "execute_result"
    }
   ],
   "source": [
    "df_completo.columns"
   ]
  },
  {
   "cell_type": "code",
   "execution_count": 20,
   "metadata": {},
   "outputs": [],
   "source": [
    "df_cliente = df_completo[[\"id_cliente\", \"nombre\", \"apellido\", \"mail\"]].copy()"
   ]
  },
  {
   "cell_type": "code",
   "execution_count": 21,
   "metadata": {},
   "outputs": [],
   "source": [
    "# Convertir id_cliente a string antes de insertarlo\n",
    "df_cliente[\"id_cliente\"] = df_cliente[\"id_cliente\"].astype(str)\n"
   ]
  },
  {
   "cell_type": "code",
   "execution_count": 22,
   "metadata": {},
   "outputs": [
    {
     "data": {
      "text/plain": [
       "id_cliente    object\n",
       "nombre        object\n",
       "apellido      object\n",
       "mail          object\n",
       "dtype: object"
      ]
     },
     "execution_count": 22,
     "metadata": {},
     "output_type": "execute_result"
    }
   ],
   "source": [
    "df_cliente.dtypes"
   ]
  },
  {
   "cell_type": "code",
   "execution_count": 23,
   "metadata": {},
   "outputs": [],
   "source": [
    "df_cliente = df_cliente.drop_duplicates(subset=[\"id_cliente\"])"
   ]
  },
  {
   "cell_type": "code",
   "execution_count": 24,
   "metadata": {},
   "outputs": [
    {
     "ename": "UniqueViolation",
     "evalue": "llave duplicada viola restricción de unicidad «clientes_pkey»\nDETAIL:  Ya existe la llave (id_cliente)=(2).\n",
     "output_type": "error",
     "traceback": [
      "\u001b[1;31m---------------------------------------------------------------------------\u001b[0m",
      "\u001b[1;31mUniqueViolation\u001b[0m                           Traceback (most recent call last)",
      "Cell \u001b[1;32mIn[24], line 14\u001b[0m\n\u001b[0;32m      9\u001b[0m \u001b[38;5;66;03m# Insertar múltiples registros con ejecuta_many()\u001b[39;00m\n\u001b[0;32m     10\u001b[0m query \u001b[38;5;241m=\u001b[39m \u001b[38;5;124m\"\"\"\u001b[39m\n\u001b[0;32m     11\u001b[0m \u001b[38;5;124m    INSERT INTO clientes (id_cliente, nombre, apellido, mail)\u001b[39m\n\u001b[0;32m     12\u001b[0m \u001b[38;5;124m    VALUES (\u001b[39m\u001b[38;5;132;01m%s\u001b[39;00m\u001b[38;5;124m, \u001b[39m\u001b[38;5;132;01m%s\u001b[39;00m\u001b[38;5;124m, \u001b[39m\u001b[38;5;132;01m%s\u001b[39;00m\u001b[38;5;124m, \u001b[39m\u001b[38;5;132;01m%s\u001b[39;00m\u001b[38;5;124m)\u001b[39m\n\u001b[0;32m     13\u001b[0m \u001b[38;5;124m\"\"\"\u001b[39m\n\u001b[1;32m---> 14\u001b[0m \u001b[43mcur\u001b[49m\u001b[38;5;241;43m.\u001b[39;49m\u001b[43mexecutemany\u001b[49m\u001b[43m(\u001b[49m\u001b[43mquery\u001b[49m\u001b[43m,\u001b[49m\u001b[43m \u001b[49m\u001b[43mrecords_list\u001b[49m\u001b[43m)\u001b[49m\n\u001b[0;32m     16\u001b[0m \u001b[38;5;66;03m# Guardar cambios\u001b[39;00m\n\u001b[0;32m     17\u001b[0m conn\u001b[38;5;241m.\u001b[39mcommit()\n",
      "\u001b[1;31mUniqueViolation\u001b[0m: llave duplicada viola restricción de unicidad «clientes_pkey»\nDETAIL:  Ya existe la llave (id_cliente)=(2).\n"
     ]
    }
   ],
   "source": [
    "# Reabrir la conexión\n",
    "conn = psycopg2.connect(dbname=\"project_etl_ibis\", user=\"postgres\", password=\"admin\", host=\"localhost\", port=\"5432\")\n",
    "cur = conn.cursor()\n",
    "\n",
    "# Convertir DataFrame a lista de tuplas\n",
    "records = df_cliente[[\"id_cliente\", \"nombre\", \"apellido\", \"mail\"]].to_records(index=False)\n",
    "records_list = list(records)\n",
    "\n",
    "# Insertar múltiples registros con ejecuta_many()\n",
    "query = \"\"\"\n",
    "    INSERT INTO clientes (id_cliente, nombre, apellido, mail)\n",
    "    VALUES (%s, %s, %s, %s)\n",
    "\"\"\"\n",
    "cur.executemany(query, records_list)\n",
    "\n",
    "# Guardar cambios\n",
    "conn.commit()\n",
    "\n",
    "# Cerrar la conexión\n",
    "cur.close()\n",
    "conn.close()\n",
    "print(\"Datos insertados correctamente\")"
   ]
  },
  {
   "cell_type": "code",
   "execution_count": 25,
   "metadata": {},
   "outputs": [],
   "source": [
    "conn.rollback()"
   ]
  },
  {
   "cell_type": "markdown",
   "metadata": {},
   "source": [
    "rollback"
   ]
  },
  {
   "cell_type": "code",
   "execution_count": null,
   "metadata": {},
   "outputs": [
    {
     "data": {
      "text/plain": [
       "14905"
      ]
     },
     "execution_count": 35,
     "metadata": {},
     "output_type": "execute_result"
    }
   ],
   "source": [
    "df_cliente[\"id_cliente\"].count()"
   ]
  },
  {
   "cell_type": "markdown",
   "metadata": {},
   "source": [
    "QUERY"
   ]
  },
  {
   "cell_type": "markdown",
   "metadata": {},
   "source": [
    "SELECT r.id_reserva, c.id_cliente\n",
    "FROM reservas r\n",
    "LEFT JOIN clientes c ON r.id_cliente = c.id_cliente\n",
    "WHERE c.id_cliente IS NULL;  -- Detecta reservas sin cliente\n"
   ]
  },
  {
   "cell_type": "markdown",
   "metadata": {},
   "source": [
    "TABLA RESERVAS"
   ]
  },
  {
   "cell_type": "code",
   "execution_count": 26,
   "metadata": {},
   "outputs": [
    {
     "data": {
      "text/plain": [
       "Index(['id_reserva', 'id_cliente', 'nombre', 'apellido', 'mail', 'competencia',\n",
       "       'fecha_reserva', 'inicio_estancia', 'final_estancia', 'id_hotel',\n",
       "       'precio_noche', 'nombre_hotel', 'valoracion', 'ciudad'],\n",
       "      dtype='object')"
      ]
     },
     "execution_count": 26,
     "metadata": {},
     "output_type": "execute_result"
    }
   ],
   "source": [
    "df_completo.columns"
   ]
  },
  {
   "cell_type": "code",
   "execution_count": 27,
   "metadata": {},
   "outputs": [],
   "source": [
    "df_reservas = df_completo[[\"id_reserva\", \"fecha_reserva\", \"inicio_estancia\", \"final_estancia\", \"precio_noche\", \"id_cliente\", \"id_hotel\"]].copy()"
   ]
  },
  {
   "cell_type": "code",
   "execution_count": 28,
   "metadata": {},
   "outputs": [
    {
     "data": {
      "text/plain": [
       "id_reserva                 object\n",
       "fecha_reserva      datetime64[ns]\n",
       "inicio_estancia    datetime64[ns]\n",
       "final_estancia     datetime64[ns]\n",
       "precio_noche              float64\n",
       "id_cliente                  int64\n",
       "id_hotel                    int64\n",
       "dtype: object"
      ]
     },
     "execution_count": 28,
     "metadata": {},
     "output_type": "execute_result"
    }
   ],
   "source": [
    "df_reservas.dtypes"
   ]
  },
  {
   "cell_type": "code",
   "execution_count": 29,
   "metadata": {},
   "outputs": [],
   "source": [
    "df_reservas[\"fecha_reserva\"] = pd.to_datetime(df_reservas[\"fecha_reserva\"], errors='coerce')\n",
    "df_reservas[\"inicio_estancia\"] = pd.to_datetime(df_reservas[\"inicio_estancia\"], errors='coerce')\n",
    "df_reservas[\"final_estancia\"] = pd.to_datetime(df_reservas[\"final_estancia\"], errors='coerce')\n"
   ]
  },
  {
   "cell_type": "code",
   "execution_count": 30,
   "metadata": {},
   "outputs": [],
   "source": [
    "conn = psycopg2.connect(dbname=\"project_etl_ibis\", user=\"postgres\", password=\"admin\", host=\"localhost\", port=\"5432\")\n",
    "cur = conn.cursor()\n"
   ]
  },
  {
   "cell_type": "markdown",
   "metadata": {},
   "source": [
    "el problema q me daba es q la fecha reserva tenia q crear cuando extraje los datos una columna poniendo la fecha del estract"
   ]
  },
  {
   "cell_type": "code",
   "execution_count": 31,
   "metadata": {},
   "outputs": [],
   "source": [
    "from datetime import datetime, timedelta\n",
    "fecha_ayer = pd.to_datetime(datetime.now() - timedelta(1)).strftime('%Y-%m-%d')\n",
    "\n",
    "# Reemplazar los valores NaT en la columna 'fecha_reserva' con la fecha de ayer\n",
    "df_reservas['fecha_reserva'] = df_reservas['fecha_reserva'].fillna(fecha_ayer)"
   ]
  },
  {
   "cell_type": "markdown",
   "metadata": {},
   "source": [
    "completar datos inicio estancia y fin estancia \n",
    "precio noche\n"
   ]
  },
  {
   "cell_type": "code",
   "execution_count": 33,
   "metadata": {},
   "outputs": [],
   "source": [
    "# Definir la fecha con la que se rellenarán los valores nulos\n",
    "fecha_reemplazo = '2025-03-01'\n",
    "\n",
    "# Rellenar los valores nulos en la columna 'inicio_estancia' con la fecha '2025-03-01'\n",
    "df_reservas['inicio_estancia'] = df_reservas['inicio_estancia'].fillna(fecha_reemplazo)\n"
   ]
  },
  {
   "cell_type": "code",
   "execution_count": 34,
   "metadata": {},
   "outputs": [
    {
     "name": "stdout",
     "output_type": "stream",
     "text": [
      "2025-03-02 00:00:00\n"
     ]
    }
   ],
   "source": [
    "# Calcular la moda de la columna 'final_estancia'\n",
    "moda_final_estancia = df_reservas['final_estancia'].mode()[0]\n",
    "print(moda_final_estancia)"
   ]
  },
  {
   "cell_type": "code",
   "execution_count": 35,
   "metadata": {},
   "outputs": [],
   "source": [
    "# Rellenar los valores nulos en la columna 'final_estancia' con la moda\n",
    "df_reservas['final_estancia'] = df_reservas['final_estancia'].fillna(moda_final_estancia)"
   ]
  },
  {
   "cell_type": "code",
   "execution_count": 36,
   "metadata": {},
   "outputs": [
    {
     "data": {
      "text/plain": [
       "final_estancia\n",
       "2025-03-02    15000\n",
       "Name: count, dtype: int64"
      ]
     },
     "execution_count": 36,
     "metadata": {},
     "output_type": "execute_result"
    }
   ],
   "source": [
    "df_reservas['final_estancia'].value_counts()"
   ]
  },
  {
   "cell_type": "code",
   "execution_count": 37,
   "metadata": {},
   "outputs": [],
   "source": [
    "# Calcular la mediana de la columna 'precio_noche'\n",
    "mediana_precio_noche = df_reservas['precio_noche'].median()\n",
    "\n",
    "# Rellenar los valores nulos en la columna 'precio_noche' con la mediana\n",
    "df_reservas['precio_noche'] = df_reservas['precio_noche'].fillna(mediana_precio_noche)"
   ]
  },
  {
   "cell_type": "code",
   "execution_count": null,
   "metadata": {},
   "outputs": [],
   "source": [
    "records_list = df_reservas.values.tolist()\n",
    "records_list ## crear una lista d lsitas "
   ]
  },
  {
   "cell_type": "code",
   "execution_count": 43,
   "metadata": {},
   "outputs": [],
   "source": [
    "df_reservas['id_cliente'] = df_reservas['id_cliente'].astype(str)"
   ]
  },
  {
   "cell_type": "code",
   "execution_count": null,
   "metadata": {},
   "outputs": [],
   "source": []
  },
  {
   "cell_type": "markdown",
   "metadata": {},
   "source": [
    "usar for iter rows porq el records lo convierte en string y luego tienes q volver a transformar"
   ]
  },
  {
   "cell_type": "code",
   "execution_count": 45,
   "metadata": {},
   "outputs": [
    {
     "name": "stdout",
     "output_type": "stream",
     "text": [
      "Reservas insertadas correctamente.\n"
     ]
    }
   ],
   "source": [
    "\n",
    "#✅ Convertir fechas a string en formato \"YYYY-MM-DD\"\n",
    "#df_reservas[\"fecha_reserva\"] = df_reservas[\"fecha_reserva\"].dt.strftime('%Y-%m-%d')\n",
    "#df_reservas[\"inicio_estancia\"] = df_reservas[\"inicio_estancia\"].dt.strftime('%Y-%m-%d') ## por que si lo hice antes tengo q volver a pasarlo a datatime\n",
    "#df_reservas[\"final_estancia\"] = df_reservas[\"final_estancia\"].dt.strftime('%Y-%m-%d')\n",
    "\n",
    "# ✅ Asegurar que precio_noche es un float positivo\n",
    "\n",
    "# Convertir DataFrame a lista de tuplas para la inserción\n",
    "\n",
    "\n",
    "# Insertar en la tabla `reservas`\n",
    "query = \"\"\"\n",
    "    INSERT INTO reservas (id_reserva, fecha_reserva, inicio_estancia, final_estancia, precio_noche, id_cliente, id_hotel) \n",
    "    VALUES (%s, %s, %s, %s, %s, %s, %s)\"\"\"\n",
    "\n",
    "cur.executemany(query, records_list)\n",
    "\n",
    "# 📌 Guardar cambios y cerrar conexión\n",
    "conn.commit()\n",
    "cur.close()\n",
    "conn.close()\n",
    "\n",
    "print(\"Reservas insertadas correctamente.\")\n"
   ]
  },
  {
   "cell_type": "markdown",
   "metadata": {},
   "source": [
    "TABLA EVENTOS"
   ]
  },
  {
   "cell_type": "code",
   "execution_count": 48,
   "metadata": {},
   "outputs": [
    {
     "data": {
      "text/plain": [
       "id_evento        object\n",
       "nombre_evento    object\n",
       "url_evento       object\n",
       "codigo_postal    object\n",
       "direccion        object\n",
       "horario          object\n",
       "fecha_inicio     object\n",
       "fecha_fin        object\n",
       "organizacion     object\n",
       "dtype: object"
      ]
     },
     "execution_count": 48,
     "metadata": {},
     "output_type": "execute_result"
    }
   ],
   "source": [
    "df_api.dtypes"
   ]
  },
  {
   "cell_type": "code",
   "execution_count": 58,
   "metadata": {},
   "outputs": [
    {
     "name": "stdout",
     "output_type": "stream",
     "text": [
      "<class 'pandas.core.frame.DataFrame'>\n",
      "RangeIndex: 45 entries, 0 to 44\n",
      "Data columns (total 9 columns):\n",
      " #   Column         Non-Null Count  Dtype         \n",
      "---  ------         --------------  -----         \n",
      " 0   id_evento      45 non-null     object        \n",
      " 1   nombre_evento  45 non-null     object        \n",
      " 2   url_evento     45 non-null     object        \n",
      " 3   codigo_postal  45 non-null     object        \n",
      " 4   direccion      45 non-null     object        \n",
      " 5   horario        45 non-null     object        \n",
      " 6   fecha_inicio   45 non-null     datetime64[ns]\n",
      " 7   fecha_fin      45 non-null     datetime64[ns]\n",
      " 8   organizacion   45 non-null     object        \n",
      "dtypes: datetime64[ns](2), object(7)\n",
      "memory usage: 3.3+ KB\n"
     ]
    }
   ],
   "source": [
    "df_api.info()"
   ]
  },
  {
   "cell_type": "code",
   "execution_count": 52,
   "metadata": {},
   "outputs": [],
   "source": [
    "df_api['codigo_postal'] = df_api['codigo_postal'].fillna(\"no se encuentra\")\n",
    "df_api['organizacion'] = df_api['organizacion'].fillna(\"no se encuentra\")"
   ]
  },
  {
   "cell_type": "code",
   "execution_count": 57,
   "metadata": {},
   "outputs": [],
   "source": [
    "df_api[\"fecha_inicio\"] = pd.to_datetime(df_api['fecha_inicio'], errors='coerce')\n",
    "df_api[\"fecha_fin\"] = pd.to_datetime(df_api['fecha_fin'], errors='coerce')"
   ]
  },
  {
   "cell_type": "markdown",
   "metadata": {},
   "source": [
    "ABRO CONEXION"
   ]
  },
  {
   "cell_type": "code",
   "execution_count": null,
   "metadata": {},
   "outputs": [],
   "source": [
    "conn = psycopg2.connect(dbname=\"project_etl_ibis\", user=\"postgres\", password=\"admin\", host=\"localhost\", port=\"5432\")\n",
    "cur = conn.cursor()\n",
    "\n",
    "records_list = df_api.values.tolist()\n",
    "\n",
    "\n",
    "# Insertar en la tabla `reservas`\n",
    "query = \"\"\"\n",
    "    INSERT INTO eventos (id_evento, nombre_evento, url_evento, codigo_postal, direccion, horario, fecha_inicio, fecha_fin, organizacion)\n",
    "    VALUES (%s, %s, %s, %s, %s, %s, %s, %s, %s)\"\"\"\n",
    "\n",
    "cur.executemany(query, records_list)\n",
    "\n",
    "# 📌 Guardar cambios y cerrar conexión\n",
    "conn.commit()\n",
    "cur.close()\n",
    "conn.close()\n",
    "\n",
    "print(\"Reservas insertadas correctamente.\")\n",
    "\n"
   ]
  }
 ],
 "metadata": {
  "kernelspec": {
   "display_name": "prueba2",
   "language": "python",
   "name": "python3"
  },
  "language_info": {
   "codemirror_mode": {
    "name": "ipython",
    "version": 3
   },
   "file_extension": ".py",
   "mimetype": "text/x-python",
   "name": "python",
   "nbconvert_exporter": "python",
   "pygments_lexer": "ipython3",
   "version": "3.10.14"
  }
 },
 "nbformat": 4,
 "nbformat_minor": 2
}
