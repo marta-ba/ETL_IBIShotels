{
 "cells": [
  {
   "cell_type": "markdown",
   "metadata": {},
   "source": [
    "Extracción de datos en proceso de ETL: web scraping ibis hotel"
   ]
  },
  {
   "cell_type": "code",
   "execution_count": 12,
   "metadata": {},
   "outputs": [],
   "source": [
    "import pandas as pd\n",
    "import numpy as np\n",
    "from bs4 import BeautifulSoup as bs\n",
    "import requests"
   ]
  },
  {
   "cell_type": "markdown",
   "metadata": {},
   "source": [
    "Paso 1: Hacer una solicitud a la web"
   ]
  },
  {
   "cell_type": "code",
   "execution_count": 17,
   "metadata": {},
   "outputs": [],
   "source": [
    "# URL de la página web a extraer datos\n",
    "url = \"https://all.accor.com/ssr/app/ibis/hotels/madrid-spain/open/index.es.shtml?compositions=1&stayplus=false&snu=false&hideWDR=false&accessibleRooms=false&hideHotelDetails=false&dateIn=2025-03-01&nights=1&destination=madrid-spain\"\n",
    "\n",
    "# Hacer la solicitud HTTP GET\n",
    "response = requests.get(url)\n",
    "\n",
    "# Verificar que la solicitud fue exitosa\n",
    "if response.status_code == 200:\n",
    "    page_content = response.text  # Obtener el contenido HTML de la página\n",
    "else:\n",
    "    print(f\"Error en la solicitud: {response.status_code}\")"
   ]
  },
  {
   "cell_type": "markdown",
   "metadata": {},
   "source": [
    "Paso 2. Creamos la Sopa, Analizar el HTML con Beautiful Soup:"
   ]
  },
  {
   "cell_type": "code",
   "execution_count": 18,
   "metadata": {},
   "outputs": [
    {
     "name": "stdout",
     "output_type": "stream",
     "text": [
      "Hoteles en Madrid, España. ALL - Accor Live Limitless\n"
     ]
    }
   ],
   "source": [
    "# Crear el objeto BeautifulSoup\n",
    "sopa_hoteles = bs(page_content, \"html.parser\")\n",
    "\n",
    "# Mostrar el título de la página\n",
    "print(sopa_hoteles.title.text)"
   ]
  },
  {
   "cell_type": "markdown",
   "metadata": {},
   "source": [
    "Extraemos los 10 primeros hoteles."
   ]
  },
  {
   "cell_type": "code",
   "execution_count": 25,
   "metadata": {},
   "outputs": [
    {
     "name": "stdout",
     "output_type": "stream",
     "text": [
      "10\n"
     ]
    }
   ],
   "source": [
    "hoteles = sopa_hoteles.find_all(\"div\", {\"class\": \"hotelblock__content\"})\n",
    "print(len(hoteles))"
   ]
  },
  {
   "cell_type": "code",
   "execution_count": 26,
   "metadata": {},
   "outputs": [
    {
     "name": "stdout",
     "output_type": "stream",
     "text": [
      "\n",
      "    ibis Styles Madrid Prado\n",
      "    3 Estrellas  Hoteles \n",
      "      0.4 km desde tu búsqueda\n",
      "        Puntuación de viajeros de TripAdvisor: \n",
      "        4.7/En5\n",
      "       Ver reseñas \n",
      "     \n",
      "----\n",
      "\n",
      "    Mercure Madrid Centro\n",
      "    4 Estrellas  Hoteles \n",
      "      0.8 km desde tu búsqueda\n",
      "        Puntuación de viajeros de TripAdvisor: \n",
      "        4.4/En5\n",
      "       Ver reseñas \n",
      "     \n",
      "----\n",
      "\n",
      "    ibis budget Madrid Centro Lavapies\n",
      "    1 Estrellas  Alojamiento \n",
      "      0.9 km desde tu búsqueda\n",
      "        Puntuación de viajeros de TripAdvisor: \n",
      "        4.3/En5\n",
      "       Ver reseñas     \n",
      "----\n",
      "\n",
      "    ibis Styles Madrid Centro Maravillas\n",
      "    2 Estrellas  Hoteles \n",
      "      1.3 km desde tu búsqueda\n",
      "        Puntuación de viajeros de TripAdvisor: \n",
      "        4.7/En5\n",
      "       Ver reseñas \n",
      "     \n",
      "----\n",
      "\n",
      "    Novotel Madrid Center\n",
      "    4 Estrellas  Hoteles \n",
      "      2.7 km desde tu búsqueda\n",
      "        Puntuación de viajeros de TripAdvisor: \n",
      "        4.6/En5\n",
      "       Ver reseñas \n",
      "     \n",
      "----\n",
      "\n",
      "    ibis budget Madrid Calle 30\n",
      "    1 Estrellas  Hoteles \n",
      "      3.5 km desde tu búsqueda\n",
      "        Puntuación de viajeros de TripAdvisor: \n",
      "        4.4/En5\n",
      "       Ver reseñas     \n",
      "----\n",
      "\n",
      "    ibis Madrid Centro las Ventas\n",
      "    2 Estrellas  Hoteles \n",
      "      3.7 km desde tu búsqueda\n",
      "        Puntuación de viajeros de TripAdvisor: \n",
      "        4.5/En5\n",
      "       Ver reseñas \n",
      "     \n",
      "----\n",
      "\n",
      "    ibis budget Madrid Centro las Ventas\n",
      "    1 Estrellas  Hoteles \n",
      "      4.4 km desde tu búsqueda\n",
      "        Puntuación de viajeros de TripAdvisor: \n",
      "        4.3/En5\n",
      "       Ver reseñas \n",
      "     \n",
      "----\n",
      "\n",
      "    Novotel Madrid City Las Ventas\n",
      "    4 Estrellas  Hoteles \n",
      "      4.7 km desde tu búsqueda\n",
      "        Puntuación de viajeros de TripAdvisor: \n",
      "        4.6/En5\n",
      "       Ver reseñas \n",
      "     \n",
      "----\n",
      "\n",
      "    ibis Styles Madrid City Las Ventas\n",
      "    4 Estrellas  Hoteles \n",
      "      4.7 km desde tu búsqueda\n",
      "        Puntuación de viajeros de TripAdvisor: \n",
      "        4.6/En5\n",
      "       Ver reseñas \n",
      "     \n",
      "----\n"
     ]
    }
   ],
   "source": [
    "for hotel in hoteles:\n",
    "    print(hotel.text)\n",
    "    print(\"----\")"
   ]
  },
  {
   "cell_type": "code",
   "execution_count": null,
   "metadata": {},
   "outputs": [],
   "source": [
    "\n",
    "##ejemplo \n",
    "hoteles = []\n",
    "\n",
    "for hotel_div in soup.find_all(\"div\", class_=\"hotel-card\"):\n",
    "    nombre = hotel_div.find(\"h2\", class_=\"hotel-name\").get_text(strip=True)\n",
    "    estrellas = hotel_div.find(\"span\", class_=\"hotel-stars\").get_text(strip=True)\n",
    "    precio = hotel_div.find(\"div\", class_=\"hotel-price\").get_text(strip=True)\n",
    "    \n",
    "    hoteles.append({\n",
    "        \"nombre\": nombre,\n",
    "        \"estrellas\": estrellas,\n",
    "        \"precio\": precio\n",
    "    })\n",
    "\n",
    "for hotel in hoteles:\n",
    "    print(f\"Nombre: {hotel['nombre']}\")\n",
    "    print(f\"Estrellas: {hotel['estrellas']}\")\n",
    "    print(f\"Precio por noche: {hotel['precio']}\")\n",
    "    print(\"-\" * 20)"
   ]
  }
 ],
 "metadata": {
  "kernelspec": {
   "display_name": "prueba2",
   "language": "python",
   "name": "python3"
  },
  "language_info": {
   "codemirror_mode": {
    "name": "ipython",
    "version": 3
   },
   "file_extension": ".py",
   "mimetype": "text/x-python",
   "name": "python",
   "nbconvert_exporter": "python",
   "pygments_lexer": "ipython3",
   "version": "3.10.14"
  }
 },
 "nbformat": 4,
 "nbformat_minor": 2
}
