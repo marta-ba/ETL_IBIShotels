{
 "cells": [
  {
   "cell_type": "code",
   "execution_count": 1,
   "metadata": {},
   "outputs": [],
   "source": [
    "import pandas as pd\n",
    "import numpy as np\n",
    "import requests\n",
    "from datetime import datetime"
   ]
  },
  {
   "cell_type": "markdown",
   "metadata": {},
   "source": [
    "# Hago endpoint y no filtro: en este me está cogiendo eventos que no enstán entre las fechas marcadas"
   ]
  },
  {
   "cell_type": "code",
   "execution_count": 7,
   "metadata": {},
   "outputs": [],
   "source": [
    "# Definir el rango de fechas que te interesa\n",
    "fecha_inicio = \"2025-03-01\"\n",
    "fecha_fin = \"2025-03-02\"\n",
    "\n",
    "\n",
    "url = f\"https://datos.madrid.es/egob/catalogo/300107-0-agenda-actividades-eventos.json?dtstart={fecha_inicio}&dtend={fecha_fin}\"\n",
    "\n",
    "def obtener_eventos():\n",
    "    headers = {\"Accept\": \"application/json\"}  # Encabezados para la solicitud\n",
    "    response = requests.get(url, headers=headers)  # Petición GET a la API\n",
    "    \n",
    "    if response.status_code == 200:\n",
    "        datos = response.json()\n",
    "        return datos\n",
    "    else:\n",
    "        print(f\"Error: {response.status_code}\")\n",
    "        print(response.text)\n",
    "        return None"
   ]
  },
  {
   "cell_type": "code",
   "execution_count": 8,
   "metadata": {},
   "outputs": [],
   "source": [
    "api_data = obtener_eventos()\n",
    "data = api_data[\"@graph\"] # Extraer los datos de la respuesta"
   ]
  },
  {
   "cell_type": "code",
   "execution_count": 9,
   "metadata": {},
   "outputs": [],
   "source": [
    "eventos = []\n",
    "    \n",
    "# Iterar sobre la lista de eventos dentro de \"@graph\"\n",
    "for evento in data:\n",
    "        id_evento = evento.get(\"id\", None)\n",
    "        nombre_evento = evento.get(\"title\", \"\")\n",
    "        url_evento = evento.get(\"link\", \"\")\n",
    "        horario = evento.get(\"time\", \"\")\n",
    "        organizacion = evento.get(\"organization\", {}).get(\"organization-name\", \"\")\n",
    "\n",
    "        # Obtener dirección y código postal\n",
    "        direccion_info = evento.get(\"address\", {}).get(\"area\", {})\n",
    "        codigo_postal = direccion_info.get(\"postal-code\", None)\n",
    "        direccion = direccion_info.get(\"street-address\", \"\")\n",
    "\n",
    "        eventos.append((id_evento, nombre_evento, url_evento, codigo_postal, direccion, horario, fecha_inicio, fecha_fin, organizacion))\n",
    "\n",
    "df_api= pd.DataFrame(eventos, columns=[\"id_evento\", \"nombre_evento\", \"url_evento\", \"codigo_postal\", \"direccion\", \"horario\", \"fecha_inicio\", \"fecha_fin\", \"organizacion\"])"
   ]
  },
  {
   "cell_type": "code",
   "execution_count": 15,
   "metadata": {},
   "outputs": [
    {
     "data": {
      "text/html": [
       "<div>\n",
       "<style scoped>\n",
       "    .dataframe tbody tr th:only-of-type {\n",
       "        vertical-align: middle;\n",
       "    }\n",
       "\n",
       "    .dataframe tbody tr th {\n",
       "        vertical-align: top;\n",
       "    }\n",
       "\n",
       "    .dataframe thead th {\n",
       "        text-align: right;\n",
       "    }\n",
       "</style>\n",
       "<table border=\"1\" class=\"dataframe\">\n",
       "  <thead>\n",
       "    <tr style=\"text-align: right;\">\n",
       "      <th></th>\n",
       "      <th>id_evento</th>\n",
       "      <th>nombre_evento</th>\n",
       "      <th>url_evento</th>\n",
       "      <th>codigo_postal</th>\n",
       "      <th>direccion</th>\n",
       "      <th>horario</th>\n",
       "      <th>fecha_inicio</th>\n",
       "      <th>fecha_fin</th>\n",
       "      <th>organizacion</th>\n",
       "    </tr>\n",
       "  </thead>\n",
       "  <tbody>\n",
       "    <tr>\n",
       "      <th>0</th>\n",
       "      <td>12677513</td>\n",
       "      <td>25º aniversario de la revista La Fragua</td>\n",
       "      <td>http://www.madrid.es/sites/v/index.jsp?vgnextc...</td>\n",
       "      <td>28005</td>\n",
       "      <td>CALLE SAN JUSTO 5</td>\n",
       "      <td></td>\n",
       "      <td>2025-03-01</td>\n",
       "      <td>2025-03-02</td>\n",
       "      <td>Biblioteca Pública Municipal Iván de Vargas (C...</td>\n",
       "    </tr>\n",
       "    <tr>\n",
       "      <th>1</th>\n",
       "      <td>12651622</td>\n",
       "      <td>3CLONWS</td>\n",
       "      <td>http://www.madrid.es/sites/v/index.jsp?vgnextc...</td>\n",
       "      <td>28012</td>\n",
       "      <td>RONDA ATOCHA 35</td>\n",
       "      <td>19:00</td>\n",
       "      <td>2025-03-01</td>\n",
       "      <td>2025-03-02</td>\n",
       "      <td>Teatro Circo Price</td>\n",
       "    </tr>\n",
       "    <tr>\n",
       "      <th>2</th>\n",
       "      <td>12693864</td>\n",
       "      <td>60 Premio Reina Sofía de Pintura y Escultura</td>\n",
       "      <td>http://www.madrid.es/sites/v/index.jsp?vgnextc...</td>\n",
       "      <td>28009</td>\n",
       "      <td>PASEO COLOMBIA 1</td>\n",
       "      <td></td>\n",
       "      <td>2025-03-01</td>\n",
       "      <td>2025-03-02</td>\n",
       "      <td>Centro Cultural Casa de Vacas (Retiro)</td>\n",
       "    </tr>\n",
       "    <tr>\n",
       "      <th>3</th>\n",
       "      <td>12691220</td>\n",
       "      <td>7 pares de pies</td>\n",
       "      <td>http://www.madrid.es/sites/v/index.jsp?vgnextc...</td>\n",
       "      <td>28037</td>\n",
       "      <td>CALLE SAN ROMAN DEL VALLE 8</td>\n",
       "      <td>12:00</td>\n",
       "      <td>2025-03-01</td>\n",
       "      <td>2025-03-02</td>\n",
       "      <td>Centro Cultural Antonio Machado (San Blas - Ca...</td>\n",
       "    </tr>\n",
       "    <tr>\n",
       "      <th>4</th>\n",
       "      <td>12518159</td>\n",
       "      <td>A la fresca</td>\n",
       "      <td>http://www.madrid.es/sites/v/index.jsp?vgnextc...</td>\n",
       "      <td>28045</td>\n",
       "      <td>PASEO CHOPERA 14</td>\n",
       "      <td></td>\n",
       "      <td>2025-03-01</td>\n",
       "      <td>2025-03-02</td>\n",
       "      <td>Nave 10 Matadero. Creación Dramática Contempor...</td>\n",
       "    </tr>\n",
       "  </tbody>\n",
       "</table>\n",
       "</div>"
      ],
      "text/plain": [
       "  id_evento                                 nombre_evento  \\\n",
       "0  12677513       25º aniversario de la revista La Fragua   \n",
       "1  12651622                                       3CLONWS   \n",
       "2  12693864  60 Premio Reina Sofía de Pintura y Escultura   \n",
       "3  12691220                               7 pares de pies   \n",
       "4  12518159                                   A la fresca   \n",
       "\n",
       "                                          url_evento codigo_postal  \\\n",
       "0  http://www.madrid.es/sites/v/index.jsp?vgnextc...         28005   \n",
       "1  http://www.madrid.es/sites/v/index.jsp?vgnextc...         28012   \n",
       "2  http://www.madrid.es/sites/v/index.jsp?vgnextc...         28009   \n",
       "3  http://www.madrid.es/sites/v/index.jsp?vgnextc...         28037   \n",
       "4  http://www.madrid.es/sites/v/index.jsp?vgnextc...         28045   \n",
       "\n",
       "                     direccion horario fecha_inicio   fecha_fin  \\\n",
       "0            CALLE SAN JUSTO 5           2025-03-01  2025-03-02   \n",
       "1              RONDA ATOCHA 35   19:00   2025-03-01  2025-03-02   \n",
       "2             PASEO COLOMBIA 1           2025-03-01  2025-03-02   \n",
       "3  CALLE SAN ROMAN DEL VALLE 8   12:00   2025-03-01  2025-03-02   \n",
       "4             PASEO CHOPERA 14           2025-03-01  2025-03-02   \n",
       "\n",
       "                                        organizacion  \n",
       "0  Biblioteca Pública Municipal Iván de Vargas (C...  \n",
       "1                                 Teatro Circo Price  \n",
       "2             Centro Cultural Casa de Vacas (Retiro)  \n",
       "3  Centro Cultural Antonio Machado (San Blas - Ca...  \n",
       "4  Nave 10 Matadero. Creación Dramática Contempor...  "
      ]
     },
     "execution_count": 15,
     "metadata": {},
     "output_type": "execute_result"
    }
   ],
   "source": [
    "df_api.head()"
   ]
  },
  {
   "cell_type": "code",
   "execution_count": 10,
   "metadata": {},
   "outputs": [
    {
     "data": {
      "text/plain": [
       "(1249, 9)"
      ]
     },
     "execution_count": 10,
     "metadata": {},
     "output_type": "execute_result"
    }
   ],
   "source": [
    "df_api.shape"
   ]
  },
  {
   "cell_type": "code",
   "execution_count": 14,
   "metadata": {},
   "outputs": [
    {
     "data": {
      "text/plain": [
       "fecha_inicio\n",
       "2025-03-01    1249\n",
       "Name: count, dtype: int64"
      ]
     },
     "execution_count": 14,
     "metadata": {},
     "output_type": "execute_result"
    }
   ],
   "source": [
    "df_api[\"fecha_inicio\"].value_counts().sort_index()"
   ]
  },
  {
   "cell_type": "code",
   "execution_count": 13,
   "metadata": {},
   "outputs": [
    {
     "data": {
      "text/plain": [
       "fecha_fin\n",
       "2025-03-02    1249\n",
       "Name: count, dtype: int64"
      ]
     },
     "execution_count": 13,
     "metadata": {},
     "output_type": "execute_result"
    }
   ],
   "source": [
    "df_api[\"fecha_fin\"].value_counts().sort_index()"
   ]
  }
 ],
 "metadata": {
  "kernelspec": {
   "display_name": "prueba2",
   "language": "python",
   "name": "python3"
  },
  "language_info": {
   "codemirror_mode": {
    "name": "ipython",
    "version": 3
   },
   "file_extension": ".py",
   "mimetype": "text/x-python",
   "name": "python",
   "nbconvert_exporter": "python",
   "pygments_lexer": "ipython3",
   "version": "3.10.14"
  }
 },
 "nbformat": 4,
 "nbformat_minor": 2
}
