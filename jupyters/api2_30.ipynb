{
 "cells": [
  {
   "cell_type": "markdown",
   "metadata": {},
   "source": [
    "# Extracción de datos desde la API: \n",
    "### OBTENCIÓN DE DATOS DE EVENTOS."
   ]
  },
  {
   "cell_type": "code",
   "execution_count": 2,
   "metadata": {},
   "outputs": [],
   "source": [
    "import pandas as pd\n",
    "import numpy as np\n",
    "import requests"
   ]
  },
  {
   "cell_type": "markdown",
   "metadata": {},
   "source": [
    "No hago endpoint con fehcas y filtro"
   ]
  },
  {
   "cell_type": "code",
   "execution_count": null,
   "metadata": {},
   "outputs": [],
   "source": [
    "# URL base de la API del Ayuntamiento de Madrid\n",
    "URL = \"https://datos.madrid.es/egob/catalogo/300107-0-agenda-actividades-eventos.json\"\n",
    "\n",
    "def obtener_eventos():\n",
    "    headers = {\"Accept\": \"application/json\"}  # Encabezados para la solicitud\n",
    "    response = requests.get(URL, headers=headers)  # Petición GET a la API\n",
    "    \n",
    "    if response.status_code == 200:\n",
    "        datos = response.json()\n",
    "        return datos\n",
    "    else:\n",
    "        print(f\"Error: {response.status_code}\")\n",
    "        print(response.text)\n",
    "        return None\n",
    "\n",
    "obtener_eventos()"
   ]
  },
  {
   "cell_type": "code",
   "execution_count": 4,
   "metadata": {},
   "outputs": [],
   "source": [
    "### por que tengo que crear datos si al llamar la funcion obtener_eventos() ya debería cargarlos???\n",
    "datos = obtener_eventos()\n",
    "data = datos['@graph']"
   ]
  },
  {
   "cell_type": "code",
   "execution_count": 7,
   "metadata": {},
   "outputs": [],
   "source": [
    "eventos = []\n",
    "    \n",
    "# Iterar sobre la lista de eventos dentro de \"@graph\"\n",
    "for evento in data:\n",
    "    fecha_inicio = evento.get(\"dtstart\", \"\")\n",
    "    fecha_fin = evento.get(\"dtend\", \"\")\n",
    "\n",
    "    # **Filtrar solo eventos entre 2025-03-01 y 2025-03-02**\n",
    "    if fecha_inicio >= \"2025-03-01\" and fecha_fin <= \"2025-03-02\":\n",
    "        id_evento = evento.get(\"id\", None)\n",
    "        nombre_evento = evento.get(\"title\", \"\")\n",
    "        url_evento = evento.get(\"link\", \"\")\n",
    "        horario = evento.get(\"time\", \"\")\n",
    "        organizacion = evento.get(\"organization\", {}).get(\"organization-name\", \"\")\n",
    "\n",
    "        # Obtener dirección y código postal\n",
    "        direccion_info = evento.get(\"address\", {}).get(\"area\", {})\n",
    "        codigo_postal = direccion_info.get(\"postal-code\", None)\n",
    "        direccion = direccion_info.get(\"street-address\", \"\")\n",
    "\n",
    "        eventos.append((id_evento, nombre_evento, url_evento, codigo_postal, direccion, horario, fecha_inicio, fecha_fin, organizacion))"
   ]
  },
  {
   "cell_type": "code",
   "execution_count": 9,
   "metadata": {},
   "outputs": [
    {
     "name": "stdout",
     "output_type": "stream",
     "text": [
      "Se han encontrado 30 eventos\n"
     ]
    }
   ],
   "source": [
    "df = pd.DataFrame(eventos, columns=[\"id_evento\", \"nombre_evento\", \"url_evento\", \"codigo_postal\", \"direccion\", \"horario\", \"fecha_inicio\", \"fecha_fin\", \"organizacion\"])\n",
    "shape = df.shape\n",
    "print(f\"Se han encontrado {shape[0]} eventos\")"
   ]
  },
  {
   "cell_type": "code",
   "execution_count": 12,
   "metadata": {},
   "outputs": [
    {
     "data": {
      "text/plain": [
       "<bound method IndexOpsMixin.value_counts of 0              Asalto a la lectura. Tres cerditos y más\n",
       "1                                 Atlantiques + Dahomey\n",
       "2                Baile de Carnaval. Concierto de Origen\n",
       "3            Baile de Carnaval. Concierto de Versioneta\n",
       "4     Carnaval en familia. Espectáculo familiar. Car...\n",
       "5                                  Carnaval en Matadero\n",
       "6                                             Chup-Chup\n",
       "7            Concurso de Disfraces y Baile con Orquesta\n",
       "8            Concurso de Disfraces y Baile con Orquesta\n",
       "9                          Cuatro historias de alquiler\n",
       "10                      De Casa de Campo a Madrid Río I\n",
       "11                      El Retiro a través de la música\n",
       "12       Fiesta de carnaval en el Barrio del Aeropuerto\n",
       "13    Fiesta de carnaval en el Barro de la Alameda d...\n",
       "14    Itinerario Ornitológico Parque Emperatriz Marí...\n",
       "15                               Julieta, pero no mucho\n",
       "16          Los Secretos del Capricho: público familiar\n",
       "17    Marconi. Pasacalles, Concurso de Disfraces y O...\n",
       "18                                               Murdle\n",
       "19                               Nosotras creamos mundo\n",
       "20    San Cristóbal de los Ángeles. Concurso de Disf...\n",
       "21    Senda Descubre la vida silvestre del parque de...\n",
       "22    Senderismo urbano. Emilia Pardo Bazán: mujer e...\n",
       "23    Taller de Bancal lasaña en el Huerto Urbano Co...\n",
       "24    Taller de semilleros en el Huerto Urbano Comun...\n",
       "25                                 Talleres de máscaras\n",
       "26    Talleres Infantiles de Carnaval. Centros Socio...\n",
       "27    Villaverde Alto. Actuación Infantil, Concurso ...\n",
       "28                 Villaverde Alto. Desfile de Carnaval\n",
       "29    Villaverde Bajo. Concurso de Disfraces y Pasac...\n",
       "Name: nombre_evento, dtype: object>"
      ]
     },
     "execution_count": 12,
     "metadata": {},
     "output_type": "execute_result"
    }
   ],
   "source": [
    "df[\"nombre_evento\"].value_counts"
   ]
  },
  {
   "cell_type": "code",
   "execution_count": 10,
   "metadata": {},
   "outputs": [
    {
     "data": {
      "text/plain": [
       "fecha_inicio\n",
       "2025-03-01 00:00:00.0    1\n",
       "2025-03-01 09:00:00.0    1\n",
       "2025-03-01 10:00:00.0    1\n",
       "2025-03-01 10:30:00.0    2\n",
       "2025-03-01 11:00:00.0    7\n",
       "2025-03-01 12:00:00.0    1\n",
       "2025-03-01 12:30:00.0    1\n",
       "2025-03-01 17:00:00.0    1\n",
       "2025-03-01 17:30:00.0    1\n",
       "2025-03-01 18:00:00.0    4\n",
       "2025-03-01 19:00:00.0    3\n",
       "2025-03-01 19:30:00.0    3\n",
       "2025-03-01 21:15:00.0    1\n",
       "2025-03-01 21:30:00.0    3\n",
       "Name: count, dtype: int64"
      ]
     },
     "execution_count": 10,
     "metadata": {},
     "output_type": "execute_result"
    }
   ],
   "source": [
    "df[\"fecha_inicio\"].value_counts().sort_index()"
   ]
  },
  {
   "cell_type": "code",
   "execution_count": 18,
   "metadata": {},
   "outputs": [
    {
     "data": {
      "text/plain": [
       "fecha_fin\n",
       "2025-03-01 23:59:00.0    30\n",
       "Name: count, dtype: int64"
      ]
     },
     "execution_count": 18,
     "metadata": {},
     "output_type": "execute_result"
    }
   ],
   "source": [
    "df[\"fecha_fin\"].value_counts().sort_index()"
   ]
  },
  {
   "cell_type": "code",
   "execution_count": 13,
   "metadata": {},
   "outputs": [
    {
     "data": {
      "text/plain": [
       "(30, 9)"
      ]
     },
     "execution_count": 13,
     "metadata": {},
     "output_type": "execute_result"
    }
   ],
   "source": [
    "df.shape"
   ]
  }
 ],
 "metadata": {
  "kernelspec": {
   "display_name": "prueba2",
   "language": "python",
   "name": "python3"
  },
  "language_info": {
   "codemirror_mode": {
    "name": "ipython",
    "version": 3
   },
   "file_extension": ".py",
   "mimetype": "text/x-python",
   "name": "python",
   "nbconvert_exporter": "python",
   "pygments_lexer": "ipython3",
   "version": "3.10.14"
  }
 },
 "nbformat": 4,
 "nbformat_minor": 2
}
