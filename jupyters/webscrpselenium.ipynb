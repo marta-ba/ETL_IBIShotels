{
 "cells": [
  {
   "cell_type": "code",
   "execution_count": 2,
   "metadata": {},
   "outputs": [],
   "source": [
    "from selenium import webdriver\n",
    "from selenium.webdriver.common.keys import Keys\n",
    "from selenium.webdriver.common.by import By\n",
    "import time"
   ]
  },
  {
   "cell_type": "code",
   "execution_count": null,
   "metadata": {},
   "outputs": [],
   "source": [
    "options = webdriver.ChromeOptions()\n",
    "options.add_argument(\"window-size=1920x1080\")\n",
    "options.add_argument(\"--headless\")\n"
   ]
  },
  {
   "cell_type": "code",
   "execution_count": 8,
   "metadata": {},
   "outputs": [],
   "source": [
    "url = \"https://all.accor.com/ssr/app/ibis/hotels/madrid-spain/open/index.es.shtml?compositions=1&stayplus=false&snu=false&hideWDR=false&accessibleRooms=false&hideHotelDetails=false&dateIn=2025-03-01&nights=1&destination=madrid-spain\""
   ]
  },
  {
   "cell_type": "code",
   "execution_count": 13,
   "metadata": {},
   "outputs": [
    {
     "name": "stdout",
     "output_type": "stream",
     "text": [
      "Primer paso: busco todos los posibles hoteles\n",
      "10\n",
      "[<selenium.webdriver.remote.webelement.WebElement (session=\"592d2aad52724ccd3835a57804ad1b7d\", element=\"f.85F1C87D5D5ACC46A6D1859A810026EA.d.2CCCCA25D97A3A1704206F0930405261.e.581\")>, <selenium.webdriver.remote.webelement.WebElement (session=\"592d2aad52724ccd3835a57804ad1b7d\", element=\"f.85F1C87D5D5ACC46A6D1859A810026EA.d.2CCCCA25D97A3A1704206F0930405261.e.979\")>, <selenium.webdriver.remote.webelement.WebElement (session=\"592d2aad52724ccd3835a57804ad1b7d\", element=\"f.85F1C87D5D5ACC46A6D1859A810026EA.d.2CCCCA25D97A3A1704206F0930405261.e.4107\")>, <selenium.webdriver.remote.webelement.WebElement (session=\"592d2aad52724ccd3835a57804ad1b7d\", element=\"f.85F1C87D5D5ACC46A6D1859A810026EA.d.2CCCCA25D97A3A1704206F0930405261.e.4183\")>, <selenium.webdriver.remote.webelement.WebElement (session=\"592d2aad52724ccd3835a57804ad1b7d\", element=\"f.85F1C87D5D5ACC46A6D1859A810026EA.d.2CCCCA25D97A3A1704206F0930405261.e.4259\")>, <selenium.webdriver.remote.webelement.WebElement (session=\"592d2aad52724ccd3835a57804ad1b7d\", element=\"f.85F1C87D5D5ACC46A6D1859A810026EA.d.2CCCCA25D97A3A1704206F0930405261.e.4319\")>, <selenium.webdriver.remote.webelement.WebElement (session=\"592d2aad52724ccd3835a57804ad1b7d\", element=\"f.85F1C87D5D5ACC46A6D1859A810026EA.d.2CCCCA25D97A3A1704206F0930405261.e.4395\")>, <selenium.webdriver.remote.webelement.WebElement (session=\"592d2aad52724ccd3835a57804ad1b7d\", element=\"f.85F1C87D5D5ACC46A6D1859A810026EA.d.2CCCCA25D97A3A1704206F0930405261.e.4464\")>, <selenium.webdriver.remote.webelement.WebElement (session=\"592d2aad52724ccd3835a57804ad1b7d\", element=\"f.85F1C87D5D5ACC46A6D1859A810026EA.d.2CCCCA25D97A3A1704206F0930405261.e.4540\")>, <selenium.webdriver.remote.webelement.WebElement (session=\"592d2aad52724ccd3835a57804ad1b7d\", element=\"f.85F1C87D5D5ACC46A6D1859A810026EA.d.2CCCCA25D97A3A1704206F0930405261.e.4618\")>]\n",
      "Aqui para cada hotel me muestra el nombre y las estrellas\n",
      "ahora me va a enselar el precio por cada hotel\n",
      "170\n",
      "Aqui para cada hotel me muestra el nombre y las estrellas\n",
      "ahora me va a enselar el precio por cada hotel\n",
      "172\n",
      "Aqui para cada hotel me muestra el nombre y las estrellas\n",
      "ahora me va a enselar el precio por cada hotel\n",
      "95\n",
      "Aqui para cada hotel me muestra el nombre y las estrellas\n",
      "ahora me va a enselar el precio por cada hotel\n",
      "116\n",
      "Aqui para cada hotel me muestra el nombre y las estrellas\n",
      "ahora me va a enselar el precio por cada hotel\n",
      "90\n",
      "Aqui para cada hotel me muestra el nombre y las estrellas\n",
      "ahora me va a enselar el precio por cada hotel\n",
      "97\n",
      "Aqui para cada hotel me muestra el nombre y las estrellas\n",
      "ahora me va a enselar el precio por cada hotel\n",
      "84\n",
      "Aqui para cada hotel me muestra el nombre y las estrellas\n",
      "ahora me va a enselar el precio por cada hotel\n",
      "77\n",
      "Aqui para cada hotel me muestra el nombre y las estrellas\n",
      "ahora me va a enselar el precio por cada hotel\n",
      "86\n",
      "Aqui para cada hotel me muestra el nombre y las estrellas\n",
      "ahora me va a enselar el precio por cada hotel\n",
      "83\n"
     ]
    }
   ],
   "source": [
    "driver = webdriver.Chrome(options=options)\n",
    "driver.get(url)\n",
    "time.sleep(5)\n",
    "hoteles = driver.find_elements(By.CLASS_NAME, \"hotelblock__content\")\n",
    "print(\"Primer paso: busco todos los posibles hoteles\")\n",
    "print(len(hoteles))\n",
    "print(hoteles)\n",
    "for hotel in hoteles:\n",
    "    nombre, estrellas = hotel.find_element(By.CLASS_NAME, \"title\").text.split(\"\\n\")   \n",
    "    print(\"Aqui para cada hotel me muestra el nombre y las estrellas\")\n",
    "    precio = hotel.find_element(By.CLASS_NAME, \"booking-price__number\").text\n",
    "    print(\"ahora me va a enselar el precio por cada hotel\")\n",
    "    print(precio)\n",
    "driver.close()\n",
    "driver.quit()"
   ]
  },
  {
   "cell_type": "code",
   "execution_count": 6,
   "metadata": {},
   "outputs": [],
   "source": [
    "driver.close()"
   ]
  },
  {
   "cell_type": "code",
   "execution_count": null,
   "metadata": {},
   "outputs": [],
   "source": []
  },
  {
   "cell_type": "code",
   "execution_count": null,
   "metadata": {},
   "outputs": [],
   "source": [
    "ACUERDATTE QUE LAS ESTRELLAS NO ES LAS ESTRELLAS DEL HOTEL SI NO LAS VALORACIONES LO QUE TIENES QUE SACAR"
   ]
  },
  {
   "cell_type": "code",
   "execution_count": null,
   "metadata": {},
   "outputs": [],
   "source": []
  },
  {
   "cell_type": "code",
   "execution_count": null,
   "metadata": {},
   "outputs": [],
   "source": []
  },
  {
   "cell_type": "markdown",
   "metadata": {},
   "source": []
  }
 ],
 "metadata": {
  "kernelspec": {
   "display_name": "prueba2",
   "language": "python",
   "name": "python3"
  },
  "language_info": {
   "codemirror_mode": {
    "name": "ipython",
    "version": 3
   },
   "file_extension": ".py",
   "mimetype": "text/x-python",
   "name": "python",
   "nbconvert_exporter": "python",
   "pygments_lexer": "ipython3",
   "version": "3.10.14"
  }
 },
 "nbformat": 4,
 "nbformat_minor": 2
}
