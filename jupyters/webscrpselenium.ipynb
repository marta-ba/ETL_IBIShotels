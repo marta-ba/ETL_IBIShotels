{
 "cells": [
  {
   "cell_type": "code",
   "execution_count": 2,
   "metadata": {},
   "outputs": [],
   "source": [
    "from selenium import webdriver\n",
    "from selenium.webdriver.common.keys import Keys\n",
    "from selenium.webdriver.common.by import By\n",
    "import time"
   ]
  },
  {
   "cell_type": "code",
   "execution_count": 24,
   "metadata": {},
   "outputs": [],
   "source": [
    "options = webdriver.ChromeOptions()\n",
    "options.add_argument(\"window-size=1920x1080\")\n",
    "options.add_argument(\"--headless\")\n"
   ]
  },
  {
   "cell_type": "code",
   "execution_count": 25,
   "metadata": {},
   "outputs": [],
   "source": [
    "url = \"https://all.accor.com/ssr/app/ibis/hotels/madrid-spain/open/index.es.shtml?compositions=1&stayplus=false&snu=false&hideWDR=false&accessibleRooms=false&hideHotelDetails=false&dateIn=2025-03-01&nights=1&destination=madrid-spain\""
   ]
  },
  {
   "cell_type": "code",
   "execution_count": null,
   "metadata": {},
   "outputs": [
    {
     "name": "stdout",
     "output_type": "stream",
     "text": [
      "Primer paso: busco todos los posibles hoteles\n",
      "10\n",
      "Aqui para cada hotel me muestra el nombre y las estrellas\n",
      "ahora me va a enselar el precio por cada hotel\n",
      "170\n",
      "Aqui para cada hotel me muestra el nombre y las estrellas\n",
      "ahora me va a enselar el precio por cada hotel\n",
      "106\n",
      "Aqui para cada hotel me muestra el nombre y las estrellas\n",
      "ahora me va a enselar el precio por cada hotel\n",
      "172\n",
      "Aqui para cada hotel me muestra el nombre y las estrellas\n",
      "ahora me va a enselar el precio por cada hotel\n",
      "102\n",
      "Aqui para cada hotel me muestra el nombre y las estrellas\n",
      "ahora me va a enselar el precio por cada hotel\n",
      "116\n",
      "Aqui para cada hotel me muestra el nombre y las estrellas\n",
      "ahora me va a enselar el precio por cada hotel\n",
      "90\n",
      "Aqui para cada hotel me muestra el nombre y las estrellas\n",
      "ahora me va a enselar el precio por cada hotel\n",
      "97\n",
      "Aqui para cada hotel me muestra el nombre y las estrellas\n",
      "ahora me va a enselar el precio por cada hotel\n",
      "84\n",
      "Aqui para cada hotel me muestra el nombre y las estrellas\n",
      "ahora me va a enselar el precio por cada hotel\n",
      "77\n",
      "Aqui para cada hotel me muestra el nombre y las estrellas\n",
      "ahora me va a enselar el precio por cada hotel\n",
      "83\n"
     ]
    }
   ],
   "source": [
    "driver = webdriver.Chrome(options=options)\n",
    "driver.get(url)\n",
    "time.sleep(5)\n",
    "hoteles = driver.find_elements(By.CLASS_NAME, \"hotelblock__content\")\n",
    "print(\"Primer paso: busco todos los posibles hoteles\")\n",
    "print(len(hoteles))\n",
    "for hotel in hoteles:\n",
    "    nombre, estrellas = hotel.find_element(By.CLASS_NAME, \"title\").text.split(\"\\n\")   \n",
    "    print(\"Aqui para cada hotel me muestra el nombre y las estrellas\")\n",
    "    precio = hotel.find_element(By.CLASS_NAME, \"booking-price__number\").text\n",
    "    print(\"ahora me va a enseñar el precio por cada hotel\")\n",
    "    print(precio)\n",
    "driver.close()\n",
    "driver.quit()"
   ]
  },
  {
   "cell_type": "code",
   "execution_count": 38,
   "metadata": {},
   "outputs": [
    {
     "name": "stdout",
     "output_type": "stream",
     "text": [
      "ibis Styles Madrid Prado\n",
      "3 Estrellas\n",
      "4.7/\n",
      "170\n",
      "Novotel Madrid Center\n",
      "4 Estrellas\n",
      "4.6/\n",
      "255\n",
      "ibis budget Madrid Calle 30\n",
      "1 Estrellas\n",
      "4.4/\n",
      "106\n",
      "ibis Madrid Centro las Ventas\n",
      "2 Estrellas\n",
      "4.5/\n",
      "172\n",
      "Novotel Madrid City Las Ventas\n",
      "4 Estrellas\n",
      "4.6/\n",
      "173\n",
      "ibis budget Madrid Vallecas\n",
      "1 Estrellas\n",
      "4.3/\n",
      "102\n",
      "Pullman Madrid Airport & Feria\n",
      "4 Estrellas\n",
      "4.2/\n",
      "127\n",
      "ibis Madrid Aeropuerto Barajas\n",
      "2 Estrellas\n",
      "4.4/\n",
      "116\n",
      "ibis Madrid Alcorcon Tresaguas\n",
      "2 Estrellas\n",
      "4.4/\n",
      "90\n",
      "ibis budget Madrid Aeropuerto\n",
      "1 Estrellas\n",
      "4/\n",
      "97\n"
     ]
    }
   ],
   "source": [
    "driver = webdriver.Chrome(options=options)\n",
    "driver.get(url)\n",
    "time.sleep(5)\n",
    "\n",
    "# Lista para almacenar los datos\n",
    "datos_hoteles = []\n",
    "\n",
    "hoteles = driver.find_elements(By.CLASS_NAME, \"hotelblock__content\")\n",
    "for hotel in hoteles:\n",
    "    nombre = hotel.find_element(By.CLASS_NAME, \"title\").text.strip()\n",
    "    print(nombre)\n",
    "    # Extraer la valoración (número de estrellas de satisfacción del cliente)\n",
    "    estrellas_element = hotel.find_element(By.CLASS_NAME, \"ratings__score\")\n",
    "    estrellas = estrellas_element.text.strip().split()[0]  # Solo extrae el número, sin \"En\" o \"/10\n",
    "    print(estrellas)\n",
    "    precio = hotel.find_element(By.CLASS_NAME, \"booking-price__number\").text\n",
    "    print(precio)\n",
    "    datos_hoteles.append({\"nombre\": nombre, \"estrellas\": estrellas, \"precio\": precio})\n",
    "driver.close()\n",
    "driver.quit()\n",
    "\n"
   ]
  },
  {
   "cell_type": "code",
   "execution_count": null,
   "metadata": {},
   "outputs": [],
   "source": [
    "import re\n",
    "\n",
    "driver = webdriver.Chrome(options=options)\n",
    "driver.get(url)\n",
    "time.sleep(5)\n",
    "\n",
    "# Lista para almacenar los datos\n",
    "datos_hoteles = []\n",
    "\n",
    "hoteles = driver.find_elements(By.CLASS_NAME, \"hotelblock__content\")\n",
    "for hotel in hoteles:\n",
    "    # Extraer nombre del hotel y limpiar el texto\n",
    "    nombre_completo = hotel.find_element(By.CLASS_NAME, \"title\").text.strip()\n",
    "    nombre = re.sub(r\"\\n\\d+\\s*Estrellas\", \"\", nombre_completo)  # Elimina \"3 Estrellas\", \"2 Estrellas\", etc.\n",
    "\n",
    "    # Extraer la valoración (número de estrellas de satisfacción del cliente)\n",
    "    estrellas_element = hotel.find_element(By.CLASS_NAME, \"ratings__score\")\n",
    "    estrellas = estrellas_element.text.strip().split(\"/\")[0]  # Toma solo el número sin \"/\"\n",
    "\n",
    "    # Extraer precio del hotel y limpiarlo\n",
    "    try:\n",
    "        precio = hotel.find_element(By.CLASS_NAME, \"booking-price__number\").text.strip()\n",
    "        precio = re.sub(r\"[^\\d]\", \"\", precio)  # Elimina cualquier carácter no numérico (como €)\n",
    "    except:\n",
    "        precio = \"No disponible\"\n",
    "\n",
    "    # Guardar en un diccionario limpio\n",
    "    datos_hoteles.append({\"nombre\": nombre, \"estrellas\": estrellas, \"precio\": precio})\n",
    "\n",
    "# Cerrar Selenium\n",
    "driver.close()\n",
    "driver.quit()"
   ]
  },
  {
   "cell_type": "code",
   "execution_count": 30,
   "metadata": {},
   "outputs": [],
   "source": [
    "dictio_hoteles = datos_hoteles"
   ]
  },
  {
   "cell_type": "code",
   "execution_count": 31,
   "metadata": {},
   "outputs": [
    {
     "data": {
      "text/plain": [
       "[{'nombre': 'ibis Styles Madrid Prado', 'estrellas': '4.7', 'precio': '170'},\n",
       " {'nombre': 'Novotel Madrid Center', 'estrellas': '4.6', 'precio': '255'},\n",
       " {'nombre': 'ibis budget Madrid Calle 30',\n",
       "  'estrellas': '4.4',\n",
       "  'precio': '106'},\n",
       " {'nombre': 'ibis Madrid Centro las Ventas',\n",
       "  'estrellas': '4.5',\n",
       "  'precio': '172'},\n",
       " {'nombre': 'Novotel Madrid City Las Ventas',\n",
       "  'estrellas': '4.6',\n",
       "  'precio': '173'},\n",
       " {'nombre': 'ibis budget Madrid Vallecas',\n",
       "  'estrellas': '4.3',\n",
       "  'precio': '102'},\n",
       " {'nombre': 'Pullman Madrid Airport & Feria',\n",
       "  'estrellas': '4.2',\n",
       "  'precio': '127'},\n",
       " {'nombre': 'ibis Madrid Aeropuerto Barajas',\n",
       "  'estrellas': '4.4',\n",
       "  'precio': '116'},\n",
       " {'nombre': 'ibis Madrid Alcorcon Tresaguas',\n",
       "  'estrellas': '4.4',\n",
       "  'precio': '90'},\n",
       " {'nombre': 'ibis budget Madrid Aeropuerto', 'estrellas': '4', 'precio': '97'}]"
      ]
     },
     "execution_count": 31,
     "metadata": {},
     "output_type": "execute_result"
    }
   ],
   "source": [
    "dictio_hoteles"
   ]
  },
  {
   "cell_type": "code",
   "execution_count": 34,
   "metadata": {},
   "outputs": [
    {
     "data": {
      "text/html": [
       "<div>\n",
       "<style scoped>\n",
       "    .dataframe tbody tr th:only-of-type {\n",
       "        vertical-align: middle;\n",
       "    }\n",
       "\n",
       "    .dataframe tbody tr th {\n",
       "        vertical-align: top;\n",
       "    }\n",
       "\n",
       "    .dataframe thead th {\n",
       "        text-align: right;\n",
       "    }\n",
       "</style>\n",
       "<table border=\"1\" class=\"dataframe\">\n",
       "  <thead>\n",
       "    <tr style=\"text-align: right;\">\n",
       "      <th></th>\n",
       "      <th>nombre</th>\n",
       "      <th>estrellas</th>\n",
       "      <th>precio</th>\n",
       "    </tr>\n",
       "  </thead>\n",
       "  <tbody>\n",
       "    <tr>\n",
       "      <th>0</th>\n",
       "      <td>ibis Styles Madrid Prado</td>\n",
       "      <td>4.7</td>\n",
       "      <td>170</td>\n",
       "    </tr>\n",
       "    <tr>\n",
       "      <th>1</th>\n",
       "      <td>Novotel Madrid Center</td>\n",
       "      <td>4.6</td>\n",
       "      <td>255</td>\n",
       "    </tr>\n",
       "    <tr>\n",
       "      <th>2</th>\n",
       "      <td>ibis budget Madrid Calle 30</td>\n",
       "      <td>4.4</td>\n",
       "      <td>106</td>\n",
       "    </tr>\n",
       "    <tr>\n",
       "      <th>3</th>\n",
       "      <td>ibis Madrid Centro las Ventas</td>\n",
       "      <td>4.5</td>\n",
       "      <td>172</td>\n",
       "    </tr>\n",
       "    <tr>\n",
       "      <th>4</th>\n",
       "      <td>Novotel Madrid City Las Ventas</td>\n",
       "      <td>4.6</td>\n",
       "      <td>173</td>\n",
       "    </tr>\n",
       "  </tbody>\n",
       "</table>\n",
       "</div>"
      ],
      "text/plain": [
       "                           nombre estrellas precio\n",
       "0        ibis Styles Madrid Prado       4.7    170\n",
       "1           Novotel Madrid Center       4.6    255\n",
       "2     ibis budget Madrid Calle 30       4.4    106\n",
       "3   ibis Madrid Centro las Ventas       4.5    172\n",
       "4  Novotel Madrid City Las Ventas       4.6    173"
      ]
     },
     "execution_count": 34,
     "metadata": {},
     "output_type": "execute_result"
    }
   ],
   "source": [
    "import pandas as pd\n",
    "df_hot = pd.DataFrame(dictio_hoteles)\n",
    "df_hot.head()"
   ]
  },
  {
   "cell_type": "code",
   "execution_count": 37,
   "metadata": {},
   "outputs": [],
   "source": [
    "import os\n",
    "\n",
    "# Create directory if it does not exist\n",
    "os.makedirs(\"ETL_IBISHOTELS/data\", exist_ok=True)\n",
    "\n",
    "df_hot.to_csv(\"ETL_IBISHOTELS/data/df_hot.csv\", index=False)"
   ]
  }
 ],
 "metadata": {
  "kernelspec": {
   "display_name": "prueba2",
   "language": "python",
   "name": "python3"
  },
  "language_info": {
   "codemirror_mode": {
    "name": "ipython",
    "version": 3
   },
   "file_extension": ".py",
   "mimetype": "text/x-python",
   "name": "python",
   "nbconvert_exporter": "python",
   "pygments_lexer": "ipython3",
   "version": "3.10.14"
  }
 },
 "nbformat": 4,
 "nbformat_minor": 2
}
