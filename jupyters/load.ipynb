{
 "cells": [
  {
   "cell_type": "code",
   "execution_count": 1,
   "metadata": {},
   "outputs": [],
   "source": [
    "import pandas as pd\n",
    "import numpy as np\n",
    "import requests\n",
    "from datetime import datetime"
   ]
  },
  {
   "cell_type": "markdown",
   "metadata": {},
   "source": [
    "## Normalización"
   ]
  },
  {
   "cell_type": "code",
   "execution_count": 11,
   "metadata": {},
   "outputs": [],
   "source": [
    "def normalizar_fechas(df):\n",
    "    \"\"\"\n",
    "    Elimina las horas de las columnas 'fecha_inicio' y 'fecha_fin', dejando solo 'YYYY-MM-DD'.\n",
    "    \n",
    "    Parámetros:\n",
    "        df (pd.DataFrame): DataFrame con las columnas 'fecha_inicio' y 'fecha_fin'.\n",
    "        \n",
    "    Retorna:\n",
    "        pd.DataFrame: DataFrame con las fechas normalizadas.\n",
    "    \"\"\"\n",
    "    df[\"fecha_inicio\"] = df[\"fecha_inicio\"].astype(str).str[:10]  # Extraer solo YYYY-MM-DD\n",
    "    df[\"fecha_fin\"] = df[\"fecha_fin\"].astype(str).str[:10]  # Extraer solo YYYY-MM-DD\n",
    "    \n",
    "    return df\n"
   ]
  },
  {
   "cell_type": "code",
   "execution_count": 12,
   "metadata": {},
   "outputs": [
    {
     "data": {
      "text/html": [
       "<div>\n",
       "<style scoped>\n",
       "    .dataframe tbody tr th:only-of-type {\n",
       "        vertical-align: middle;\n",
       "    }\n",
       "\n",
       "    .dataframe tbody tr th {\n",
       "        vertical-align: top;\n",
       "    }\n",
       "\n",
       "    .dataframe thead th {\n",
       "        text-align: right;\n",
       "    }\n",
       "</style>\n",
       "<table border=\"1\" class=\"dataframe\">\n",
       "  <thead>\n",
       "    <tr style=\"text-align: right;\">\n",
       "      <th></th>\n",
       "      <th>id_evento</th>\n",
       "      <th>nombre_evento</th>\n",
       "      <th>url_evento</th>\n",
       "      <th>codigo_postal</th>\n",
       "      <th>direccion</th>\n",
       "      <th>horario</th>\n",
       "      <th>fecha_inicio</th>\n",
       "      <th>fecha_fin</th>\n",
       "      <th>organizacion</th>\n",
       "    </tr>\n",
       "  </thead>\n",
       "  <tbody>\n",
       "    <tr>\n",
       "      <th>20</th>\n",
       "      <td>12698465</td>\n",
       "      <td>IV Festival de carnaval Carabanchel</td>\n",
       "      <td>http://www.madrid.es/sites/v/index.jsp?vgnextc...</td>\n",
       "      <td>28054</td>\n",
       "      <td>Parque de Salvador Allende</td>\n",
       "      <td>11:00</td>\n",
       "      <td>2025-03-01</td>\n",
       "      <td>2025-03-01</td>\n",
       "      <td>Parque de Salvador Allende</td>\n",
       "    </tr>\n",
       "    <tr>\n",
       "      <th>40</th>\n",
       "      <td>12693997</td>\n",
       "      <td>Tejiendo Colores</td>\n",
       "      <td>http://www.madrid.es/sites/v/index.jsp?vgnextc...</td>\n",
       "      <td>28026</td>\n",
       "      <td>Centro de Educación Ambiental y Cultural Maris...</td>\n",
       "      <td>00:00</td>\n",
       "      <td>2025-03-01</td>\n",
       "      <td>2025-03-31</td>\n",
       "      <td>Centro de Educación Ambiental y Cultural Maris...</td>\n",
       "    </tr>\n",
       "    <tr>\n",
       "      <th>44</th>\n",
       "      <td>12686173</td>\n",
       "      <td>Villaverde Bajo. Concurso de Disfraces y Pasac...</td>\n",
       "      <td>http://www.madrid.es/sites/v/index.jsp?vgnextc...</td>\n",
       "      <td>None</td>\n",
       "      <td></td>\n",
       "      <td>17:30</td>\n",
       "      <td>2025-03-01</td>\n",
       "      <td>2025-03-01</td>\n",
       "      <td>None</td>\n",
       "    </tr>\n",
       "  </tbody>\n",
       "</table>\n",
       "</div>"
      ],
      "text/plain": [
       "   id_evento                                      nombre_evento  \\\n",
       "20  12698465                IV Festival de carnaval Carabanchel   \n",
       "40  12693997                                   Tejiendo Colores   \n",
       "44  12686173  Villaverde Bajo. Concurso de Disfraces y Pasac...   \n",
       "\n",
       "                                           url_evento codigo_postal  \\\n",
       "20  http://www.madrid.es/sites/v/index.jsp?vgnextc...         28054   \n",
       "40  http://www.madrid.es/sites/v/index.jsp?vgnextc...         28026   \n",
       "44  http://www.madrid.es/sites/v/index.jsp?vgnextc...          None   \n",
       "\n",
       "                                            direccion horario fecha_inicio  \\\n",
       "20                         Parque de Salvador Allende   11:00   2025-03-01   \n",
       "40  Centro de Educación Ambiental y Cultural Maris...   00:00   2025-03-01   \n",
       "44                                                      17:30   2025-03-01   \n",
       "\n",
       "     fecha_fin                                       organizacion  \n",
       "20  2025-03-01                         Parque de Salvador Allende  \n",
       "40  2025-03-31  Centro de Educación Ambiental y Cultural Maris...  \n",
       "44  2025-03-01                                               None  "
      ]
     },
     "execution_count": 12,
     "metadata": {},
     "output_type": "execute_result"
    }
   ],
   "source": [
    "df_api = normalizar_fechas(df_api)\n",
    "df_api.sample(3)"
   ]
  },
  {
   "cell_type": "markdown",
   "metadata": {},
   "source": [
    "## Carga de datos"
   ]
  },
  {
   "cell_type": "markdown",
   "metadata": {},
   "source": [
    "## Paso 1. Conectar con Postgres"
   ]
  },
  {
   "cell_type": "code",
   "execution_count": 13,
   "metadata": {},
   "outputs": [
    {
     "name": "stdout",
     "output_type": "stream",
     "text": [
      "Conexión exitosa\n",
      "('PostgreSQL 17.0 on x86_64-windows, compiled by msvc-19.41.34120, 64-bit',)\n"
     ]
    }
   ],
   "source": [
    "import psycopg2\n",
    "from psycopg2 import OperationalError\n",
    "\n",
    "def create_connection():\n",
    "    try:\n",
    "        # Configurar la conexión\n",
    "        conn = psycopg2.connect(\n",
    "            dbname=\"project_etl_ibis\",\n",
    "            user=\"postgres\",\n",
    "            password=\"admin\",\n",
    "            host=\"localhost\",\n",
    "            port=\"5432\"\n",
    "        )\n",
    "        print(\"Conexión exitosa\")\n",
    "        return conn\n",
    "    except OperationalError as e:\n",
    "        print(f\"Error al conectar a la base de datos: {e}\")\n",
    "        return None\n",
    "\n",
    "# Crear la conexión\n",
    "conn = create_connection()\n",
    "\n",
    "if conn:\n",
    "    # Crear un cursor para ejecutar comandos SQL\n",
    "    cur = conn.cursor()\n",
    "\n",
    "    # Verificar la conexión\n",
    "    cur.execute(\"SELECT version();\")\n",
    "    print(cur.fetchone())\n",
    "\n",
    "    # Cerrar la conexión\n",
    "    cur.close()\n",
    "    conn.close()"
   ]
  },
  {
   "cell_type": "markdown",
   "metadata": {},
   "source": [
    "## 2. Carga de Datos"
   ]
  },
  {
   "cell_type": "markdown",
   "metadata": {},
   "source": [
    "### Inserto datos en TABLA CIUDAD"
   ]
  },
  {
   "cell_type": "code",
   "execution_count": 14,
   "metadata": {},
   "outputs": [
    {
     "name": "stdout",
     "output_type": "stream",
     "text": [
      "La ciudad 'Madrid' ya existe con id_ciudad = 1\n"
     ]
    }
   ],
   "source": [
    "import psycopg2\n",
    "\n",
    "# Conectar a la base de datos\n",
    "conn = psycopg2.connect(dbname=\"project_etl_ibis\", user=\"postgres\", password=\"admin\", host=\"localhost\", port=\"5432\")\n",
    "cur = conn.cursor()\n",
    "\n",
    "# Obtener el nombre de la ciudad desde el DataFrame (suponiendo que todas son \"Madrid\")\n",
    "nombre_ciudad = \"Madrid\"\n",
    "\n",
    "# 1️⃣ Verificar si la ciudad ya existe\n",
    "cur.execute(\"SELECT id_ciudad FROM ciudad WHERE nombre_ciudad = %s\", (nombre_ciudad,))\n",
    "result = cur.fetchone()\n",
    "\n",
    "if result:\n",
    "    id_ciudad = result[0]  # Si ya existe, obtenemos su ID\n",
    "    print(f\"La ciudad '{nombre_ciudad}' ya existe con id_ciudad = {id_ciudad}\")\n",
    "else:\n",
    "    # 2️⃣ Si no existe, insertamos la ciudad y obtenemos el id_ciudad\n",
    "    cur.execute(\"INSERT INTO ciudad (nombre_ciudad) VALUES (%s) RETURNING id_ciudad;\", (nombre_ciudad,))\n",
    "    id_ciudad = cur.fetchone()[0]\n",
    "    conn.commit()\n",
    "    print(f\"Se insertó la ciudad '{nombre_ciudad}' con id_ciudad = {id_ciudad}\")\n",
    "\n",
    "# Cerrar conexión\n",
    "cur.close()\n",
    "conn.close()\n"
   ]
  },
  {
   "cell_type": "markdown",
   "metadata": {},
   "source": [
    "QUERY"
   ]
  },
  {
   "cell_type": "code",
   "execution_count": 15,
   "metadata": {},
   "outputs": [
    {
     "name": "stdout",
     "output_type": "stream",
     "text": [
      "(1, 'Madrid')\n"
     ]
    }
   ],
   "source": [
    "# Conectarse a PostgreSQL\n",
    "conn = psycopg2.connect(dbname=\"project_etl_ibis\", user=\"postgres\", password=\"admin\", host=\"localhost\", port=\"5432\")\n",
    "cur = conn.cursor()\n",
    "\n",
    "# Obtener todas las ventas\n",
    "cur.execute(\"SELECT * FROM ciudad;\")\n",
    "\n",
    "# Mostrar los resultados\n",
    "for row in cur.fetchall():\n",
    "    print(row)\n",
    "\n",
    "# Cerrar conexión\n",
    "cur.close()\n",
    "conn.close()"
   ]
  },
  {
   "cell_type": "markdown",
   "metadata": {},
   "source": [
    "### Cargar datos en TABLA HOTELES"
   ]
  },
  {
   "cell_type": "code",
   "execution_count": 16,
   "metadata": {},
   "outputs": [],
   "source": [
    "df_completo = pd.read_csv(r\"C:\\Users\\marta\\Desktop\\mibootcamp\\ETL_IBIShotels\\data\\dfcompleto.csv\", parse_dates=[\"fecha_reserva\", \"inicio_estancia\", \"final_estancia\"])"
   ]
  },
  {
   "cell_type": "code",
   "execution_count": 17,
   "metadata": {},
   "outputs": [
    {
     "data": {
      "text/plain": [
       "id_reserva                 object\n",
       "id_cliente                  int64\n",
       "nombre                     object\n",
       "apellido                   object\n",
       "mail                       object\n",
       "competencia                  bool\n",
       "fecha_reserva      datetime64[ns]\n",
       "inicio_estancia    datetime64[ns]\n",
       "final_estancia     datetime64[ns]\n",
       "id_hotel                    int64\n",
       "precio_noche              float64\n",
       "nombre_hotel               object\n",
       "valoracion                float64\n",
       "ciudad                     object\n",
       "dtype: object"
      ]
     },
     "execution_count": 17,
     "metadata": {},
     "output_type": "execute_result"
    }
   ],
   "source": [
    "df_completo.rename(columns={\"valoración\": \"valoracion\"}, inplace=True)  # Renombrar la columna\n",
    "df_completo.dtypes"
   ]
  },
  {
   "cell_type": "code",
   "execution_count": 18,
   "metadata": {},
   "outputs": [
    {
     "name": "stdout",
     "output_type": "stream",
     "text": [
      "La ciudad 'Madrid' ya existe con id_ciudad = 1\n",
      "Hoteles insertados correctamente.\n"
     ]
    }
   ],
   "source": [
    "conn = psycopg2.connect(dbname=\"project_etl_ibis\", user=\"postgres\", password=\"admin\", host=\"localhost\", port=\"5432\")\n",
    "cur = conn.cursor()\n",
    "\n",
    "# 1️⃣ Obtener la ciudad del DataFrame (asumiendo que todas son \"Madrid\")\n",
    "nombre_ciudad = df_completo[\"ciudad\"].unique()[0]  # Si hay más ciudades, necesitarás un bucle\n",
    "\n",
    "# 2️⃣ Verificar si la ciudad ya existe\n",
    "cur.execute(\"SELECT id_ciudad FROM ciudad WHERE nombre_ciudad = %s\", (nombre_ciudad,))\n",
    "result = cur.fetchone()\n",
    "\n",
    "if result:\n",
    "    id_ciudad = result[0]  # Recuperar el ID de la ciudad\n",
    "    print(f\"La ciudad '{nombre_ciudad}' ya existe con id_ciudad = {id_ciudad}\")\n",
    "else:\n",
    "    # Insertar la ciudad si no existe\n",
    "    cur.execute(\"INSERT INTO ciudad (nombre_ciudad) VALUES (%s) RETURNING id_ciudad;\", (nombre_ciudad,))\n",
    "    id_ciudad = cur.fetchone()[0]\n",
    "    conn.commit()\n",
    "    print(f\"Se insertó la ciudad '{nombre_ciudad}' con id_ciudad = {id_ciudad}\")\n",
    "\n",
    "# 3️⃣ Preparar los datos de hoteles\n",
    "df_hoteles = df_completo[[\"nombre_hotel\", \"competencia\", \"valoracion\"]].copy()\n",
    "df_hoteles[\"id_ciudad\"] = id_ciudad  # Asignar el id_ciudad obtenido\n",
    "df_hoteles[\"competencia\"] = df_hoteles[\"competencia\"].astype(bool)\n",
    "\n",
    "# 4️⃣ Eliminar duplicados para evitar insertar el mismo hotel varias veces\n",
    "df_hoteles = df_hoteles.drop_duplicates(subset=[\"nombre_hotel\"])\n",
    "\n",
    "# 5️⃣ Convertir DataFrame a lista de tuplas para la inserción\n",
    "records = df_hoteles[[\"nombre_hotel\", \"competencia\", \"valoracion\", \"id_ciudad\"]].to_records(index=False)\n",
    "records_list = [(str(nombre_hotel), bool(competencia), float(valoracion), int(id_ciudad)) for nombre_hotel, competencia, valoracion, id_ciudad in records]\n",
    "\n",
    "# 6️⃣ Insertar los datos en la tabla `hoteles`\n",
    "query = \"\"\"\n",
    "    INSERT INTO hoteles (nombre_hotel, competencia, valoracion, id_ciudad) \n",
    "    VALUES (%s, %s, %s, %s)\n",
    "\"\"\"\n",
    "cur.executemany(query, records_list)\n",
    "\n",
    "# 📌 Guardar cambios y cerrar conexión\n",
    "conn.commit()\n",
    "cur.close()\n",
    "conn.close()\n",
    "\n",
    "print(\"Hoteles insertados correctamente.\")"
   ]
  },
  {
   "cell_type": "markdown",
   "metadata": {},
   "source": [
    "## Tabla clientes "
   ]
  },
  {
   "cell_type": "code",
   "execution_count": 19,
   "metadata": {},
   "outputs": [
    {
     "data": {
      "text/plain": [
       "Index(['id_reserva', 'id_cliente', 'nombre', 'apellido', 'mail', 'competencia',\n",
       "       'fecha_reserva', 'inicio_estancia', 'final_estancia', 'id_hotel',\n",
       "       'precio_noche', 'nombre_hotel', 'valoracion', 'ciudad'],\n",
       "      dtype='object')"
      ]
     },
     "execution_count": 19,
     "metadata": {},
     "output_type": "execute_result"
    }
   ],
   "source": [
    "df_completo.columns"
   ]
  },
  {
   "cell_type": "code",
   "execution_count": 20,
   "metadata": {},
   "outputs": [],
   "source": [
    "df_cliente = df_completo[[\"id_cliente\", \"nombre\", \"apellido\", \"mail\"]].copy()"
   ]
  },
  {
   "cell_type": "code",
   "execution_count": 21,
   "metadata": {},
   "outputs": [],
   "source": [
    "# Convertir id_cliente a string antes de insertarlo\n",
    "df_cliente[\"id_cliente\"] = df_cliente[\"id_cliente\"].astype(str)\n"
   ]
  },
  {
   "cell_type": "code",
   "execution_count": 22,
   "metadata": {},
   "outputs": [
    {
     "data": {
      "text/plain": [
       "id_cliente    object\n",
       "nombre        object\n",
       "apellido      object\n",
       "mail          object\n",
       "dtype: object"
      ]
     },
     "execution_count": 22,
     "metadata": {},
     "output_type": "execute_result"
    }
   ],
   "source": [
    "df_cliente.dtypes"
   ]
  },
  {
   "cell_type": "code",
   "execution_count": 23,
   "metadata": {},
   "outputs": [],
   "source": [
    "df_cliente = df_cliente.drop_duplicates(subset=[\"id_cliente\"])"
   ]
  },
  {
   "cell_type": "code",
   "execution_count": 24,
   "metadata": {},
   "outputs": [
    {
     "ename": "UniqueViolation",
     "evalue": "llave duplicada viola restricción de unicidad «clientes_pkey»\nDETAIL:  Ya existe la llave (id_cliente)=(2).\n",
     "output_type": "error",
     "traceback": [
      "\u001b[1;31m---------------------------------------------------------------------------\u001b[0m",
      "\u001b[1;31mUniqueViolation\u001b[0m                           Traceback (most recent call last)",
      "Cell \u001b[1;32mIn[24], line 14\u001b[0m\n\u001b[0;32m      9\u001b[0m \u001b[38;5;66;03m# Insertar múltiples registros con ejecuta_many()\u001b[39;00m\n\u001b[0;32m     10\u001b[0m query \u001b[38;5;241m=\u001b[39m \u001b[38;5;124m\"\"\"\u001b[39m\n\u001b[0;32m     11\u001b[0m \u001b[38;5;124m    INSERT INTO clientes (id_cliente, nombre, apellido, mail)\u001b[39m\n\u001b[0;32m     12\u001b[0m \u001b[38;5;124m    VALUES (\u001b[39m\u001b[38;5;132;01m%s\u001b[39;00m\u001b[38;5;124m, \u001b[39m\u001b[38;5;132;01m%s\u001b[39;00m\u001b[38;5;124m, \u001b[39m\u001b[38;5;132;01m%s\u001b[39;00m\u001b[38;5;124m, \u001b[39m\u001b[38;5;132;01m%s\u001b[39;00m\u001b[38;5;124m)\u001b[39m\n\u001b[0;32m     13\u001b[0m \u001b[38;5;124m\"\"\"\u001b[39m\n\u001b[1;32m---> 14\u001b[0m \u001b[43mcur\u001b[49m\u001b[38;5;241;43m.\u001b[39;49m\u001b[43mexecutemany\u001b[49m\u001b[43m(\u001b[49m\u001b[43mquery\u001b[49m\u001b[43m,\u001b[49m\u001b[43m \u001b[49m\u001b[43mrecords_list\u001b[49m\u001b[43m)\u001b[49m\n\u001b[0;32m     16\u001b[0m \u001b[38;5;66;03m# Guardar cambios\u001b[39;00m\n\u001b[0;32m     17\u001b[0m conn\u001b[38;5;241m.\u001b[39mcommit()\n",
      "\u001b[1;31mUniqueViolation\u001b[0m: llave duplicada viola restricción de unicidad «clientes_pkey»\nDETAIL:  Ya existe la llave (id_cliente)=(2).\n"
     ]
    }
   ],
   "source": [
    "# Reabrir la conexión\n",
    "conn = psycopg2.connect(dbname=\"project_etl_ibis\", user=\"postgres\", password=\"admin\", host=\"localhost\", port=\"5432\")\n",
    "cur = conn.cursor()\n",
    "\n",
    "# Convertir DataFrame a lista de tuplas\n",
    "records = df_cliente[[\"id_cliente\", \"nombre\", \"apellido\", \"mail\"]].to_records(index=False)\n",
    "records_list = list(records)\n",
    "\n",
    "# Insertar múltiples registros con ejecuta_many()\n",
    "query = \"\"\"\n",
    "    INSERT INTO clientes (id_cliente, nombre, apellido, mail)\n",
    "    VALUES (%s, %s, %s, %s)\n",
    "\"\"\"\n",
    "cur.executemany(query, records_list)\n",
    "\n",
    "# Guardar cambios\n",
    "conn.commit()\n",
    "\n",
    "# Cerrar la conexión\n",
    "cur.close()\n",
    "conn.close()\n",
    "print(\"Datos insertados correctamente\")"
   ]
  },
  {
   "cell_type": "code",
   "execution_count": 25,
   "metadata": {},
   "outputs": [],
   "source": [
    "conn.rollback()"
   ]
  },
  {
   "cell_type": "markdown",
   "metadata": {},
   "source": [
    "rollback"
   ]
  },
  {
   "cell_type": "code",
   "execution_count": null,
   "metadata": {},
   "outputs": [
    {
     "data": {
      "text/plain": [
       "14905"
      ]
     },
     "execution_count": 35,
     "metadata": {},
     "output_type": "execute_result"
    }
   ],
   "source": [
    "df_cliente[\"id_cliente\"].count()"
   ]
  },
  {
   "cell_type": "markdown",
   "metadata": {},
   "source": [
    "QUERY"
   ]
  },
  {
   "cell_type": "markdown",
   "metadata": {},
   "source": [
    "SELECT r.id_reserva, c.id_cliente\n",
    "FROM reservas r\n",
    "LEFT JOIN clientes c ON r.id_cliente = c.id_cliente\n",
    "WHERE c.id_cliente IS NULL;  -- Detecta reservas sin cliente\n"
   ]
  },
  {
   "cell_type": "markdown",
   "metadata": {},
   "source": [
    "TABLA RESERVAS"
   ]
  },
  {
   "cell_type": "code",
   "execution_count": 26,
   "metadata": {},
   "outputs": [],
   "source": [
    "df_reservas = df_completo[[\"id_reserva\", \"fecha_reserva\", \"inicio_estancia\", \"final_estancia\", \"precio_noche\", \"id_cliente\", \"id_hotel\"]].copy()"
   ]
  },
  {
   "cell_type": "code",
   "execution_count": 27,
   "metadata": {},
   "outputs": [],
   "source": [
    "df_reservas[\"fecha_reserva\"] = pd.to_datetime(df_reservas[\"fecha_reserva\"], errors='coerce')\n",
    "df_reservas[\"inicio_estancia\"] = pd.to_datetime(df_reservas[\"inicio_estancia\"], errors='coerce')\n",
    "df_reservas[\"final_estancia\"] = pd.to_datetime(df_reservas[\"final_estancia\"], errors='coerce')\n"
   ]
  },
  {
   "cell_type": "code",
   "execution_count": 28,
   "metadata": {},
   "outputs": [],
   "source": [
    "conn = psycopg2.connect(dbname=\"project_etl_ibis\", user=\"postgres\", password=\"admin\", host=\"localhost\", port=\"5432\")\n",
    "cur = conn.cursor()\n"
   ]
  },
  {
   "cell_type": "markdown",
   "metadata": {},
   "source": [
    "el problema q me daba es q la fecha reserva tenia q crear cuando extraje los datos una columna poniendo la fecha del estract"
   ]
  },
  {
   "cell_type": "code",
   "execution_count": 29,
   "metadata": {},
   "outputs": [],
   "source": [
    "from datetime import datetime, timedelta\n",
    "fecha_ayer = pd.to_datetime(datetime.now() - timedelta(1)).strftime('%Y-%m-%d')\n",
    "\n",
    "# Reemplazar los valores NaT en la columna 'fecha_reserva' con la fecha de ayer\n",
    "df_reservas['fecha_reserva'] = df_reservas['fecha_reserva'].fillna(fecha_ayer)"
   ]
  },
  {
   "cell_type": "markdown",
   "metadata": {},
   "source": [
    "completar datos inicio estancia y fin estancia \n",
    "precio noche\n"
   ]
  },
  {
   "cell_type": "code",
   "execution_count": 30,
   "metadata": {},
   "outputs": [],
   "source": [
    "# Definir la fecha con la que se rellenarán los valores nulos\n",
    "fecha_reemplazo = '2025-03-01'\n",
    "\n",
    "# Rellenar los valores nulos en la columna 'inicio_estancia' con la fecha '2025-03-01'\n",
    "df_reservas['inicio_estancia'] = df_reservas['inicio_estancia'].fillna(fecha_reemplazo)\n"
   ]
  },
  {
   "cell_type": "code",
   "execution_count": 31,
   "metadata": {},
   "outputs": [
    {
     "name": "stdout",
     "output_type": "stream",
     "text": [
      "2025-03-02 00:00:00\n"
     ]
    }
   ],
   "source": [
    "# Calcular la moda de la columna 'final_estancia'\n",
    "moda_final_estancia = df_reservas['final_estancia'].mode()[0]\n",
    "print(moda_final_estancia)"
   ]
  },
  {
   "cell_type": "code",
   "execution_count": 32,
   "metadata": {},
   "outputs": [],
   "source": [
    "# Rellenar los valores nulos en la columna 'final_estancia' con la moda\n",
    "df_reservas['final_estancia'] = df_reservas['final_estancia'].fillna(moda_final_estancia)"
   ]
  },
  {
   "cell_type": "code",
   "execution_count": 33,
   "metadata": {},
   "outputs": [
    {
     "data": {
      "text/plain": [
       "final_estancia\n",
       "2025-03-02    15000\n",
       "Name: count, dtype: int64"
      ]
     },
     "execution_count": 33,
     "metadata": {},
     "output_type": "execute_result"
    }
   ],
   "source": [
    "df_reservas['final_estancia'].value_counts()"
   ]
  },
  {
   "cell_type": "code",
   "execution_count": 34,
   "metadata": {},
   "outputs": [],
   "source": [
    "# Calcular la mediana de la columna 'precio_noche'\n",
    "mediana_precio_noche = df_reservas['precio_noche'].median()\n",
    "\n",
    "# Rellenar los valores nulos en la columna 'precio_noche' con la mediana\n",
    "df_reservas['precio_noche'] = df_reservas['precio_noche'].fillna(mediana_precio_noche)"
   ]
  },
  {
   "cell_type": "code",
   "execution_count": null,
   "metadata": {},
   "outputs": [],
   "source": [
    "records_list = df_reservas.values.tolist()\n",
    "records_list ## crear una lista d lsitas "
   ]
  },
  {
   "cell_type": "code",
   "execution_count": 36,
   "metadata": {},
   "outputs": [],
   "source": [
    "df_reservas['id_cliente'] = df_reservas['id_cliente'].astype(str)"
   ]
  },
  {
   "cell_type": "markdown",
   "metadata": {},
   "source": [
    "usar for iter rows porq el records lo convierte en string y luego tienes q volver a transformar"
   ]
  },
  {
   "cell_type": "code",
   "execution_count": 37,
   "metadata": {},
   "outputs": [
    {
     "ename": "UniqueViolation",
     "evalue": "llave duplicada viola restricción de unicidad «reservas_pkey»\nDETAIL:  Ya existe la llave (id_reserva)=(40c4cb55-d1f5-407b-832f-4756b8ff77b4).\n",
     "output_type": "error",
     "traceback": [
      "\u001b[1;31m---------------------------------------------------------------------------\u001b[0m",
      "\u001b[1;31mUniqueViolation\u001b[0m                           Traceback (most recent call last)",
      "Cell \u001b[1;32mIn[37], line 16\u001b[0m\n\u001b[0;32m      1\u001b[0m \u001b[38;5;66;03m#✅ Convertir fechas a string en formato \"YYYY-MM-DD\"\u001b[39;00m\n\u001b[0;32m      2\u001b[0m \u001b[38;5;66;03m#df_reservas[\"fecha_reserva\"] = df_reservas[\"fecha_reserva\"].dt.strftime('%Y-%m-%d')\u001b[39;00m\n\u001b[0;32m      3\u001b[0m \u001b[38;5;66;03m#df_reservas[\"inicio_estancia\"] = df_reservas[\"inicio_estancia\"].dt.strftime('%Y-%m-%d') ## por que si lo hice antes tengo q volver a pasarlo a datatime\u001b[39;00m\n\u001b[1;32m   (...)\u001b[0m\n\u001b[0;32m     10\u001b[0m \n\u001b[0;32m     11\u001b[0m \u001b[38;5;66;03m# Insertar en la tabla `reservas`\u001b[39;00m\n\u001b[0;32m     12\u001b[0m query \u001b[38;5;241m=\u001b[39m \u001b[38;5;124m\"\"\"\u001b[39m\n\u001b[0;32m     13\u001b[0m \u001b[38;5;124m    INSERT INTO reservas (id_reserva, fecha_reserva, inicio_estancia, final_estancia, precio_noche, id_cliente, id_hotel) \u001b[39m\n\u001b[0;32m     14\u001b[0m \u001b[38;5;124m    VALUES (\u001b[39m\u001b[38;5;132;01m%s\u001b[39;00m\u001b[38;5;124m, \u001b[39m\u001b[38;5;132;01m%s\u001b[39;00m\u001b[38;5;124m, \u001b[39m\u001b[38;5;132;01m%s\u001b[39;00m\u001b[38;5;124m, \u001b[39m\u001b[38;5;132;01m%s\u001b[39;00m\u001b[38;5;124m, \u001b[39m\u001b[38;5;132;01m%s\u001b[39;00m\u001b[38;5;124m, \u001b[39m\u001b[38;5;132;01m%s\u001b[39;00m\u001b[38;5;124m, \u001b[39m\u001b[38;5;132;01m%s\u001b[39;00m\u001b[38;5;124m)\u001b[39m\u001b[38;5;124m\"\"\"\u001b[39m\n\u001b[1;32m---> 16\u001b[0m \u001b[43mcur\u001b[49m\u001b[38;5;241;43m.\u001b[39;49m\u001b[43mexecutemany\u001b[49m\u001b[43m(\u001b[49m\u001b[43mquery\u001b[49m\u001b[43m,\u001b[49m\u001b[43m \u001b[49m\u001b[43mrecords_list\u001b[49m\u001b[43m)\u001b[49m\n\u001b[0;32m     18\u001b[0m \u001b[38;5;66;03m# 📌 Guardar cambios y cerrar conexión\u001b[39;00m\n\u001b[0;32m     19\u001b[0m conn\u001b[38;5;241m.\u001b[39mcommit()\n",
      "\u001b[1;31mUniqueViolation\u001b[0m: llave duplicada viola restricción de unicidad «reservas_pkey»\nDETAIL:  Ya existe la llave (id_reserva)=(40c4cb55-d1f5-407b-832f-4756b8ff77b4).\n"
     ]
    }
   ],
   "source": [
    "\n",
    "#✅ Convertir fechas a string en formato \"YYYY-MM-DD\"\n",
    "#df_reservas[\"fecha_reserva\"] = df_reservas[\"fecha_reserva\"].dt.strftime('%Y-%m-%d')\n",
    "#df_reservas[\"inicio_estancia\"] = df_reservas[\"inicio_estancia\"].dt.strftime('%Y-%m-%d') ## por que si lo hice antes tengo q volver a pasarlo a datatime\n",
    "#df_reservas[\"final_estancia\"] = df_reservas[\"final_estancia\"].dt.strftime('%Y-%m-%d')\n",
    "\n",
    "# ✅ Asegurar que precio_noche es un float positivo\n",
    "\n",
    "# Convertir DataFrame a lista de tuplas para la inserción\n",
    "\n",
    "\n",
    "# Insertar en la tabla `reservas`\n",
    "query = \"\"\"\n",
    "    INSERT INTO reservas (id_reserva, fecha_reserva, inicio_estancia, final_estancia, precio_noche, id_cliente, id_hotel) \n",
    "    VALUES (%s, %s, %s, %s, %s, %s, %s)\"\"\"\n",
    "\n",
    "cur.executemany(query, records_list)\n",
    "\n",
    "# 📌 Guardar cambios y cerrar conexión\n",
    "conn.commit()\n",
    "cur.close()\n",
    "conn.close()\n",
    "\n",
    "print(\"Reservas insertadas correctamente.\")\n"
   ]
  },
  {
   "cell_type": "code",
   "execution_count": 38,
   "metadata": {},
   "outputs": [],
   "source": [
    "conn.rollback()"
   ]
  },
  {
   "cell_type": "markdown",
   "metadata": {},
   "source": [
    "TABLA EVENTOS"
   ]
  },
  {
   "cell_type": "code",
   "execution_count": 48,
   "metadata": {},
   "outputs": [
    {
     "data": {
      "text/plain": [
       "id_evento        object\n",
       "nombre_evento    object\n",
       "url_evento       object\n",
       "codigo_postal    object\n",
       "direccion        object\n",
       "horario          object\n",
       "fecha_inicio     object\n",
       "fecha_fin        object\n",
       "organizacion     object\n",
       "dtype: object"
      ]
     },
     "execution_count": 48,
     "metadata": {},
     "output_type": "execute_result"
    }
   ],
   "source": [
    "df_api.dtypes"
   ]
  },
  {
   "cell_type": "code",
   "execution_count": 58,
   "metadata": {},
   "outputs": [
    {
     "name": "stdout",
     "output_type": "stream",
     "text": [
      "<class 'pandas.core.frame.DataFrame'>\n",
      "RangeIndex: 45 entries, 0 to 44\n",
      "Data columns (total 9 columns):\n",
      " #   Column         Non-Null Count  Dtype         \n",
      "---  ------         --------------  -----         \n",
      " 0   id_evento      45 non-null     object        \n",
      " 1   nombre_evento  45 non-null     object        \n",
      " 2   url_evento     45 non-null     object        \n",
      " 3   codigo_postal  45 non-null     object        \n",
      " 4   direccion      45 non-null     object        \n",
      " 5   horario        45 non-null     object        \n",
      " 6   fecha_inicio   45 non-null     datetime64[ns]\n",
      " 7   fecha_fin      45 non-null     datetime64[ns]\n",
      " 8   organizacion   45 non-null     object        \n",
      "dtypes: datetime64[ns](2), object(7)\n",
      "memory usage: 3.3+ KB\n"
     ]
    }
   ],
   "source": [
    "df_api.info()"
   ]
  },
  {
   "cell_type": "code",
   "execution_count": 39,
   "metadata": {},
   "outputs": [],
   "source": [
    "df_api['codigo_postal'] = df_api['codigo_postal'].fillna(0)\n",
    "df_api['organizacion'] = df_api['organizacion'].fillna(\"no se encuentra\")"
   ]
  },
  {
   "cell_type": "code",
   "execution_count": 40,
   "metadata": {},
   "outputs": [
    {
     "data": {
      "text/plain": [
       "codigo_postal\n",
       "0        15\n",
       "28045     5\n",
       "28022     4\n",
       "28009     3\n",
       "28021     3\n",
       "28015     2\n",
       "28026     2\n",
       "28041     2\n",
       "28028     1\n",
       "28037     1\n",
       "28011     1\n",
       "28035     1\n",
       "28042     1\n",
       "28054     1\n",
       "28017     1\n",
       "28001     1\n",
       "28020     1\n",
       "Name: count, dtype: int64"
      ]
     },
     "execution_count": 40,
     "metadata": {},
     "output_type": "execute_result"
    }
   ],
   "source": [
    "df_api['codigo_postal'].value_counts()"
   ]
  },
  {
   "cell_type": "code",
   "execution_count": 41,
   "metadata": {},
   "outputs": [],
   "source": [
    "df_api[\"fecha_inicio\"] = pd.to_datetime(df_api['fecha_inicio'], errors='coerce')\n",
    "df_api[\"fecha_fin\"] = pd.to_datetime(df_api['fecha_fin'], errors='coerce')"
   ]
  },
  {
   "cell_type": "code",
   "execution_count": 42,
   "metadata": {},
   "outputs": [
    {
     "data": {
      "text/plain": [
       "id_evento                object\n",
       "nombre_evento            object\n",
       "url_evento               object\n",
       "codigo_postal            object\n",
       "direccion                object\n",
       "horario                  object\n",
       "fecha_inicio     datetime64[ns]\n",
       "fecha_fin        datetime64[ns]\n",
       "organizacion             object\n",
       "id_ciudad                 int64\n",
       "dtype: object"
      ]
     },
     "execution_count": 42,
     "metadata": {},
     "output_type": "execute_result"
    }
   ],
   "source": [
    "df_api['id_ciudad'] = 1\n",
    "df_api.dtypes"
   ]
  },
  {
   "cell_type": "markdown",
   "metadata": {},
   "source": [
    "ABRO CONEXION"
   ]
  },
  {
   "cell_type": "code",
   "execution_count": 43,
   "metadata": {},
   "outputs": [
    {
     "name": "stdout",
     "output_type": "stream",
     "text": [
      "Reservas insertadas correctamente.\n"
     ]
    }
   ],
   "source": [
    "conn = psycopg2.connect(dbname=\"project_etl_ibis\", user=\"postgres\", password=\"admin\", host=\"localhost\", port=\"5432\")\n",
    "cur = conn.cursor()\n",
    "\n",
    "records_list = df_api.values.tolist()\n",
    "\n",
    "\n",
    "# Insertar en la tabla `reservas`\n",
    "query = \"\"\"\n",
    "    INSERT INTO eventos (id_evento, nombre_evento, url_evento, codigo_postal, direccion, horario, fecha_inicio, fecha_fin, organizacion, id_ciudad)\n",
    "    VALUES (%s, %s, %s, %s, %s, %s, %s, %s, %s, %s)\"\"\"\n",
    "\n",
    "cur.executemany(query, records_list)\n",
    "\n",
    "# 📌 Guardar cambios y cerrar conexión\n",
    "conn.commit()\n",
    "cur.close()\n",
    "conn.close()\n",
    "\n",
    "print(\"Reservas insertadas correctamente.\")\n",
    "\n"
   ]
  },
  {
   "cell_type": "markdown",
   "metadata": {},
   "source": [
    "2. query"
   ]
  },
  {
   "cell_type": "code",
   "execution_count": 46,
   "metadata": {},
   "outputs": [
    {
     "name": "stdout",
     "output_type": "stream",
     "text": [
      "Total de hoteles en la base de datos: 261\n"
     ]
    }
   ],
   "source": [
    "# Conectarse a PostgreSQL\n",
    "conn = psycopg2.connect(dbname=\"project_etl_ibis\", user=\"postgres\", password=\"admin\", host=\"localhost\", port=\"5432\")\n",
    "cur = conn.cursor()\n",
    "\n",
    "# Ejecutar la consulta para contar el número de hoteles\n",
    "cur.execute(\"SELECT COUNT(*) FROM hoteles;\")\n",
    "\n",
    "# Obtener el resultado\n",
    "total_hoteles = cur.fetchone()[0]\n",
    "print(f\"Total de hoteles en la base de datos: {total_hoteles}\")\n",
    "\n",
    "# Cerrar la conexión\n",
    "cur.close()\n",
    "conn.close()\n"
   ]
  }
 ],
 "metadata": {
  "kernelspec": {
   "display_name": "prueba2",
   "language": "python",
   "name": "python3"
  },
  "language_info": {
   "codemirror_mode": {
    "name": "ipython",
    "version": 3
   },
   "file_extension": ".py",
   "mimetype": "text/x-python",
   "name": "python",
   "nbconvert_exporter": "python",
   "pygments_lexer": "ipython3",
   "version": "3.10.14"
  }
 },
 "nbformat": 4,
 "nbformat_minor": 2
}
