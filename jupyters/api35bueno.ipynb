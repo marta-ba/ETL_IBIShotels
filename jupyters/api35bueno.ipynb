{
 "cells": [
  {
   "cell_type": "code",
   "execution_count": 2,
   "metadata": {},
   "outputs": [],
   "source": [
    "import pandas as pd\n",
    "import numpy as np\n",
    "import requests\n",
    "from datetime import datetime"
   ]
  },
  {
   "cell_type": "markdown",
   "metadata": {},
   "source": [
    "HAGO ENDPINT CON FECHAS + FILTRADO"
   ]
  },
  {
   "cell_type": "code",
   "execution_count": 3,
   "metadata": {},
   "outputs": [],
   "source": [
    "# Definir el rango de fechas que te interesa\n",
    "fecha_inicio = \"2025-03-01\"\n",
    "fecha_fin = \"2025-03-02\"\n",
    "url = f\"https://datos.madrid.es/egob/catalogo/300107-0-agenda-actividades-eventos.json?dtstart={fecha_inicio}&dtend={fecha_fin}\"\n"
   ]
  },
  {
   "cell_type": "code",
   "execution_count": 4,
   "metadata": {},
   "outputs": [
    {
     "name": "stdout",
     "output_type": "stream",
     "text": [
      "[{'@id': 'https://datos.madrid.es/egob/catalogo/tipo/evento/12682299-asalto-lectura-tres-cerditos-mas.json', '@type': 'https://datos.madrid.es/egob/kos/actividades/RecitalesPresentacionesActosLiterarios', 'id': '12682299', 'title': 'Asalto a la lectura. Tres cerditos y más', 'description': '', 'free': 1, 'price': '', 'dtstart': '2025-03-01 11:00:00.0', 'dtend': '2025-03-01 23:59:00.0', 'time': '11:00', 'excluded-days': '', 'audience': 'Niños,Familias', 'uid': '12682299', 'link': 'http://www.madrid.es/sites/v/index.jsp?vgnextchannel=ca9671ee4a9eb410VgnVCM100000171f5a0aRCRD&vgnextoid=6aec3e3332fe4910VgnVCM1000001d4a900aRCRD', 'event-location': 'Centro Cultural Clara del Rey - Museo ABC (Centro)', 'references': {'@id': 'http://www.madrid.es/sites/v/index.jsp?vgnextchannel=ca9671ee4a9eb410VgnVCM100000171f5a0aRCRD&vgnextoid=1ad0d88f2de54910VgnVCM1000001d4a900aRCRD'}, 'relation': {'@id': 'https://datos.madrid.es/egob/catalogo/tipo/entidadesyorganismos/11876732-centro-cultural-clara-rey-museo-abc-centro-.json'}, 'address': {'district': {'@id': 'https://datos.madrid.es/egob/kos/Provincia/Madrid/Municipio/Madrid/Distrito/Centro'}, 'area': {'@id': 'https://datos.madrid.es/egob/kos/Provincia/Madrid/Municipio/Madrid/Distrito/Centro/Barrio/Universidad', 'locality': 'MADRID', 'postal-code': '28015', 'street-address': 'CALLE AMANIEL 29'}}, 'location': {'latitude': 40.42741340671151, 'longitude': -3.7095381101739444}, 'organization': {'organization-name': 'Centro Cultural Clara del Rey - Museo ABC (Centro)', 'accesibility': '1'}}, {'@id': 'https://datos.madrid.es/egob/catalogo/tipo/evento/12691299-atlantiques-dahomey.json', '@type': 'https://datos.madrid.es/egob/kos/actividades/ProgramacionDestacadaAgendaCultura', 'id': '12691299', 'title': 'Atlantiques + Dahomey', 'description': \"Programa:   Atlantiques  (Francia, 2009, 20') Sentados alrededor del fuego al caer la noche, el joven Serigne le cuenta a sus amigos su odisea clandestina: 'Perdimos a dos durante la travesía. Las dos bajas no estaban enfermas. Solo el miedo pudo con ellos. Cuando ves venir hacia ti olas tan altas como una casa, te quedas aterrorizado... ¡No puedes imaginar lo que se siente! Piensas que tarde o temprano una de esas olas acabará arrasándote. Es un infierno [...]'. Unos meses más tarde, Serigne desaparece y la película tiene que continuar su vida sin él. el tema sigue siendo el mismo: la travesía marítima. Encontramos a otros jóvenes refugiados que nos cuentan sus aventuras. Aunque ya no esté presente, el joven ha vuelto para atormentar la película, dejando una huella y dejando sitio a otras historias, a otros personajes.   Dahomey  (Senegal-Francia-Benín, 2024, 68') Es noviembre de 2021 y 26 tesoros reales del Reino de Dahomey están a punto de abandonar París para regresar a su país de origen, la actual República de Benín. Junto con otros miles, estos objetos fueron saqueados por las tropas coloniales francesas en 1892. Pero, ¿qué actitud adoptar ante la vuelta a casa de estas reliquias en un país que tuvo que salir adelante con su ausencia? El debate está abierto entre los estudiantes de la Universidad de Abomey-Calavi. Ganadora del Oso de Oro en Berlinale 2024.  &amp;gt; Presentación a cargo de Elisa McCausland y Diego Salgado, coordinadores del volumen colectivo Clásicas, modernas y extrañas. Historias feministas del cine (Donostia Kultura, 2025)\", 'free': 0, 'price': '', 'dtstart': '2025-03-01 19:30:00.0', 'dtend': '2025-03-01 23:59:00.0', 'time': '19:30', 'excluded-days': '', 'uid': '12691299', 'link': 'http://www.madrid.es/sites/v/index.jsp?vgnextchannel=ca9671ee4a9eb410VgnVCM100000171f5a0aRCRD&vgnextoid=3b9464926f415910VgnVCM1000001d4a900aRCRD', 'event-location': 'Cineteca Madrid', 'references': {'@id': ''}, 'relation': {'@id': 'https://datos.madrid.es/egob/catalogo/tipo/entidadesyorganismos/6963310-cineteca-madrid.json'}, 'address': {'district': {'@id': 'https://datos.madrid.es/egob/kos/Provincia/Madrid/Municipio/Madrid/Distrito/Arganzuela'}, 'area': {'@id': 'https://datos.madrid.es/egob/kos/Provincia/Madrid/Municipio/Madrid/Distrito/Arganzuela/Barrio/Chopera', 'locality': 'MADRID', 'postal-code': '28045', 'street-address': 'PLAZA LEGAZPI 8'}}, 'location': {'latitude': 40.39130985242181, 'longitude': -3.6958028442054074}, 'organization': {'organization-name': 'Cineteca Madrid', 'accesibility': '1'}}, {'@id': 'https://datos.madrid.es/egob/catalogo/tipo/evento/12682147-baile-carnaval-concierto-origen.json', '@type': 'https://datos.madrid.es/egob/kos/actividades/ActividadesCalleArteUrbano', 'id': '12682147', 'title': 'Baile de Carnaval. Concierto de Origen', 'description': 'Lugar: plaza de Puerto Rubio (antigua plaza Vieja). Covers Rock español 80´', 'free': 1, 'price': '', 'dtstart': '2025-03-01 19:30:00.0', 'dtend': '2025-03-01 23:59:00.0', 'time': '19:30', 'excluded-days': '', 'uid': '12682147', 'link': 'http://www.madrid.es/sites/v/index.jsp?vgnextchannel=ca9671ee4a9eb410VgnVCM100000171f5a0aRCRD&vgnextoid=1551fcf4aade4910VgnVCM2000001f4a900aRCRD', 'event-location': '', 'references': {'@id': ''}}, {'@id': 'https://datos.madrid.es/egob/catalogo/tipo/evento/12682149-baile-carnaval-concierto-versioneta.json', '@type': 'https://datos.madrid.es/egob/kos/actividades/FiestasCarnavales', 'id': '12682149', 'title': 'Baile de Carnaval. Concierto de Versioneta', 'description': 'Lugar: plaza de Puerto Rubio (antigua plaza Vieja). Versiones Rock- Indie Rock.', 'free': 1, 'price': '', 'dtstart': '2025-03-01 21:15:00.0', 'dtend': '2025-03-01 23:59:00.0', 'time': '21:15', 'excluded-days': '', 'uid': '12682149', 'link': 'http://www.madrid.es/sites/v/index.jsp?vgnextchannel=ca9671ee4a9eb410VgnVCM100000171f5a0aRCRD&vgnextoid=ae02fcf4aade4910VgnVCM2000001f4a900aRCRD', 'event-location': '', 'references': {'@id': ''}}, {'@id': 'https://datos.madrid.es/egob/catalogo/tipo/evento/12694234-carnaval-familia-espectaculo-familiar-carnaval-pista-circo.json', '@type': 'https://datos.madrid.es/egob/kos/actividades/FiestasCarnavales', 'id': '12694234', 'title': 'Carnaval en familia. Espectáculo familiar. Carnaval en la pista de circo', 'description': '12:30-13:30 horas', 'free': 1, 'price': '', 'dtstart': '2025-03-01 12:30:00.0', 'dtend': '2025-03-01 23:59:00.0', 'time': '12:30', 'excluded-days': '', 'audience': 'Niños', 'uid': '12694234', 'link': 'http://www.madrid.es/sites/v/index.jsp?vgnextchannel=ca9671ee4a9eb410VgnVCM100000171f5a0aRCRD&vgnextoid=2d22157fd8e15910VgnVCM1000001d4a900aRCRD', 'event-location': 'Centro Cultural - Centro Socio Cultural Villa de Barajas', 'references': {'@id': 'http://www.madrid.es/sites/v/index.jsp?vgnextchannel=ca9671ee4a9eb410VgnVCM100000171f5a0aRCRD&vgnextoid=6a6676ba794f4910VgnVCM1000001d4a900aRCRD'}, 'relation': {'@id': 'https://datos.madrid.es/egob/catalogo/tipo/entidadesyorganismos/1914-centro-cultural-centro-socio-cultural-villa-barajas.json'}, 'address': {'district': {'@id': 'https://datos.madrid.es/egob/kos/Provincia/Madrid/Municipio/Madrid/Distrito/Barajas'}, 'area': {'@id': 'https://datos.madrid.es/egob/kos/Provincia/Madrid/Municipio/Madrid/Distrito/Barajas/Barrio/CascoHBarajas', 'locality': 'MADRID', 'postal-code': '28042', 'street-address': 'CALLE BOTICA 7'}}, 'location': {'latitude': 40.47324881250678, 'longitude': -3.5784908616003723}, 'organization': {'organization-name': 'Centro Cultural - Centro Socio Cultural Villa de Barajas', 'accesibility': '1,5,6'}}, {'@id': 'https://datos.madrid.es/egob/catalogo/tipo/evento/12691752-carnaval-matadero.json', '@type': 'https://datos.madrid.es/egob/kos/actividades/CuentacuentosTiteresMarionetas', 'id': '12691752', 'title': 'Carnaval en Matadero', 'description': '', 'free': 1, 'price': '', 'dtstart': '2025-03-01 10:30:00.0', 'dtend': '2025-03-01 23:59:00.0', 'time': '10:30', 'excluded-days': '', 'audience': 'Niños,Familias', 'uid': '12691752', 'link': 'http://www.madrid.es/sites/v/index.jsp?vgnextchannel=ca9671ee4a9eb410VgnVCM100000171f5a0aRCRD&vgnextoid=38950d5a68815910VgnVCM2000001f4a900aRCRD', 'event-location': 'Matadero Madrid', 'references': {'@id': ''}, 'relation': {'@id': 'https://datos.madrid.es/egob/catalogo/tipo/entidadesyorganismos/4684678-matadero-madrid.json'}, 'address': {'district': {'@id': 'https://datos.madrid.es/egob/kos/Provincia/Madrid/Municipio/Madrid/Distrito/Arganzuela'}, 'area': {'@id': 'https://datos.madrid.es/egob/kos/Provincia/Madrid/Municipio/Madrid/Distrito/Arganzuela/Barrio/Chopera', 'locality': 'MADRID', 'postal-code': '28045', 'street-address': 'PLAZA LEGAZPI 8'}}, 'location': {'latitude': 40.39130985242181, 'longitude': -3.6958028442054074}, 'organization': {'organization-name': 'Matadero Madrid', 'accesibility': '1'}}, {'@id': 'https://datos.madrid.es/egob/catalogo/tipo/evento/12693374-chup-chup.json', '@type': 'https://datos.madrid.es/egob/kos/actividades/TeatroPerformance', 'id': '12693374', 'title': 'Chup-Chup', 'description': 'Cía. Arlequín.    Recomendado para todos los públicos.   Son dos chefs de cocina recién diplomados con la misma preparación de estudios que se presentan en un casting para un programa de Televisión dedicado al mundo de la cocina. Para ello, cada uno, deberán realizar el plato más sorprendente y espectacular. Demostrarán que somos iguales de competentes hombre y mujeres y que es mucho mejor compartir que competir.', 'free': 1, 'price': '', 'dtstart': '2025-03-01 19:00:00.0', 'dtend': '2025-03-01 23:59:00.0', 'time': '19:00', 'excluded-days': '', 'audience': 'Niños,Familias', 'uid': '12693374', 'link': 'http://www.madrid.es/sites/v/index.jsp?vgnextchannel=ca9671ee4a9eb410VgnVCM100000171f5a0aRCRD&vgnextoid=e4cc2c84ecd15910VgnVCM2000001f4a900aRCRD', 'event-location': 'Centro Cultural José Luis López Vázquez (San Blas - Canillejas)', 'references': {'@id': 'http://www.madrid.es/sites/v/index.jsp?vgnextchannel=ca9671ee4a9eb410VgnVCM100000171f5a0aRCRD&vgnextoid=445a70db6da41910VgnVCM2000001f4a900aRCRD'}, 'relation': {'@id': 'https://datos.madrid.es/egob/catalogo/tipo/entidadesyorganismos/6017747-centro-cultural-jose-luis-lopez-vazquez-san-blas-canillejas-.json'}, 'address': {'district': {'@id': 'https://datos.madrid.es/egob/kos/Provincia/Madrid/Municipio/Madrid/Distrito/SanBlas-Canillejas'}, 'area': {'@id': 'https://datos.madrid.es/egob/kos/Provincia/Madrid/Municipio/Madrid/Distrito/SanBlas-Canillejas/Barrio/Rejas', 'locality': 'MADRID', 'postal-code': '28022', 'street-address': 'CALLE FEBRERO 4'}}, 'location': {'latitude': 40.446826729909155, 'longitude': -3.5727382893523254}, 'organization': {'organization-name': 'Centro Cultural José Luis López Vázquez (San Blas - Canillejas)', 'accesibility': '2'}}, {'@id': 'https://datos.madrid.es/egob/catalogo/tipo/evento/12695974-concurso-disfraces-baile-orquesta.json', '@type': 'https://datos.madrid.es/egob/kos/actividades/DanzaBaile', 'id': '12695974', 'title': 'Concurso de Disfraces y Baile con Orquesta', 'description': 'Actividades abiertas a todos los públicos:    21.30 a 23:30 h: Concurso de disfraces con entrega de placas y Baile con  la Orquesta `Noches de Neón´.', 'free': 1, 'price': '', 'dtstart': '2025-03-01 21:30:00.0', 'dtend': '2025-03-01 23:59:00.0', 'time': '21:30', 'excluded-days': '', 'uid': '12695974', 'link': 'http://www.madrid.es/sites/v/index.jsp?vgnextchannel=ca9671ee4a9eb410VgnVCM100000171f5a0aRCRD&vgnextoid=3af2292bc8325910VgnVCM2000001f4a900aRCRD', 'event-location': 'Centro Municipal de Mayores Nuestra Señora de los Ángeles', 'references': {'@id': 'http://www.madrid.es/sites/v/index.jsp?vgnextchannel=ca9671ee4a9eb410VgnVCM100000171f5a0aRCRD&vgnextoid=1ead399dafbd4910VgnVCM1000001d4a900aRCRD'}, 'relation': {'@id': 'https://datos.madrid.es/egob/catalogo/tipo/entidadesyorganismos/64194-centro-municipal-mayores-nuestra-senora-angeles.json'}, 'address': {'district': {'@id': 'https://datos.madrid.es/egob/kos/Provincia/Madrid/Municipio/Madrid/Distrito/Villaverde'}, 'area': {'@id': 'https://datos.madrid.es/egob/kos/Provincia/Madrid/Municipio/Madrid/Distrito/Villaverde/Barrio/LosAngeles', 'locality': 'MADRID', 'postal-code': '28041', 'street-address': 'CALLE ARAMA 1'}}, 'location': {'latitude': 40.351866690488684, 'longitude': -3.6974029071664085}, 'organization': {'organization-name': 'Centro Municipal de Mayores Nuestra Señora de los Ángeles', 'accesibility': '1'}}, {'@id': 'https://datos.madrid.es/egob/catalogo/tipo/evento/12686562-concurso-disfraces-baile-orquesta.json', '@type': 'https://datos.madrid.es/egob/kos/actividades/DanzaBaile', 'id': '12686562', 'title': 'Concurso de Disfraces y Baile con Orquesta', 'description': 'Actividades abiertas a todos los públicos :     21.30 a 23:30 h: Concurso de disfraces con entrega de placas y Baile con la Orquesta `Popseidos 80´.', 'free': 1, 'price': '', 'dtstart': '2025-03-01 21:30:00.0', 'dtend': '2025-03-01 23:59:00.0', 'time': '21:30', 'excluded-days': '', 'uid': '12686562', 'link': 'http://www.madrid.es/sites/v/index.jsp?vgnextchannel=ca9671ee4a9eb410VgnVCM100000171f5a0aRCRD&vgnextoid=41f2ce6eb6ef4910VgnVCM1000001d4a900aRCRD', 'event-location': 'Centro Municipal de Mayores La Platanera', 'references': {'@id': 'http://www.madrid.es/sites/v/index.jsp?vgnextchannel=ca9671ee4a9eb410VgnVCM100000171f5a0aRCRD&vgnextoid=1ead399dafbd4910VgnVCM1000001d4a900aRCRD'}, 'relation': {'@id': 'https://datos.madrid.es/egob/catalogo/tipo/entidadesyorganismos/112266-centro-municipal-mayores-platanera.json'}, 'address': {'district': {'@id': 'https://datos.madrid.es/egob/kos/Provincia/Madrid/Municipio/Madrid/Distrito/Villaverde'}, 'area': {'@id': 'https://datos.madrid.es/egob/kos/Provincia/Madrid/Municipio/Madrid/Distrito/Villaverde/Barrio/Butarque', 'locality': 'MADRID', 'postal-code': '28021', 'street-address': 'CALLE CONCEPCION DE LA OLIVA 1'}}, 'location': {'latitude': 40.35399165988997, 'longitude': -3.683323950756455}, 'organization': {'organization-name': 'Centro Municipal de Mayores La Platanera', 'accesibility': '1'}}, {'@id': 'https://datos.madrid.es/egob/catalogo/tipo/evento/12690609-cuatro-historias-alquiler.json', '@type': 'https://datos.madrid.es/egob/kos/actividades/TeatroPerformance', 'id': '12690609', 'title': 'Cuatro historias de alquiler', 'description': 'Cía.: Grupo de teatro del club Vive Iberia.    Recomendado para todos los públicos.   Representamos una versión libre y adaptada a nuestro Taller de Teatro de la obra CUATRO HISTORIAS DE ALQUILER de Barrillet y Gredy. Se trata de una comedia en cuatro cuadros que suceden en un mismo apartamento, en tiempos diferentes. En el primer cuadro conoceremos a una pareja que está a punto de divorciarse cuando todavía se quiere. En el segundo, veremos a hombre que pretende casarse con una chica más moderna que él y lo que sucede cuando conoce a su futura suegra. En el tercero, aprenderemos las lecciones sobre la vida, el amor y el empoderamiento que una mujer pintora de brocha gorda le da a la dueña de una casa. Y en el cuarto, estaremos con una pareja que se reencuentra después de algunos años y que guarda un terrible secreto', 'free': 1, 'price': '', 'dtstart': '2025-03-01 19:00:00.0', 'dtend': '2025-03-01 23:59:00.0', 'time': '19:00', 'excluded-days': '', 'audience': 'Familias', 'uid': '12690609', 'link': 'http://www.madrid.es/sites/v/index.jsp?vgnextchannel=ca9671ee4a9eb410VgnVCM100000171f5a0aRCRD&vgnextoid=3171a8c219315910VgnVCM2000001f4a900aRCRD', 'event-location': 'Centro Cultural Buero Vallejo (San Blas - Canillejas)', 'references': {'@id': 'http://www.madrid.es/sites/v/index.jsp?vgnextchannel=ca9671ee4a9eb410VgnVCM100000171f5a0aRCRD&vgnextoid=da1970db6da41910VgnVCM2000001f4a900aRCRD'}, 'relation': {'@id': 'https://datos.madrid.es/egob/catalogo/tipo/entidadesyorganismos/1943-centro-cultural-buero-vallejo-san-blas-canillejas-.json'}, 'address': {'district': {'@id': 'https://datos.madrid.es/egob/kos/Provincia/Madrid/Municipio/Madrid/Distrito/SanBlas-Canillejas'}, 'area': {'@id': 'https://datos.madrid.es/egob/kos/Provincia/Madrid/Municipio/Madrid/Distrito/SanBlas-Canillejas/Barrio/Canillejas', 'locality': 'MADRID', 'postal-code': '28022', 'street-address': 'CALLE BOLTAÑA 27'}}, 'location': {'latitude': 40.44477474902185, 'longitude': -3.6129105844633775}, 'organization': {'organization-name': 'Centro Cultural Buero Vallejo (San Blas - Canillejas)', 'accesibility': '1'}}, {'@id': 'https://datos.madrid.es/egob/catalogo/tipo/evento/12039151-casa-campo-madrid-rio-i.json', 'id': '12039151', 'title': 'De Casa de Campo a Madrid Río I', 'description': '¿Sabes lo que son los corredores verdes? ¿Y el papel que juegan dentro de la ciudad? Ruta en la que se abordará la importancia ambiental e histórica de los arroyos y estanques del Real Sitio y la conexión con el Parque con Madrid Río (tramo I:del Puente del Rey al Puente de Segovia) y la fascinante transformación del ecosistema después de su renaturalización.  Itinerario dirigido a usuarios/as a partir de 9 años.   Duración estimada: aproximadamente dos horas y media.', 'free': 1, 'price': '', 'dtstart': '2025-03-01 11:00:00.0', 'dtend': '2025-03-01 23:59:00.0', 'time': '11:00', 'excluded-days': '', 'uid': '12039151', 'link': 'http://www.madrid.es/sites/v/index.jsp?vgnextchannel=ca9671ee4a9eb410VgnVCM100000171f5a0aRCRD&vgnextoid=f213099c7c2d8810VgnVCM2000001f4a900aRCRD', 'event-location': 'Centro de Información y Educación Ambiental de Casa de Campo', 'references': {'@id': 'http://www.madrid.es/sites/v/index.jsp?vgnextchannel=ca9671ee4a9eb410VgnVCM100000171f5a0aRCRD&vgnextoid=38af832e34353810VgnVCM1000001d4a900aRCRD'}, 'relation': {'@id': 'https://datos.madrid.es/egob/catalogo/tipo/entidadesyorganismos/62197-centro-informacion-educacion-ambiental-casa-campo.json'}, 'address': {'district': {'@id': 'https://datos.madrid.es/egob/kos/Provincia/Madrid/Municipio/Madrid/Distrito/Moncloa-Aravaca'}, 'area': {'@id': 'https://datos.madrid.es/egob/kos/Provincia/Madrid/Municipio/Madrid/Distrito/Moncloa-Aravaca/Barrio/CasaCampo', 'locality': 'MADRID', 'postal-code': '28011', 'street-address': 'PARQUE CASA DE CAMPO (JUNTO AL EMBARCADERO DEL LAGO) '}}, 'location': {'latitude': 40.41789950036311, 'longitude': -3.7309390858931137}, 'organization': {'organization-name': 'Centro de Información y Educación Ambiental de Casa de Campo', 'accesibility': '1'}}, {'@id': 'https://datos.madrid.es/egob/catalogo/tipo/evento/11725143-retiro-traves-musica.json', 'id': '11725143', 'title': 'El Retiro a través de la música', 'description': 'El siglo XIX es un siglo definitivo en el asentamiento de nuevas fórmulas de ocio entre los madrileños. Desde su apertura al público general en 1868, los jardines del Buen Retiro han funcionado como contexto de desarrollo para nuevas formas de socializar donde la música ha jugado un papel protagonista. A lo largo de este recorrido revisaremos eventos musicales y protagonistas que con su impronta, han ayudado a perfilar la personalidad del parque a lo largo de los siglos. Edad recomendada: dirigido a público adulto.  Duración estimada: aproximadamente dos horas.', 'free': 1, 'price': '', 'dtstart': '2025-03-01 11:00:00.0', 'dtend': '2025-03-01 23:59:00.0', 'time': '11:00', 'excluded-days': '', 'uid': '11725143', 'link': 'http://www.madrid.es/sites/v/index.jsp?vgnextchannel=ca9671ee4a9eb410VgnVCM100000171f5a0aRCRD&vgnextoid=44d9c0b0864b1810VgnVCM2000001f4a900aRCRD', 'event-location': 'Centro de Información y Educación Ambiental de El Huerto de El Retiro', 'references': {'@id': 'http://www.madrid.es/sites/v/index.jsp?vgnextchannel=ca9671ee4a9eb410VgnVCM100000171f5a0aRCRD&vgnextoid=e7b01130a93b1810VgnVCM1000001d4a900aRCRD'}, 'relation': {'@id': 'https://datos.madrid.es/egob/catalogo/tipo/entidadesyorganismos/5463464-centro-informacion-educacion-ambiental-huerto-retiro.json'}, 'address': {'district': {'@id': 'https://datos.madrid.es/egob/kos/Provincia/Madrid/Municipio/Madrid/Distrito/Retiro'}, 'area': {'@id': 'https://datos.madrid.es/egob/kos/Provincia/Madrid/Municipio/Madrid/Distrito/Retiro/Barrio/LosJeronimos', 'locality': 'MADRID', 'postal-code': '28009', 'street-address': 'PASEO FERNAN NUÑEZ 2'}}, 'location': {'latitude': 40.40943503279114, 'longitude': -3.6861797800993257}, 'organization': {'organization-name': 'Centro de Información y Educación Ambiental de El Huerto de El Retiro', 'accesibility': '1'}}, {'@id': 'https://datos.madrid.es/egob/catalogo/tipo/evento/12694176-exposicion-pintura-paisajes-rincones-serradilla-llano.json', '@type': 'https://datos.madrid.es/egob/kos/actividades/Exposiciones', 'id': '12694176', 'title': 'Exposición de Pintura `Paisajes´ y `Rincones de Serradilla del Llano´', 'description': 'Exposición de pintura de Marta Hernández, Kirame.  Las obras principales son acuarelas de 13X15 cm de paisajes del pueblo de la pintora Serradilla del Llano.    Por otro lado, sigue con la exposición Paisajes, a plumilla, el principal y nuevo de esta sección es la acuarela del Palacio de Cristal.   Y para finalizar, incluye en la exposición algunas ilustraciones feministas para reivindicar la lucha del 8M, estan pintadas en un estilo más libre e imaginativo.', 'free': 1, 'price': '', 'dtstart': '2025-03-01 00:00:00.0', 'dtend': '2025-03-31 23:59:00.0', 'time': '', 'excluded-days': '', 'recurrence': {'days': 'MO,TU,WE,TH,FR,SA', 'frequency': 'WEEKLY', 'interval': 1}, 'uid': '12694176', 'link': 'http://www.madrid.es/sites/v/index.jsp?vgnextchannel=ca9671ee4a9eb410VgnVCM100000171f5a0aRCRD&vgnextoid=55bf157fd8e15910VgnVCM1000001d4a900aRCRD', 'event-location': 'Centro Sociocultural Marconi (Villaverde)', 'references': {'@id': 'http://www.madrid.es/sites/v/index.jsp?vgnextchannel=ca9671ee4a9eb410VgnVCM100000171f5a0aRCRD&vgnextoid=446ed15c0bfe4910VgnVCM2000001f4a900aRCRD'}, 'relation': {'@id': 'https://datos.madrid.es/egob/catalogo/tipo/entidadesyorganismos/170066-centro-sociocultural-marconi-villaverde-.json'}, 'address': {'district': {'@id': 'https://datos.madrid.es/egob/kos/Provincia/Madrid/Municipio/Madrid/Distrito/Villaverde'}, 'area': {'@id': 'https://datos.madrid.es/egob/kos/Provincia/Madrid/Municipio/Madrid/Distrito/Villaverde/Barrio/VillaverdeAltoCH', 'locality': 'MADRID', 'postal-code': '28021', 'street-address': 'ACCESO COLONIA MARCONI 4'}}, 'location': {'latitude': 40.3347558542528, 'longitude': -3.7008037217338274}, 'organization': {'organization-name': 'Centro Sociocultural Marconi (Villaverde)', 'accesibility': '1'}}, {'@id': 'https://datos.madrid.es/egob/catalogo/tipo/evento/12683865-fiesta-carnaval-barrio-aeropuerto.json', '@type': 'https://datos.madrid.es/egob/kos/actividades/FiestasCarnavales', 'id': '12683865', 'title': 'Fiesta de carnaval en el Barrio del Aeropuerto', 'description': 'Programa:     A las 18 horas:   Reparto de chocolate con churros  en el Centro de Mayores. ( Medina de Pomar, 25).    De 19 a 22 horas:  Fiesta de Carnaval  con Orquesta en el Centro Municipal de Mayores ( Medina de Pomar, 25).', 'free': 1, 'price': '', 'dtstart': '2025-03-01 18:00:00.0', 'dtend': '2025-03-01 23:59:00.0', 'time': '18:00', 'excluded-days': '', 'audience': 'Niños', 'uid': '12683865', 'link': 'http://www.madrid.es/sites/v/index.jsp?vgnextchannel=ca9671ee4a9eb410VgnVCM100000171f5a0aRCRD&vgnextoid=f398b96cdd4f4910VgnVCM1000001d4a900aRCRD', 'event-location': '', 'references': {'@id': ''}}, {'@id': 'https://datos.madrid.es/egob/catalogo/tipo/evento/12683859-fiesta-carnaval-barro-alameda-osuna.json', '@type': 'https://datos.madrid.es/egob/kos/actividades/FiestasCarnavales', 'id': '12683859', 'title': 'Fiesta de carnaval en el Barro de la Alameda de Osuna', 'description': 'Programa:    18:00-19:00 horas. Animación musical en la Plaza de Cristina Arce y Rocío Oña.18:30 horas: Reparto de chocolate con churros en Plaza Cristina Arce y Rocío Oña.', 'free': 1, 'price': '', 'dtstart': '2025-03-01 18:00:00.0', 'dtend': '2025-03-01 23:59:00.0', 'time': '18:00', 'excluded-days': '', 'audience': 'Niños', 'uid': '12683859', 'link': 'http://www.madrid.es/sites/v/index.jsp?vgnextchannel=ca9671ee4a9eb410VgnVCM100000171f5a0aRCRD&vgnextoid=d0f776ba794f4910VgnVCM1000001d4a900aRCRD', 'event-location': '', 'references': {'@id': 'http://www.madrid.es/sites/v/index.jsp?vgnextchannel=ca9671ee4a9eb410VgnVCM100000171f5a0aRCRD&vgnextoid=6a6676ba794f4910VgnVCM1000001d4a900aRCRD'}}, {'@id': 'https://datos.madrid.es/egob/catalogo/tipo/evento/12233828-itinerario-ornitologico-parque-emperatriz-maria-austria.json', '@type': 'https://datos.madrid.es/egob/kos/actividades/ExcursionesItinerariosVisitas', 'id': '12233828', 'title': 'Itinerario Ornitológico Parque Emperatriz María de Austria', 'description': 'Este parque cuenta con extensas praderas, diverso y abundante arbolado y macizos arbustivos, así como con una zona de pinar y otra de humedal, lo que se traduce en una abundante biodiversidad que podremos contemplar durante todo nuestro recorrido. ¡Acompáñanos!  Recomendable llevar  prismáticos .  Actividad familiar a partir de 7 años acompañados siempre de un adulto responsable.  Duración estimada: de 9:00 a 12:00 horas.', 'free': 1, 'price': '', 'dtstart': '2025-03-01 09:00:00.0', 'dtend': '2025-03-01 23:59:00.0', 'time': '09:00', 'excluded-days': '', 'uid': '12233828', 'link': 'http://www.madrid.es/sites/v/index.jsp?vgnextchannel=ca9671ee4a9eb410VgnVCM100000171f5a0aRCRD&vgnextoid=af9fc2fff9aac810VgnVCM1000001d4a900aRCRD', 'event-location': '', 'references': {'@id': 'http://www.madrid.es/sites/v/index.jsp?vgnextchannel=ca9671ee4a9eb410VgnVCM100000171f5a0aRCRD&vgnextoid=b6c8c2fff9aac810VgnVCM1000001d4a900aRCRD'}}, {'@id': 'https://datos.madrid.es/egob/catalogo/tipo/evento/12693346-julieta-no-mucho.json', '@type': 'https://datos.madrid.es/egob/kos/actividades/TeatroPerformance', 'id': '12693346', 'title': 'Julieta, pero no mucho', 'description': 'Moral Produccions.    Edad recomendada a partir de 12 años.   Guillermo, un fracasado dramaturgo de obras clásicas, recibe el encargo de adaptar la obra de Romeo y Julieta para un público del siglo XXI. Ante su dificultad para escribir los versos con un lenguaje más moderno, invoca a una Julieta más contemporánea. Tanto la imagina, que su personaje se encarna en una joven actual que aparece mágicamente en el escenario como La Juliet. Tras resolver las dificultades para entenderse, ella le ayudará a traducir los versos originales a un lenguaje millennial para poder terminar su obra. Guillermo le enseñará la versión de Shakespeare a la Juliet.', 'free': 1, 'price': '', 'dtstart': '2025-03-01 19:00:00.0', 'dtend': '2025-03-01 23:59:00.0', 'time': '19:00', 'excluded-days': '', 'audience': 'Familias', 'uid': '12693346', 'link': 'http://www.madrid.es/sites/v/index.jsp?vgnextchannel=ca9671ee4a9eb410VgnVCM100000171f5a0aRCRD&vgnextoid=f3ba2c84ecd15910VgnVCM2000001f4a900aRCRD', 'event-location': 'Centro Cultural Ciudad Pegaso (San Blas - Canillejas)', 'references': {'@id': 'http://www.madrid.es/sites/v/index.jsp?vgnextchannel=ca9671ee4a9eb410VgnVCM100000171f5a0aRCRD&vgnextoid=f75970db6da41910VgnVCM2000001f4a900aRCRD'}, 'relation': {'@id': 'https://datos.madrid.es/egob/catalogo/tipo/entidadesyorganismos/4551096-centro-cultural-ciudad-pegaso-san-blas-canillejas-.json'}, 'address': {'district': {'@id': 'https://datos.madrid.es/egob/kos/Provincia/Madrid/Municipio/Madrid/Distrito/SanBlas-Canillejas'}, 'area': {'@id': 'https://datos.madrid.es/egob/kos/Provincia/Madrid/Municipio/Madrid/Distrito/SanBlas-Canillejas/Barrio/Rejas', 'locality': 'MADRID', 'postal-code': '28022', 'street-address': 'AVENIDA SEPTIMA 11'}}, 'location': {'latitude': 40.44844757572015, 'longitude': -3.598099871155595}, 'organization': {'organization-name': 'Centro Cultural Ciudad Pegaso (San Blas - Canillejas)', 'accesibility': '1'}}, {'@id': 'https://datos.madrid.es/egob/catalogo/tipo/evento/12234105-secretos-capricho-publico-familiar.json', 'id': '12234105', 'title': 'Los Secretos del Capricho: público familiar', 'description': 'Itinerario guiado por el espacio verde madrileño de la mano de un educador ambiental. Identificaremos los caprichos de la Duquesa, así como algunas de las especies vegetales con conforman el espacio. Actividad dirigida a público familiar.  Duración estimada: de 10:00 a 13:00 horas.', 'free': 1, 'price': '', 'dtstart': '2025-03-01 10:30:00.0', 'dtend': '2025-03-01 23:59:00.0', 'time': '10:30', 'excluded-days': '', 'uid': '12234105', 'link': 'http://www.madrid.es/sites/v/index.jsp?vgnextchannel=ca9671ee4a9eb410VgnVCM100000171f5a0aRCRD&vgnextoid=4bca9ad065bac810VgnVCM1000001d4a900aRCRD', 'event-location': '', 'references': {'@id': 'http://www.madrid.es/sites/v/index.jsp?vgnextchannel=ca9671ee4a9eb410VgnVCM100000171f5a0aRCRD&vgnextoid=8a82cf426faac810VgnVCM1000001d4a900aRCRD'}}, {'@id': 'https://datos.madrid.es/egob/catalogo/tipo/evento/12686179-marconi-pasacalles-concurso-disfraces-orquesta.json', '@type': 'https://datos.madrid.es/egob/kos/actividades/DanzaBaile', 'id': '12686179', 'title': 'Marconi. Pasacalles, Concurso de Disfraces y Orquesta', 'description': 'Actividades:     18:00 a 19:00 horas: Pasacalles por la Charanga Tarambana. Recorrido: Salida: desde el Centro Sociocultural Marconi, C/ Intermedia Norte, Calle Transversal Sexta, giramos por el Acceso a la Colonia Marconi, C/ Principal, Instalaciones Deportivas Básicas de Marconi, C/ Principal, Llegada: Centro Sociocultural Marconi.    19:15 a 21:30 horas. Concurso de disfraces con entrega de placas y baile en el Centro Sociocultural Marconi con la Orquesta Callejón 80.', 'free': 1, 'price': '', 'dtstart': '2025-03-01 18:00:00.0', 'dtend': '2025-03-01 23:59:00.0', 'time': '18:00', 'excluded-days': '', 'uid': '12686179', 'link': 'http://www.madrid.es/sites/v/index.jsp?vgnextchannel=ca9671ee4a9eb410VgnVCM100000171f5a0aRCRD&vgnextoid=7f152e655eaf4910VgnVCM1000001d4a900aRCRD', 'event-location': 'Centro Sociocultural Marconi (Villaverde)', 'references': {'@id': 'http://www.madrid.es/sites/v/index.jsp?vgnextchannel=ca9671ee4a9eb410VgnVCM100000171f5a0aRCRD&vgnextoid=1ead399dafbd4910VgnVCM1000001d4a900aRCRD'}, 'relation': {'@id': 'https://datos.madrid.es/egob/catalogo/tipo/entidadesyorganismos/170066-centro-sociocultural-marconi-villaverde-.json'}, 'address': {'district': {'@id': 'https://datos.madrid.es/egob/kos/Provincia/Madrid/Municipio/Madrid/Distrito/Villaverde'}, 'area': {'@id': 'https://datos.madrid.es/egob/kos/Provincia/Madrid/Municipio/Madrid/Distrito/Villaverde/Barrio/VillaverdeAltoCH', 'locality': 'MADRID', 'postal-code': '28021', 'street-address': 'ACCESO COLONIA MARCONI 4'}}, 'location': {'latitude': 40.3347558542528, 'longitude': -3.7008037217338274}, 'organization': {'organization-name': 'Centro Sociocultural Marconi (Villaverde)', 'accesibility': '1'}}, {'@id': 'https://datos.madrid.es/egob/catalogo/tipo/evento/12652164-mermelhada-retablo-madrid-.json', '@type': 'https://datos.madrid.es/egob/kos/actividades/CuentacuentosTiteresMarionetas', 'id': '12652164', 'title': 'Mermelhada - El Retablo (Madrid)', 'description': '', 'free': 1, 'price': '', 'dtstart': '2025-03-01 00:00:00.0', 'dtend': '2025-03-02 23:59:00.0', 'time': '', 'excluded-days': '', 'recurrence': {'days': 'MO,TU,WE,TH,FR,SA,SU', 'frequency': 'WEEKLY', 'interval': 1}, 'audience': 'Niños', 'uid': '12652164', 'link': 'http://www.madrid.es/sites/v/index.jsp?vgnextchannel=ca9671ee4a9eb410VgnVCM100000171f5a0aRCRD&vgnextoid=4db1d242f8884910VgnVCM2000001f4a900aRCRD', 'event-location': 'Teatro Municipal de Títeres. Parque de El Retiro', 'references': {'@id': 'http://www.madrid.es/sites/v/index.jsp?vgnextchannel=ca9671ee4a9eb410VgnVCM100000171f5a0aRCRD&vgnextoid=ff01d242f8884910VgnVCM2000001f4a900aRCRD'}, 'relation': {'@id': 'https://datos.madrid.es/egob/catalogo/tipo/entidadesyorganismos/4077-teatro-municipal-titeres-parque-retiro.json'}, 'address': {'district': {'@id': 'https://datos.madrid.es/egob/kos/Provincia/Madrid/Municipio/Madrid/Distrito/Retiro'}, 'area': {'@id': 'https://datos.madrid.es/egob/kos/Provincia/Madrid/Municipio/Madrid/Distrito/Retiro/Barrio/LosJeronimos', 'locality': 'MADRID', 'postal-code': '28009', 'street-address': 'AVENIDA MÉXICO 4'}}, 'location': {'latitude': 40.41878362561595, 'longitude': -3.6866519471003647}, 'organization': {'organization-name': 'Teatro Municipal de Títeres. Parque de El Retiro', 'accesibility': '1'}}, {'@id': 'https://datos.madrid.es/egob/catalogo/tipo/evento/12690099-murdle.json', '@type': 'https://datos.madrid.es/egob/kos/actividades/RecitalesPresentacionesActosLiterarios', 'id': '12690099', 'title': 'Murdle', 'description': '', 'free': 0, 'price': 'Actividad gratuita con inscripción previa', 'dtstart': '2025-03-01 17:00:00.0', 'dtend': '2025-03-01 23:59:00.0', 'time': '17:00', 'excluded-days': '', 'audience': 'Niños', 'uid': '12690099', 'link': 'http://www.madrid.es/sites/v/index.jsp?vgnextchannel=ca9671ee4a9eb410VgnVCM100000171f5a0aRCRD&vgnextoid=05937d994a115910VgnVCM1000001d4a900aRCRD', 'event-location': 'Matadero Madrid', 'references': {'@id': ''}, 'relation': {'@id': 'https://datos.madrid.es/egob/catalogo/tipo/entidadesyorganismos/4684678-matadero-madrid.json'}, 'address': {'district': {'@id': 'https://datos.madrid.es/egob/kos/Provincia/Madrid/Municipio/Madrid/Distrito/Arganzuela'}, 'area': {'@id': 'https://datos.madrid.es/egob/kos/Provincia/Madrid/Municipio/Madrid/Distrito/Arganzuela/Barrio/Chopera', 'locality': 'MADRID', 'postal-code': '28045', 'street-address': 'PLAZA LEGAZPI 8'}}, 'location': {'latitude': 40.39130985242181, 'longitude': -3.6958028442054074}, 'organization': {'organization-name': 'Matadero Madrid', 'accesibility': '1'}}, {'@id': 'https://datos.madrid.es/egob/catalogo/tipo/evento/12661729-nosotras-creamos-mundo.json', '@type': 'https://datos.madrid.es/egob/kos/actividades/CuentacuentosTiteresMarionetas', 'id': '12661729', 'title': 'Nosotras creamos mundo', 'description': 'Ciclo de actuaciones por el 8M.  Durante muchos siglos las mujeres y las niñas tenían que hacer unas cosas y los niños y los hombres otras. En este Cuentacuentos teatralizado veremos a través de las historias como todos y todas podemos ser quien queremos ser y como siendo corresponsables la vida es mucho más bonita.  Compañía: El gallinero de Micaela  Edad recomendada: De 3 a 8 años  Duración: 60 minutos.', 'free': 1, 'price': '', 'dtstart': '2025-03-01 12:00:00.0', 'dtend': '2025-03-01 23:59:00.0', 'time': '12:00', 'excluded-days': '', 'audience': 'Niños', 'uid': '12661729', 'link': 'http://www.madrid.es/sites/v/index.jsp?vgnextchannel=ca9671ee4a9eb410VgnVCM100000171f5a0aRCRD&vgnextoid=c8d733d971394910VgnVCM1000001d4a900aRCRD', 'event-location': 'Centro Sociocultural San Fermín (Usera)', 'references': {'@id': 'http://www.madrid.es/sites/v/index.jsp?vgnextchannel=ca9671ee4a9eb410VgnVCM100000171f5a0aRCRD&vgnextoid=dd5d2d24e6f61910VgnVCM2000001f4a900aRCRD'}, 'relation': {'@id': 'https://datos.madrid.es/egob/catalogo/tipo/entidadesyorganismos/1935-centro-sociocultural-san-fermin-usera-.json'}, 'address': {'district': {'@id': 'https://datos.madrid.es/egob/kos/Provincia/Madrid/Municipio/Madrid/Distrito/Usera'}, 'area': {'@id': 'https://datos.madrid.es/egob/kos/Provincia/Madrid/Municipio/Madrid/Distrito/Usera/Barrio/SanFermin', 'locality': 'MADRID', 'postal-code': '28041', 'street-address': 'CALLE ESTAFETA 33'}}, 'location': {'latitude': 40.371654294908154, 'longitude': -3.692056897625109}, 'organization': {'organization-name': 'Centro Sociocultural San Fermín (Usera)', 'accesibility': '1'}}, {'@id': 'https://datos.madrid.es/egob/catalogo/tipo/evento/12690635-retrato-mujer-ciencia-ilustrando-historia-cientificas-sus-descubrimientos.json', '@type': 'https://datos.madrid.es/egob/kos/actividades/Exposiciones', 'id': '12690635', 'title': 'Retrato de la Mujer en Ciencia:  ilustrando la historia de científicas y sus  descubrimientos', 'description': \"Exposición de dibujos a cargo de Henar Mateo de la Fuente.  'Retrato de la Mujer en Ciencia' consiste en una exposición artística que presenta, a través de dibujos originales hechos en tinta sobre papel, algunos de los descubrimientos científicos más importantes llevados a cabo por mujeres de diferentes contextos socioculturales y geopolíticos. La muestra está enfocada a todos los públicos y destaca la labor científica de las mujeres a lo largo de la historia, reivindicando la importancia de la igualdad de género en la ciencia.\", 'free': 1, 'price': '', 'dtstart': '2025-03-01 00:00:00.0', 'dtend': '2025-03-31 23:59:00.0', 'time': '', 'excluded-days': '', 'recurrence': {'days': 'MO,TU,WE,TH,FR,SA,SU', 'frequency': 'WEEKLY', 'interval': 1}, 'audience': 'Familias', 'uid': '12690635', 'link': 'http://www.madrid.es/sites/v/index.jsp?vgnextchannel=ca9671ee4a9eb410VgnVCM100000171f5a0aRCRD&vgnextoid=e1f1a8c219315910VgnVCM2000001f4a900aRCRD', 'event-location': 'Centro Cultural Buero Vallejo (San Blas - Canillejas)', 'references': {'@id': 'http://www.madrid.es/sites/v/index.jsp?vgnextchannel=ca9671ee4a9eb410VgnVCM100000171f5a0aRCRD&vgnextoid=da1970db6da41910VgnVCM2000001f4a900aRCRD'}, 'relation': {'@id': 'https://datos.madrid.es/egob/catalogo/tipo/entidadesyorganismos/1943-centro-cultural-buero-vallejo-san-blas-canillejas-.json'}, 'address': {'district': {'@id': 'https://datos.madrid.es/egob/kos/Provincia/Madrid/Municipio/Madrid/Distrito/SanBlas-Canillejas'}, 'area': {'@id': 'https://datos.madrid.es/egob/kos/Provincia/Madrid/Municipio/Madrid/Distrito/SanBlas-Canillejas/Barrio/Canillejas', 'locality': 'MADRID', 'postal-code': '28022', 'street-address': 'CALLE BOLTAÑA 27'}}, 'location': {'latitude': 40.44477474902185, 'longitude': -3.6129105844633775}, 'organization': {'organization-name': 'Centro Cultural Buero Vallejo (San Blas - Canillejas)', 'accesibility': '1'}}, {'@id': 'https://datos.madrid.es/egob/catalogo/tipo/evento/12686205-san-cristobal-angeles-concurso-disfraces-baile-orquesta.json', '@type': 'https://datos.madrid.es/egob/kos/actividades/DanzaBaile', 'id': '12686205', 'title': 'San Cristóbal de los Ángeles. Concurso de Disfraces y Baile con Orquesta', 'description': 'Actividades:      21:30 a 23:30 horas.   Concurso de disfraces con entrega de placas y Baile con Orquesta `Luz Verde´ en el Edificio Cinesia, calle Godella 104.', 'free': 1, 'price': '', 'dtstart': '2025-03-01 21:30:00.0', 'dtend': '2025-03-01 23:59:00.0', 'time': '21:30', 'excluded-days': '', 'uid': '12686205', 'link': 'http://www.madrid.es/sites/v/index.jsp?vgnextchannel=ca9671ee4a9eb410VgnVCM100000171f5a0aRCRD&vgnextoid=1e752e655eaf4910VgnVCM1000001d4a900aRCRD', 'event-location': '', 'references': {'@id': 'http://www.madrid.es/sites/v/index.jsp?vgnextchannel=ca9671ee4a9eb410VgnVCM100000171f5a0aRCRD&vgnextoid=1ead399dafbd4910VgnVCM1000001d4a900aRCRD'}}, {'@id': 'https://datos.madrid.es/egob/catalogo/tipo/evento/12694038-senda-descubre-vida-silvestre-parque-pradolongo.json', '@type': 'https://datos.madrid.es/egob/kos/actividades/ItinerariosOtrasActividadesAmbientales', 'id': '12694038', 'title': 'Senda Descubre la vida silvestre del parque de Pradolongo', 'description': 'Día Mundial de la Vida Silvestre  Los grandes parques de la ciudad de Madrid son espacios que albergan una gran biodiversidad, tanto de fauna como de flora. Descubre el gran número de especies que conviven en el parque de Pradolongo gracias a la variedad de ambientes y zonas que contiene.   Lugar: Comienza en la recepción del Centro de Educación Ambiental y Cultural Maris Stella    Edad recomendada: A partir de 8 años (menores acompañados por una persona adulta).  Imprescindible inscripción previa.', 'free': 1, 'price': '', 'dtstart': '2025-03-01 10:00:00.0', 'dtend': '2025-03-01 23:59:00.0', 'time': '10:00', 'excluded-days': '', 'audience': 'Niños', 'uid': '12694038', 'link': 'http://www.madrid.es/sites/v/index.jsp?vgnextchannel=ca9671ee4a9eb410VgnVCM100000171f5a0aRCRD&vgnextoid=26378061b6e15910VgnVCM2000001f4a900aRCRD', 'event-location': 'Centro de Educación Ambiental y Cultural Maris Stella (Usera)', 'references': {'@id': 'http://www.madrid.es/sites/v/index.jsp?vgnextchannel=ca9671ee4a9eb410VgnVCM100000171f5a0aRCRD&vgnextoid=4e25ce5179e61910VgnVCM1000001d4a900aRCRD'}, 'relation': {'@id': 'https://datos.madrid.es/egob/catalogo/tipo/entidadesyorganismos/11526686-centro-educacion-ambiental-cultural-maris-stella-usera-.json'}, 'address': {'district': {'@id': 'https://datos.madrid.es/egob/kos/Provincia/Madrid/Municipio/Madrid/Distrito/Usera'}, 'area': {'@id': 'https://datos.madrid.es/egob/kos/Provincia/Madrid/Municipio/Madrid/Distrito/Usera/Barrio/Pradolongo', 'locality': 'MADRID', 'postal-code': '28026', 'street-address': 'CALLE DOCTOR TOLOSA LATOUR 16'}}, 'location': {'latitude': 40.374166248648216, 'longitude': -3.7032220308808577}, 'organization': {'organization-name': 'Centro de Educación Ambiental y Cultural Maris Stella (Usera)', 'accesibility': '1'}}, {'@id': 'https://datos.madrid.es/egob/catalogo/tipo/evento/12690327-senderismo-urbano-emilia-pardo-bazan-mujer-cultura-reto-naturaleza-.json', '@type': 'https://datos.madrid.es/egob/kos/actividades/ExcursionesItinerariosVisitas', 'id': '12690327', 'title': 'Senderismo urbano. Emilia Pardo Bazán: mujer en la cultura, reto y naturaleza.', 'description': '', 'free': 1, 'price': '', 'dtstart': '2025-03-01 11:00:00.0', 'dtend': '2025-03-01 23:59:00.0', 'time': '11:00', 'excluded-days': '', 'uid': '12690327', 'link': 'http://www.madrid.es/sites/v/index.jsp?vgnextchannel=ca9671ee4a9eb410VgnVCM100000171f5a0aRCRD&vgnextoid=2660c9a484315910VgnVCM1000001d4a900aRCRD', 'event-location': 'Centro de Información y Educación Ambiental de Dehesa de la Villa', 'references': {'@id': 'http://www.madrid.es/sites/v/index.jsp?vgnextchannel=ca9671ee4a9eb410VgnVCM100000171f5a0aRCRD&vgnextoid=4102949aa8796810VgnVCM1000001d4a900aRCRD'}, 'relation': {'@id': 'https://datos.madrid.es/egob/catalogo/tipo/entidadesyorganismos/190493-centro-informacion-educacion-ambiental-dehesa-villa.json'}, 'address': {'district': {'@id': 'https://datos.madrid.es/egob/kos/Provincia/Madrid/Municipio/Madrid/Distrito/Moncloa-Aravaca'}}, 'location': {'latitude': 40.45914104116349, 'longitude': -3.718270563679269}, 'organization': {'organization-name': 'Centro de Información y Educación Ambiental de Dehesa de la Villa', 'accesibility': '1'}}, {'@id': 'https://datos.madrid.es/egob/catalogo/tipo/evento/12694451-sobreviure-l-incendi-documental-zoo.json', '@type': 'https://datos.madrid.es/egob/kos/actividades/ProgramacionDestacadaAgendaCultura', 'id': '12694451', 'title': \"Sobreviure a l'incendi: El documental de ZOO\", 'description': 'Sábado 1 de marzo, 20:30 horas en Sala Plató Domingo 2 de marzo, 20 horas en Sala Borau Martes 4 de marzo, 20 horas en Sala Borau', 'free': 0, 'price': '', 'dtstart': '2025-03-01 00:00:00.0', 'dtend': '2025-03-04 23:59:00.0', 'time': '', 'excluded-days': '', 'recurrence': {'days': 'TU,WE,TH,FR,SA,SU', 'frequency': 'WEEKLY', 'interval': 1}, 'uid': '12694451', 'link': 'http://www.madrid.es/sites/v/index.jsp?vgnextchannel=ca9671ee4a9eb410VgnVCM100000171f5a0aRCRD&vgnextoid=becf119345225910VgnVCM1000001d4a900aRCRD', 'event-location': 'Cineteca Madrid', 'references': {'@id': ''}, 'relation': {'@id': 'https://datos.madrid.es/egob/catalogo/tipo/entidadesyorganismos/6963310-cineteca-madrid.json'}, 'address': {'district': {'@id': 'https://datos.madrid.es/egob/kos/Provincia/Madrid/Municipio/Madrid/Distrito/Arganzuela'}, 'area': {'@id': 'https://datos.madrid.es/egob/kos/Provincia/Madrid/Municipio/Madrid/Distrito/Arganzuela/Barrio/Chopera', 'locality': 'MADRID', 'postal-code': '28045', 'street-address': 'PLAZA LEGAZPI 8'}}, 'location': {'latitude': 40.39130985242181, 'longitude': -3.6958028442054074}, 'organization': {'organization-name': 'Cineteca Madrid', 'accesibility': '1'}}, {'@id': 'https://datos.madrid.es/egob/catalogo/tipo/evento/12696746-taller-bancal-lasana-huerto-urbano-comunitario-kupina-morera.json', '@type': 'https://datos.madrid.es/egob/kos/actividades/CursosTalleres', 'id': '12696746', 'title': 'Taller de Bancal lasaña en el Huerto Urbano Comunitario Kupina Morera', 'description': '', 'free': 1, 'price': '', 'dtstart': '2025-03-01 11:00:00.0', 'dtend': '2025-03-01 23:59:00.0', 'time': '11:00', 'excluded-days': '', 'uid': '12696746', 'link': 'http://www.madrid.es/sites/v/index.jsp?vgnextchannel=ca9671ee4a9eb410VgnVCM100000171f5a0aRCRD&vgnextoid=7554114bbe725910VgnVCM2000001f4a900aRCRD', 'event-location': '', 'references': {'@id': 'http://www.madrid.es/sites/v/index.jsp?vgnextchannel=ca9671ee4a9eb410VgnVCM100000171f5a0aRCRD&vgnextoid=0ac3114bbe725910VgnVCM2000001f4a900aRCRD'}}, {'@id': 'https://datos.madrid.es/egob/catalogo/tipo/evento/12696701-taller-semilleros-huerto-urbano-comunitario-garbanzal-montijas.json', '@type': 'https://datos.madrid.es/egob/kos/actividades/CursosTalleres', 'id': '12696701', 'title': 'Taller de semilleros en el Huerto Urbano Comunitario Garbanzal Las Montijas', 'description': '', 'free': 1, 'price': '', 'dtstart': '2025-03-01 11:00:00.0', 'dtend': '2025-03-01 23:59:00.0', 'time': '11:00', 'excluded-days': '', 'uid': '12696701', 'link': 'http://www.madrid.es/sites/v/index.jsp?vgnextchannel=ca9671ee4a9eb410VgnVCM100000171f5a0aRCRD&vgnextoid=2573114bbe725910VgnVCM2000001f4a900aRCRD', 'event-location': '', 'references': {'@id': 'http://www.madrid.es/sites/v/index.jsp?vgnextchannel=ca9671ee4a9eb410VgnVCM100000171f5a0aRCRD&vgnextoid=9392114bbe725910VgnVCM2000001f4a900aRCRD'}}, {'@id': 'https://datos.madrid.es/egob/catalogo/tipo/evento/12696013-talleres-mascaras.json', '@type': 'https://datos.madrid.es/egob/kos/actividades/FiestasCarnavales', 'id': '12696013', 'title': 'Talleres de máscaras', 'description': \"Sábado 1, 11:30 a 13:00 h.  Taller Infantil: 'Pinta tu máscara'.  Taller gratuito, para que los más pequeños acompañados de un adulto si lo desean puedan realizar sus propias máscaras de carnaval, donde podrán dejar volar su imaginación personalizando las mismas con diversos materiales. Hay 10 plazas disponibles, las inscripciones podrán realizarse en el propio centro a partir del 24 de febrero, en horario de oficina. Duración: 90 minutos. Edad recomendada: niñas y niños a partir de 6 años, acompañados de un adulto.  Sábado 1, 10:00 a 11:30 h  aller Adultos: 'Máscaras de Carnaval'. Taller gratuito, para que durante dos sesiones podamos realizar nuestra máscara de escayola personalizada. En la primera sesión de jueves, realizaremos la máscara y el viernes podremos decorarla. Hay 12 plazas disponibles, las inscripciones podrán realizarse en el propio centro a partir del 24 de febrero, en horario de oficina. Duración: 1ª sesión 90 minutos y 2ª sesión 180 minutos. Edad recomendada: a partir de 14 años.\", 'free': 1, 'price': '', 'dtstart': '2025-03-01 00:00:00.0', 'dtend': '2025-03-01 23:59:00.0', 'time': '', 'excluded-days': '', 'uid': '12696013', 'link': 'http://www.madrid.es/sites/v/index.jsp?vgnextchannel=ca9671ee4a9eb410VgnVCM100000171f5a0aRCRD&vgnextoid=e206292bc8325910VgnVCM2000001f4a900aRCRD', 'event-location': 'Centro Sociocultural Tetuán', 'references': {'@id': 'http://www.madrid.es/sites/v/index.jsp?vgnextchannel=ca9671ee4a9eb410VgnVCM100000171f5a0aRCRD&vgnextoid=c8d36524d3ca4910VgnVCM1000001d4a900aRCRD'}, 'relation': {'@id': 'https://datos.madrid.es/egob/catalogo/tipo/entidadesyorganismos/1948-centro-sociocultural-tetuan.json'}, 'address': {'district': {'@id': 'https://datos.madrid.es/egob/kos/Provincia/Madrid/Municipio/Madrid/Distrito/Tetuan'}, 'area': {'@id': 'https://datos.madrid.es/egob/kos/Provincia/Madrid/Municipio/Madrid/Distrito/Tetuan/Barrio/Berruguete', 'locality': 'MADRID', 'postal-code': '28020', 'street-address': 'CALLE BRAVO MURILLO 251'}}, 'location': {'latitude': 40.45907909580629, 'longitude': -3.7002532146213043}, 'organization': {'organization-name': 'Centro Sociocultural Tetuán', 'accesibility': '1'}}, {'@id': 'https://datos.madrid.es/egob/catalogo/tipo/evento/12686923-talleres-infantiles-carnaval-centros-socioculturales-villaverde.json', '@type': 'https://datos.madrid.es/egob/kos/actividades/CursosTalleres', 'id': '12686923', 'title': 'Talleres Infantiles de Carnaval. Centros Socioculturales de Villaverde', 'description': 'Talleres infantiles de carnaval, se realizarán: máscaras, murales y marcapáginas. Para ninños/as de 5 a10 años.   Horario: - De 11.00 a 14.00 h.     Inscripciones en las secretarías o llamando a los teléfonos de los Centros Socioculturales referenciados.     Centro Sociocultural Ágata, Cl Doctor Martín Arévalo, nº 2 - 280 21 Madrid. Teléfono: 917 109 300.   Centro Sociocultural Bohemios, Cl Bohemios, nº 1 - 28041 Madrid. Teléfono 917 109 260.   Centro Sociocultural Marconi, Acceso a la Colonia Marconi, nº 4 - 28021 Madrid. Teléfono 917 100 232.   Centro Sociocultural San Cristóbal de los Ángeles, Plaza de los Pinazo, nº 9 - 28021 Madrid. Teléfono 917 100 692.   Centro Sociocultural Santa Petronila, Cl María Martinez Olviol, nº 12 - 28021 Madrid. Teléfono 917 791 204.', 'free': 1, 'price': '', 'dtstart': '2025-03-01 11:00:00.0', 'dtend': '2025-03-01 23:59:00.0', 'time': '11:00', 'excluded-days': '', 'audience': 'Niños', 'uid': '12686923', 'link': 'http://www.madrid.es/sites/v/index.jsp?vgnextchannel=ca9671ee4a9eb410VgnVCM100000171f5a0aRCRD&vgnextoid=063ebe426bef4910VgnVCM1000001d4a900aRCRD', 'event-location': '', 'references': {'@id': 'http://www.madrid.es/sites/v/index.jsp?vgnextchannel=ca9671ee4a9eb410VgnVCM100000171f5a0aRCRD&vgnextoid=1ead399dafbd4910VgnVCM1000001d4a900aRCRD'}}, {'@id': 'https://datos.madrid.es/egob/catalogo/tipo/evento/12693997-tejiendo-colores.json', '@type': 'https://datos.madrid.es/egob/kos/actividades/Exposiciones', 'id': '12693997', 'title': 'Tejiendo Colores', 'description': \"'Revolver' es la nueva colección de la artista Lola Sevilla.  Vuelve removida y con ganas de contar en color su nuevo renacer.  'Los artistas estamos para eso, para mostrar sin juicios y regalar el ángel que llevamos.' Esta nueva colección está inspirada en el renacer de las conciencias y la integración de los nuevos sistemas de vida. Aquí nace una nueva artista renovada y revuelta. Mirar esta nueva colección lleva a la emoción convertida en color y forma.  Inauguración el 1 de marzo a las 12:00 horas.\", 'free': 1, 'price': '', 'dtstart': '2025-03-01 00:00:00.0', 'dtend': '2025-03-31 23:59:00.0', 'time': '', 'excluded-days': '', 'recurrence': {'days': 'TU,WE,TH,FR,SA,SU', 'frequency': 'WEEKLY', 'interval': 1}, 'uid': '12693997', 'link': 'http://www.madrid.es/sites/v/index.jsp?vgnextchannel=ca9671ee4a9eb410VgnVCM100000171f5a0aRCRD&vgnextoid=f1868061b6e15910VgnVCM2000001f4a900aRCRD', 'event-location': 'Centro de Educación Ambiental y Cultural Maris Stella (Usera)', 'references': {'@id': 'http://www.madrid.es/sites/v/index.jsp?vgnextchannel=ca9671ee4a9eb410VgnVCM100000171f5a0aRCRD&vgnextoid=4e25ce5179e61910VgnVCM1000001d4a900aRCRD'}, 'relation': {'@id': 'https://datos.madrid.es/egob/catalogo/tipo/entidadesyorganismos/11526686-centro-educacion-ambiental-cultural-maris-stella-usera-.json'}, 'address': {'district': {'@id': 'https://datos.madrid.es/egob/kos/Provincia/Madrid/Municipio/Madrid/Distrito/Usera'}, 'area': {'@id': 'https://datos.madrid.es/egob/kos/Provincia/Madrid/Municipio/Madrid/Distrito/Usera/Barrio/Pradolongo', 'locality': 'MADRID', 'postal-code': '28026', 'street-address': 'CALLE DOCTOR TOLOSA LATOUR 16'}}, 'location': {'latitude': 40.374166248648216, 'longitude': -3.7032220308808577}, 'organization': {'organization-name': 'Centro de Educación Ambiental y Cultural Maris Stella (Usera)', 'accesibility': '1'}}, {'@id': 'https://datos.madrid.es/egob/catalogo/tipo/evento/12686168-villaverde-alto-actuacion-infantil-concurso-disfraces-orquesta-crystal.json', '@type': 'https://datos.madrid.es/egob/kos/actividades/DanzaBaile', 'id': '12686168', 'title': 'Villaverde Alto. Actuación Infantil, Concurso de Disfraces y Orquesta Crystal', 'description': 'Actividades:      19:30 horas: Espectáculo Infantil para público familiar `Este Carnaval es una fiesta´ (35 minutos).        20:15 horas: Concurso de disfraces. Inscripción a través del QR del cártel y presencialmente en la carpa antes del concurso.      21:30 a 23:30 horas: Fin de fiesta con la Orquesta Crystal.    Las actividades se realizarán en la carpa ubicada en la Calle San Jenaro.', 'free': 1, 'price': '', 'dtstart': '2025-03-01 19:30:00.0', 'dtend': '2025-03-01 23:59:00.0', 'time': '19:30', 'excluded-days': '', 'uid': '12686168', 'link': 'http://www.madrid.es/sites/v/index.jsp?vgnextchannel=ca9671ee4a9eb410VgnVCM100000171f5a0aRCRD&vgnextoid=9f232e655eaf4910VgnVCM1000001d4a900aRCRD', 'event-location': '', 'references': {'@id': 'http://www.madrid.es/sites/v/index.jsp?vgnextchannel=ca9671ee4a9eb410VgnVCM100000171f5a0aRCRD&vgnextoid=1ead399dafbd4910VgnVCM1000001d4a900aRCRD'}}, {'@id': 'https://datos.madrid.es/egob/catalogo/tipo/evento/12686040-villaverde-alto-desfile-carnaval.json', '@type': 'https://datos.madrid.es/egob/kos/actividades/DanzaBaile', 'id': '12686040', 'title': 'Villaverde Alto. Desfile de Carnaval', 'description': 'Desfile de Carnaval (malabaristas, Gigantes y Cabezudos…).    Por la Charanga: `Ditirambo´    Horario: De 18:00 a 19:00 horas.  Recorrido:   Salida:  Plaza Ágata, Pº Alberto Palacios, C/ Arenas, C/ Escandón, C/ Parvillas Altas, Avda. Real de Pinto, C/ Dr. Perez Domínguez, Llegada: Bulevar C/ San Jenaro.', 'free': 1, 'price': '', 'dtstart': '2025-03-01 18:00:00.0', 'dtend': '2025-03-01 23:59:00.0', 'time': '18:00', 'excluded-days': '', 'uid': '12686040', 'link': 'http://www.madrid.es/sites/v/index.jsp?vgnextchannel=ca9671ee4a9eb410VgnVCM100000171f5a0aRCRD&vgnextoid=b70838dd54af4910VgnVCM2000001f4a900aRCRD', 'event-location': '', 'references': {'@id': 'http://www.madrid.es/sites/v/index.jsp?vgnextchannel=ca9671ee4a9eb410VgnVCM100000171f5a0aRCRD&vgnextoid=1ead399dafbd4910VgnVCM1000001d4a900aRCRD'}}, {'@id': 'https://datos.madrid.es/egob/catalogo/tipo/evento/12686173-villaverde-concurso-disfraces-pasacalles.json', '@type': 'https://datos.madrid.es/egob/kos/actividades/DanzaBaile', 'id': '12686173', 'title': 'Villaverde Bajo. Concurso de Disfraces y Pasacalles', 'description': 'Actividades (La Unidad de Villaverde Este)     Programa:         17:30 h: Concurso de disfraces en C/ Villarramiel esquina C/ Diamante.      18:30 a 20:00 h: Pasacalles por La Charanga Biribilketa. Recorrido:  C/ Villarramiel esquina C/ Diamante, C/ San Agapito, C/ Martínez Oviol, C/ Encarnación Oviol, C/ Santa Florencia, C/ Eduardo Minguito, C/ Leonor Góngora, C/ José del Pino, Pza. de las Sufragistas, C/ Diamante, C/ Villarramiel.', 'free': 1, 'price': '', 'dtstart': '2025-03-01 17:30:00.0', 'dtend': '2025-03-01 23:59:00.0', 'time': '17:30', 'excluded-days': '', 'uid': '12686173', 'link': 'http://www.madrid.es/sites/v/index.jsp?vgnextchannel=ca9671ee4a9eb410VgnVCM100000171f5a0aRCRD&vgnextoid=87042e655eaf4910VgnVCM1000001d4a900aRCRD', 'event-location': '', 'references': {'@id': 'http://www.madrid.es/sites/v/index.jsp?vgnextchannel=ca9671ee4a9eb410VgnVCM100000171f5a0aRCRD&vgnextoid=1ead399dafbd4910VgnVCM1000001d4a900aRCRD'}}]\n"
     ]
    }
   ],
   "source": [
    "# Realizar la solicitud\n",
    "response = requests.get(url)\n",
    "\n",
    "# Verificar si la solicitud fue exitosa\n",
    "if response.status_code == 200:\n",
    "    data = response.json()\n",
    "    \n",
    "    # Convertir las fechas de inicio y fin a objetos datetime\n",
    "    fecha_inicio_dt = datetime.strptime(fecha_inicio, \"%Y-%m-%d\")   # ESTO NO LO ENTIENDO\n",
    "    fecha_fin_dt = datetime.strptime(fecha_fin, \"%Y-%m-%d\")\n",
    "    \n",
    "    # Filtrar los datos para asegurarse de que solo incluyan eventos dentro del rango de fechas\n",
    "    eventos_filtrados = []\n",
    "    for evento in data['@graph']:\n",
    "        fecha_evento = datetime.strptime(evento['dtstart'], \"%Y-%m-%d %H:%M:%S.%f\")\n",
    "        if fecha_inicio_dt <= fecha_evento <= fecha_fin_dt:\n",
    "            eventos_filtrados.append(evento)\n",
    "    \n",
    "    # Mostrar los datos filtrados\n",
    "    print(eventos_filtrados)\n",
    "else:\n",
    "    print(\"Error al obtener los datos:\", response.status_code)"
   ]
  },
  {
   "cell_type": "code",
   "execution_count": 5,
   "metadata": {},
   "outputs": [],
   "source": [
    "data_dic = eventos_filtrados"
   ]
  },
  {
   "cell_type": "code",
   "execution_count": 10,
   "metadata": {},
   "outputs": [],
   "source": [
    "eventos = []\n",
    "    \n",
    "# Iterar sobre la lista de eventos dentro de \"@graph\"\n",
    "for evento in data_dic:\n",
    "        id_evento = evento.get(\"id\", None)\n",
    "        nombre_evento = evento.get(\"title\", \"\")\n",
    "        url_evento = evento.get(\"link\", \"\")\n",
    "        horario = evento.get(\"time\", \"\")\n",
    "        organizacion = evento.get(\"organization\", {}).get(\"organization-name\", None)\n",
    "\n",
    "        # Obtener dirección y código postal\n",
    "        direccion_info = evento.get(\"address\", {}).get(\"area\", {})\n",
    "        codigo_postal = direccion_info.get(\"postal-code\", None)\n",
    "        direccion = direccion_info.get(\"street-address\", None)\n",
    "\n",
    "        eventos.append((id_evento, nombre_evento, url_evento, codigo_postal, direccion, horario, fecha_inicio, fecha_fin, organizacion))\n",
    "\n",
    "df_api= pd.DataFrame(eventos, columns=[\"id_evento\", \"nombre_evento\", \"url_evento\", \"codigo_postal\", \"direccion\", \"horario\", \"fecha_inicio\", \"fecha_fin\", \"organizacion\"])"
   ]
  },
  {
   "cell_type": "code",
   "execution_count": 12,
   "metadata": {},
   "outputs": [
    {
     "name": "stdout",
     "output_type": "stream",
     "text": [
      "(35, 9)\n"
     ]
    },
    {
     "data": {
      "text/html": [
       "<div>\n",
       "<style scoped>\n",
       "    .dataframe tbody tr th:only-of-type {\n",
       "        vertical-align: middle;\n",
       "    }\n",
       "\n",
       "    .dataframe tbody tr th {\n",
       "        vertical-align: top;\n",
       "    }\n",
       "\n",
       "    .dataframe thead th {\n",
       "        text-align: right;\n",
       "    }\n",
       "</style>\n",
       "<table border=\"1\" class=\"dataframe\">\n",
       "  <thead>\n",
       "    <tr style=\"text-align: right;\">\n",
       "      <th></th>\n",
       "      <th>id_evento</th>\n",
       "      <th>nombre_evento</th>\n",
       "      <th>url_evento</th>\n",
       "      <th>codigo_postal</th>\n",
       "      <th>direccion</th>\n",
       "      <th>horario</th>\n",
       "      <th>fecha_inicio</th>\n",
       "      <th>fecha_fin</th>\n",
       "      <th>organizacion</th>\n",
       "    </tr>\n",
       "  </thead>\n",
       "  <tbody>\n",
       "    <tr>\n",
       "      <th>22</th>\n",
       "      <td>12690635</td>\n",
       "      <td>Retrato de la Mujer en Ciencia:  ilustrando la...</td>\n",
       "      <td>http://www.madrid.es/sites/v/index.jsp?vgnextc...</td>\n",
       "      <td>28022</td>\n",
       "      <td>CALLE BOLTAÑA 27</td>\n",
       "      <td></td>\n",
       "      <td>2025-03-01</td>\n",
       "      <td>2025-03-02</td>\n",
       "      <td>Centro Cultural Buero Vallejo (San Blas - Cani...</td>\n",
       "    </tr>\n",
       "    <tr>\n",
       "      <th>14</th>\n",
       "      <td>12683859</td>\n",
       "      <td>Fiesta de carnaval en el Barro de la Alameda d...</td>\n",
       "      <td>http://www.madrid.es/sites/v/index.jsp?vgnextc...</td>\n",
       "      <td>None</td>\n",
       "      <td>None</td>\n",
       "      <td>18:00</td>\n",
       "      <td>2025-03-01</td>\n",
       "      <td>2025-03-02</td>\n",
       "      <td>None</td>\n",
       "    </tr>\n",
       "    <tr>\n",
       "      <th>0</th>\n",
       "      <td>12682299</td>\n",
       "      <td>Asalto a la lectura. Tres cerditos y más</td>\n",
       "      <td>http://www.madrid.es/sites/v/index.jsp?vgnextc...</td>\n",
       "      <td>28015</td>\n",
       "      <td>CALLE AMANIEL 29</td>\n",
       "      <td>11:00</td>\n",
       "      <td>2025-03-01</td>\n",
       "      <td>2025-03-02</td>\n",
       "      <td>Centro Cultural Clara del Rey - Museo ABC (Cen...</td>\n",
       "    </tr>\n",
       "    <tr>\n",
       "      <th>11</th>\n",
       "      <td>11725143</td>\n",
       "      <td>El Retiro a través de la música</td>\n",
       "      <td>http://www.madrid.es/sites/v/index.jsp?vgnextc...</td>\n",
       "      <td>28009</td>\n",
       "      <td>PASEO FERNAN NUÑEZ 2</td>\n",
       "      <td>11:00</td>\n",
       "      <td>2025-03-01</td>\n",
       "      <td>2025-03-02</td>\n",
       "      <td>Centro de Información y Educación Ambiental de...</td>\n",
       "    </tr>\n",
       "    <tr>\n",
       "      <th>24</th>\n",
       "      <td>12694038</td>\n",
       "      <td>Senda Descubre la vida silvestre del parque de...</td>\n",
       "      <td>http://www.madrid.es/sites/v/index.jsp?vgnextc...</td>\n",
       "      <td>28026</td>\n",
       "      <td>CALLE DOCTOR TOLOSA LATOUR 16</td>\n",
       "      <td>10:00</td>\n",
       "      <td>2025-03-01</td>\n",
       "      <td>2025-03-02</td>\n",
       "      <td>Centro de Educación Ambiental y Cultural Maris...</td>\n",
       "    </tr>\n",
       "    <tr>\n",
       "      <th>17</th>\n",
       "      <td>12234105</td>\n",
       "      <td>Los Secretos del Capricho: público familiar</td>\n",
       "      <td>http://www.madrid.es/sites/v/index.jsp?vgnextc...</td>\n",
       "      <td>None</td>\n",
       "      <td>None</td>\n",
       "      <td>10:30</td>\n",
       "      <td>2025-03-01</td>\n",
       "      <td>2025-03-02</td>\n",
       "      <td>None</td>\n",
       "    </tr>\n",
       "    <tr>\n",
       "      <th>31</th>\n",
       "      <td>12693997</td>\n",
       "      <td>Tejiendo Colores</td>\n",
       "      <td>http://www.madrid.es/sites/v/index.jsp?vgnextc...</td>\n",
       "      <td>28026</td>\n",
       "      <td>CALLE DOCTOR TOLOSA LATOUR 16</td>\n",
       "      <td></td>\n",
       "      <td>2025-03-01</td>\n",
       "      <td>2025-03-02</td>\n",
       "      <td>Centro de Educación Ambiental y Cultural Maris...</td>\n",
       "    </tr>\n",
       "    <tr>\n",
       "      <th>9</th>\n",
       "      <td>12690609</td>\n",
       "      <td>Cuatro historias de alquiler</td>\n",
       "      <td>http://www.madrid.es/sites/v/index.jsp?vgnextc...</td>\n",
       "      <td>28022</td>\n",
       "      <td>CALLE BOLTAÑA 27</td>\n",
       "      <td>19:00</td>\n",
       "      <td>2025-03-01</td>\n",
       "      <td>2025-03-02</td>\n",
       "      <td>Centro Cultural Buero Vallejo (San Blas - Cani...</td>\n",
       "    </tr>\n",
       "    <tr>\n",
       "      <th>1</th>\n",
       "      <td>12691299</td>\n",
       "      <td>Atlantiques + Dahomey</td>\n",
       "      <td>http://www.madrid.es/sites/v/index.jsp?vgnextc...</td>\n",
       "      <td>28045</td>\n",
       "      <td>PLAZA LEGAZPI 8</td>\n",
       "      <td>19:30</td>\n",
       "      <td>2025-03-01</td>\n",
       "      <td>2025-03-02</td>\n",
       "      <td>Cineteca Madrid</td>\n",
       "    </tr>\n",
       "    <tr>\n",
       "      <th>21</th>\n",
       "      <td>12661729</td>\n",
       "      <td>Nosotras creamos mundo</td>\n",
       "      <td>http://www.madrid.es/sites/v/index.jsp?vgnextc...</td>\n",
       "      <td>28041</td>\n",
       "      <td>CALLE ESTAFETA 33</td>\n",
       "      <td>12:00</td>\n",
       "      <td>2025-03-01</td>\n",
       "      <td>2025-03-02</td>\n",
       "      <td>Centro Sociocultural San Fermín (Usera)</td>\n",
       "    </tr>\n",
       "  </tbody>\n",
       "</table>\n",
       "</div>"
      ],
      "text/plain": [
       "   id_evento                                      nombre_evento  \\\n",
       "22  12690635  Retrato de la Mujer en Ciencia:  ilustrando la...   \n",
       "14  12683859  Fiesta de carnaval en el Barro de la Alameda d...   \n",
       "0   12682299           Asalto a la lectura. Tres cerditos y más   \n",
       "11  11725143                    El Retiro a través de la música   \n",
       "24  12694038  Senda Descubre la vida silvestre del parque de...   \n",
       "17  12234105        Los Secretos del Capricho: público familiar   \n",
       "31  12693997                                   Tejiendo Colores   \n",
       "9   12690609                       Cuatro historias de alquiler   \n",
       "1   12691299                              Atlantiques + Dahomey   \n",
       "21  12661729                             Nosotras creamos mundo   \n",
       "\n",
       "                                           url_evento codigo_postal  \\\n",
       "22  http://www.madrid.es/sites/v/index.jsp?vgnextc...         28022   \n",
       "14  http://www.madrid.es/sites/v/index.jsp?vgnextc...          None   \n",
       "0   http://www.madrid.es/sites/v/index.jsp?vgnextc...         28015   \n",
       "11  http://www.madrid.es/sites/v/index.jsp?vgnextc...         28009   \n",
       "24  http://www.madrid.es/sites/v/index.jsp?vgnextc...         28026   \n",
       "17  http://www.madrid.es/sites/v/index.jsp?vgnextc...          None   \n",
       "31  http://www.madrid.es/sites/v/index.jsp?vgnextc...         28026   \n",
       "9   http://www.madrid.es/sites/v/index.jsp?vgnextc...         28022   \n",
       "1   http://www.madrid.es/sites/v/index.jsp?vgnextc...         28045   \n",
       "21  http://www.madrid.es/sites/v/index.jsp?vgnextc...         28041   \n",
       "\n",
       "                        direccion horario fecha_inicio   fecha_fin  \\\n",
       "22               CALLE BOLTAÑA 27           2025-03-01  2025-03-02   \n",
       "14                           None   18:00   2025-03-01  2025-03-02   \n",
       "0                CALLE AMANIEL 29   11:00   2025-03-01  2025-03-02   \n",
       "11           PASEO FERNAN NUÑEZ 2   11:00   2025-03-01  2025-03-02   \n",
       "24  CALLE DOCTOR TOLOSA LATOUR 16   10:00   2025-03-01  2025-03-02   \n",
       "17                           None   10:30   2025-03-01  2025-03-02   \n",
       "31  CALLE DOCTOR TOLOSA LATOUR 16           2025-03-01  2025-03-02   \n",
       "9                CALLE BOLTAÑA 27   19:00   2025-03-01  2025-03-02   \n",
       "1                 PLAZA LEGAZPI 8   19:30   2025-03-01  2025-03-02   \n",
       "21              CALLE ESTAFETA 33   12:00   2025-03-01  2025-03-02   \n",
       "\n",
       "                                         organizacion  \n",
       "22  Centro Cultural Buero Vallejo (San Blas - Cani...  \n",
       "14                                               None  \n",
       "0   Centro Cultural Clara del Rey - Museo ABC (Cen...  \n",
       "11  Centro de Información y Educación Ambiental de...  \n",
       "24  Centro de Educación Ambiental y Cultural Maris...  \n",
       "17                                               None  \n",
       "31  Centro de Educación Ambiental y Cultural Maris...  \n",
       "9   Centro Cultural Buero Vallejo (San Blas - Cani...  \n",
       "1                                     Cineteca Madrid  \n",
       "21            Centro Sociocultural San Fermín (Usera)  "
      ]
     },
     "execution_count": 12,
     "metadata": {},
     "output_type": "execute_result"
    }
   ],
   "source": [
    "shape =df_api.shape\n",
    "print(shape)\n",
    "df_api.sample(10)"
   ]
  },
  {
   "cell_type": "code",
   "execution_count": 21,
   "metadata": {},
   "outputs": [
    {
     "data": {
      "text/plain": [
       "0              Asalto a la lectura. Tres cerditos y más\n",
       "1                                 Atlantiques + Dahomey\n",
       "2                Baile de Carnaval. Concierto de Origen\n",
       "3            Baile de Carnaval. Concierto de Versioneta\n",
       "4     Carnaval en familia. Espectáculo familiar. Car...\n",
       "5                                  Carnaval en Matadero\n",
       "6                                             Chup-Chup\n",
       "7            Concurso de Disfraces y Baile con Orquesta\n",
       "8            Concurso de Disfraces y Baile con Orquesta\n",
       "9                          Cuatro historias de alquiler\n",
       "10                      De Casa de Campo a Madrid Río I\n",
       "11                      El Retiro a través de la música\n",
       "12    Exposición de Pintura `Paisajes´ y `Rincones d...\n",
       "13       Fiesta de carnaval en el Barrio del Aeropuerto\n",
       "14    Fiesta de carnaval en el Barro de la Alameda d...\n",
       "15    Itinerario Ornitológico Parque Emperatriz Marí...\n",
       "16                               Julieta, pero no mucho\n",
       "17          Los Secretos del Capricho: público familiar\n",
       "18    Marconi. Pasacalles, Concurso de Disfraces y O...\n",
       "19                     Mermelhada - El Retablo (Madrid)\n",
       "20                                               Murdle\n",
       "21                               Nosotras creamos mundo\n",
       "22    Retrato de la Mujer en Ciencia:  ilustrando la...\n",
       "23    San Cristóbal de los Ángeles. Concurso de Disf...\n",
       "24    Senda Descubre la vida silvestre del parque de...\n",
       "25    Senderismo urbano. Emilia Pardo Bazán: mujer e...\n",
       "26         Sobreviure a l'incendi: El documental de ZOO\n",
       "27    Taller de Bancal lasaña en el Huerto Urbano Co...\n",
       "28    Taller de semilleros en el Huerto Urbano Comun...\n",
       "29                                 Talleres de máscaras\n",
       "30    Talleres Infantiles de Carnaval. Centros Socio...\n",
       "31                                     Tejiendo Colores\n",
       "32    Villaverde Alto. Actuación Infantil, Concurso ...\n",
       "33                 Villaverde Alto. Desfile de Carnaval\n",
       "34    Villaverde Bajo. Concurso de Disfraces y Pasac...\n",
       "Name: nombre_evento, dtype: object"
      ]
     },
     "execution_count": 21,
     "metadata": {},
     "output_type": "execute_result"
    }
   ],
   "source": [
    "df_api[\"nombre_evento\"]"
   ]
  },
  {
   "cell_type": "code",
   "execution_count": 20,
   "metadata": {},
   "outputs": [
    {
     "data": {
      "text/plain": [
       "fecha_inicio\n",
       "2025-03-01    35\n",
       "Name: count, dtype: int64"
      ]
     },
     "execution_count": 20,
     "metadata": {},
     "output_type": "execute_result"
    }
   ],
   "source": [
    "df_api[\"fecha_inicio\"].value_counts().sort_index()"
   ]
  },
  {
   "cell_type": "code",
   "execution_count": 18,
   "metadata": {},
   "outputs": [
    {
     "data": {
      "text/plain": [
       "id_evento         0\n",
       "nombre_evento     0\n",
       "url_evento        0\n",
       "codigo_postal    14\n",
       "direccion        14\n",
       "horario           6\n",
       "fecha_inicio      0\n",
       "fecha_fin         0\n",
       "organizacion     13\n",
       "dtype: int64"
      ]
     },
     "execution_count": 18,
     "metadata": {},
     "output_type": "execute_result"
    }
   ],
   "source": [
    "celdas_vacias = df_api.isnull().sum() + (df_api == '').sum()\n",
    "celdas_vacias"
   ]
  },
  {
   "cell_type": "markdown",
   "metadata": {},
   "source": [
    "## Conexión con Postgres"
   ]
  },
  {
   "cell_type": "code",
   "execution_count": null,
   "metadata": {},
   "outputs": [],
   "source": [
    "# **Conexión a PostgreSQL**\n",
    "try:\n",
    "    conn = psycopg2.connect(\n",
    "        dbname=\"tu_base_de_datos\",\n",
    "        user=\"tu_usuario\",\n",
    "        password=\"tu_contraseña\",\n",
    "        host=\"localhost\",\n",
    "        port=\"5432\"\n",
    "    )\n",
    "    cur = conn.cursor()\n",
    "\n",
    "    # **Crear tabla si no existe**\n",
    "    cur.execute(\"\"\"\n",
    "        CREATE TABLE IF NOT EXISTS eventos (\n",
    "            id_evento SERIAL PRIMARY KEY,\n",
    "            nombre_evento TEXT,\n",
    "            url_evento TEXT,\n",
    "            codigo_postal INT,\n",
    "            direccion TEXT,\n",
    "            horario TEXT,\n",
    "            fecha_inicio DATE,\n",
    "            fecha_fin DATE,\n",
    "            organizacion TEXT\n",
    "        );\n",
    "    \"\"\")\n",
    "\n",
    "    # **Insertar datos en la tabla**\n",
    "    for evento in eventos:\n",
    "        cur.execute(\"\"\"\n",
    "            INSERT INTO eventos (id_evento, nombre_evento, url_evento, codigo_postal, direccion, horario, fecha_inicio, fecha_fin, organizacion)\n",
    "            VALUES (%s, %s, %s, %s, %s, %s, %s, %s, %s)\n",
    "            ON CONFLICT (id_evento) DO NOTHING;\n",
    "        \"\"\", evento)\n",
    "\n",
    "    # Guardar cambios\n",
    "    conn.commit()\n",
    "    cur.close()\n",
    "    conn.close()\n",
    "    print(\"Datos insertados correctamente en la base de datos.\")\n",
    "\n",
    "except Exception as e:\n",
    "    print(\"Error en la conexión con PostgreSQL:\", e)"
   ]
  },
  {
   "cell_type": "markdown",
   "metadata": {},
   "source": []
  },
  {
   "cell_type": "code",
   "execution_count": null,
   "metadata": {},
   "outputs": [],
   "source": []
  },
  {
   "cell_type": "code",
   "execution_count": null,
   "metadata": {},
   "outputs": [],
   "source": []
  }
 ],
 "metadata": {
  "kernelspec": {
   "display_name": "prueba2",
   "language": "python",
   "name": "python3"
  },
  "language_info": {
   "codemirror_mode": {
    "name": "ipython",
    "version": 3
   },
   "file_extension": ".py",
   "mimetype": "text/x-python",
   "name": "python",
   "nbconvert_exporter": "python",
   "pygments_lexer": "ipython3",
   "version": "3.10.14"
  }
 },
 "nbformat": 4,
 "nbformat_minor": 2
}
